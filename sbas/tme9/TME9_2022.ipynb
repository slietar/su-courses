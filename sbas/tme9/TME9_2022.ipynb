{
  "cells": [
    {
      "cell_type": "markdown",
      "metadata": {
        "id": "AMKZ5QVoBmjJ"
      },
      "source": [
        "<h1><b>Statistique en Bioinformatique : </b> TME9 </h1><br>\n",
        "\n",
        "L’objectif de ce TME est l'implementation de la méthode Expectation-Maximisation pour la recherche de motifs.\n",
        "\n",
        "<div class=\"alert alert-warning\" role=\"alert\" style=\"margin: 10px\">\n",
        "<div class=\"alert alert-warning\" role=\"alert\" style=\"margin: 10px\">\n",
        "<p><b>Soumission</b></p>\n",
        "<ul>\n",
        "<li>Renomer le fichier TME9.ipynb pour NomEtudiant1_NomEtudiant2.ipynb </li>\n",
        "<li>Soumettre via moodle </li>\n",
        "</div>"
      ]
    },
    {
      "cell_type": "markdown",
      "metadata": {
        "id": "r_qH1CG7BmjM"
      },
      "source": [
        "<H1>Expectation-Maximisation Motif</H1>\n",
        "<br>\n",
        "La méthode EM (Expectation-Maximisation) permet de détecter des motifs dans un ensemble de séquences ADN ou protéiques reliées, non alignées. En particulier, étant donné un groupe de séquences de longueur $L$, dont on sait qu'elles partagent un motif commun de longueur $w$, l’algorithme EM:\n",
        "- infère un modèle $(\\Theta,Z)$ pour le motif;\n",
        "- localise l’occurrence du motif dans chaque séquence.\n",
        "\n",
        "$\\Theta$ representé la matrice des poids-positions $p_{c,k}$ du motif (où $c \\in \\{A,C,G,T\\}$ ou $c \\in \\{A,C,D,...,W\\}$  et $k \\in \\{0 \\dots w\\}$), $p_{c,0}$  est le vecteur de probabilités du modèle nul ou \"background\".\n",
        "$Ζ$ est la matrice des variables cachées, qui donnent les positions initiales du motif: \n",
        "- $Z_{i,j} = 1$, si le motif commence en position $j$ de la séquence $i$,\n",
        "- $Z_{i,j} = 0$, sinon. \n",
        "\n",
        "L’algorithme affine les paramètres du modèle de manière itérative par espérance-maximisation. Chaque itération $t$ se compose de deux étapes:\n",
        "- (E) Calcul des valeurs attendues $Ζ^{(t)}$ de $Ζ$, étant donnés $\\Theta^{(t-1)}$\n",
        "- (M) Estimation de  $\\Theta^{(t)}$  à partir de  $Ζ^{(t)}$"
      ]
    },
    {
      "cell_type": "markdown",
      "metadata": {
        "id": "uSue1iYeBmjO"
      },
      "source": [
        "1\\. Implémentez une fonction `read_training_file` pour lire le fichier d'entré qui contient un ensemble de séquences ADN non alignées. Pour simplifier nous allons utiliser les données vu en cours du fichier `toyEx.txt`."
      ]
    },
    {
      "cell_type": "code",
      "execution_count": 1,
      "metadata": {
        "id": "aWQrgN0iBmjP"
      },
      "outputs": [
        {
          "name": "stdout",
          "output_type": "stream",
          "text": [
            "['GTCAGG', 'GAGAGT', 'ACGGAG', 'CCAGTC', 'CCAGTC', 'CCAGTC']\n"
          ]
        }
      ],
      "source": [
        "import numpy as np\n",
        "import matplotlib.pyplot as plt\n",
        "\n",
        "nts = ['A', 'C', 'G', 'T']\n",
        "\n",
        "w = 3\n",
        "input_f = \"toyEx.txt\"\n",
        "\n",
        "def read_training_file(input_f):\n",
        "    \"\"\"\n",
        "    Read a file with no-aligned sequences\n",
        "    input input_f : file name\n",
        "    output seqs : list of sequences\n",
        "    \"\"\"\n",
        "\n",
        "    with open(input_f) as file:\n",
        "        return [line for line in file.read().splitlines() if line]\n",
        "\n",
        "seqs = read_training_file(input_f)\n",
        "print (seqs) #['GTCAGG', 'GAGAGT', 'ACGGAG', 'CCAGTC']\n"
      ]
    },
    {
      "cell_type": "markdown",
      "metadata": {
        "id": "XIHpbbKwBmjQ"
      },
      "source": [
        "2\\. Implémentez une fonction `initialiseP` pour initialiser la matrice poids-position $p_{c,k}$. On considère le modèle nul par défaut $p_0 = (0.25, 0.25, 0.25, 0.25)$. Pour initialiser $p^{(t)}$, on prend généralement un motif au hasard dans une sequence, et on fixe à $0.5$ les poids du nucleotide correspondant et à $\\frac{1-0.5}{3}$ les trois autres. "
      ]
    },
    {
      "cell_type": "code",
      "execution_count": 2,
      "metadata": {
        "id": "_zIZdJouBmjR"
      },
      "outputs": [
        {
          "name": "stdout",
          "output_type": "stream",
          "text": [
            "[[0.25       0.16666667 0.16666667 0.5       ]\n",
            " [0.25       0.5        0.16666667 0.16666667]\n",
            " [0.25       0.16666667 0.5        0.16666667]\n",
            " [0.25       0.16666667 0.16666667 0.16666667]]\n"
          ]
        }
      ],
      "source": [
        "import random\n",
        "\n",
        "# P : (amino acid, position)      normalized axis=0\n",
        "# Z : (sequence, offset)          normalized axis=1\n",
        "\n",
        "\n",
        "def initialiseP(seqs, w, alph):\n",
        "    \"\"\"\n",
        "    Initialise pc,k\n",
        "    input seqs : list of sequences\n",
        "    input w : motif length\n",
        "    input alph : alphabet (nucleotides or amino acids)\n",
        "    output P: position probability matrix\n",
        "    \"\"\"\n",
        "\n",
        "    seqs_ = np.array([[alph.index(nt) for nt in seq] for seq in seqs])\n",
        "    motifs = [random.choice(seqs_)[random.randint(0, len(seqs[0]) - w) + i] for i in range(w)]\n",
        "    prob = np.zeros((len(alph), w)) + 0.5 / (len(alph) - 1)\n",
        "    prob[motifs, np.arange(w)] = 0.5\n",
        "\n",
        "    return np.c_[np.zeros(len(alph)) + 0.25, prob]\n",
        "\n",
        "# Test\n",
        "p = initialiseP(seqs, w, nts)\n",
        "print(p)\n"
      ]
    },
    {
      "cell_type": "markdown",
      "metadata": {
        "id": "rMqgrzYRBmjS"
      },
      "source": [
        "3\\. Implémenter une fonction `initialiseZ` pour initialiser la matrice $Z$ à uns. Rappelez-vous que la dimension de $Z$ est $nbSeq \\times (lenSeq -w +1)$, où $nbSeq$ est le nombre de sequences et $lenSeq$ est la taille/longueur des sequences."
      ]
    },
    {
      "cell_type": "code",
      "execution_count": 3,
      "metadata": {
        "id": "mghUiiW4BmjT"
      },
      "outputs": [
        {
          "name": "stdout",
          "output_type": "stream",
          "text": [
            "[[0.25 0.25 0.25 0.25]\n",
            " [0.25 0.25 0.25 0.25]\n",
            " [0.25 0.25 0.25 0.25]\n",
            " [0.25 0.25 0.25 0.25]\n",
            " [0.25 0.25 0.25 0.25]\n",
            " [0.25 0.25 0.25 0.25]]\n"
          ]
        }
      ],
      "source": [
        "def initialiseZ(seqs, w):\n",
        "    \"\"\"\n",
        "    Initialise Z\n",
        "    input seqs : list of sequences\n",
        "    input w : motif length\n",
        "    output Z :  matrix of motif start positions\n",
        "    \"\"\"\n",
        "    s = len(seqs[0]) - w + 1\n",
        "    return np.ones((len(seqs), s)) / s\n",
        "\n",
        "Z = initialiseZ(seqs, w)\n",
        "print(Z)\n"
      ]
    },
    {
      "cell_type": "markdown",
      "metadata": {
        "id": "fbSoL4ywBmjU"
      },
      "source": [
        "4\\. Écrivez une fonction `E_step` pour le pas Expectation qui estime $Z$ à partir de  $p_{c,k}$. \n",
        "Écrivez aussi une fonction `normaliseZ` pour normaliser $Z$."
      ]
    },
    {
      "cell_type": "code",
      "execution_count": 4,
      "metadata": {
        "id": "9oa3r0j3BmjV"
      },
      "outputs": [
        {
          "name": "stdout",
          "output_type": "stream",
          "text": [
            "[[0.1        0.3        0.3        0.3       ]\n",
            " [0.07142857 0.64285714 0.07142857 0.21428571]\n",
            " [0.05       0.45       0.45       0.05      ]\n",
            " [0.5625     0.1875     0.1875     0.0625    ]\n",
            " [0.5625     0.1875     0.1875     0.0625    ]\n",
            " [0.5625     0.1875     0.1875     0.0625    ]]\n"
          ]
        }
      ],
      "source": [
        "def E_step(seqs, P, Z, w, alph):\n",
        "    \"\"\"\n",
        "    Implement Expectation step\n",
        "    input seqs : list of sequences\n",
        "    input P : position probability matrix\n",
        "    input Z :  matrix of motif start positions\n",
        "    input w : motif length\n",
        "    input alph : alphabet (nucleotides or amino acids)\n",
        "    output Z :  matrix of motif start positions\n",
        "    \"\"\"\n",
        "\n",
        "    seqs_ = np.array([[alph.index(nt) for nt in seq] for seq in seqs])\n",
        "\n",
        "    for offset in range(Z.shape[1]):\n",
        "        Z[:, offset] = \\\n",
        "            np.prod(P[:, 0][seqs_[:, :offset]], axis=1) *\\\n",
        "            np.prod(P[seqs_[:, offset:(offset + w)], np.arange(w) + 1], axis=1) *\\\n",
        "            np.prod(P[:, 0][seqs_[:, (offset + w):]], axis=1)\n",
        "\n",
        "    return Z\n",
        "\n",
        "def normaliseZ(z):\n",
        "    \"\"\"\n",
        "    Normalise Z matrix\n",
        "    input Z : unnormalised matrix\n",
        "    output Zn : normalised matrix\n",
        "    \"\"\"\n",
        "\n",
        "    return z / z.sum(axis=1, keepdims=True)\n",
        "\n",
        "Z = E_step(seqs, p, Z, w, nts)\n",
        "z_norm = normaliseZ(Z)\n",
        "print(z_norm)\n"
      ]
    },
    {
      "cell_type": "markdown",
      "metadata": {
        "id": "odh27oHwBmjV"
      },
      "source": [
        "5\\. Implémentez une fonction `M_step` pour le pas Maximisation qui estime $p_{c,k}$ à partir de $Z$. \n",
        "Utilisez les \"pseudocounts\" pour éviter les probabilités ègales à zero."
      ]
    },
    {
      "cell_type": "code",
      "execution_count": 5,
      "metadata": {
        "id": "VleAgdFtBmjW",
        "scrolled": true
      },
      "outputs": [
        {
          "name": "stdout",
          "output_type": "stream",
          "text": [
            "[[0.14066558 0.27696429 0.20553571 0.40803571]\n",
            " [0.30340909 0.4        0.30375    0.12875   ]\n",
            " [0.34521104 0.19303571 0.36196429 0.28553571]\n",
            " [0.21071429 0.13       0.12875    0.17767857]]\n",
            "[1. 1. 1. 1.]\n"
          ]
        }
      ],
      "source": [
        "def totalNumberofCH(seqs,alph):\n",
        "\n",
        "    q = len(alph)\n",
        "    totalN = np.zeros((q))\n",
        "    for i in range(q):\n",
        "        e = alph[i]\n",
        "        for seq in seqs:\n",
        "            for s in seq:\n",
        "                if(s == e):\n",
        "                    totalN[i]+=1\n",
        "    return totalN\n",
        "\n",
        "def M_step(seqs, Z, w, alph):\n",
        "    \"\"\"\n",
        "    Implement Expectation step\n",
        "    input seqs : list of sequences\n",
        "    input Z :  matrix of motif start positions\n",
        "    input w : motif length\n",
        "    input alph : alphabet (nucleotides or amino acids)\n",
        "    output P : position probability matrix\n",
        "    \"\"\"\n",
        "\n",
        "    seqs_ = np.array([[alph.index(nt) for nt in seq] for seq in seqs])\n",
        "    nr = np.zeros((len(alph), w))\n",
        "\n",
        "    for ch in range(len(alph)):\n",
        "        for pos in range(w):\n",
        "            seq_indices, offset_indices = (seqs_[:, pos:(-(w - pos - 1) or None)] == ch).nonzero()\n",
        "            nr[ch, pos] = Z[seq_indices, offset_indices].sum()\n",
        "\n",
        "    n = np.c_[np.bincount(seqs_.ravel(), minlength=len(alph)) - nr.sum(axis=1), nr]\n",
        "    P = (n + 1) / (n.sum(axis=0) + len(alph))\n",
        "\n",
        "    assert np.allclose(P.sum(axis=0), 1)\n",
        "\n",
        "    return P\n",
        "\n",
        "P = M_step(seqs, z_norm, w, nts)\n",
        "print(P)\n",
        "print(P.sum(axis=0))\n"
      ]
    },
    {
      "cell_type": "markdown",
      "metadata": {
        "id": "37ciA9qLBmjY"
      },
      "source": [
        "6\\. Écrivez une fonction `likelihood` qui calcule la log-vraisemblance de l'ensemble des sequences."
      ]
    },
    {
      "cell_type": "code",
      "execution_count": 6,
      "metadata": {
        "colab": {
          "base_uri": "https://localhost:8080/"
        },
        "id": "jUMUQUwZBmjY",
        "outputId": "b679b7aa-6b80-496d-d6be-c6342913321d"
      },
      "outputs": [
        {
          "name": "stdout",
          "output_type": "stream",
          "text": [
            "-46.20969214600032\n"
          ]
        }
      ],
      "source": [
        "def likelihood(seqs, Z, P, w, alph):\n",
        "    \"\"\"\n",
        "    Implement log likelihood function of P\n",
        "    input seqs : list of sequences\n",
        "    input Z :  matrix of motif start positions\n",
        "    input p : position probability matrix\n",
        "    input w : motif length\n",
        "    input alph : alphabet (nucleotides or amino acids)\n",
        "    output lLikelihood : log likelihood of P\n",
        "    \"\"\"\n",
        "\n",
        "    M = len(seqs)\n",
        "    L = len(seqs[0])\n",
        "\n",
        "    Z_unnormalized = E_step(seqs, P, Z, w, alph)\n",
        "\n",
        "    # print(np.log((L-w+1)**-M), np.log(Z.sum(axis=1)).sum())\n",
        "    # print('*', Z.sum(axis=1), np.log(Z.sum(axis=1)))\n",
        "    return np.log((L-w+1)**-M) + np.log(Z_unnormalized.sum(axis=1)).sum()\n",
        "\n",
        "    # print(E_step(seqs, P, Z, w, alph))\n",
        "    # seqs_ = np.array([[alph.index(nt) for nt in seq] for seq in seqs])\n",
        "\n",
        "    # for offset in range(Z.shape[1]):\n",
        "    #     Z[:, offset] = np.prod(P[:, 0][seqs_[:, :offset]], axis=1) * np.prod(P[seqs_[:, offset:(offset + w)], np.arange(w) + 1], axis=1) * np.prod(P[:, 0][seqs_[:, (offset + w):]], axis=1)\n",
        "\n",
        "logvraisemblance = likelihood(seqs, Z, P, w, nts)\n",
        "print(logvraisemblance)\n"
      ]
    },
    {
      "cell_type": "markdown",
      "metadata": {
        "id": "LFOgaK9eBmjZ"
      },
      "source": [
        "7\\. Implémentez l'algorithme Expectation-Maximisation. Vous calculerez la valeur de la log-vraisemblance totale du modèle à chaque iteration et l'algorithme prendra fin lorsque $\\Delta \\log \\text{Pr}(D | \\Theta) < \\varepsilon$. Utilisez $\\varepsilon = 1e-4$. Votre implementation devra renvoyer les paramètres du modele ($p$ et la log-likelihood associé), ainsi bien que la liste des meilleures positions du motif dans chaque sequence (matrice $Z$). Faites attention à utiliser $Z$ non-normalisé afin de trouver la log-vraisemblance!"
      ]
    },
    {
      "cell_type": "code",
      "execution_count": 7,
      "metadata": {
        "id": "-ZXGq1_3Bmja"
      },
      "outputs": [
        {
          "name": "stdout",
          "output_type": "stream",
          "text": [
            "Les paramètres du modele:\n",
            "p:\n",
            " [[0.14198319 0.11334391 0.66573237 0.10856069]\n",
            " [0.35896132 0.49897079 0.10863272 0.10268158]\n",
            " [0.22904691 0.28727597 0.12295333 0.6858675 ]\n",
            " [0.27000857 0.10040934 0.10268158 0.10289022]]\n",
            "\n",
            "\n",
            "log-vraisemblance associé: -40.759233475263635\n",
            "\n",
            "\n",
            "Z:\n",
            " [[2.25616164e-05 1.42292061e-05 3.22731572e-03 2.12191680e-04]\n",
            " [1.15180279e-03 2.14307574e-05 1.15180279e-03 1.06806674e-05]\n",
            " [6.29049570e-05 1.94291568e-04 4.47632108e-05 1.53125750e-03]\n",
            " [1.30634542e-04 7.92661733e-03 6.63216844e-05 5.54136363e-05]\n",
            " [1.30634542e-04 7.92661733e-03 6.63216844e-05 5.54136363e-05]\n",
            " [1.30634542e-04 7.92661733e-03 6.63216844e-05 5.54136363e-05]]\n",
            "\n",
            "Les motifs:\n",
            "seq1: 3  CAG\n",
            "seq2: 1  GAG\n",
            "seq3: 4  GAG\n",
            "seq4: 2  CAG\n",
            "seq5: 2  CAG\n",
            "seq6: 2  CAG\n"
          ]
        },
        {
          "data": {
            "image/png": "[encoded data removed]",
            "text/plain": [
              "<Figure size 640x480 with 1 Axes>"
            ]
          },
          "metadata": {},
          "output_type": "display_data"
        }
      ],
      "source": [
        "def ExpectationMaximisation(seqs, w, alph, eps):\n",
        "    \"\"\"\n",
        "    Implement Expectation Maximisation algorithm\n",
        "    input seqs : list of sequences\n",
        "    input w : motif length\n",
        "    input alph : alphabet (nucleotides or amino acids)\n",
        "    input eps : threahold\n",
        "    output P : position probability matrix\n",
        "    output Z :  matrix of motif start positions\n",
        "    output lLikelihood : log likelihood of P\n",
        "    output pos_motif : positions of motifs in seqs\n",
        "    \"\"\"\n",
        "    P = initialiseP(seqs, w, alph)\n",
        "    Z = initialiseZ(seqs, w)\n",
        "    lLikelihood = list[float]()\n",
        "\n",
        "    for _ in range(100):\n",
        "        Z = E_step(seqs, P, Z, w, alph)\n",
        "        Z = normaliseZ(Z)\n",
        "        P = M_step(seqs, Z, w, alph)\n",
        "        ll = likelihood(seqs, Z, P, w, alph)\n",
        "\n",
        "        lLikelihood.append(ll)\n",
        "\n",
        "        if len(lLikelihood) > 1 and abs(lLikelihood[-1] - lLikelihood[-2]) < eps:\n",
        "            break\n",
        "\n",
        "    return P, lLikelihood, Z, Z.argmax(axis=1)\n",
        "\n",
        "def analyse_results(results, seqs):\n",
        "    print('Les paramètres du modele:')\n",
        "    print('p:\\n',results[0])\n",
        "    print('\\n')\n",
        "    print('log-vraisemblance associé:',results[1][-1])\n",
        "    print('\\n')\n",
        "    print('Z:\\n',results[2])\n",
        "    print('\\nLes motifs:')\n",
        "    for i in range(len(seqs)):\n",
        "        print('seq'+str(i+1)+': '+ str(results[3][i]+1) + '  ' + seqs[i][results[3][i]:results[3][i]+w])\n",
        "\n",
        "    plt.plot(results[1])\n",
        "    plt.xlabel('Iteration')\n",
        "    plt.ylabel('Log-vraisemblance')\n",
        "    plt.show()\n",
        "\n",
        "eps = 10**-4\n",
        "EMResults = ExpectationMaximisation(seqs, w, nts, eps)\n",
        "analyse_results(EMResults,seqs)\n"
      ]
    },
    {
      "cell_type": "markdown",
      "metadata": {
        "id": "MZsOsS8yBmjb"
      },
      "source": [
        "8\\. Qu'est-ce que vous observez en exécutant l'algorithme EM plusieurs fois? Justifiez votre réponse."
      ]
    },
    {
      "cell_type": "markdown",
      "metadata": {
        "id": "HgXXj3dcBmjb"
      },
      "source": [
        "Reponse:\n",
        "\n",
        "<font color=\"blue\">\n",
        "Les résultats sont très variables d'une exécution à l'autre.\n",
        "</font>"
      ]
    },
    {
      "cell_type": "markdown",
      "metadata": {
        "id": "WThFDcG5Bmjb"
      },
      "source": [
        "9\\. Pour éviter le problème identifié au point précedent, écrivez une fonction `EM_iteratif` qui exécute l'algorithme `EM` $N$ fois ($N=10$) et qui prend les paramètres associés à la meilleure log-vraisemblance. Trouvez-vous les bons motifs?"
      ]
    },
    {
      "cell_type": "code",
      "execution_count": 8,
      "metadata": {
        "id": "hiMm-jSkBmjc"
      },
      "outputs": [
        {
          "name": "stdout",
          "output_type": "stream",
          "text": [
            "Les paramètres du modele:\n",
            "p:\n",
            " [[0.13309686 0.61487127 0.11699057 0.17532507]\n",
            " [0.52584649 0.11540408 0.126053   0.10168065]\n",
            " [0.2405625  0.1673648  0.65527578 0.24812192]\n",
            " [0.10049416 0.10235985 0.10168065 0.47487236]]\n",
            "\n",
            "\n",
            "log-vraisemblance associé: -39.283794157788186\n",
            "\n",
            "\n",
            "Z:\n",
            " [[1.33279809e-05 3.14927513e-05 1.94820134e-05 1.27087017e-03]\n",
            " [1.56320762e-05 4.10817578e-04 1.56320762e-05 1.47369922e-03]\n",
            " [1.48124253e-04 7.99602134e-05 3.23732993e-04 8.17965181e-05]\n",
            " [3.24224706e-05 9.30884815e-05 2.78203214e-02 6.36834331e-05]\n",
            " [3.24224706e-05 9.30884815e-05 2.78203214e-02 6.36834331e-05]\n",
            " [3.24224706e-05 9.30884815e-05 2.78203214e-02 6.36834331e-05]]\n",
            "\n",
            "Les motifs:\n",
            "seq1: 4  AGG\n",
            "seq2: 4  AGT\n",
            "seq3: 3  GGA\n",
            "seq4: 3  AGT\n",
            "seq5: 3  AGT\n",
            "seq6: 3  AGT\n"
          ]
        },
        {
          "data": {
            "image/png": "[encoded data removed]",
            "text/plain": [
              "<Figure size 640x480 with 1 Axes>"
            ]
          },
          "metadata": {},
          "output_type": "display_data"
        }
      ],
      "source": [
        "def EM_iteratif(N, seqs, w, alph, eps):\n",
        "    \"\"\"\n",
        "    Implement a iterative version of Expectation Maximisation algorithm\n",
        "    input N : number of iterations\n",
        "    input seqs : list of sequences\n",
        "    input w : motif length\n",
        "    input eps : threahold\n",
        "    output bestModel : the parameter of the best model\n",
        "    \"\"\"\n",
        "\n",
        "    best_model = None\n",
        "    best_likelihood = -np.inf\n",
        "\n",
        "    for _ in range(N):\n",
        "        P, likelihoods, Z, offsets = ExpectationMaximisation(seqs, w, alph, eps)\n",
        "\n",
        "        if likelihoods[-1] > best_likelihood:\n",
        "            best_model = P, likelihoods, Z, offsets\n",
        "            best_likelihood = likelihoods[-1]\n",
        "\n",
        "    assert best_model is not None\n",
        "    return best_model\n",
        "\n",
        "\n",
        "eps = 10**-4\n",
        "N=10\n",
        "meilleurEM = EM_iteratif(N, seqs, w, nts, eps)\n",
        "analyse_results(meilleurEM,seqs)\n"
      ]
    },
    {
      "cell_type": "markdown",
      "metadata": {
        "id": "us2JZ9SRBmjc"
      },
      "source": [
        "10\\. Appliquez votre algorithme `EM` à l'ensemble des séquence du fichier `trainingSequences.txt` en utilisant $w=10$. "
      ]
    },
    {
      "cell_type": "code",
      "execution_count": 9,
      "metadata": {
        "id": "9yc5bUMIBmjd"
      },
      "outputs": [
        {
          "name": "stdout",
          "output_type": "stream",
          "text": [
            "['ACAACCATATATAGTAGCCACTGAAT', 'CCACCCCATATATAGTACGGGTGGTG', 'CCATAAATAGAGCAGACTGTCGCTGT', 'GTAAACATAAAACCCCATAAATAGGA', 'TTCAAGAAACTGCCATAAATAGCGAT', 'TAGAGGTTTTTGTGCCATAAATAGGT', 'CCCCATAAATAGGAATATCGGCCTGA', 'TTGCCATTAAATTATACCATATATGG', 'TATCAACAACGATAACCCATATATGG', 'TTTCCAAATATAGAAGGTGTGGAAAG', 'TCCAAATATAGTAAAATCGAGTCGAT', 'GACTGGGGCCCAAATATAGCATGTTC', 'ATCATTAGCTTTTACTCCATAAATGG', 'ATTCTTTTGCCATAAATGGTAACTCG', 'CCATAAATGGCAAGTCTGTCGAATAA', 'CCCATAAATGGCAGGGTATTAGCACG', 'CCAAAAATAGTGTGTCGTAACAGCTT', 'CCAAAAATAGGGGAATGGAAGTGGGG', 'CCAAAAATAGGCCAGAGTTTACAACG', 'CCAAAAATAGTTAAATAATATACATT', 'CTACACCTTCCAAAAATAGTATATCT', 'TTGCCAAATATGGGGTTAGAGTGTTC', 'GTCTTTACCAAAAATGGTGATCCTGT', 'TTGCCAAAAATGGAGCGTTTACCAAT', 'ATCCACCATTTATAGATTCAGGAGGC', 'GCATAAGAGAACATTCCATTTATAGG', 'TCAACCCCATTTATAGCCACGTCAGT', 'CATCCATTAATAGTAGCCTAATGGCG', 'GGAGTAGGCCCATTAATAGTATCTTT', 'CCATTAATAGACAAAATCGACTCAAG', 'CCAATTATAGAAAGTGGCTGGTCGTC', 'AACTATTATTTCTCACCCATTAATGG', 'ATGCTTTACCAATAATAGAGCTGCAA', 'GGTCAGTTAGATCCAATTATGGAATG', 'GCATTCCAAAATTAGTAACGATATCT', 'CCTCCTTTCCAAAATTAGTTGAGAAG', 'CTTTGCCAAAATTAGCTATTTCTGAC', 'ACGCATGCACCACATATAGTAACGTG', 'AGCGCCCCATTTTTAGGGTTTAAGCT', 'CCATTTTTAGTAATTTACAACGCCGC', 'CCATTTTTAGTATGGAAGCCGTGAGT', 'AAATTACCATAAGTGGTAATACACAC', 'CAATTACTATATATAGCGTGTTTGTC', 'CCATACATGGAATGTACCGAAACACT', 'CCGAAAGTACTATAAATAGTAATCCA', 'GTTTTCGCCTTTCTATAAATAGTACC', 'GGTACCTAATATAGTAATCAGCTCTG', 'TCTTTAATTACTTGCCTAATATAGCT', 'GGATGCATCCCTAATATAGTTAATAA', 'ATCTTTACCAAAACTAGTTAATTCGA', 'TGCTAAATATAGAACATCTCCAAATA', 'CCTTCTAACTAAATATAGAAGTGATA', 'ATTACCATAAACAGAAATCAGTGGAT', 'CCTAAAAATAGATCGAATGTGTGCTC', 'TACTAAAAATAGATCATGAGCTACGA', 'TAGTCACTTGACCATACCTAAAATGG', 'ATCAACAGTCTACAATCCTAAAATGG', 'CAAACATTCCAGATTTAGAATGGTTA', 'ACTTCTTTCCTTTTATAGCTGAGTGC', 'CCGCTAAGCCTTGTCCTTTTATAGCA', 'TGCCCAAAAAAAGAAAGTTGTCAGAC', 'CCCAAATAAGGTAAAGCTCTCTGGAC', 'AACCACACACCCAGAATTAGTAAGCG', 'TTCATTTAAGACTTTACCATTTCTGG', 'TGCGATGGAATAGTACTAAATTTAGG', 'TGCGGAAGAGGGTTCCCGATATAGAT', 'TCCCAAAAATACTCATATGTCGGGCT', 'CCATATTGGGTAAAGATTGCTTTTTA', 'TAGTGGTTAACTACCCGTTTTTAGTA', 'CCAATTTATAGTTCACTTTCGTGATG', 'TACTCGCTTTTCTTACTAAAAGTAGA', 'TACTAAAAGTAGTAGTTTGTCTGCAT', 'CCATTTTAAGGAATTTACGATCTAGT', 'TCCCATTTTAAGACCAACTTCTCATT', 'GATCCAGTAGATTCCATTTATGTACG', 'CCTGTAAATAGTAACAAGGTGCATCG', 'CGATCAATATGTTACCATTTTGGGGT', 'GAGCGAGACCTTCCCAATAATTAGTA', 'AAGTGACTATATTACTCAAAATAGAA', 'TTACCAAATTGCCAATTTAGGCTAAA', 'TTACCAAATTGCCAATTTAGGCTAAA', 'GAAGATACCTAATACGGAAATTTTCC', 'GCAGACTTGCTATATTAAGCTAATAT', 'CGCTTTCTTACTATAAATGTTTACTA', 'GGTTCAAGATTTTTCCTTTTATGTAC', 'TTTATAGTGTCCCTTTTTCGGTAAGT', 'ATCCTACGATGCTTTCTAAAAGAAGG', 'CCCTAGCAATTTTTTACTATATTTGT', 'GGAAGAATTTACTATAATTGTACATG', 'CTCTAATGGCCTTACTACTTAAAGCA', 'GCCGAGTCCGGAATTTCCGAAAAATG', 'ATTTATTTTCCTAAAGTGTAACTAAC', 'GACCTGTATCCTTTTCTACTTTTGTC', 'ATATGCCCCTCACAAGTTACCAATTA', 'AAAATGGTTTAATTTCTCGGGACAGG', 'CTCAGTGCACACAGACATTCCAAATA', 'GATTAGGATTCGTTTGTTTCCAAATA']\n",
            "Les paramètres du modele:\n",
            "p:\n",
            " [[0.29576017 0.01319421 0.03702662 0.78070404 0.40985524 0.66244963\n",
            "  0.48275203 0.65294338 0.11915725 0.65115794 0.01053363]\n",
            " [0.19505655 0.94481563 0.74713207 0.04745044 0.03894772 0.02051525\n",
            "  0.02751293 0.0525793  0.04351498 0.02786489 0.03473616]\n",
            " [0.18569155 0.01575572 0.01033727 0.04450222 0.05041968 0.0226009\n",
            "  0.01345902 0.06310186 0.03274635 0.29775781 0.87569485]\n",
            " [0.32349172 0.02623444 0.20550404 0.1273433  0.50077736 0.29443422\n",
            "  0.47627601 0.23137547 0.80458142 0.02321937 0.07903536]]\n",
            "\n",
            "\n",
            "log-vraisemblance associé: -3016.90910951577\n",
            "\n",
            "\n",
            "Z:\n",
            " [[1.67653971e-17 2.47426224e-20 1.61745098e-18 ... 1.95488203e-21\n",
            "  2.30735058e-22 7.64814724e-19]\n",
            " [2.52656716e-21 8.09633541e-20 6.58459595e-23 ... 1.00484933e-19\n",
            "  1.83385897e-23 2.53549021e-21]\n",
            " [2.39393232e-12 3.01522104e-18 2.09350449e-16 ... 1.80178736e-22\n",
            "  9.11573605e-21 3.46302442e-19]\n",
            " ...\n",
            " [7.92417711e-21 3.63193104e-22 5.91920995e-21 ... 5.95182684e-23\n",
            "  3.63711734e-18 1.30820913e-18]\n",
            " [1.34497144e-18 1.97555983e-21 1.81550503e-19 ... 1.85824885e-19\n",
            "  6.38473903e-19 2.11666396e-22]\n",
            " [3.32231442e-21 1.26045108e-20 1.15763590e-17 ... 3.96053018e-21\n",
            "  3.06991915e-19 2.08141295e-21]]\n",
            "\n",
            "Les motifs:\n",
            "seq1: 5  CCATATATAG\n",
            "seq2: 6  CCATATATAG\n",
            "seq3: 1  CCATAAATAG\n",
            "seq4: 15  CCATAAATAG\n",
            "seq5: 13  CCATAAATAG\n",
            "seq6: 15  CCATAAATAG\n",
            "seq7: 3  CCATAAATAG\n",
            "seq8: 17  CCATATATGG\n",
            "seq9: 17  CCATATATGG\n",
            "seq10: 4  CCAAATATAG\n",
            "seq11: 2  CCAAATATAG\n",
            "seq12: 10  CCAAATATAG\n",
            "seq13: 17  CCATAAATGG\n",
            "seq14: 10  CCATAAATGG\n",
            "seq15: 1  CCATAAATGG\n",
            "seq16: 2  CCATAAATGG\n",
            "seq17: 1  CCAAAAATAG\n",
            "seq18: 1  CCAAAAATAG\n",
            "seq19: 1  CCAAAAATAG\n",
            "seq20: 1  CCAAAAATAG\n",
            "seq21: 10  CCAAAAATAG\n",
            "seq22: 4  CCAAATATGG\n",
            "seq23: 8  CCAAAAATGG\n",
            "seq24: 4  CCAAAAATGG\n",
            "seq25: 6  CCATTTATAG\n",
            "seq26: 16  CCATTTATAG\n",
            "seq27: 7  CCATTTATAG\n",
            "seq28: 4  CCATTAATAG\n",
            "seq29: 10  CCATTAATAG\n",
            "seq30: 1  CCATTAATAG\n",
            "seq31: 1  CCAATTATAG\n",
            "seq32: 17  CCATTAATGG\n",
            "seq33: 9  CCAATAATAG\n",
            "seq34: 13  CCAATTATGG\n",
            "seq35: 6  CCAAAATTAG\n",
            "seq36: 9  CCAAAATTAG\n",
            "seq37: 6  CCAAAATTAG\n",
            "seq38: 10  CCACATATAG\n",
            "seq39: 7  CCATTTTTAG\n",
            "seq40: 1  CCATTTTTAG\n",
            "seq41: 1  CCATTTTTAG\n",
            "seq42: 7  CCATAAGTGG\n",
            "seq43: 7  CTATATATAG\n",
            "seq44: 1  CCATACATGG\n",
            "seq45: 10  CTATAAATAG\n",
            "seq46: 13  CTATAAATAG\n",
            "seq47: 5  CCTAATATAG\n",
            "seq48: 15  CCTAATATAG\n",
            "seq49: 10  CCTAATATAG\n",
            "seq50: 8  CCAAAACTAG\n",
            "seq51: 3  CTAAATATAG\n",
            "seq52: 9  CTAAATATAG\n",
            "seq53: 5  CCATAAACAG\n",
            "seq54: 2  CTAAAAATAG\n",
            "seq55: 3  CTAAAAATAG\n",
            "seq56: 17  CCTAAAATGG\n",
            "seq57: 17  CCTAAAATGG\n",
            "seq58: 9  CCAGATTTAG\n",
            "seq59: 9  CCTTTTATAG\n",
            "seq60: 15  CCTTTTATAG\n",
            "seq61: 4  CCAAAAAAAG\n",
            "seq62: 2  CCAAATAAGG\n",
            "seq63: 11  CCAGAATTAG\n",
            "seq64: 17  CCATTTCTGG\n",
            "seq65: 16  CTAAATTTAG\n",
            "seq66: 15  CCCGATATAG\n",
            "seq67: 3  CCAAAAATAC\n",
            "seq68: 1  CCATATTGGG\n",
            "seq69: 15  CCGTTTTTAG\n",
            "seq70: 2  CAATTTATAG\n",
            "seq71: 16  CTAAAAGTAG\n",
            "seq72: 3  CTAAAAGTAG\n",
            "seq73: 1  CCATTTTAAG\n",
            "seq74: 3  CCATTTTAAG\n",
            "seq75: 14  CCATTTATGT\n",
            "seq76: 2  CTGTAAATAG\n",
            "seq77: 15  CCATTTTGGG\n",
            "seq78: 15  CAATAATTAG\n",
            "seq79: 15  CTCAAAATAG\n",
            "seq80: 12  CCAATTTAGG\n",
            "seq81: 12  CCAATTTAGG\n",
            "seq82: 8  CCTAATACGG\n",
            "seq83: 10  CTATATTAAG\n",
            "seq84: 11  CTATAAATGT\n",
            "seq85: 15  CCTTTTATGT\n",
            "seq86: 12  CCTTTTTCGG\n",
            "seq87: 16  CTAAAAGAAG\n",
            "seq88: 17  CTATATTTGT\n",
            "seq89: 12  CTATAATTGT\n",
            "seq90: 15  CTACTTAAAG\n",
            "seq91: 17  CCGAAAAATG\n",
            "seq92: 10  CCTAAAGTGT\n",
            "seq93: 10  CCTTTTCTAC\n",
            "seq94: 7  CCCTCACAAG\n",
            "seq95: 10  TAATTTCTCG\n",
            "seq96: 7  GCACACAGAC\n",
            "seq97: 3  TTAGGATTCG\n"
          ]
        },
        {
          "data": {
            "image/png": "[encoded data removed]",
            "text/plain": [
              "<Figure size 640x480 with 1 Axes>"
            ]
          },
          "metadata": {},
          "output_type": "display_data"
        }
      ],
      "source": [
        "w= 10\n",
        "input_f = \"trainingSequences.txt\"\n",
        "seqs_train = read_training_file(input_f)\n",
        "print (seqs_train)\n",
        "eps = 10**-4\n",
        "N=10\n",
        "meilleurEM = EM_iteratif(N, seqs_train, w, nts, eps)\n",
        "analyse_results(meilleurEM,seqs_train)\n"
      ]
    },
    {
      "cell_type": "markdown",
      "metadata": {
        "id": "r3ddFiW2Bmjd"
      },
      "source": [
        "11\\. Construire un LOGO pour le motif prédit avec le service <i>WebLogo</i>. Pour cela, identifiez le motif dans chaque séquence, utiliser <i>ClustalOmega</i> pour les aligner et puis <i>WebLogo</i> pour générer le LOGO. Ajouter le LOGO à votre réponse."
      ]
    },
    {
      "cell_type": "code",
      "execution_count": 10,
      "metadata": {
        "id": "sR5YLgIZBmjd"
      },
      "outputs": [],
      "source": [
        "fhandler = open('motifs.txt','w')\n",
        "for pos in range(len(seqs_train)):\n",
        "    fhandler.write('>motif'+str(pos+1)+'\\n')\n",
        "    fhandler.write(seqs_train[pos][meilleurEM[3][pos]:meilleurEM[3][pos]+w])\n",
        "    fhandler.write('\\n')\n",
        "fhandler.close()\n"
      ]
    },
    {
      "cell_type": "markdown",
      "metadata": {
        "id": "0lu09z4zBmje"
      },
      "source": [
        "![Logo](logo.png)"
      ]
    },
    {
      "cell_type": "markdown",
      "metadata": {
        "id": "YfmV6fjVBmje"
      },
      "source": [
        "12\\. Comparez les motifs trouvés par votre programme avec les motifs du fichier `testingSequences.txt`, où les vrais motifs sont montrés en lettre majuscule. Quelle est la performance de votre programme? "
      ]
    },
    {
      "cell_type": "code",
      "execution_count": 11,
      "metadata": {
        "id": "jh36eh-vBmje"
      },
      "outputs": [
        {
          "name": "stdout",
          "output_type": "stream",
          "text": [
            "L'algorithme trouve le bon motif dans 96 sequences sur 97.\n"
          ]
        }
      ],
      "source": [
        "import re\n",
        "\n",
        "\n",
        "input_f = \"testingSequences.txt\"\n",
        "\n",
        "def find_offset(line: str):\n",
        "  match = re.search(r'[A-Z]', line)\n",
        "  assert match\n",
        "  return match.span()[0]\n",
        "\n",
        "with open(input_f) as file:\n",
        "  real_offsets = np.array([find_offset(line) for line in file.read().splitlines() if line])\n",
        "\n",
        "correct_offset_count = (real_offsets == meilleurEM[3]).sum()\n",
        "\n",
        "print(f'L\\'algorithme trouve le bon motif dans {correct_offset_count} sequences sur {len(real_offsets)}.')\n"
      ]
    }
  ],
  "metadata": {
    "colab": {
      "collapsed_sections": [],
      "name": "TME9_2022.ipynb",
      "provenance": []
    },
    "kernelspec": {
      "display_name": "Python 3",
      "language": "python",
      "name": "python3"
    },
    "language_info": {
      "codemirror_mode": {
        "name": "ipython",
        "version": 3
      },
      "file_extension": ".py",
      "mimetype": "text/x-python",
      "name": "python",
      "nbconvert_exporter": "python",
      "pygments_lexer": "ipython3",
      "version": "3.11.8"
    }
  },
  "nbformat": 4,
  "nbformat_minor": 0
}
