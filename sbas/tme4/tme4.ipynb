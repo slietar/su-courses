{
 "cells": [
  {
   "cell_type": "markdown",
   "metadata": {
    "id": "iH_7RQMQz1I_"
   },
   "source": [
    "<h1><b>Statistique en Bioinformatique : </b> TME4 </h1>\n",
    "<br>\n",
    "L’objectif de ce TME sont: \n",
    "<br>\n",
    "<ul>\n",
    "<li> objectif 1 : Utiliser les chaines de Markov pour comprendre les états phénotypiques de cellules cancéreuses.   </li> \n",
    "<li> objectif 2 : étudier la dynamique des proportions phénotypiques dans les lignées cellulaires du cancer du sein humain: SUM159 et SUM149</li>\n",
    "</ul>\n",
    "<br>\n",
    "<div class=\"alert alert-warning\" role=\"alert\" style=\"margin: 10px\">\n",
    "<p><b>Soumission</b></p>\n",
    "<ul>\n",
    "<li>Renomer le fichier TME3.ipynb pour NomEtudiant1_NomEtudiant2.ipynb </li>\n",
    "<li>Soumettre sur moodle </li>\n",
    "</div>\n"
   ]
  },
  {
   "cell_type": "markdown",
   "metadata": {
    "id": "RL6noRwnz1JF"
   },
   "source": [
    "Nom etudiant 1 : Antoine Grislain\n",
    "<br>\n",
    "Nom etudiant 2 : Simon Liétar\n",
    "<br>"
   ]
  },
  {
   "cell_type": "markdown",
   "metadata": {
    "id": "JjI415A7z1JG"
   },
   "source": [
    "<h3>Introduction</h3>\n",
    "<ul>\n",
    "<li> Les cellules cancéreuses au sein des tumeurs existent souvent dans des états phénotypiques distincts.</li>\n",
    "<li> Les sous-populations de cellules purifiées pour un état phénotypique reviennent vers des proportions d'équilibre dans le temps.</li>\n",
    "<li> Cet équilibre peut s'expliquer par un modèle de Markov dans lequel les cellules passent de manière stochastique entre les états.  </li>\n",
    "</ul>\n",
    "\n",
    "<img src=\"img/CellStateTransition.png\" />"
   ]
  },
  {
   "cell_type": "markdown",
   "metadata": {
    "id": "klmlzMfxz1JG"
   },
   "source": [
    "<b>Exercice 1</b>:\n",
    "Traduire les graphes de transition de la figure D en matrices de transition, \n",
    "$P_{149}$ et $P_{159}$. Verifier bien que les matrices et les vecteur  $\\pi_{0}$ soitent normalisés.\n"
   ]
  },
  {
   "cell_type": "code",
   "execution_count": 1,
   "metadata": {
    "colab": {
     "base_uri": "https://localhost:8080/"
    },
    "executionInfo": {
     "elapsed": 215,
     "status": "ok",
     "timestamp": 1644853786575,
     "user": {
      "displayName": "Juliana Bernardes",
      "photoUrl": "https://lh3.googleusercontent.com/a-/AOh14GjmXQB4bG0DHp8uDHafZCQn94Atlo0kH-t-DxF8-w=s64",
      "userId": "00263393379349185862"
     },
     "user_tz": -60
    },
    "id": "y62Dy1Szz1JH",
    "outputId": "ca6703cf-3466-4c51-c9d9-c7dea1562f4a"
   },
   "outputs": [
    {
     "name": "stdout",
     "output_type": "stream",
     "text": [
      "[[0.61       0.3        0.09      ]\n",
      " [0.01       0.99       0.        ]\n",
      " [0.01010101 0.08080808 0.90909091]]\n",
      "[[0.58 0.07 0.35]\n",
      " [0.04 0.47 0.49]\n",
      " [0.01 0.   0.99]]\n"
     ]
    }
   ],
   "source": [
    "import matplotlib.pyplot as plt\n",
    "import numpy as np\n",
    "import scipy as sp\n",
    "from matplotlib.legend_handler import HandlerLine2D\n",
    "import random\n",
    "import math as mt\n",
    "\n",
    "# Distribuition initiale vecteur pi_0 S, L, B\n",
    "pi0_149 = np.array([0.039, 0.033, 0.9280])\n",
    "pi0_159 = np.array([0.019, 0.973, 0.0062])\n",
    "\n",
    "\n",
    "# Matrices\n",
    "p_149 = np.array([[0.61, 0.30, 0.09], [0.01, 0.99, 0.00], [0.01, 0.08, 0.90]])\n",
    "p_159 = np.array([[0.58, 0.07, 0.35], [0.04, 0.47, 0.49], [0.01, 0.00, 0.99]])\n",
    "\n",
    "# Normaliser les vecteurs π0.\n",
    "\n",
    "def normalise(m: np.ndarray):\n",
    "    \"\"\"\n",
    "    Normalise a matrix\n",
    "    input1 m: matrix\n",
    "    output1 mN: normalised matrix\n",
    "    \"\"\"\n",
    "\n",
    "    return m / m.sum(axis=-1, keepdims=True)\n",
    "\n",
    "print (normalise(p_149))\n",
    "#[[0.61       0.3        0.09      ]\n",
    "# [0.01       0.99       0.        ]\n",
    "# [0.01010101 0.08080808 0.90909091]]\n",
    "\n",
    "\n",
    "print (normalise(p_159))\n",
    "#[[0.58 0.07 0.35]\n",
    "# [0.04 0.47 0.49]\n",
    "# [0.01 0.00 0.99]]\n",
    "\n",
    "\n",
    "pi0_149 = normalise(pi0_149)\n",
    "pi0_159 = normalise(pi0_159)\n",
    "\n",
    "p_149 = normalise(p_149)\n",
    "p_159 = normalise(p_159)"
   ]
  },
  {
   "cell_type": "markdown",
   "metadata": {
    "id": "BJqHvDoIz1JL"
   },
   "source": [
    "<b>Exercice 2</b>: Déterminer les états stationnaires \n",
    "$\\pi^\\star_{149}$ et $\\pi^\\star_{159}$. \n",
    "Est-ce que les valeurs que vous trouvez sont consistentes avec les \n",
    "valeurs experimentales en Fig. 1?"
   ]
  },
  {
   "cell_type": "code",
   "execution_count": 2,
   "metadata": {
    "colab": {
     "base_uri": "https://localhost:8080/"
    },
    "executionInfo": {
     "elapsed": 225,
     "status": "ok",
     "timestamp": 1644854983898,
     "user": {
      "displayName": "Juliana Bernardes",
      "photoUrl": "https://lh3.googleusercontent.com/a-/AOh14GjmXQB4bG0DHp8uDHafZCQn94Atlo0kH-t-DxF8-w=s64",
      "userId": "00263393379349185862"
     },
     "user_tz": -60
    },
    "id": "KaDmd5Pwz1JM",
    "outputId": "d1031a9e-3dfb-4f28-d8c2-b2eba41d015e"
   },
   "outputs": [
    {
     "name": "stdout",
     "output_type": "stream",
     "text": [
      "Pi star 149  [0.02500625 0.95023756 0.02475619]\n",
      "Pi star 159  [0.0234721  0.00310009 0.97342781]\n"
     ]
    }
   ],
   "source": [
    "#You can use the function numpy.linalg.eig\n",
    "#https://numpy.org/doc/stable/reference/generated/numpy.linalg.eig.html\n",
    "\n",
    "# mat = np.array([[1, 2], [20, 60]])\n",
    "# eigenvalues, eigenvectors = np.linalg.eig(mat)\n",
    "\n",
    "# print (eigenvalues,\"\\n\" ,eigenvectors)\n",
    "\n",
    "def get_stationary(mat: np.ndarray):\n",
    "  eigenvalues, eigenvectors = np.linalg.eig(normalise(mat).T)\n",
    "  return normalise(eigenvectors[:, np.where(np.isclose(eigenvalues, 1))[0][0]])\n",
    "\n",
    "pi_stat_149 = get_stationary(p_149)\n",
    "pi_stat_159 = get_stationary(p_159)\n",
    "\n",
    "print (\"Pi star 149 \" , pi_stat_149)\n",
    "print (\"Pi star 159 \" , pi_stat_159)\n",
    "\n",
    "#Pi star 149  [0.02500625 0.95023756 0.02475619]\n",
    "#Pi star 159  [0.0234721  0.00310009 0.97342781]\n"
   ]
  },
  {
   "cell_type": "markdown",
   "metadata": {
    "id": "dahLt4Ruz1JN"
   },
   "source": [
    "<b>Exercice 3</b>: Déterminer les matrices de transition $P_{149}^n$ et $P_{159}^n$ pour $n$ \n",
    "iterations avec $n=2,4,8,16,32,64$, imprimer toutes les matrices. Computer les vectors $\\pi^{(n)}$ et les comparer avec\n",
    "$\\pi^\\star_{149,159}$. Utilisez le $\\pi^0$ du papier de Gupta, page 2, ci-dessous."
   ]
  },
  {
   "cell_type": "code",
   "execution_count": 3,
   "metadata": {
    "colab": {
     "base_uri": "https://localhost:8080/"
    },
    "executionInfo": {
     "elapsed": 239,
     "status": "ok",
     "timestamp": 1644855027342,
     "user": {
      "displayName": "Juliana Bernardes",
      "photoUrl": "https://lh3.googleusercontent.com/a-/AOh14GjmXQB4bG0DHp8uDHafZCQn94Atlo0kH-t-DxF8-w=s64",
      "userId": "00263393379349185862"
     },
     "user_tz": -60
    },
    "id": "Et5sT7SEz1JN",
    "outputId": "6b941682-595d-47dd-f1d7-6b3727295762"
   },
   "outputs": [
    {
     "name": "stdout",
     "output_type": "stream",
     "text": [
      "[149]\n",
      "n = 2: [0.03004538 0.93648468 0.03346994]\n",
      "n = 4: [0.02682171 0.94053617 0.03264212]\n",
      "n = 8: [0.02524301 0.94432177 0.03043522]\n",
      "n = 16: [0.02501107 0.94755198 0.02743695]\n",
      "       [0.02500625 0.95023756 0.02475619]\n",
      "\n",
      "[159]\n",
      "n = 2: [0.02207818 0.00346454 0.97265728]\n",
      "n = 4: [0.0229994  0.00307862 0.97212198]\n",
      "n = 8: [0.02338257 0.00307645 0.97174098]\n",
      "n = 16: [0.0234292  0.00309414 0.97167665]\n",
      "       [0.0234721  0.00310009 0.97342781]\n",
      "\n"
     ]
    }
   ],
   "source": [
    "pi_zero_149 = np.array([[0.039, 0.928, 0.033]])\n",
    "pi_zero_159 = np.array([[0.019, 0.0062, 0.973]])\n",
    "\n",
    "\n",
    "#matrice P**n\n",
    "def matTransN(P: np.ndarray, n: int):\n",
    "    \"\"\"\n",
    "    Compute the transition matrix after N iterations\n",
    "    input1 P: matrix\n",
    "    input2 n: number of iterations\n",
    "    output Pn: transition matrix after N iterations\n",
    "    \"\"\"\n",
    "\n",
    "    return np.linalg.matrix_power(P, n)\n",
    "\n",
    "#matrice P**n where n = 2,4,8,16,32,64\n",
    "def printMat(P: np.ndarray, n: int, pi_0: np.ndarray, M_name: str):\n",
    "    \"\"\"\n",
    "    Print all P**n matrices, where n in  {2,4,8,16,32,64, ...}\n",
    "    input1 P: matrix\n",
    "    input2 n: number of iterations\n",
    "    input3 pi_0: initial condition\n",
    "    input4 M_name: matrix identifier\n",
    "    output: None\n",
    "    \"\"\"\n",
    "\n",
    "    return f'[{M_name}]\\n{chr(0x0a).join([f\"n = {2 ** k}: {pi_0[0, :] @ matTransN(P, 2 ** k)}\" for k in range(1, n + 1)])}\\n       {get_stationary(P)}\\n'\n",
    "\n",
    "\n",
    "print (printMat(p_149, 4, pi_zero_149, '149'))\n",
    "print (printMat(p_159, 4, pi_zero_159, '159'))"
   ]
  },
  {
   "cell_type": "markdown",
   "metadata": {},
   "source": [
    "Les $\\pi^{(n)}$ semblent tendre vers $\\pi^*$ pour $n \\rightarrow\\infty$."
   ]
  },
  {
   "cell_type": "markdown",
   "metadata": {
    "id": "Ez5E-p_kz1JP"
   },
   "source": [
    "<b> Exercice 4 </b>:\n",
    " Ecrire une fonction pour déterminer les\n",
    "$(\\pi^{(t)})_{t=1:n}$ d'une chaine de Markov à trois états. Appliquer\n",
    "pour $P_{149}$ et $P_{159}$, pour les conditions initiales \n",
    "$\\pi^{(0)}\\in\\{ (0.998,0.001,0.001), (0.001,0.998,0.001), \n",
    "(0.001,0.001,0.998) \\}$ et pour $n=20$ itérations de la chaine \n",
    "de Markov. Visualiser graphiquement les résultats.\n"
   ]
  },
  {
   "cell_type": "code",
   "execution_count": 4,
   "metadata": {
    "executionInfo": {
     "elapsed": 223,
     "status": "ok",
     "timestamp": 1644856534370,
     "user": {
      "displayName": "Juliana Bernardes",
      "photoUrl": "https://lh3.googleusercontent.com/a-/AOh14GjmXQB4bG0DHp8uDHafZCQn94Atlo0kH-t-DxF8-w=s64",
      "userId": "00263393379349185862"
     },
     "user_tz": -60
    },
    "id": "KsLDPxwyz1JQ"
   },
   "outputs": [],
   "source": [
    "\n",
    "def Pi_n(pi_0: np.ndarray, P: np.ndarray, n: int):\n",
    "    \"\"\"\n",
    "    Compute Pi_n = Pi_0*P^n\n",
    "    input1 pi_0: intial condition\n",
    "    input2 P: transition matrix\n",
    "    input3 n: number of iterations\n",
    "    output Pi_n\n",
    "    \"\"\"\n",
    "\n",
    "    return pi_0 @ matTransN(P, n)\n"
   ]
  },
  {
   "cell_type": "code",
   "execution_count": 5,
   "metadata": {
    "executionInfo": {
     "elapsed": 190,
     "status": "ok",
     "timestamp": 1644856586760,
     "user": {
      "displayName": "Juliana Bernardes",
      "photoUrl": "https://lh3.googleusercontent.com/a-/AOh14GjmXQB4bG0DHp8uDHafZCQn94Atlo0kH-t-DxF8-w=s64",
      "userId": "00263393379349185862"
     },
     "user_tz": -60
    },
    "id": "-GUCujCkz1JQ"
   },
   "outputs": [],
   "source": [
    "def List_Pi_n(pi0: np.ndarray, P: np.ndarray, n: int):\n",
    "    \"\"\"\n",
    "    Compute a list of  Pi_n\n",
    "    input1 pi_0: intial condition\n",
    "    input2 P: transition matrix\n",
    "    input3 n: number of iterations\n",
    "    output liste_M_trans: list\n",
    "    \"\"\"\n",
    "\n",
    "    return np.array([Pi_n(pi0, P, k) for k in range(1, n)])\n"
   ]
  },
  {
   "cell_type": "code",
   "execution_count": 8,
   "metadata": {
    "executionInfo": {
     "elapsed": 198,
     "status": "ok",
     "timestamp": 1644856724472,
     "user": {
      "displayName": "Juliana Bernardes",
      "photoUrl": "https://lh3.googleusercontent.com/a-/AOh14GjmXQB4bG0DHp8uDHafZCQn94Atlo0kH-t-DxF8-w=s64",
      "userId": "00263393379349185862"
     },
     "user_tz": -60
    },
    "id": "0Ffnrnmiz1JQ"
   },
   "outputs": [],
   "source": [
    "def plot(liste_Pi_n: np.ndarray):\n",
    "    \"\"\"\n",
    "    Plot liste_Pi_n\n",
    "    \"\"\"\n",
    "\n",
    "    fig, ax = plt.subplots()\n",
    "    ax.plot(np.arange(liste_Pi_n.shape[0]), liste_Pi_n, label=['S', 'L', 'B'])\n",
    "    ax.legend()"
   ]
  },
  {
   "cell_type": "code",
   "execution_count": 9,
   "metadata": {
    "colab": {
     "base_uri": "https://localhost:8080/",
     "height": 265
    },
    "executionInfo": {
     "elapsed": 525,
     "status": "ok",
     "timestamp": 1644856753199,
     "user": {
      "displayName": "Juliana Bernardes",
      "photoUrl": "https://lh3.googleusercontent.com/a-/AOh14GjmXQB4bG0DHp8uDHafZCQn94Atlo0kH-t-DxF8-w=s64",
      "userId": "00263393379349185862"
     },
     "user_tz": -60
    },
    "id": "wVIEcMhBz1JS",
    "outputId": "15fad204-c266-4985-9120-8e7d3f3fa605"
   },
   "outputs": [
    {
     "data": {
      "image/png": "[encoded data removed]",
      "text/plain": [
       "<Figure size 640x480 with 1 Axes>"
      ]
     },
     "metadata": {},
     "output_type": "display_data"
    }
   ],
   "source": [
    "pi1 = np.array([0.998,0.001,0.001])\n",
    "plot(List_Pi_n(pi1, p_149, 20))"
   ]
  },
  {
   "cell_type": "markdown",
   "metadata": {
    "id": "0UoEleO_z1JS"
   },
   "source": [
    "<b> Exercice 5 </b>:\n",
    "Ecrire une fonction pour simuler la trajectoire stochastique\n",
    "$(x_t)_{t=0:n}$ d'une seule réalisation de la chaiine de Markov. \n",
    "Créer des population de $N=10,100,1000,10000$ trajectoires. Estimer \n",
    "la trajectoire moyenne de chaque population.\n"
   ]
  },
  {
   "cell_type": "code",
   "execution_count": 10,
   "metadata": {
    "id": "xLSto-G0z1JT"
   },
   "outputs": [
    {
     "name": "stdout",
     "output_type": "stream",
     "text": [
      "[[5. 0. 0. 0. 1. 0. 0. 0. 1. 1. 1. 1. 0. 0. 0. 0. 0. 0. 0. 0. 0. 0. 0. 0.\n",
      "  0. 0. 0. 0. 0. 0. 0. 0. 0. 0. 0. 0. 0. 1. 0. 0. 0. 0. 0. 0. 0. 0. 0. 0.\n",
      "  0. 0. 0. 0. 0. 0. 0. 0. 0. 0. 0. 1. 0. 0. 2. 1. 0. 0. 0. 0. 0. 0. 0. 0.\n",
      "  0. 0. 0. 0. 0. 0. 0. 0. 0. 0. 0. 0. 0. 0. 0. 0. 0. 0. 0. 0. 0. 0. 1. 1.\n",
      "  1. 0. 0. 0.]\n",
      " [0. 2. 3. 4. 3. 4. 4. 4. 3. 4. 4. 4. 5. 5. 5. 5. 5. 5. 5. 5. 5. 5. 5. 5.\n",
      "  5. 5. 5. 5. 5. 5. 5. 5. 5. 5. 5. 5. 5. 4. 5. 5. 5. 5. 5. 5. 5. 5. 5. 5.\n",
      "  5. 5. 5. 5. 5. 5. 5. 5. 5. 5. 5. 4. 5. 5. 3. 3. 5. 5. 5. 5. 5. 5. 5. 5.\n",
      "  5. 5. 5. 5. 5. 5. 5. 5. 5. 5. 5. 5. 5. 5. 5. 5. 5. 5. 5. 5. 5. 5. 4. 4.\n",
      "  4. 4. 4. 4.]\n",
      " [0. 3. 2. 1. 1. 1. 1. 1. 1. 0. 0. 0. 0. 0. 0. 0. 0. 0. 0. 0. 0. 0. 0. 0.\n",
      "  0. 0. 0. 0. 0. 0. 0. 0. 0. 0. 0. 0. 0. 0. 0. 0. 0. 0. 0. 0. 0. 0. 0. 0.\n",
      "  0. 0. 0. 0. 0. 0. 0. 0. 0. 0. 0. 0. 0. 0. 0. 1. 0. 0. 0. 0. 0. 0. 0. 0.\n",
      "  0. 0. 0. 0. 0. 0. 0. 0. 0. 0. 0. 0. 0. 0. 0. 0. 0. 0. 0. 0. 0. 0. 0. 0.\n",
      "  0. 1. 1. 1.]]\n"
     ]
    }
   ],
   "source": [
    "def Trajectoire (n: int, Pi_0: np.ndarray, P: np.ndarray):\n",
    "    \"\"\"\n",
    "    simulate the stochastic trajectory\n",
    "    input1 n: number of iterations\n",
    "    input2 Pi_0: initial condition\n",
    "    input3 P: transtion matrix\n",
    "    output Traj: list of states that simulates the stochastic trajectory ['S', 'B', 'L']\n",
    "    \"\"\"\n",
    "\n",
    "    # [0.6, 0.2, 0.2]\n",
    "    # [0.6, 0.8, 1.0]\n",
    "\n",
    "    traj = np.empty(n, dtype=int)\n",
    "    traj[0] = np.random.choice(len(Pi_0), p=Pi_0)\n",
    "\n",
    "    for i in range(1, n):\n",
    "        traj[i] = np.random.choice(len(Pi_0), p=P[traj[i - 1], :])\n",
    "\n",
    "    return traj\n",
    "\n",
    "#Déterminer une trajectoire pour N population.\n",
    "def Trajectoire_P(n: int, Pi_0: np.ndarray, P: np.ndarray, N: int):\n",
    "    \"\"\"\n",
    "    Simulate a trajectory for N population.\n",
    "    input1 n: number of iterations\n",
    "    input2 Pi_0: initial condition\n",
    "    input3 P: transtion matrix\n",
    "    input3 N: population size\n",
    "    output TrajP: trajectory\n",
    "    \"\"\"\n",
    "\n",
    "    return np.array([Trajectoire(n, Pi_0, P) for _ in range(N)])\n",
    "\n",
    "#Estimer la trajectoire moyenne d'une chaine de markov pou N\n",
    "\n",
    "def Trajectoire_moy(n: int, Pi_0: np.ndarray, P: np.ndarray, N: int):\n",
    "    \"\"\"\n",
    "    Find the mean tragetoire\n",
    "    input1 n: number of iterations\n",
    "    input2 Pi_0: initial condition\n",
    "    input3 P: transtion matrix\n",
    "    input3 N: population size\n",
    "    output TrajMoy: mean trajectory\n",
    "    \"\"\"\n",
    "\n",
    "    traj = Trajectoire_P(n, Pi_0, P, N)\n",
    "    mean_traj = np.zeros((3, n))\n",
    "\n",
    "    for i in range(N):\n",
    "        for j in range(n):\n",
    "            mean_traj[traj[i, j], j] += 1\n",
    "\n",
    "    return mean_traj\n",
    "\n",
    "# print(Trajectoire_P(100, pi1, p_149, 5).shape)\n",
    "print(Trajectoire_moy(100, pi1, p_149, 5))\n",
    "\n",
    "#Visualiser graphique des trajectoires.\n",
    "def plotTrajectory(t: np.ndarray):\n",
    "    \"\"\"\n",
    "    Plot Trajectory\n",
    "    input1 t: trajectory\n",
    "    \"\"\"\n",
    "\n",
    "    fig, ax = plt.subplots()\n",
    "\n",
    "    ax.plot(np.arange(t.shape[1]), t.T, label=['S', 'L', 'B'])\n",
    "    ax.legend()\n"
   ]
  },
  {
   "cell_type": "code",
   "execution_count": 12,
   "metadata": {
    "id": "ywau1ttsz1JT",
    "outputId": "788ac3db-5d96-4fab-f4f4-5f90986eeabb"
   },
   "outputs": [
    {
     "data": {
      "image/png": "[encoded data removed]",
      "text/plain": [
       "<Figure size 640x480 with 1 Axes>"
      ]
     },
     "metadata": {},
     "output_type": "display_data"
    }
   ],
   "source": [
    "plotTrajectory(Trajectoire_moy(20, pi1, p_149, 100))"
   ]
  },
  {
   "cell_type": "markdown",
   "metadata": {
    "id": "v6J7JbvWz1JT"
   },
   "source": [
    "<b> Exercice 6 </b>: \n",
    "Ecrire une fonction pour calculer la probabilité d'une trajectoire\n",
    "$(x_t)_{t=0:n}$. Pour y facilite vous devez applique le log et utlise la some au\n",
    "lieu du product.  Ensuite vouz devez comparer les probabilités de \n",
    "deux chaiines de Markov $P_{149}$ et $P_{159}$. Visualiser les histogrammes pour les deux populations de taille $N=10000$ (géenérées avec $P_{149}$ et $P_{159}$). Est-ce que vous observez des différences entre les deux modèles? Comment est-ce que vous expliquer cettes différences?"
   ]
  },
  {
   "cell_type": "code",
   "execution_count": 13,
   "metadata": {
    "id": "tYRRFv2cz1JT",
    "outputId": "d5393941-1aad-4fca-c0b1-ed17bf1da50a"
   },
   "outputs": [
    {
     "data": {
      "image/png": "[encoded data removed]",
      "text/plain": [
       "<Figure size 640x480 with 1 Axes>"
      ]
     },
     "metadata": {},
     "output_type": "display_data"
    }
   ],
   "source": [
    "#Calculer la probabilité d’une trajectoire (xt)t=0:n\n",
    "def Pb_Trajectoire(Traj: np.ndarray, Pi_0: np.ndarray, P: np.ndarray):\n",
    "    \"\"\"\n",
    "    Compute the probability of a trajectory\n",
    "    input1 Traj: a trajectory\n",
    "    input2 Pi_0: initial condition\n",
    "    input3 P: transtion matrix\n",
    "    output Proba: ptobability\n",
    "    \"\"\"\n",
    "\n",
    "    proba = np.log(Pi_0[Traj[0]])\n",
    "\n",
    "    for i in range(1, Traj.shape[0]):\n",
    "        proba += np.log(P[Traj[i - 1], Traj[i]])\n",
    "\n",
    "    return proba\n",
    "\n",
    "\n",
    "def Histo (Trajs: np.ndarray, Pi_0: np.ndarray, P: np.ndarray):\n",
    "    \"\"\"\n",
    "    compute a histogramm of Trajectory probabilities\n",
    "    input1 Trajs: a trajectory population\n",
    "    input2 Pi_0: initial condition\n",
    "    input3 P: transtion matrix\n",
    "    output pop: a list of probabilities\n",
    "    \"\"\"\n",
    "\n",
    "    return np.array([Pb_Trajectoire(Trajs[i, :], Pi_0, P) for i in range(Trajs.shape[0])])\n",
    "\n",
    "def plotHist(Histo149: np.ndarray, Histo159: np.ndarray):\n",
    "    \"\"\"\n",
    "    Plot two probabilities histogram\n",
    "    input1 Histo149: a list of probabilities for P149\n",
    "    input1 Histo159: a list of probabilities for P159\n",
    "    \"\"\"\n",
    "\n",
    "    fig, ax = plt.subplots()\n",
    "\n",
    "    # proba_min = min(Histo149.min(), Histo159.min())\n",
    "    # proba_max = max(Histo149.max(), Histo159.max())\n",
    "\n",
    "    proba_min = -10\n",
    "    proba_max = 0\n",
    "\n",
    "    ax.hist(Histo149, alpha=0.5, bins=np.linspace(proba_min, proba_max, 25), label='149')\n",
    "    ax.hist(Histo159, alpha=0.5, bins=np.linspace(proba_min, proba_max, 25), label='159')\n",
    "    ax.legend()\n",
    "\n",
    "\n",
    "    # probas = Histo()\n",
    "\n",
    "#-------------------------------------------------------------\n",
    "plotHist(Histo(Trajectoire_P(20, pi0_149, p_149, 10000),pi0_149, p_149), Histo(Trajectoire_P(20, pi0_159, p_159, 10000),pi0_159, p_159))\n"
   ]
  }
 ],
 "metadata": {
  "colab": {
   "collapsed_sections": [],
   "name": "TME4_corrige.ipynb",
   "provenance": []
  },
  "kernelspec": {
   "display_name": "Python 3",
   "language": "python",
   "name": "python3"
  },
  "language_info": {
   "codemirror_mode": {
    "name": "ipython",
    "version": 3
   },
   "file_extension": ".py",
   "mimetype": "text/x-python",
   "name": "python",
   "nbconvert_exporter": "python",
   "pygments_lexer": "ipython3",
   "version": "3.11.6"
  }
 },
 "nbformat": 4,
 "nbformat_minor": 1
}
