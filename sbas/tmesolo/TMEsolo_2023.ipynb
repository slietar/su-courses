{
  "cells": [
    {
      "cell_type": "markdown",
      "metadata": {
        "id": "uyVJZrDJ1rw4"
      },
      "source": [
        "<h1><b>Statistique en Bioinformatique : </b> TME solo </h1><br>\n",
        "<div class=\"alert alert-warning\" role=\"alert\" style=\"margin: 10px\">\n",
        "<p><b>Soumission</b></p>\n",
        "<ul>\n",
        "<li>Renommer le fichier TMEsolo_2023.ipynb pour NomEtudiant_TMEsolo.ipynb </li>\n",
        "<li>Envoyer via moodle</li>\n",
        "</ul>\n",
        "</div>\n",
        "<div class=\"alert alert-warning\" role=\"alert\" style=\"margin: 10px\">\n",
        "\n",
        "</div>"
      ]
    },
    {
      "cell_type": "markdown",
      "metadata": {
        "id": "MuhBN-ZZ1rw-"
      },
      "source": [
        "<h2> Recherche de Motifs</h2>\n",
        "Nous allons développer un algorithme très simple pour la recherche de motifs dans des séquences d'ADN et comparer les résultats avec l'algorithme Expectation et Maximization. "
      ]
    },
    {
      "cell_type": "code",
      "execution_count": 1,
      "metadata": {
        "id": "FVyKCsfj1rw_"
      },
      "outputs": [],
      "source": [
        "# Configuration\n",
        "\n",
        "import numpy as np\n",
        "import matplotlib.pyplot as plt\n",
        "import random\n",
        "\n",
        "random.seed(0)\n",
        "np.random.seed(0)\n",
        "\n",
        "nuc = ['A', 'C', 'G', 'T']\n"
      ]
    },
    {
      "cell_type": "markdown",
      "metadata": {
        "id": "Xylb8_Lp1rxC"
      },
      "source": [
        "<b>1. Génération des séquences aléatoires </b>:\n",
        "Nous allons d'abord générer des données artificielles, un jeu de données de séquences ayant le motif (positives). Pour générer les séquences positives, \n",
        "utilisez la matrice de fréquence ci-dessous, la séquence consensus de ce motif \"AGTATAG\"."
      ]
    },
    {
      "cell_type": "code",
      "execution_count": 2,
      "metadata": {
        "id": "FsK029CF1rxD"
      },
      "outputs": [],
      "source": [
        "\n",
        "\n",
        "k = 7 #taille du motif\n",
        "N = 10 #nombre de sequences\n",
        "\n",
        "MotifConsensus = \"AGTATAG\"\n",
        "\n",
        "freq = np.array([\n",
        "  [1000,  12,   3,  1000,   5,   1000,   1],\n",
        "  [10,    8,   3,   3,   0,    10,   1],\n",
        "  [4,   1000,   2,   7,   5,    13,   1000],\n",
        "  [6,    10,  1000,   5,   1000,   6,   1]])\n"
      ]
    },
    {
      "cell_type": "markdown",
      "metadata": {
        "id": "71P8IWA61rxE"
      },
      "source": [
        "<b> Générer de séquences positives </b>:\n",
        "Écrivez une fonction qui génère N séquences de taille T contenant le motif \"AGTATAG\". \n",
        "La séquence du motif doit être généré en utilisant la matrice de Probabilité produite à partir de la matrice de fréquence.\n",
        "La position d'insertion du motif est aléatoire et ses residues sont en **majuscules**, \n",
        "les autres residues de la séquence hors le motif sont représentés en minuscule. \n",
        "\n"
      ]
    },
    {
      "cell_type": "code",
      "execution_count": 3,
      "metadata": {
        "id": "E7n7xjRB1rxE"
      },
      "outputs": [],
      "source": [
        "\n",
        "def createPosSequences(freq, nuc, k=21, N=100, T=100):\n",
        "  \"\"\"\n",
        "  Genere N sequences positives (ayant le motif)\n",
        "  entrée freq : matrice de frequences qui represent le motif d'interet\n",
        "  entrée nuc  : alphabet\n",
        "  entrée k    : taille du motif\n",
        "  entrée N    : nombre de sequences\n",
        "  entrée T    : taille de chaque sequence\n",
        "  sortie posMotif  : list contenant les sequences positives, motif implanté\n",
        "  sortie motifs    : list contenant les motifs selement\n",
        "  \"\"\"\n",
        "\n",
        "  motifs = [''.join([random.choices(nuc, freq[:, pos])[0] for pos in range(k)]) for _ in range(N)]\n",
        "  gen_random = lambda size: ''.join([random.choice(nuc) for _ in range(size)]).lower()\n",
        "\n",
        "  def gen_seq(motif):\n",
        "    insertion_pos = random.randint(0, T - k)\n",
        "    return gen_random(insertion_pos) + motif + gen_random(T - insertion_pos - k)\n",
        "\n",
        "  posMotif = [gen_seq(motif) for motif in motifs]\n",
        "\n",
        "  return posMotif, motifs\n",
        "\n",
        "posMotif, motifs = createPosSequences(freq, nuc, k, N, 30)\n",
        "\n",
        "pos = [x.upper() for x in posMotif] #transform toutes les séquences en majuscules\n"
      ]
    },
    {
      "cell_type": "markdown",
      "metadata": {
        "id": "AgbeHy3E_cRW"
      },
      "source": [
        "<b> 2. Générer la matrice de poids position</b> à partir de séquences générer artificiellement `motifs` \n",
        "puis comparer la matrice générée avec la matrice originale `freq`, que remarquez vous?"
      ]
    },
    {
      "cell_type": "code",
      "execution_count": 4,
      "metadata": {
        "id": "8hIxvUvCAzbH"
      },
      "outputs": [
        {
          "name": "stdout",
          "output_type": "stream",
          "text": [
            "[[0.78571429 0.07142857 0.07142857 0.07142857]\n",
            " [0.07142857 0.07142857 0.78571429 0.07142857]\n",
            " [0.07142857 0.07142857 0.07142857 0.78571429]\n",
            " [0.78571429 0.07142857 0.07142857 0.07142857]\n",
            " [0.07142857 0.07142857 0.07142857 0.78571429]\n",
            " [0.78571429 0.07142857 0.07142857 0.07142857]\n",
            " [0.07142857 0.07142857 0.78571429 0.07142857]]\n",
            "[[0.19467787 0.06162465 0.067507   0.06554622]\n",
            " [0.05977809 0.06366158 0.1851595  0.06171983]\n",
            " [0.06845238 0.06845238 0.06944444 0.20634921]\n",
            " [0.19950739 0.06847291 0.06453202 0.06650246]\n",
            " [0.06647808 0.07142857 0.06647808 0.20438472]\n",
            " [0.18610301 0.0617104  0.05879495 0.06559767]\n",
            " [0.07043156 0.07043156 0.21129469 0.07043156]]\n"
          ]
        }
      ],
      "source": [
        "#Computing wi(a)\n",
        "def matricePoidsPosition(motifs, nuc, k):\n",
        "  \"\"\"\n",
        "  Genere la matrice de poids position à partir de motifs\n",
        "  entrée motifs : list  contenant les motifs d'interets\n",
        "  entrée nuc  : alphabet\n",
        "  entrée k    : taille du motif\n",
        "  sortie pwm  : matrice de poids position qui represent les motifs\n",
        "  \"\"\"\n",
        "  q = len(nuc)\n",
        "  m = len(motifs)\n",
        "  k = len(motifs[0])\n",
        "\n",
        "  counts = np.zeros((q, k), dtype=int)\n",
        "  pseudocount = 1.0\n",
        "\n",
        "  for ch_index in range(k):\n",
        "      for sequence in motifs:\n",
        "          counts[nuc.index(sequence[ch_index]), ch_index] += 1\n",
        "\n",
        "  PWM = (counts + pseudocount) / (m + q * pseudocount)\n",
        "  return PWM\n",
        "\n",
        "PWM = matricePoidsPosition(motifs, nuc, k);\n",
        "print (PWM.T)\n",
        "print(np.abs((freq / freq.sum(axis=0)).T - PWM.T))\n"
      ]
    },
    {
      "cell_type": "markdown",
      "metadata": {},
      "source": [
        "<font color=\"#0000FF\">Réponse : Les deux matrices ne se ressemblent que vaguement en raison du faible nombre de séquences générées (10).</font>"
      ]
    },
    {
      "cell_type": "markdown",
      "metadata": {
        "id": "8Jgh64191rxI"
      },
      "source": [
        "<b>3. Chercher les motifs en utilisant l'algorithme `motifSearch` </b>:\n",
        "<br>\n",
        "Faire une fonction pour chercher le motif le plus plus frequents dans l'ensemble de sequences positives `pos`. "
      ]
    },
    {
      "cell_type": "code",
      "execution_count": 5,
      "metadata": {
        "id": "C9OjaTFl1rxH"
      },
      "outputs": [
        {
          "name": "stdout",
          "output_type": "stream",
          "text": [
            "{'AGTATAG': 10}\n"
          ]
        }
      ],
      "source": [
        "def motifSearch(k: int, sequences: list[str]):\n",
        "    \"\"\"\n",
        "    Cherche les motifs de taille k dans un ensemble de séquences\n",
        "    entrée k : taille du motif\n",
        "    entrée séquences : liste de sequences\n",
        "    sortie motifs: dictionnaire de motifs, clé=motif, valeur = fréquence d'observation\n",
        "    >>>searchMotifs(3, ['TAAGTAA', 'TATAA', 'CTATC'])\n",
        "    {'TAA': 3, 'AAG': 1, 'AGT': 1, 'GTA': 1, 'TAT': 2, 'ATA': 1, 'CTA': 1, 'ATC': 1}\n",
        "    \"\"\"\n",
        "    words = [seq[offset:(offset + k)] for seq in sequences for offset in range(len(seq) - k + 1)]\n",
        "    motifs = dict[str, int]()\n",
        "\n",
        "    for word in words:\n",
        "        motifs[word] = motifs.get(word, 0) + 1\n",
        "\n",
        "    return motifs\n",
        "\n",
        "def getTopMotifs(motifs: dict[str, int], top: int = 1):\n",
        "    \"\"\"\n",
        "    renvoyer les top motifs le plus frequent\n",
        "    entrée motifsFound: dictionnaire de motifs, clé=motif, valeur = fréquence d'observation\n",
        "    entrée top : les top plus frequent\n",
        "    sortie motifsfreq: dictionnaire contenant les top motifs les plus fréquents, clé=motif, valeur = fréquence d'observation\n",
        "    >>>getTopMotifs({'TAA': 3, 'AAG': 1, 'AGT': 1, 'GTA': 1, 'TAT': 2, 'ATA': 1, 'CTA': 1, 'ATC': 1}, 2)\n",
        "    {'TAA': 3, 'TAT': 2}\n",
        "    \"\"\"\n",
        "    min_freq = sorted(motifs.values(), reverse=True)[top - 1]\n",
        "    return { motif: freq for motif, freq in motifs.items() if freq >= min_freq }\n",
        "\n",
        "\n",
        "assert motifSearch(3, ['TAAGTAA', 'TATAA', 'CTATC']) == {'TAA': 3, 'AAG': 1, 'AGT': 1, 'GTA': 1, 'TAT': 2, 'ATA': 1, 'CTA': 1, 'ATC': 1}\n",
        "assert getTopMotifs({'TAA': 3, 'AAG': 1, 'AGT': 1, 'GTA': 1, 'TAT': 2, 'ATA': 1, 'CTA': 1, 'ATC': 1}, 2) == {'TAA': 3, 'TAT': 2}\n",
        "\n",
        "motifsFound = motifSearch(k, pos)\n",
        "topMotifs = getTopMotifs(motifsFound, 1)\n",
        "print (topMotifs)\n"
      ]
    },
    {
      "cell_type": "markdown",
      "metadata": {
        "id": "6-r5J3I81rxJ"
      },
      "source": [
        "4. Avez vous trouvez le motif N fois dans l'ensemble de séquences positives `pos`? Justifiez votre réponse."
      ]
    },
    {
      "cell_type": "markdown",
      "metadata": {
        "id": "gVqNfHQAEEXT"
      },
      "source": [
        "<font color=\"#0000FF\"> Réponse: Oui, on a généré N = 10 séquences et il y a dix fois le motif AGTATAG dans les séquences. On aurait pu trouver plus de N séquences en raison du background aléatoire ou moins de N si les motifs générés n'étaient pas exactement identiques à la séquence consensus.</font>"
      ]
    },
    {
      "cell_type": "markdown",
      "metadata": {
        "id": "GtuFSZLwELz-"
      },
      "source": [
        "5. Utiliser l'algorithme Expectation-Maximisation pour chercher un motif de taille k dans l'ensemble de séquences `pos`."
      ]
    },
    {
      "cell_type": "code",
      "execution_count": 6,
      "metadata": {
        "id": "qJaBH6Be1rxJ"
      },
      "outputs": [
        {
          "name": "stdout",
          "output_type": "stream",
          "text": [
            "seq  0:  7  AGTATAG\n",
            "seq  1: 19  AGTATAG\n",
            "seq  2: 12  AGTATAG\n",
            "seq  3: 20  AGTATAG\n",
            "seq  4:  5  AGTATAG\n",
            "seq  5: 21  AGTATAG\n",
            "seq  6: 18  AGTATAG\n",
            "seq  7: 15  AGTATAG\n",
            "seq  8:  1  AGTATAG\n",
            "seq  9:  6  AGTATAG\n"
          ]
        },
        {
          "data": {
            "image/png": "[encoded data removed]",
            "text/plain": [
              "<Figure size 640x480 with 1 Axes>"
            ]
          },
          "metadata": {},
          "output_type": "display_data"
        }
      ],
      "source": [
        "def initialiseP(seqs, w, alph):\n",
        "    \"\"\"\n",
        "    Initialise pc,k\n",
        "    input seqs : list of sequences\n",
        "    input w : motif length\n",
        "    input alph : alphabet (nucleotides or amino acids)\n",
        "    output P: position probability matrix\n",
        "    \"\"\"\n",
        "\n",
        "    seqs_ = np.array([[alph.index(nt) for nt in seq] for seq in seqs])\n",
        "    motifs = [random.choice(seqs_)[random.randint(0, len(seqs[0]) - w) + i] for i in range(w)]\n",
        "    prob = np.zeros((len(alph), w)) + 0.5 / (len(alph) - 1)\n",
        "    prob[motifs, np.arange(w)] = 0.5\n",
        "\n",
        "    return np.c_[np.zeros(len(alph)) + 0.25, prob]\n",
        "\n",
        "def initialiseZ(seqs, w):\n",
        "    \"\"\"\n",
        "    Initialise Z\n",
        "    input seqs : list of sequences\n",
        "    input w : motif length\n",
        "    output Z :  matrix of motif start positions\n",
        "    \"\"\"\n",
        "    s = len(seqs[0]) - w + 1\n",
        "    return np.ones((len(seqs), s)) / s\n",
        "\n",
        "def E_step(seqs, P, Z, w, alph):\n",
        "    \"\"\"\n",
        "    Implement Expectation step\n",
        "    input seqs : list of sequences\n",
        "    input P : position probability matrix\n",
        "    input Z :  matrix of motif start positions\n",
        "    input w : motif length\n",
        "    input alph : alphabet (nucleotides or amino acids)\n",
        "    output Z :  matrix of motif start positions\n",
        "    \"\"\"\n",
        "\n",
        "    seqs_ = np.array([[alph.index(nt) for nt in seq] for seq in seqs])\n",
        "\n",
        "    for offset in range(Z.shape[1]):\n",
        "        Z[:, offset] = \\\n",
        "            np.prod(P[:, 0][seqs_[:, :offset]], axis=1) *\\\n",
        "            np.prod(P[seqs_[:, offset:(offset + w)], np.arange(w) + 1], axis=1) *\\\n",
        "            np.prod(P[:, 0][seqs_[:, (offset + w):]], axis=1)\n",
        "\n",
        "    return Z\n",
        "\n",
        "def normaliseZ(z):\n",
        "    \"\"\"\n",
        "    Normalise Z matrix\n",
        "    input Z : unnormalised matrix\n",
        "    output Zn : normalised matrix\n",
        "    \"\"\"\n",
        "\n",
        "    return z / z.sum(axis=1, keepdims=True)\n",
        "\n",
        "def M_step(seqs, Z, w, alph):\n",
        "    \"\"\"\n",
        "    Implement Expectation step\n",
        "    input seqs : list of sequences\n",
        "    input Z :  matrix of motif start positions\n",
        "    input w : motif length\n",
        "    input alph : alphabet (nucleotides or amino acids)\n",
        "    output P : position probability matrix\n",
        "    \"\"\"\n",
        "\n",
        "    seqs_ = np.array([[alph.index(nt) for nt in seq] for seq in seqs])\n",
        "    nr = np.zeros((len(alph), w))\n",
        "\n",
        "    for ch in range(len(alph)):\n",
        "        for pos in range(w):\n",
        "            seq_indices, offset_indices = (seqs_[:, pos:(-(w - pos - 1) or None)] == ch).nonzero()\n",
        "            nr[ch, pos] = Z[seq_indices, offset_indices].sum()\n",
        "\n",
        "    n = np.c_[np.bincount(seqs_.ravel(), minlength=len(alph)) - nr.sum(axis=1), nr]\n",
        "    P = (n + 1) / (n.sum(axis=0) + len(alph))\n",
        "\n",
        "    assert np.allclose(P.sum(axis=0), 1)\n",
        "\n",
        "    return P\n",
        "\n",
        "def likelihood(seqs, Z, P, w, alph):\n",
        "    \"\"\"\n",
        "    Implement log likelihood function of P\n",
        "    input seqs : list of sequences\n",
        "    input Z :  matrix of motif start positions\n",
        "    input p : position probability matrix\n",
        "    input w : motif length\n",
        "    input alph : alphabet (nucleotides or amino acids)\n",
        "    output lLikelihood : log likelihood of P\n",
        "    \"\"\"\n",
        "\n",
        "    M = len(seqs)\n",
        "    L = len(seqs[0])\n",
        "\n",
        "    Z_unnormalized = E_step(seqs, P, Z, w, alph)\n",
        "    return np.log((L-w+1)**-M) + np.log(Z_unnormalized.sum(axis=1)).sum()\n",
        "\n",
        "def ExpectationMaximisation(seqs, w, alph, eps):\n",
        "    \"\"\"\n",
        "    Implement Expectation Maximisation algorithm\n",
        "    input seqs : list of sequences\n",
        "    input w : motif length\n",
        "    input alph : alphabet (nucleotides or amino acids)\n",
        "    input eps : threahold\n",
        "    output P : position probability matrix\n",
        "    output Z :  matrix of motif start positions\n",
        "    output lLikelihood : log likelihood of P\n",
        "    output pos_motif : positions of motifs in seqs\n",
        "    \"\"\"\n",
        "    P = initialiseP(seqs, w, alph)\n",
        "    Z = initialiseZ(seqs, w)\n",
        "    lLikelihood = list[float]()\n",
        "\n",
        "    for _ in range(100):\n",
        "        Z = E_step(seqs, P, Z, w, alph)\n",
        "        Z = normaliseZ(Z)\n",
        "        P = M_step(seqs, Z, w, alph)\n",
        "        ll = likelihood(seqs, Z, P, w, alph)\n",
        "\n",
        "        lLikelihood.append(ll)\n",
        "\n",
        "        if len(lLikelihood) > 1 and abs(lLikelihood[-1] - lLikelihood[-2]) < eps:\n",
        "            break\n",
        "\n",
        "    return P, lLikelihood, Z, Z.argmax(axis=1)\n",
        "\n",
        "def EM_iteratif(N, seqs, w, alph, eps):\n",
        "    \"\"\"\n",
        "    Implement a iterative version of Expectation Maximisation algorithm\n",
        "    input N : number of iterations\n",
        "    input seqs : list of sequences\n",
        "    input w : motif length\n",
        "    input eps : threahold\n",
        "    output bestModel : the parameter of the best model\n",
        "    \"\"\"\n",
        "\n",
        "    best_model = None\n",
        "    best_likelihood = -np.inf\n",
        "\n",
        "    for _ in range(N):\n",
        "        P, likelihoods, Z, offsets = ExpectationMaximisation(seqs, w, alph, eps)\n",
        "\n",
        "        if likelihoods[-1] > best_likelihood:\n",
        "            best_model = P, likelihoods, Z, offsets\n",
        "            best_likelihood = likelihoods[-1]\n",
        "\n",
        "    assert best_model is not None\n",
        "    return best_model\n",
        "\n",
        "def analyse_results(results, seqs, w):\n",
        "    for i in range(len(seqs)):\n",
        "        print(f'seq {i:>2}: {results[3][i]+1:>2}  ' + seqs[i][results[3][i]:results[3][i]+w])\n",
        "\n",
        "    plt.plot(results[1])\n",
        "    plt.xlabel('Iteration')\n",
        "    plt.ylabel('Log-vraisemblance')\n",
        "    plt.show()\n",
        "\n",
        "\n",
        "P, lLikelihood, Z, pos_motif = EM_iteratif(10, pos, k, nuc, 1e-3)\n",
        "em_motifs = [seq[offset:(offset + k)] for seq, offset in zip(pos, pos_motif)]\n",
        "analyse_results((P, lLikelihood, Z, pos_motif), pos, k)\n"
      ]
    },
    {
      "cell_type": "markdown",
      "metadata": {
        "id": "WtO1aj2YFNaG"
      },
      "source": [
        "6. Comparez les motifs trouvés par EM et l'algorithme `motifSearch` avec les motifs `posMotif`, \n",
        "où les vrais motifs sont montrés en lettre majuscule. Quelle est la performance de ces deux programmes? "
      ]
    },
    {
      "cell_type": "code",
      "execution_count": 7,
      "metadata": {
        "id": "9UOrmIf9Fye-"
      },
      "outputs": [
        {
          "name": "stdout",
          "output_type": "stream",
          "text": [
            "Motifs motifSearch {'AGTATAG': 10}\n",
            "Motifs EM {'AGTATAG': 10}\n"
          ]
        }
      ],
      "source": [
        "from collections import Counter\n",
        "\n",
        "\n",
        "print('Motifs motifSearch', topMotifs)\n",
        "print('Motifs EM', getTopMotifs(dict(Counter(em_motifs)), 1))\n"
      ]
    },
    {
      "cell_type": "markdown",
      "metadata": {},
      "source": [
        "<font color=\"#0000FF\"> Réponse: Les deux programmes renvoient des résultats identiques ici. L'algorithme EM a néanmoins la garantie de retourner exactement N séquences.</font>"
      ]
    }
  ],
  "metadata": {
    "colab": {
      "provenance": []
    },
    "kernelspec": {
      "display_name": "Python 3",
      "language": "python",
      "name": "python3"
    },
    "language_info": {
      "codemirror_mode": {
        "name": "ipython",
        "version": 3
      },
      "file_extension": ".py",
      "mimetype": "text/x-python",
      "name": "python",
      "nbconvert_exporter": "python",
      "pygments_lexer": "ipython3",
      "version": "3.11.8"
    }
  },
  "nbformat": 4,
  "nbformat_minor": 0
}
