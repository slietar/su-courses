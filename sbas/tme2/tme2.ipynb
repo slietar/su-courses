{
 "cells": [
  {
   "cell_type": "markdown",
   "metadata": {
    "id": "zc3cyupLxpLU"
   },
   "source": [
    "<h1><b>Statistique en Bioinformatique : </b> TME2 </h1>\n",
    "<br>\n",
    "L’objectif de ce TME est: \n",
    "<br>\n",
    "<ul>\n",
    "<li> objectif 1: comprendre les différences d'alignement global et local, </li>\n",
    "<li> objectif 2: reconstruire une matrice de substitution du type Blosum, </li>\n",
    "</ul>\n",
    "<br>\n",
    "<div class=\"alert alert-warning\" role=\"alert\" style=\"margin: 10px\">\n",
    "<p><b>Soumission</b></p>\n",
    "<ul>\n",
    "<li>Renomer le fichier TME2.ipynb pour NomEtudiant1_NomEtudiant2.ipynb </li>\n",
    "<li>Soumettre sur moodle </li>\n",
    "</ul>\n",
    "</div>"
   ]
  },
  {
   "cell_type": "markdown",
   "metadata": {},
   "source": [
    "Nom etudiant 1 : Antoine Grislain\n",
    "<br>\n",
    "Nom etudiant 2 : Simon Liétar\n",
    "<br>"
   ]
  },
  {
   "cell_type": "markdown",
   "metadata": {
    "id": "FRkAzmSLxpLb"
   },
   "source": [
    "<b> Exercice 1 </b>: On va étudier un alignement “difficile” entre la protéine emph50s ribosomal L20 chez A. aeolicus, \n",
    "et la protéine ligase UBR5 chez l’homme (L’alignement structural est montré ci-dessous). \n",
    "<br>\n",
    "\n",
    "<img src=\"bacthum.png\" alt=\"Smiley face\" height=\"210\" width=\"202\"> \n",
    "\n",
    "\n",
    "\n",
    "<br><br>\n",
    "<b>A.</b> Récupérez la séquence de la protéine “E3 ubiquitin ligase UBR5” chez l’homme et de la protéine “50S ribosomal L20” chez A. aeolicus \n",
    "via le site <a href=\"http://www.uniprot.org/\">Uniprot</a>  au format .fasta.\n",
    "\n",
    "<br>\n",
    "<b>B.</b> A l’aide du site <a href=\"https://www.ebi.ac.uk/Tools/psa/\">psa</a>, alignez ces séquences. Commentez les faibles pourcentage d’identité malgré le bon alignement des ces structures.\n"
   ]
  },
  {
   "cell_type": "markdown",
   "metadata": {
    "id": "ri9NO201xpLc"
   },
   "source": [
    "Réponse : "
   ]
  },
  {
   "cell_type": "markdown",
   "metadata": {},
   "source": [
    "| Alignement | Longueur | Identité        | Similarité      | Gaps               | Score |\n",
    "|------------|----------|-----------------|-----------------|--------------------|-------|\n",
    "| global     | 2826     | 29/2826 (1.0 %) | 51/2826 (1.8 %) | 2735/2826 (96.8 %) | 28.5  |\n",
    "| local      | 35       | 13/35 (37.1 %)  | 20/35 (57.1 %)  | 1/35 (2.9 %)       | 49.0  |\n",
    "\n",
    "Les deux séquences ne sont pas du tout de la même taille donc l'identité est mauvaise."
   ]
  },
  {
   "cell_type": "markdown",
   "metadata": {
    "id": "HmhkuDvTxpLc"
   },
   "source": [
    "<b>C.</b> Récupérez la séquence de la protéine “metL Bifunctional aspartokinase/homoserine dehydrogenase 2” et de la protéine “lysC Lysine-sensitive aspartokinase 3” chez E. coli via le site <a href=\"http://www.uniprot.org/\"> Uniprot </a> au format .fasta. Reproduisez, à l’aide du site <a href=\"https://www.ebi.ac.uk/Tools/psa/\"> psa</a>, l’alignement global et local vu en TD. Observez la modification des résultats en changeant la matrice de substitution et/ou les pénalités de gap (“Gap_penalty” et “Extend_penalty”)."
   ]
  },
  {
   "cell_type": "markdown",
   "metadata": {
    "id": "mWPYrmMwxpLd"
   },
   "source": [
    "Avec les valeurs par défaut (gap penalty = 10 et extend penalty = 0.5), on a les résultats suivants :\n",
    "\n",
    "| Alignement | Longueur | Identité         | Similarité       | Gaps             | Score |\n",
    "|------------|----------|------------------|------------------|------------------|-------|\n",
    "| global     | 854      | 136/854 (15.9 %) | 209/854 (24.5 %) | 449/854 (52.6 %) | 351.0 |\n",
    "| local      | 482      | 133/482 (27.6 %) | 205/482 (42.5 %) | 85/482 (17.6 %)  | 353.5 |\n",
    "\n",
    "En baissant les coûts (gap penalty = 5 et extend penalty = 0.2), l'alignement local est quasiment identique à l'alignement global car les gaps sont beaucoups moins coûteux dans l'alignement donc ils sont plus nombreux. Le score des deux alignements augmente nettement."
   ]
  },
  {
   "cell_type": "markdown",
   "metadata": {
    "id": "defYSqBzxpLd"
   },
   "source": [
    "<b>Exercice 2</b>: Score alignement global, local <br>\n",
    "Faire une fonction pour calculer : 1) la pourcentage de identité, 2) la pourcentage de similarité, 3) le score d’un alignement en utilisant la matrix blosum62. Le calcul de la similarité doit prendre en considération les acides amine ayant la même propriété physico chimique. Dans notre cas, tous les acides amine qui ont des valeurs supérieur à zéro dans la matrice BLOSUM62. Le score basé sur la matrice blosum doit aussi prendre en considération les deux pénalités de gaps, ouverture et extension. Teste vos fonctions en utilisant le fichier test.fasta\n"
   ]
  },
  {
   "cell_type": "code",
   "execution_count": 1,
   "metadata": {
    "id": "IJbv2IIxxpLe"
   },
   "outputs": [],
   "source": [
    "import numpy as np\n",
    "\n",
    "#variable initiation\n",
    "aa = ['A', 'R', 'N', 'D', 'C', 'Q', 'E', 'G', 'H', 'I', 'L', 'K', 'M', 'F', 'P', 'S', 'T', 'W', 'Y', 'V', 'X']\n",
    "\n",
    "#parameters\n",
    "q = 21\n",
    "gap_open = -5\n",
    "gap_ext = 0.5\n",
    "\n",
    "#files\n",
    "input_test_f = 'test.fasta'\n",
    "input_blosum_f = 'BLOSUM62.txt'\n",
    "\n",
    "#For a simple test use:\n",
    "input_test_f = 'testToy.fasta'\n"
   ]
  },
  {
   "cell_type": "code",
   "execution_count": 2,
   "metadata": {
    "id": "ue8REeWDxpLg",
    "outputId": "10e97e2b-2a6f-49d7-a5b2-a8cd4c4274b9"
   },
   "outputs": [
    {
     "name": "stdout",
     "output_type": "stream",
     "text": [
      "['ACCD', 'A-CD']\n"
     ]
    }
   ],
   "source": [
    "#Read the test.fasta file\n",
    "def read_fasta (input_f):\n",
    "\t\"\"\"\n",
    "\tInput1 input_f: fasta file name\n",
    "\tOutput1 arr_seqs: List of sequences\n",
    "\tREMARK : We keep only the sequences, identifiers are not necessary\n",
    "\t\"\"\"\n",
    "\n",
    "\twith open(input_f, 'r') as in_f:\n",
    "\t\treturn [line.strip() for line in in_f if line[0] != '>']\n",
    "\n",
    "testAln = read_fasta(input_test_f)\n",
    "print (testAln)\n",
    "#It shlould print ['ACCD', 'A-CD'] when using toy"
   ]
  },
  {
   "cell_type": "code",
   "execution_count": 3,
   "metadata": {
    "id": "_y2pUQhpxpLi"
   },
   "outputs": [
    {
     "name": "stdout",
     "output_type": "stream",
     "text": [
      "[[ 4 -1 -2 -2  0 -1 -1  0 -2 -1 -1 -1 -1 -2 -1  1  0 -3 -2  0  0]\n",
      " [-1  5  0 -2 -3  1  0 -2  0 -3 -2  2 -1 -3 -2 -1 -1 -3 -2 -3 -1]\n",
      " [-2  0  6  1 -3  0  0  0  1 -3 -3  0 -2 -3 -2  1  0 -4 -2 -3 -1]\n",
      " [-2 -2  1  6 -3  0  2 -1 -1 -3 -4 -1 -3 -3 -1  0 -1 -4 -3 -3 -1]\n",
      " [ 0 -3 -3 -3  9 -3 -4 -3 -3 -1 -1 -3 -1 -2 -3 -1 -1 -2 -2 -1 -2]\n",
      " [-1  1  0  0 -3  5  2 -2  0 -3 -2  1  0 -3 -1  0 -1 -2 -1 -2 -1]\n",
      " [-1  0  0  2 -4  2  5 -2  0 -3 -3  1 -2 -3 -1  0 -1 -3 -2 -2 -1]\n",
      " [ 0 -2  0 -1 -3 -2 -2  6 -2 -4 -4 -2 -3 -3 -2  0 -2 -2 -3 -3 -1]\n",
      " [-2  0  1 -1 -3  0  0 -2  8 -3 -3 -1 -2 -1 -2 -1 -2 -2  2 -3 -1]\n",
      " [-1 -3 -3 -3 -1 -3 -3 -4 -3  4  2 -3  1  0 -3 -2 -1 -3 -1  3 -1]\n",
      " [-1 -2 -3 -4 -1 -2 -3 -4 -3  2  4 -2  2  0 -3 -2 -1 -2 -1  1 -1]\n",
      " [-1  2  0 -1 -3  1  1 -2 -1 -3 -2  5 -1 -3 -1  0 -1 -3 -2 -2 -1]\n",
      " [-1 -1 -2 -3 -1  0 -2 -3 -2  1  2 -1  5  0 -2 -1 -1 -1 -1  1 -1]\n",
      " [-2 -3 -3 -3 -2 -3 -3 -3 -1  0  0 -3  0  6 -4 -2 -2  1  3 -1 -1]\n",
      " [-1 -2 -2 -1 -3 -1 -1 -2 -2 -3 -3 -1 -2 -4  7 -1 -1 -4 -3 -2 -2]\n",
      " [ 1 -1  1  0 -1  0  0  0 -1 -2 -2  0 -1 -2 -1  4  1 -3 -2 -2  0]\n",
      " [ 0 -1  0 -1 -1 -1 -1 -2 -2 -1 -1 -1 -1 -2 -1  1  5 -2 -2  0  0]\n",
      " [-3 -3 -4 -4 -2 -2 -3 -2 -2 -3 -2 -3 -1  1 -4 -3 -2 11  2 -3 -2]\n",
      " [-2 -2 -2 -3 -2 -1 -2 -3  2 -1 -1 -2 -1  3 -3 -2 -2  2  7 -1 -1]\n",
      " [ 0 -3 -3 -3 -1 -2 -2 -3 -3  3  1 -2  1 -1 -2 -2  0 -3 -1  4 -1]\n",
      " [ 0 -1 -1 -1 -2 -1 -1 -1 -1 -1 -1 -1 -1 -1 -2  0  0 -2 -1 -1 -1]]\n"
     ]
    }
   ],
   "source": [
    "#read Blosum\n",
    "def read_blosum(input_f: str):\n",
    "\t\"\"\"\n",
    "\tInput1 input_f : blosum file name\n",
    "\tOutput1: a matrix of dimention [q, q]\n",
    "\t\"\"\"\n",
    "\n",
    "\twith open(input_f, 'r') as in_f:\n",
    "\t\tlines = in_f.read().replace('  ', ' ').splitlines()\n",
    "\t\tdata = [line[1:].strip() for line in lines[7:]]\n",
    "\t\talphabet = lines[6].strip().split(' ')\n",
    "\n",
    "\tindices = [alphabet.index(a) for a in aa]\n",
    "\tmatrix = np.loadtxt(data, dtype=int)\n",
    "\tmatrix = matrix[:, indices][indices, :]\n",
    "\n",
    "\tassert matrix.shape[0] == matrix.shape[1] == q\n",
    "\treturn matrix\n",
    "\n",
    "matr_62 = read_blosum(input_blosum_f)\n",
    "print(matr_62)\n"
   ]
  },
  {
   "cell_type": "code",
   "execution_count": 4,
   "metadata": {
    "id": "kVERnb8YxpLi",
    "outputId": "00129154-4626-4b90-f64d-f0b93c31d59b"
   },
   "outputs": [
    {
     "name": "stdout",
     "output_type": "stream",
     "text": [
      "identitee=  0.75  similarity=  0.75  score=  14.0\n"
     ]
    }
   ],
   "source": [
    "def indentite_calcul(seq1: str, seq2: str, gap_open: float, gap_ext: float, matr_62: np.ndarray):\n",
    "\t\"\"\"\n",
    "\tInput1 seq1 : sequence\n",
    "\tInput2 seq2 : sequence\n",
    "\tInput3 gap_open : gap open penality\n",
    "\tInput4 gap_ext : gap extention penality\n",
    "\tInput5 matr_62 :  a matrix of dimention [q-1, q-1] representing substitution matrix\n",
    "\tOutput1 ident: sequence identity\n",
    "\tOutput2 similaire: sequence similarity\n",
    "\tOutput3 score: aligment score\n",
    "\t\"\"\"\n",
    "\n",
    "\tscore = 0.0\n",
    "\tsimilarity = 0\n",
    "\tident = 0\n",
    "\n",
    "\tgap = False\n",
    "\n",
    "\tfor a1, a2 in zip(seq1, seq2):\n",
    "\t\tif (a1 == '-') or (a2 == '-'):\n",
    "\t\t\tif gap:\n",
    "\t\t\t\tscore -= gap_ext\n",
    "\t\t\telse:\n",
    "\t\t\t\tscore += gap_open\n",
    "\t\t\t\tgap = True\n",
    "\t\telse:\n",
    "\t\t\taa_score = matr_62[aa.index(a1), aa.index(a2)]\n",
    "\t\t\tgap = False\n",
    "\t\t\tscore += aa_score\n",
    "\n",
    "\t\t\tif a1 == a2:\n",
    "\t\t\t\tident += 1\n",
    "\t\t\tif aa_score > 0.0:\n",
    "\t\t\t\tsimilarity += 1\n",
    "\n",
    "\treturn (\n",
    "\t\tident / len(seq1),\n",
    "\t\tsimilarity / len(seq1),\n",
    "\t\tscore\n",
    "\t)\n",
    "\n",
    "identitee,similarity,score = indentite_calcul(testAln[0], testAln[1], gap_open, gap_ext, matr_62)\n",
    "print (\"identitee= \", identitee , \" similarity= \", similarity, \" score= \", score )\n",
    "\n",
    "#identitee=  0.75  similarity=  0.75  score=  24.0"
   ]
  },
  {
   "cell_type": "markdown",
   "metadata": {
    "id": "8cpbRq5FxpLj"
   },
   "source": [
    "<b>Exercice 3</b>: Matrice de substitution <br>\n",
    "Faire une programme (plusieurs fonctions seront nécessaires) pour produire une matrix de substitution comme Blosum. Utiliser l’alignement du fichiers <b>blocks.dat</b> Vous pouvez tester vous fonctions sue le fichier <b>blockToy.dat</b>. \n"
   ]
  },
  {
   "cell_type": "code",
   "execution_count": 5,
   "metadata": {
    "id": "eOdfz9ooxpLk"
   },
   "outputs": [],
   "source": [
    "from itertools import combinations, combinations_with_replacement\n",
    "from collections import Counter\n",
    "\n",
    "input_block_f = 'blockToy.dat'\n",
    "\n",
    "\n",
    "#For a simple test do:\n",
    "q = 3\n",
    "aa = ['A', 'B', 'C']\n"
   ]
  },
  {
   "cell_type": "code",
   "execution_count": 6,
   "metadata": {
    "id": "dujYZbatxpLk",
    "outputId": "e1b8faba-5e6a-45dc-9625-40ebb14ca3b3"
   },
   "outputs": [
    {
     "name": "stdout",
     "output_type": "stream",
     "text": [
      "['ABCCB', 'ACABA', 'CBCCB', 'ACBBB']\n",
      "5\n"
     ]
    }
   ],
   "source": [
    "#read alignment file\n",
    "from io import StringIO\n",
    "import sys\n",
    "\n",
    "def readAlnFile(input_f: str):\n",
    "\t\"\"\"\n",
    "\tInput1 input_f : Alignment File name\n",
    "\tOutput1 aln : List of aligned sequences\n",
    "\tOutput2 cols : Number of colums (L)\n",
    "\t\"\"\"\n",
    "\n",
    "\twith open(input_f) as file:\n",
    "\t\tlines = file.read().splitlines()\n",
    "\t\treturn lines, len(lines[0])\n",
    "\n",
    "aln, cols  = readAlnFile(input_block_f)\n",
    "#cols = 43\n",
    "#cols = 5 testing toy\n",
    "print(aln)\n",
    "print(cols)\n"
   ]
  },
  {
   "cell_type": "code",
   "execution_count": 7,
   "metadata": {
    "id": "rUmAvC7ixpLl",
    "outputId": "43a5a1c8-2e06-44b4-b9ca-c9282c6fa4b6"
   },
   "outputs": [
    {
     "name": "stdout",
     "output_type": "stream",
     "text": [
      "[[ 3  4  5]\n",
      " [ 4  5 10]\n",
      " [ 5 10  3]]\n"
     ]
    }
   ],
   "source": [
    "#compute fij frequences\n",
    "import math\n",
    "\n",
    "def frequencies(aln: list[str], cols: int, aa: list[str]):\n",
    "\t\"\"\"\n",
    "\tInput1 aln : List of aligned sequences\n",
    "\tInput2 cols : Number of colums in the aligment (L)\n",
    "\tInput3 aa: residue alphabet\n",
    "\tOutput1  pairs_freq_dict: a dictionary containing residue pair frequencies\n",
    "\t\"\"\"\n",
    "\n",
    "\tmatrix = np.zeros((q, q), dtype=int)\n",
    "\n",
    "\tfor pos in range(cols):\n",
    "\t\toccurences = np.zeros(q, dtype=int)\n",
    "\n",
    "\t\tfor seq in aln:\n",
    "\t\t\toccurences[aa.index(seq[pos])] += 1\n",
    "\n",
    "\t\tmatrix_pos = occurences[:, None] * occurences\n",
    "\t\tmatrix_pos[*np.diag_indices(q, 2)] = [math.comb(a, 2) for a in occurences]\n",
    "\n",
    "\t\tassert np.tril(matrix_pos).sum() == math.factorial(q)\n",
    "\n",
    "\t\tmatrix += matrix_pos\n",
    "\n",
    "\t# On retourne une matrice symétrique plutôt qu'un dictionnaire pour faciliter les calculs suivants.\n",
    "\treturn matrix\n",
    "\n",
    "pairs_freq_dict = frequencies(aln, cols, aa)\n",
    "print (pairs_freq_dict)\n",
    "#{('A', 'A'): 3, ('A', 'B'): 4, ('A', 'C'): 5, ('B', 'B'): 5, ('B', 'C'): 10, ('C', 'C'): 3}"
   ]
  },
  {
   "cell_type": "code",
   "execution_count": 8,
   "metadata": {
    "id": "exH7_KG2xpLl",
    "outputId": "26ae9f95-6ab0-48fb-dcce-546ea3635751"
   },
   "outputs": [
    {
     "name": "stdout",
     "output_type": "stream",
     "text": [
      "30\n"
     ]
    }
   ],
   "source": [
    "#compute T\n",
    "def calcule_T(pairs_freq_dict: np.ndarray):\n",
    "\t\"\"\"\n",
    "\tInput1 pairs_freq_dict: a dictionary containing residue pair frequencies\n",
    "\t  Output1 : T, the overall sum\n",
    "\t\"\"\"\n",
    "\n",
    "\treturn np.tril(pairs_freq_dict).sum()\n",
    "\n",
    "T = calcule_T(pairs_freq_dict)\n",
    "print (T)\n",
    "#30"
   ]
  },
  {
   "cell_type": "code",
   "execution_count": 9,
   "metadata": {
    "id": "JkpXjmJ-xpLm",
    "outputId": "c4660af1-41ef-4b03-e616-44b8cdb66a41"
   },
   "outputs": [
    {
     "name": "stdout",
     "output_type": "stream",
     "text": [
      "[0.25 0.4  0.35]\n"
     ]
    }
   ],
   "source": [
    "#compute pi\n",
    "def calcule_p_is(pairs_freq_dict: np.ndarray, T: int):\n",
    "\t\"\"\"\n",
    "\tCompute the probability of each residue.\n",
    "\tInput1 pairs_freq_dict: a dictionary containing residue pair frequencies\n",
    "\tInput2 T : the overall sum\n",
    "\tOutput1 pi: List of probabilities\n",
    "\tREMARK : You can compute qij directly from pairs_freq_dict or create a function to do so.\n",
    "\t\"\"\"\n",
    "\n",
    "\treturn (0.5 * (1.0 + np.eye(len(pairs_freq_dict))) * pairs_freq_dict / T).sum(axis=0)\n",
    "\n",
    "pi = calcule_p_is(pairs_freq_dict, T)\n",
    "print (pi)\n",
    "#[0.25, 0.4, 0.35]"
   ]
  },
  {
   "cell_type": "code",
   "execution_count": 10,
   "metadata": {
    "id": "RLS7JUa2xpLm",
    "outputId": "19c5a3d2-1b56-4257-d0cb-f31dd3def0ef"
   },
   "outputs": [
    {
     "name": "stdout",
     "output_type": "stream",
     "text": [
      "[[ 0.47000363 -0.40546511 -0.04879016]\n",
      " [-0.40546511  0.04082199  0.17435339]\n",
      " [-0.04879016  0.17435339 -0.20294084]]\n"
     ]
    }
   ],
   "source": [
    "#compute Sij\n",
    "def calcule_S_i_j(pairs_freq_dict: np.ndarray, p: np.ndarray, T: float):\n",
    "\t\"\"\"\n",
    "\tInput1 pairs_freq_dict: a dictionary containing residue pair frequencies\n",
    "\tInput2 p: List of probabilities for each residue\n",
    "\tInput3 T: the overall sum\n",
    "\tOutput1 s: Score for each residue pair\n",
    "\t\"\"\"\n",
    "\n",
    "\treturn np.log(pairs_freq_dict / T / p[:, None] / p[None, :] / (2.0 - np.eye(len(pairs_freq_dict))))\n",
    "\n",
    "Sij = calcule_S_i_j(pairs_freq_dict, pi, T)\n",
    "print (Sij)\n",
    "#[[0.47000362924573563, -0.40546510810816444, -0.048790164169431945], [-0.40546510810816444, 0.04082199452025478, 0.17435338714477774], [-0.048790164169431945, 0.17435338714477774, -0.20294084399669016]]"
   ]
  },
  {
   "cell_type": "code",
   "execution_count": 11,
   "metadata": {
    "id": "_4_r2vq5xpLm",
    "outputId": "ba538151-27f1-4527-fe84-ae186b3cc8df"
   },
   "outputs": [
    {
     "name": "stdout",
     "output_type": "stream",
     "text": [
      "Blosum matrix from Blocks database:\n",
      "     |    A|    B|    C|\n",
      "    A| 0.47|-0.41|-0.05|\n",
      "    B|-0.41| 0.04| 0.17|\n",
      "    C|-0.05| 0.17|-0.20|\n"
     ]
    }
   ],
   "source": [
    "#print Matrix\n",
    "Sij_c = [[\"{:0.2f}\".format(x) for x in l] for l in Sij]\n",
    "print('Blosum matrix from Blocks database:')\n",
    "row_format =\"{:>5}|\" * (len(aa) + 1)\n",
    "print(row_format.format(\"\", *aa))\n",
    "for aa_, row in zip(aa, Sij_c):\n",
    "\tprint(row_format.format(aa_, *row))"
   ]
  }
 ],
 "metadata": {
  "colab": {
   "collapsed_sections": [],
   "name": "TME2_corrige.ipynb",
   "provenance": []
  },
  "kernelspec": {
   "display_name": "Python 3",
   "language": "python",
   "name": "python3"
  },
  "language_info": {
   "codemirror_mode": {
    "name": "ipython",
    "version": 3
   },
   "file_extension": ".py",
   "mimetype": "text/x-python",
   "name": "python",
   "nbconvert_exporter": "python",
   "pygments_lexer": "ipython3",
   "version": "3.11.6"
  }
 },
 "nbformat": 4,
 "nbformat_minor": 1
}
