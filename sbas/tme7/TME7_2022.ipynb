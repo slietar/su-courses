{
 "cells": [
  {
   "cell_type": "markdown",
   "metadata": {
    "id": "aLNONidXu4mV"
   },
   "source": [
    "<h1><b>Statistique en Bioinformatique : </b> TME8 </h1>\n",
    "<br>\n",
    "L’objectif de ce TME est: \n",
    "<br>\n",
    "<ul>\n",
    "<li> Construire un modèle d'une famille proteique avec HMM profil. Ce modèle facilite la reconnaissance des membres de la famille, en particulier les protéines les plus distantes (point de vue évolutif). </li> \n",
    "</ul>\n",
    "<br>\n",
    "<div class=\"alert alert-warning\" role=\"alert\" style=\"margin: 10px\">\n",
    "<p><b>Soumission</b></p>\n",
    "<ul>\n",
    "<li>Renomer le fichier TME7.ipynb pour NomEtudiant1_NomEtudiant2.ipynb </li>\n",
    "<li>Soumettre via moodle </li>\n",
    "</div>\n",
    "</div>\n"
   ]
  },
  {
   "cell_type": "markdown",
   "metadata": {
    "id": "l-l24NAzu4mY"
   },
   "source": [
    "Nom etudiant 1 :\n",
    "<br>\n",
    "Nom etudiant 2 :\n",
    "<br>"
   ]
  },
  {
   "cell_type": "markdown",
   "metadata": {
    "id": "YM6uvdqFu4mY"
   },
   "source": [
    "---\n",
    "<h3> Preparation => Installer HMMer 2.3.2 </h3>\n",
    "\n",
    "---\n",
    "\n",
    "Nous allons travailler avec deux versions du logiciel HMMer: 2.3.2 et 3. Installez les deux versions dans deux répertoires différents. Tout d'abord, nous allons considérer la version 2.3.2<br><br>\n",
    "\n",
    "<h4>1- Installer la version 2.3.2</h4><br>\n",
    "Télécharger HMMer <a href=\"http://eddylab.org/software/hmmer/2.3/hmmer-2.3.tar.gz\">version 2.3.2</a> <br>\n",
    "Lisez les instructions et installez-le dans votre espace personnel. <br><br>\n",
    "\n",
    "<font face=\"monospace\">tar -xzf hmmer-2.3.tar.gz</font><br>\n",
    "<font face=\"monospace\">cd hmmer-2.3</font><br>\n",
    "<font face=\"monospace\">./configure --prefix=/home/yourUser/yourDirectory/hmmer-2.3</font><br>\n",
    "<font face=\"monospace\">make</font><br>\n",
    "\n",
    "<font color=\"red\"> Remplacez yourUser/yourDirectory par vos coordonnées personnels.</font>\n",
    "\n",
    "<h4>2 - Dans le terminal modifier le fichier .bashrc</h4> \n",
    "\n",
    "<font face=\"monospace\">cd \\$HOME </font><br>\n",
    "<font face=\"monospace\">gedit .bashrc </font><br>\n",
    "Ajouter la ligne suivante à votre fichier <font face=\"monospace\">.bashrc</font><br>\n",
    "<font face=\"monospace\">export PATH=/home/yourUser/yourDirectory/hmmer-2.3/src:${PATH}</font><br>\n",
    "\n",
    "<font color=\"red\"> Remplacez <font face=\"monospace\">yourUser/yourDirectory</font> par votre coordonnée personnelle.</font><br>\n",
    "Sauvergardez le fichier et taper dans le terminal <br>\n",
    "\n",
    "<font face=\"monospace\">cd $HOME</font><br>\n",
    "<font face=\"monospace\">source .bashrc </font><br>\n",
    "\n",
    "\n"
   ]
  },
  {
   "cell_type": "markdown",
   "metadata": {
    "id": "zK6Mo1Zvu4ma"
   },
   "source": [
    "<b>Exercice 1 </b>: <u>Zinc finger Pfam domain</u> <br>\n",
    "<b>1.1</b>: Construire le modèle HMMer pour le domaine Pfam Zinc finger, numéro d'accès PF00096. Pour cela, téléchargez l'alignement seed au format Stockholm depuis le site web de <a href=\"http://pfam.xfam.org/family/PF00096#tabview=tab3\">Pfam</a>. Construire le modèle HMMer avec les paramètres par défaut, enregistrer avec le nom PF00096.hmm"
   ]
  },
  {
   "cell_type": "markdown",
   "metadata": {
    "id": "-sl1IdsAu4mb"
   },
   "source": [
    "<b>1.2</b>: Utilisez le programme HMMeditor pour visualiser le modele PF00096.hmm et répondre aux questions.<br>\n",
    "<b>a)</b>: Combien d'états Match observez-vous?"
   ]
  },
  {
   "cell_type": "markdown",
   "metadata": {
    "id": "ZZFXpCDqu4mb"
   },
   "source": [
    "Reponse:\n",
    "<font color=\"blue\">\n",
    "On observe 26 états Match.\n",
    "</font>"
   ]
  },
  {
   "cell_type": "markdown",
   "metadata": {
    "id": "yaw2lyjju4mb"
   },
   "source": [
    "<b>b)</b>: Pourquoi les états M3, M8, M12, M18, M21 et M26 ont une bordure en gras?"
   ]
  },
  {
   "cell_type": "markdown",
   "metadata": {
    "id": "j9uO9NlPu4mc"
   },
   "source": [
    "Reponse:\n",
    "<font color=\"blue\">\n",
    "Ils ont une bordure en gras parce qu'ils ont plus de 50 % de représentation pour un acide aminé donné.\n",
    "</font>\n",
    "\n",
    "\n"
   ]
  },
  {
   "cell_type": "markdown",
   "metadata": {
    "id": "r7zvcpICu4md"
   },
   "source": [
    "<b>c)</b>: Quelle est la probabilité de transition M5-> I5? "
   ]
  },
  {
   "cell_type": "markdown",
   "metadata": {
    "id": "yCIP2gsdu4me"
   },
   "source": [
    "Reponse:\n",
    "<font color=\"blue\">\n",
    "Elle est de 4 %.\n",
    "</font>"
   ]
  },
  {
   "cell_type": "markdown",
   "metadata": {
    "id": "tSQDkNTEu4me"
   },
   "source": [
    "<b>d)</b>: Quel est l'acide aminé le plus fréquent dans l'état I5?\n",
    "\n"
   ]
  },
  {
   "cell_type": "markdown",
   "metadata": {
    "id": "qpUrOJBPu4mf"
   },
   "source": [
    "Reponse: \n",
    "<font color=\"blue\">\n",
    "C'est la sérine.\n",
    "</font>"
   ]
  },
  {
   "cell_type": "markdown",
   "metadata": {
    "id": "1ETNrrkLu4mf"
   },
   "source": [
    "<b>1.3</b>: Télécharger la séquence X6NX52 à <a href=\"http://www.uniprot.org/uniprot/X6NX52\">Uniprot</a>. Utilisez le programme <font face=\"monospace\">hmmsearch</font> pour localiser les domaines  Zinc finger dans la séquence X6NX52. Combien de domaines obtenez-vous? Comparez vos résultats avec les résultats de  <a href=\"http://pfam.xfam.org/protein/X6NX52_RETFI\">Pfam</a>. Avez-vous trouvé les mêmes domaines dans les mêmes positions? Expliquez votre réponse."
   ]
  },
  {
   "cell_type": "markdown",
   "metadata": {
    "id": "XqKP1I6Fu4mg"
   },
   "source": [
    "Reponse: \n",
    "<font color=\"blue\">\n",
    "On obtient cinq domaines dont quatre ont des positions relativement semblables à la base de données, et un avec un domaine incorrect.\n",
    "</font>"
   ]
  },
  {
   "cell_type": "markdown",
   "metadata": {
    "id": "ZkYeNgB_u4mg"
   },
   "source": [
    "<b>1.4</b>: Enregistrer la séquence du premier domaine, positions 74-97, dans un format fasta avec le nom de fichier dom1.fasta, supprimer les gaps de la séquence avant de l'enregistrer. Chargez le fichier dom1.fasta dans le programme HMMeditor et cliquez sur \"Align Path\". Qu'observez-vous? "
   ]
  },
  {
   "cell_type": "markdown",
   "metadata": {
    "id": "QeteLoAKu4mh"
   },
   "source": [
    "Reponse: \n",
    "<font color=\"blue\">\n",
    "HMMeditor a retrouvé les deux gaps en positions 5 et 6 qu'on avait supprimés.\n",
    "</font>\n"
   ]
  },
  {
   "cell_type": "markdown",
   "metadata": {
    "id": "I1KHtPi0u4mi"
   },
   "source": [
    "<b>1.5</b>: Modifiez le fichier dom1.fasta et ajouter le mot RWV après le mot TFR. Rechargez le fichier dans le programme HMMeditor et clique sur \"Align Path\". Qu'observez vous?"
   ]
  },
  {
   "cell_type": "markdown",
   "metadata": {
    "id": "V6VrEgKxu4mj"
   },
   "source": [
    "Reponse:<font color=\"blue\">\n",
    "Le logiciel a ajouté trois insertions entre les matchs 15 et 16.\n",
    "</font>\n"
   ]
  },
  {
   "cell_type": "markdown",
   "metadata": {
    "id": "5XTAXu6mu4mj"
   },
   "source": [
    "---\n",
    "<h3> Preparation => Installer HMMer 3 </h3>\n",
    "\n",
    "---\n",
    "\n",
    "Télécharger HMMer <a href=\"http://eddylab.org/software/hmmer3/3.1b2/hmmer-3.1b2.tar.gz\">version 3</a> <br>\n",
    "Lisez les instructions et installez-le dans votre espace personnel. <br>\n",
    "\n",
    "<font face=\"monospace\">tar -xzf hmmer-3.1b2.tar.gz</font><br>\n",
    "<font face=\"monospace\">cd hmmer-3.1b2</font><br>\n",
    "<font face=\"monospace\">./configure --prefix=/home/yourUser/yourDirectory/hmmer-3.1b2</font><br>\n",
    "<font face=\"monospace\">make</font><br>\n",
    "\n",
    "<font color=\"red\"> Remplacer yourUser/yourDirectory avec votre donnée personnelle.</font>\n",
    "\n",
    "<h4>-Dans le terminal modifier le fichier .bashrc</h4>\n",
    "\n",
    "<font face=\"monospace\">cd \\$HOME </font><br>\n",
    "<font face=\"monospace\">gedit .bashrc </font><br>\n",
    "Mettre en commentaire le export de hmmer-2.3 (utiliser # au début de la ligne) et ajouter la ligne suivante à votre fichier .bashrc<br>\n",
    "<font face=\"monospace\">export PATH=$PATH:/home/yourUser/yourDirectory/hmmer-3.1b2/src;</font>\n",
    "<font color=\"red\"> Remplacer yourUser/yourDirectory avec votre donnée personnelle.</font>\n",
    "Sauvegarder le fichier .bashrc et dans le terminal taper<br>\n",
    "<font face=\"monospace\">source .bashrc </font><br>"
   ]
  },
  {
   "cell_type": "markdown",
   "metadata": {
    "id": "gIm0giimu4mj"
   },
   "source": [
    "<b>Exercice 2 </b>: <u>Ubiquitin domain Pfam domain</u> <br>\n",
    "<b>2.1</b>: Construire le modèle HMMer pour le domaine Ubiquitin Pfam, accession number PF00240. Pour cela, téléchargez l'alignement seed au format Stockholm depuis le site web de  <a href=\"http://pfam.xfam.org/family/PF00240#tabview=tab3\">Pfam</a>. Construire le modèle hmmer avec les paramètres par défaut, enregistrer sous le nom PF00240.hmm. Combien d'états Match observez-vous?\n"
   ]
  },
  {
   "cell_type": "markdown",
   "metadata": {
    "id": "BTctd4qUu4mk"
   },
   "source": [
    "Reponse: \n",
    "\n",
    "<font color=\"blue\">\n",
    "On observe 72 états match.\n",
    "</font>\n"
   ]
  },
  {
   "cell_type": "markdown",
   "metadata": {
    "id": "OFKOH34au4mk"
   },
   "source": [
    "<b>2.2</b>:\n",
    "Téléchargez toutes les séquences avec le domaine ubiquitin du site Pfam. Clique sur l'alignement, sur Format an alignment, sélectionnez Full, Format FASTA,  Gaps : No gaps unaligned. Enregistrez le fichier sous le nom PF00240_full.fasta. Combien de séquences observez-vous dans le fichier PF00240_full.fasta?"
   ]
  },
  {
   "cell_type": "code",
   "execution_count": 41,
   "metadata": {
    "id": "Pcdod2-wu4ml"
   },
   "outputs": [
    {
     "name": "stdout",
     "output_type": "stream",
     "text": [
      "21402\n"
     ]
    }
   ],
   "source": [
    "#Read the fasta file\n",
    "def read_fasta (input_f):\n",
    "    \"\"\"\n",
    "    Read a fasta file\n",
    "    input1 input_f: fasta file name\n",
    "    output1 arr_seqs: a two dimension array containing SeqID and amino acide sequence\n",
    "    \"\"\"\n",
    "\n",
    "    sequences = dict[str, str]()\n",
    "    current_seq_name: None | str = None\n",
    "\n",
    "    with open(input_f) as file:\n",
    "        for raw_line in file:\n",
    "            line = raw_line.strip()\n",
    "\n",
    "            if line.startswith('>'):\n",
    "                current_seq_name = line[1:].strip()\n",
    "                sequences[current_seq_name] = ''\n",
    "            elif line:\n",
    "                assert current_seq_name is not None\n",
    "                sequences[current_seq_name] += line.upper()\n",
    "\n",
    "    return list(sequences.keys()), list(sequences.values())\n",
    "\n",
    "input_PF00240_full = 'PF00240_full.fasta'\n",
    "sequences_PF00240_full, names_PF00240_full = read_fasta (input_PF00240_full)\n",
    "\n",
    "print(len(sequences_PF00240_full))"
   ]
  },
  {
   "cell_type": "markdown",
   "metadata": {
    "id": "poZl4kXEu4mm"
   },
   "source": [
    "Reponse: <font color=\"blue\">\n",
    "On observe 70 968 séquences.\n",
    "</font>"
   ]
  },
  {
   "cell_type": "markdown",
   "metadata": {
    "id": "-IZk_GPeu4mm"
   },
   "source": [
    "<b>2.3</b>:\n",
    "Utilisez hmmsearch (default parameters) pour détecter les domaines ubiquitin dans le fichier PF00240_full.fasta. Utilisez l'option --domtblout pour enregistrer un fichier tabulaire, donnez le nom PF00240.domtb, répondre aux questions suivantes:"
   ]
  },
  {
   "cell_type": "code",
   "execution_count": 42,
   "metadata": {
    "id": "TRh42fFWu4mn"
   },
   "outputs": [
    {
     "name": "stdout",
     "output_type": "stream",
     "text": [
      "                      accession tlen query name accession.1  qlen       E-value  score  bias  #   of      c-Evalue      i-Evalue  score.1  bias.1  from  to  from.1  to.1 from.2       to.2  acc description of target\n",
      "target name                                                                                                                                                                                                           \n",
      "R0KPY3_NOSB1/3-74             -    72 ubiquitin  PF00240.27  72.0  1.600000e-34  117.7   0.4  1  1.0  1.700000e-34  1.700000e-34    117.6     0.4     1  72       1    72      1  72 0.99 -                        NaN\n",
      "A0A177EM08_9MICR/3-74         -    72 ubiquitin  PF00240.27  72.0  2.500000e-34  117.1   0.4  1  1.0  2.700000e-34  2.700000e-34    117.0     0.4     1  72       1    72      1  72 0.99 -                        NaN\n",
      "A0A177ENR6_9MICR/3-74         -    72 ubiquitin  PF00240.27  72.0  2.500000e-34  117.1   0.4  1  1.0  2.700000e-34  2.700000e-34    117.0     0.4     1  72       1    72      1  72 0.99 -                        NaN\n",
      "I3EEF6_NEMP3/3-74             -    72 ubiquitin  PF00240.27  72.0  2.500000e-34  117.1   0.4  1  1.0  2.700000e-34  2.700000e-34    117.0     0.4     1  72       1    72      1  72 0.99 -                        NaN\n",
      "I3EJN2_NEMP3/3-74             -    72 ubiquitin  PF00240.27  72.0  2.500000e-34  117.1   0.4  1  1.0  2.700000e-34  2.700000e-34    117.0     0.4     1  72       1    72      1  72 0.99 -                        NaN\n"
     ]
    }
   ],
   "source": [
    "#Read the domtblout file\n",
    "from io import StringIO\n",
    "import pandas as pd\n",
    "\n",
    "pd.set_option('display.max_columns', 500)\n",
    "pd.set_option('display.width', 1000)\n",
    "\n",
    "\n",
    "def read_domtblout(input_f):\n",
    "    \"\"\"\n",
    "    load the results of domtblout file\n",
    "    input1 input_f: domtblout file name\n",
    "    output hits: a matrix containg hit information\n",
    "    \"\"\"\n",
    "\n",
    "    with open(input_f) as file:\n",
    "        file.readline()\n",
    "        file.read(2)\n",
    "\n",
    "        lines = [line for line in file.read().splitlines(keepends=True) if line[0] != '#']\n",
    "        return pd.read_csv(StringIO(''.join(lines)), delimiter=' {2,}', engine='python', index_col='target name')\n",
    "\n",
    "# hmmsearch --domtblout PF00240.domtb PF00240.hmm PF00240_full.fasta\n",
    "\n",
    "input_domtblout = 'PF00240.domtb'\n",
    "hits_PF00240 = read_domtblout(input_domtblout)\n",
    "print(hits_PF00240.head())\n",
    "# print(len(hits_PF00240))\n",
    "#['R0KPY3_NOSB1/3-74', '-', '72', 'PF00240', '-', '72', '5.2e-36', '122.4', '0.5', '1', '1', '5.7e-36', '5.7e-36', '122.3', '0.5', '1', '72', '1', '72', '1', '72', '0.99', '-\\n']"
   ]
  },
  {
   "cell_type": "markdown",
   "metadata": {
    "id": "qq4-WmIRu4mn"
   },
   "source": [
    "<b>a)</b>: Combien de domaines observez-vous dans le fichier PF00240.domtb? Comparez le nombre de domaines détectés avec le nombre attendu (question 2.2)"
   ]
  },
  {
   "cell_type": "code",
   "execution_count": 43,
   "metadata": {
    "id": "MOkYjsEou4mn"
   },
   "outputs": [
    {
     "data": {
      "text/plain": [
       "21450"
      ]
     },
     "execution_count": 43,
     "metadata": {},
     "output_type": "execute_result"
    }
   ],
   "source": [
    "len(hits_PF00240)"
   ]
  },
  {
   "cell_type": "markdown",
   "metadata": {
    "id": "coY9m7Y0u4mn"
   },
   "source": [
    "Reponse: \n",
    "<font color=\"blue\">\n",
    "\n",
    "</font>"
   ]
  },
  {
   "cell_type": "markdown",
   "metadata": {
    "id": "gMMWiN5ju4mo"
   },
   "source": [
    "<b>b)</b>: Quelle est le c-evaleus et les scores du meilleur et du pire hit?"
   ]
  },
  {
   "cell_type": "code",
   "execution_count": 47,
   "metadata": {
    "id": "LbGSj-Imu4mo"
   },
   "outputs": [
    {
     "name": "stdout",
     "output_type": "stream",
     "text": [
      "c-Evalue\n",
      "max 6.5\n",
      "min 1.7e-34\n",
      "\n",
      "full sequence score\n",
      "max 117.7\n",
      "min 0.0\n"
     ]
    }
   ],
   "source": [
    "print('c-Evalue')\n",
    "print('max', hits_PF00240['c-Evalue'].max())\n",
    "print('min', hits_PF00240['c-Evalue'].min())\n",
    "\n",
    "print('\\nfull sequence score')\n",
    "print('max', hits_PF00240['score'].max())\n",
    "print('min', hits_PF00240['score'].min())"
   ]
  },
  {
   "cell_type": "markdown",
   "metadata": {
    "id": "pAAWZzqOu4mo"
   },
   "source": [
    "Reponse:\n",
    "<font color=\"blue\">\n",
    "\n",
    "</font>"
   ]
  },
  {
   "cell_type": "markdown",
   "metadata": {
    "id": "iGu_Jub_u4mp"
   },
   "source": [
    "<b>c)</b>: Exécutez à nouveau hmmsearch et définissez le domain e-value à 1e-5. Combien de domaines observez-vous? Comparez le nombre de domaines détectés avec l'attendu (question 2.2) et obtenu dans la question a. Justifiez votre réponse."
   ]
  },
  {
   "cell_type": "code",
   "execution_count": 48,
   "metadata": {
    "id": "mo9j41fuu4mp"
   },
   "outputs": [
    {
     "data": {
      "text/plain": [
       "21202"
      ]
     },
     "execution_count": 48,
     "metadata": {},
     "output_type": "execute_result"
    }
   ],
   "source": [
    "# hmmsearch --domtblout PF00240b.domtb --domE 1e-5 PF00240.hmm PF00240_full.fasta\n",
    "len(read_domtblout('PF00240b.domtb'))"
   ]
  },
  {
   "cell_type": "markdown",
   "metadata": {
    "id": "y0knOGJru4mp"
   },
   "source": [
    "Reponse:\n",
    "<font color=\"blue\">\n",
    "\n",
    "<font>\n"
   ]
  },
  {
   "cell_type": "markdown",
   "metadata": {
    "id": "ZQ0XEFhfu4mq"
   },
   "source": [
    "<b>d)</b>:\n",
    "Téléchargez le modèle hmm pour le domaine ubiquitin depuis le site de Pfam. Clique sur \"Curation & model\" et sur \"download the raw HMM for this family\". Exécutez à nouveau hmmsearch avec l'option --cut_ga. Comparez le nombre de domaines détectés avec les questions précédentes. Qu'est-ce que cut_ga fait?"
   ]
  },
  {
   "cell_type": "code",
   "execution_count": 49,
   "metadata": {
    "id": "tJKkpKfXu4mq"
   },
   "outputs": [
    {
     "data": {
      "text/plain": [
       "21316"
      ]
     },
     "execution_count": 49,
     "metadata": {},
     "output_type": "execute_result"
    }
   ],
   "source": [
    "# hmmsearch --domtblout PF00240_pfam.domtb --cut_ga PF00240_pfam.hmm PF00240_full.fasta\n",
    "len(read_domtblout('PF00240_pfam.domtb'))"
   ]
  },
  {
   "cell_type": "markdown",
   "metadata": {
    "id": "owZ8vyXAu4mq"
   },
   "source": [
    "Reponse: \n",
    "<font color=\"blue\">\n",
    "\n",
    "<font>"
   ]
  },
  {
   "cell_type": "markdown",
   "metadata": {
    "id": "2NuPAzasu4mr"
   },
   "source": [
    "<b>Exercice 3 </b>: <u>Cooccurrence de domaines</u> <br>\n",
    "Le domaine Ribosomal_S27 (PF01599) est très suivant trouvé avec le domaine de l'ubiquitine?  Allez sur le site Pfam, recherchez le domaine PF01599 et cliquez sur \"Domain Organisation\" recherchez le domaine ubiquitin dans la liste des architectures de domaine. Répondre aux question suivantes:<br>\n",
    "<b>3.1</b>:\n",
    "Si ces domaines coexistent, dans combien de séquences cette architecture de domaines est-elle observée? "
   ]
  },
  {
   "cell_type": "code",
   "execution_count": 56,
   "metadata": {},
   "outputs": [
    {
     "data": {
      "text/plain": [
       "3971"
      ]
     },
     "execution_count": 56,
     "metadata": {},
     "output_type": "execute_result"
    }
   ],
   "source": [
    "import json\n",
    "\n",
    "data = json.load(open('PF00240_PF01599.json'))\n",
    "\n",
    "sum(arch['unique_proteins'] for arch in data if any(domain['accession'] == 'PF00240' for domain in arch['representative']['domains']))"
   ]
  },
  {
   "cell_type": "markdown",
   "metadata": {
    "id": "VrVyb9onu4mr"
   },
   "source": [
    "Reponse:\n",
    "<font color=\"blue\">\n",
    "Il y a 3971 domaines avec Ribosomal_S27 et l'ubiquitine.\n",
    "<font>"
   ]
  },
  {
   "cell_type": "markdown",
   "metadata": {
    "id": "GYsm0oYRu4ms"
   },
   "source": [
    "<b>3.2</b>: Vérifions si la séquence W4GKD7 décrite comme protéine ribosomale S27a de l'Ubiquitine-40S a l'architecture du domaine: ubiquitine, Ribosomal_S27. <br>\n",
    "- Téléchargez la séquence de W4GKD7 de <a href=\"http://www.uniprot.org/uniprot/W4GKD7\">Uniprot</a>  et téléchargez le modèle Ribosomal_S27 hmmer à partir du site Web Pfam.\n",
    "- Concattez les modèles ubiquitin.hmm et Ribosomal_S27.hmm, enregistrez le fichier sous Ribosomal_S27_ubiquitin.hmm.\n",
    "- Exécutez hmmsearch avec l'option --cut_ga pour rechercher des domaines dans W4GKD7, utilisez le modèle de fichier Ribosomal_S27_ubiquitin.hmm. Enregistrez la sortie au format tabulaire, utilisez l'option --domtblout pour enregistrer un fichier tabulaire, nommé W4GKD7.domtb\n",
    "- Analyser le fichier W4GKD7.domtb, avez-vous détecté les domaines Ribosomal_S27 et ubiquitin? Quels sont les scores et les e-values?"
   ]
  },
  {
   "cell_type": "code",
   "execution_count": null,
   "metadata": {},
   "outputs": [],
   "source": [
    "# cat PF01599.hmm PF00240_pfam.hmm > PF00240_PF01599.hmm\n",
    "# hmmsearch --domtblout W4GKD7.domtb PF01599.hmm W4GKD7.fasta"
   ]
  },
  {
   "cell_type": "markdown",
   "metadata": {
    "id": "iweuKqJlu4ms"
   },
   "source": [
    "Reponse:\n",
    "<font color=\"blue\">\n",
    "oui\n",
    "<font>\n"
   ]
  },
  {
   "cell_type": "markdown",
   "metadata": {
    "id": "M5bM2uq6u4ms"
   },
   "source": [
    "<b>3.3</b>: Visualisez l'architecture du domaine pour la protéine W4GKD7 en utilisant le programme  <a href=\"http://prosite.expasy.org/cgi-bin/prosite/mydomains/\">myDomains</a>; Remplissez la longueur de la protéine et les données de domaine. Vous pouvez trouver toutes les informations dans le fichier W4GKD7.domtb, choisir la forme et la couleur que vous préférez, inclure l'image dans votre reponse."
   ]
  },
  {
   "cell_type": "markdown",
   "metadata": {
    "id": "FLAeHDpCu4ms"
   },
   "source": [
    "Reponse:\n"
   ]
  },
  {
   "cell_type": "markdown",
   "metadata": {
    "id": "2fF49WTMu4ms"
   },
   "source": [
    "<b>Exercice 4 </b>: <u>Domaines du même clan</u><br>\n",
    "Les familles de Pfam ayant des fonctions similaires sont suivant orgnisés dans un clan, c'est le cas des familles ubiquitin et ubiquitin_2 placé dans le clan CL0072.<br>\n",
    "<b>4.1</b>: Combien de membre exists dans le clans CL0072?"
   ]
  },
  {
   "cell_type": "markdown",
   "metadata": {
    "id": "r4aIFY9xu4ms"
   },
   "source": [
    "Reponse:<font color=\"blue\">\n",
    "\n",
    "<font>"
   ]
  },
  {
   "cell_type": "markdown",
   "metadata": {
    "id": "Skp5zOaUu4ms"
   },
   "source": [
    "<b>4.2</b>: Téléchargez le modèle hmm pour le domaine ubiquitin_2 depuis le site de Pfam. Clique sur \"Curation & model\" et sur \"download the raw HMM for this family\". Concatenez les modeles ubiquitin.hmm et ubiquitin_2.hmm and executez hmmsearch avec --cut_ga sur les sequences du fichier Uniprot_ubiquitin.fasta, utilizez l'option --domtblout pour enregistrer un fichier tabulaire. Repondrez aux questions:\n"
   ]
  },
  {
   "cell_type": "markdown",
   "metadata": {
    "id": "5YGoZnPRu4ms"
   },
   "source": [
    "<b>a)</b>: Combien de sequences ont plus qu'un hit?"
   ]
  },
  {
   "cell_type": "markdown",
   "metadata": {
    "collapsed": true,
    "id": "5ssugoCFu4mt"
   },
   "source": [
    "Reponse: <font color=\"blue\"> \n",
    "\n",
    "<font>"
   ]
  },
  {
   "cell_type": "markdown",
   "metadata": {
    "id": "IGx0cwmAu4mt"
   },
   "source": [
    "<b>b)</b>: Faite une fonction pour filtrer les meilleurs hits de protéines membre de ubiquitin à partir d'un fichier domtb. \n",
    "Si une séquence a plus qu'un hit dans de positions chevauchantes vous devez choisir le hit avec le meilleur c-evalue. \n",
    "Le début et fin de chaque hit se trouve dans les colonnes 20 et 21 du fichier de sortie de hmmsearch."
   ]
  },
  {
   "cell_type": "code",
   "execution_count": 10,
   "metadata": {
    "id": "b2RdrPsOu4mu"
   },
   "outputs": [
    {
     "ename": "FileNotFoundError",
     "evalue": "[Errno 2] No such file or directory: 'Uniprot_ubiquitin.domtb'",
     "output_type": "error",
     "traceback": [
      "\u001b[0;31m---------------------------------------------------------------------------\u001b[0m",
      "\u001b[0;31mFileNotFoundError\u001b[0m                         Traceback (most recent call last)",
      "Cell \u001b[0;32mIn[10], line 16\u001b[0m\n\u001b[1;32m     14\u001b[0m sequences,seq_names \u001b[38;5;241m=\u001b[39m read_fasta (input_fasta)\n\u001b[1;32m     15\u001b[0m input_domtblout \u001b[38;5;241m=\u001b[39m \u001b[38;5;124m'\u001b[39m\u001b[38;5;124mUniprot_ubiquitin.domtb\u001b[39m\u001b[38;5;124m'\u001b[39m\n\u001b[0;32m---> 16\u001b[0m hits_ubiquitin \u001b[38;5;241m=\u001b[39m \u001b[43mread_domtblout\u001b[49m\u001b[43m(\u001b[49m\u001b[43minput_domtblout\u001b[49m\u001b[43m)\u001b[49m\n\u001b[1;32m     17\u001b[0m eValue_thresh \u001b[38;5;241m=\u001b[39m \u001b[38;5;241m8e-100\u001b[39m\n\u001b[1;32m     18\u001b[0m overlap_thresh \u001b[38;5;241m=\u001b[39m \u001b[38;5;241m10\u001b[39m\n",
      "Cell \u001b[0;32mIn[5], line 15\u001b[0m, in \u001b[0;36mread_domtblout\u001b[0;34m(input_f)\u001b[0m\n\u001b[1;32m      8\u001b[0m \u001b[38;5;28;01mdef\u001b[39;00m \u001b[38;5;21mread_domtblout\u001b[39m(input_f):\n\u001b[1;32m      9\u001b[0m \u001b[38;5;250m    \u001b[39m\u001b[38;5;124;03m\"\"\"\u001b[39;00m\n\u001b[1;32m     10\u001b[0m \u001b[38;5;124;03m    load the results of domtblout file\u001b[39;00m\n\u001b[1;32m     11\u001b[0m \u001b[38;5;124;03m    input1 input_f: domtblout file name\u001b[39;00m\n\u001b[1;32m     12\u001b[0m \u001b[38;5;124;03m    output hits: a matrix containg hit information\u001b[39;00m\n\u001b[1;32m     13\u001b[0m \u001b[38;5;124;03m    \"\"\"\u001b[39;00m\n\u001b[0;32m---> 15\u001b[0m     \u001b[38;5;28;01mwith\u001b[39;00m \u001b[38;5;28;43mopen\u001b[39;49m\u001b[43m(\u001b[49m\u001b[43minput_f\u001b[49m\u001b[43m,\u001b[49m\u001b[43m \u001b[49m\u001b[38;5;124;43m'\u001b[39;49m\u001b[38;5;124;43mr\u001b[39;49m\u001b[38;5;124;43m'\u001b[39;49m\u001b[43m)\u001b[49m \u001b[38;5;28;01mas\u001b[39;00m file:\n\u001b[1;32m     16\u001b[0m         file\u001b[38;5;241m.\u001b[39mreadline()\n\u001b[1;32m     17\u001b[0m         file\u001b[38;5;241m.\u001b[39mread(\u001b[38;5;241m2\u001b[39m)\n",
      "File \u001b[0;32m~/Library/Python/3.11/lib/python/site-packages/IPython/core/interactiveshell.py:284\u001b[0m, in \u001b[0;36m_modified_open\u001b[0;34m(file, *args, **kwargs)\u001b[0m\n\u001b[1;32m    277\u001b[0m \u001b[38;5;28;01mif\u001b[39;00m file \u001b[38;5;129;01min\u001b[39;00m {\u001b[38;5;241m0\u001b[39m, \u001b[38;5;241m1\u001b[39m, \u001b[38;5;241m2\u001b[39m}:\n\u001b[1;32m    278\u001b[0m     \u001b[38;5;28;01mraise\u001b[39;00m \u001b[38;5;167;01mValueError\u001b[39;00m(\n\u001b[1;32m    279\u001b[0m         \u001b[38;5;124mf\u001b[39m\u001b[38;5;124m\"\u001b[39m\u001b[38;5;124mIPython won\u001b[39m\u001b[38;5;124m'\u001b[39m\u001b[38;5;124mt let you open fd=\u001b[39m\u001b[38;5;132;01m{\u001b[39;00mfile\u001b[38;5;132;01m}\u001b[39;00m\u001b[38;5;124m by default \u001b[39m\u001b[38;5;124m\"\u001b[39m\n\u001b[1;32m    280\u001b[0m         \u001b[38;5;124m\"\u001b[39m\u001b[38;5;124mas it is likely to crash IPython. If you know what you are doing, \u001b[39m\u001b[38;5;124m\"\u001b[39m\n\u001b[1;32m    281\u001b[0m         \u001b[38;5;124m\"\u001b[39m\u001b[38;5;124myou can use builtins\u001b[39m\u001b[38;5;124m'\u001b[39m\u001b[38;5;124m open.\u001b[39m\u001b[38;5;124m\"\u001b[39m\n\u001b[1;32m    282\u001b[0m     )\n\u001b[0;32m--> 284\u001b[0m \u001b[38;5;28;01mreturn\u001b[39;00m \u001b[43mio_open\u001b[49m\u001b[43m(\u001b[49m\u001b[43mfile\u001b[49m\u001b[43m,\u001b[49m\u001b[43m \u001b[49m\u001b[38;5;241;43m*\u001b[39;49m\u001b[43margs\u001b[49m\u001b[43m,\u001b[49m\u001b[43m \u001b[49m\u001b[38;5;241;43m*\u001b[39;49m\u001b[38;5;241;43m*\u001b[39;49m\u001b[43mkwargs\u001b[49m\u001b[43m)\u001b[49m\n",
      "\u001b[0;31mFileNotFoundError\u001b[0m: [Errno 2] No such file or directory: 'Uniprot_ubiquitin.domtb'"
     ]
    }
   ],
   "source": [
    "def best_hits(hits, eValue_thresh, overlap_thresh):\n",
    "    \"\"\"\n",
    "    Filtering the best hits\n",
    "    input1 hits: hit table (output of domtb file)\n",
    "    input2 eValue_thresh: E-value Threshold (default 1e-100)\n",
    "    input3 overlap_thresh: overlaping Threshold (default 10)\n",
    "    output1 meilleur_hits: filtered hit table\n",
    "    \"\"\"\n",
    "    meilleur_hits = []\n",
    "\n",
    "    return meilleur_hits\n",
    "\n",
    "input_fasta = 'Uniprot_ubiquitin.fasta'\n",
    "sequences,seq_names = read_fasta (input_fasta)\n",
    "input_domtblout = 'Uniprot_ubiquitin.domtb'\n",
    "hits_ubiquitin = read_domtblout(input_domtblout)\n",
    "eValue_thresh = 8e-100\n",
    "overlap_thresh = 10\n",
    "meilleur_hits = best_hits(hits_ubiquitin, eValue_thresh, overlap_thresh)\n"
   ]
  }
 ],
 "metadata": {
  "colab": {
   "collapsed_sections": [],
   "name": "TME8_corrige.ipynb",
   "provenance": []
  },
  "kernelspec": {
   "display_name": "Python 3",
   "language": "python",
   "name": "python3"
  },
  "language_info": {
   "codemirror_mode": {
    "name": "ipython",
    "version": 3
   },
   "file_extension": ".py",
   "mimetype": "text/x-python",
   "name": "python",
   "nbconvert_exporter": "python",
   "pygments_lexer": "ipython3",
   "version": "3.11.8"
  }
 },
 "nbformat": 4,
 "nbformat_minor": 1
}
