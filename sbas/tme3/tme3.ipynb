{
 "cells": [
  {
   "cell_type": "markdown",
   "metadata": {
    "id": "7Z01TTBN8dMn"
   },
   "source": [
    "<h1><b>Statistique en Bioinformatique : </b> TME3 </h1>\n",
    "<br>\n",
    "L’objectif de ce TME est: \n",
    "<br>\n",
    "<ul>\n",
    "<li> objectif 1: comprendre les principaux etaphes de BLAST et PSIBLAST, </li>\n",
    "<li> objectif 2: comprendre et comparer les algoritime de l'alignement progressive </li>\n",
    "</ul>\n",
    "<br>\n",
    "<div class=\"alert alert-warning\" role=\"alert\" style=\"margin: 10px\">\n",
    "<p><b>Soumission</b></p>\n",
    "<ul>\n",
    "<li>Renomer le fichier TME3.ipynb pour NomEtudiant1_NomEtudiant2.ipynb </li>\n",
    "<li>Soumettre sur moodle </li>\n",
    "</ul>\n",
    "</div>\n"
   ]
  },
  {
   "cell_type": "markdown",
   "metadata": {
    "id": "Ex2vcDtH8dMs"
   },
   "source": [
    "Nom etudiant 1 : Antoine Grislain\n",
    "<br>\n",
    "Nom etudiant 2 : Simon Liétar\n",
    "<br>"
   ]
  },
  {
   "cell_type": "markdown",
   "metadata": {
    "id": "tG0LfDfK8dMt"
   },
   "source": [
    "<h3>Section 1: BLAST</h3>\n",
    "\n",
    "<b> Exercice 1 </b>: À partir de l'application BLAST, disponible via le site de <a href=\"http://blast.ncbi.nlm.nih.gov/\">NCBI</a>, cliquez sur protein Blast. Faites un BLAST de la séquence fasta/seq1.fasta. Expliquez le résultat graphique, la couleur de chaque hit et expliquez le tableau de résultat qu'est-ce que c'est chaque colonne?\n",
    "<br>\n"
   ]
  },
  {
   "cell_type": "markdown",
   "metadata": {
    "id": "1BEcym0S8dMu"
   },
   "source": [
    "<font color=\"red\"> Réponse : </font>\n",
    "On retrouve sur le resultat graphique plusieurs hits qui font la taille de la sequence et de couleur rouge correspondant à 200 ou plus de score d'alignement.On observe aussi des séquences qui ont des hits roses au début et vert à la fin de la séquence. Les hits roses correspondent à un score d'alignement entre 80 et 200 et les verts à un score d'alignement entre 50 et 80.\n",
    "Dans le tableau on trouve des informations pour chaque reads. Ces informations sont la description du read, son nom scientifique, son score max, son score total, le pourcentage de couverture de la sequence query, la E-value, le pourcentage d'identite, la longueur et le nombre de l'accession"
   ]
  },
  {
   "cell_type": "markdown",
   "metadata": {
    "id": "gVzhpUTg8dMv"
   },
   "source": [
    "<b>Exercice 2</b>: On s'intéresse à présent au gène FHIT chez l'homme (fragile histidine triad protein, identifiant P49789, télécharger du site  <a href=\"http://www.uniprot.org/\"> Uniprot </a>). La protéine de ce gène est structurellement proche des galactose-1-phosphate uridylyltransferases. Faites un BLAST de ce gène contre la base SWISSPROT. Que constatez-vous?"
   ]
  },
  {
   "cell_type": "markdown",
   "metadata": {
    "id": "YKNazevu8dMw"
   },
   "source": [
    "<font color=\"red\"> Réponse : </font>\n",
    "On retrouve les FHIT de différents organismes avec de plutot bon scores mais on ne semble pas retrouver de galactose-1-phosphate uridylyltrans"
   ]
  },
  {
   "cell_type": "markdown",
   "metadata": {
    "id": "ifCzIqX48dMw"
   },
   "source": [
    "<b>Exercice 3</b>: Implémenter l'étape 0 du algorithme BLAST (indexer la base de données), utilise w=5 et les séquences du fichier database.fasta."
   ]
  },
  {
   "cell_type": "code",
   "execution_count": 1,
   "metadata": {
    "executionInfo": {
     "elapsed": 11,
     "status": "ok",
     "timestamp": 1644503390444,
     "user": {
      "displayName": "Juliana Bernardes",
      "photoUrl": "https://lh3.googleusercontent.com/a-/AOh14GjmXQB4bG0DHp8uDHafZCQn94Atlo0kH-t-DxF8-w=s64",
      "userId": "00263393379349185862"
     },
     "user_tz": -60
    },
    "id": "-Xi2cRky8dMy"
   },
   "outputs": [],
   "source": [
    "import numpy as np\n",
    "\n",
    "#variable initiation\n",
    "database = 'fasta/database.fasta'\n",
    "seqTestBlast = 'fasta/test.fasta'\n",
    "input_blosum_f = 'BLOSUM62.txt'\n",
    "aa = ['A', 'R', 'N', 'D', 'C', 'Q', 'E', 'G', 'H', 'I', 'L', 'K', 'M', 'F', 'P', 'S', 'T', 'W', 'Y', 'V', 'X']\n",
    "\n",
    "#parameters\n",
    "q = 21\n",
    "gap = -5\n",
    "word_length = 5\n",
    "\n",
    "\n",
    "#For a simple test use:\n",
    "databaseToy = 'fastaToy/databaseToy.fasta'\n",
    "seqTestBlastToy = 'fastaToy/testToy.fasta'\n",
    "wToy=3\n"
   ]
  },
  {
   "cell_type": "code",
   "execution_count": 2,
   "metadata": {
    "colab": {
     "base_uri": "https://localhost:8080/",
     "height": 359
    },
    "executionInfo": {
     "elapsed": 220,
     "status": "error",
     "timestamp": 1644503932503,
     "user": {
      "displayName": "Juliana Bernardes",
      "photoUrl": "https://lh3.googleusercontent.com/a-/AOh14GjmXQB4bG0DHp8uDHafZCQn94Atlo0kH-t-DxF8-w=s64",
      "userId": "00263393379349185862"
     },
     "user_tz": -60
    },
    "id": "9qPt-Keg8dM0",
    "outputId": "ef7c821c-d4f7-4659-c4d9-d1de4734783d"
   },
   "outputs": [
    {
     "name": "stdout",
     "output_type": "stream",
     "text": [
      "{'AGH': [('s1', 0)], 'GHR': [('s1', 1), ('s2', 2)], 'CGG': [('s2', 0), ('s3', 0)], 'GGH': [('s2', 1), ('s3', 1)], 'GHA': [('s3', 2)]}\n",
      "{'s1': 'AGHR', 's2': 'CGGHR', 's3': 'CGGHA'}\n"
     ]
    }
   ],
   "source": [
    "\n",
    "from typing import Optional\n",
    "\n",
    "\n",
    "def etape0(fileName: str, word_length: int):\n",
    "    \"\"\"\n",
    "    Database indexation\n",
    "    Input1 fileName: fasta file name\n",
    "    Input2 w:  word size\n",
    "    Output1 index: dictionary containing indexed words\n",
    "    Output2 dicoSeq: dictionary containing database entire sequences\n",
    "    \"\"\"\n",
    "\n",
    "    index_dict = dict[str, list[tuple[str, int]]]()\n",
    "    sequences = dict[str, str]()\n",
    "\n",
    "    current_seq_name: Optional[str] = None\n",
    "\n",
    "    with open(fileName) as file:\n",
    "        for raw_line in file:\n",
    "            line = raw_line.strip()\n",
    "\n",
    "            if line.startswith('>'):\n",
    "                current_seq_name = line[1:].strip()\n",
    "                sequences[current_seq_name] = ''\n",
    "            elif line:\n",
    "                assert current_seq_name is not None\n",
    "                sequences[current_seq_name] += line.upper()\n",
    "\n",
    "    for seq_name, seq_value in sequences.items():\n",
    "        for offset in range(len(seq_value) - word_length + 1):\n",
    "            word = seq_value[offset:(offset + word_length)]\n",
    "            index_dict.setdefault(word, []).append((seq_name, offset))\n",
    "\n",
    "    return index_dict, sequences\n",
    "\n",
    "indexToy, dicoSeqToy = etape0(databaseToy, wToy)\n",
    "print (indexToy)\n",
    "print (dicoSeqToy)\n",
    "#{'AGH': [('s1', 0)], 'CGG': [('s3', 0)], 'GGH': [('s2', 1)]}\n",
    "#{'s1': 'AGHR', 's2': 'CGGHR', 's3': 'CGGH'}"
   ]
  },
  {
   "cell_type": "markdown",
   "metadata": {
    "id": "SQu6QVwU8dM3"
   },
   "source": [
    "<b>Exercice 4</b>: Chercher la séquence query test.fasta dans la base indexé construite précédemment, entendez l'alignement pour avoir un alignement sans gap et de score > 12. Retournez les quatre meilleurs alignements.\n"
   ]
  },
  {
   "cell_type": "code",
   "execution_count": 3,
   "metadata": {
    "id": "rr51wl3B8dM3",
    "outputId": "4268e82d-7152-4b5f-cfb1-fed90a5a9912"
   },
   "outputs": [
    {
     "name": "stdout",
     "output_type": "stream",
     "text": [
      "[[ 4 -1 -2 -2  0 -1 -1  0 -2 -1 -1 -1 -1 -2 -1  1  0 -3 -2  0  0]\n",
      " [-1  5  0 -2 -3  1  0 -2  0 -3 -2  2 -1 -3 -2 -1 -1 -3 -2 -3 -1]\n",
      " [-2  0  6  1 -3  0  0  0  1 -3 -3  0 -2 -3 -2  1  0 -4 -2 -3 -1]\n",
      " [-2 -2  1  6 -3  0  2 -1 -1 -3 -4 -1 -3 -3 -1  0 -1 -4 -3 -3 -1]\n",
      " [ 0 -3 -3 -3  9 -3 -4 -3 -3 -1 -1 -3 -1 -2 -3 -1 -1 -2 -2 -1 -2]\n",
      " [-1  1  0  0 -3  5  2 -2  0 -3 -2  1  0 -3 -1  0 -1 -2 -1 -2 -1]\n",
      " [-1  0  0  2 -4  2  5 -2  0 -3 -3  1 -2 -3 -1  0 -1 -3 -2 -2 -1]\n",
      " [ 0 -2  0 -1 -3 -2 -2  6 -2 -4 -4 -2 -3 -3 -2  0 -2 -2 -3 -3 -1]\n",
      " [-2  0  1 -1 -3  0  0 -2  8 -3 -3 -1 -2 -1 -2 -1 -2 -2  2 -3 -1]\n",
      " [-1 -3 -3 -3 -1 -3 -3 -4 -3  4  2 -3  1  0 -3 -2 -1 -3 -1  3 -1]\n",
      " [-1 -2 -3 -4 -1 -2 -3 -4 -3  2  4 -2  2  0 -3 -2 -1 -2 -1  1 -1]\n",
      " [-1  2  0 -1 -3  1  1 -2 -1 -3 -2  5 -1 -3 -1  0 -1 -3 -2 -2 -1]\n",
      " [-1 -1 -2 -3 -1  0 -2 -3 -2  1  2 -1  5  0 -2 -1 -1 -1 -1  1 -1]\n",
      " [-2 -3 -3 -3 -2 -3 -3 -3 -1  0  0 -3  0  6 -4 -2 -2  1  3 -1 -1]\n",
      " [-1 -2 -2 -1 -3 -1 -1 -2 -2 -3 -3 -1 -2 -4  7 -1 -1 -4 -3 -2 -2]\n",
      " [ 1 -1  1  0 -1  0  0  0 -1 -2 -2  0 -1 -2 -1  4  1 -3 -2 -2  0]\n",
      " [ 0 -1  0 -1 -1 -1 -1 -2 -2 -1 -1 -1 -1 -2 -1  1  5 -2 -2  0  0]\n",
      " [-3 -3 -4 -4 -2 -2 -3 -2 -2 -3 -2 -3 -1  1 -4 -3 -2 11  2 -3 -2]\n",
      " [-2 -2 -2 -3 -2 -1 -2 -3  2 -1 -1 -2 -1  3 -3 -2 -2  2  7 -1 -1]\n",
      " [ 0 -3 -3 -3 -1 -2 -2 -3 -3  3  1 -2  1 -1 -2 -2  0 -3 -1  4 -1]\n",
      " [ 0 -1 -1 -1 -2 -1 -1 -1 -1 -1 -1 -1 -1 -1 -2  0  0 -2 -1 -1 -1]]\n"
     ]
    }
   ],
   "source": [
    "#read Blosum\n",
    "def readBlosum(nameFile: str):\n",
    "\t\"\"\"\n",
    "\tRead substitution matrix file\n",
    "\tInput1 fileName : blosum file name\n",
    "\tOutput1 Blosum: a dictionary containing BLOSUM matrix, key is a pair of amino acids (alphabetic order) and value is the substitution value.\n",
    "\tREMARK : You could eliminate the last four columns and last four rows of Blosum file\n",
    "\t\"\"\"\n",
    "\n",
    "\twith open(nameFile, 'r') as in_f:\n",
    "\t\tlines = in_f.read().replace('  ', ' ').splitlines()\n",
    "\t\tdata = [line[1:].strip() for line in lines[7:]]\n",
    "\t\talphabet = lines[6].strip().split(' ')\n",
    "\n",
    "\tindices = [alphabet.index(a) for a in aa]\n",
    "\tmatrix = np.loadtxt(data, dtype=int)\n",
    "\tmatrix = matrix[:, indices][indices, :]\n",
    "\n",
    "\tassert matrix.shape[0] == matrix.shape[1] == q\n",
    "\treturn matrix\n",
    "\n",
    "blosum = readBlosum(input_blosum_f)\n",
    "print(blosum)\n",
    "# print (blosum[\"AA\"])\n",
    "#4"
   ]
  },
  {
   "cell_type": "code",
   "execution_count": 4,
   "metadata": {
    "id": "m_0g7IwC8dM5",
    "outputId": "841de803-0930-4a35-f7de-8e2edd94c33c"
   },
   "outputs": [
    {
     "name": "stdout",
     "output_type": "stream",
     "text": [
      "(20, 4, ('CGGH', 'AGGH'))\n"
     ]
    }
   ],
   "source": [
    "def extendAln(pos1: int, pos2: int, sequence1: str, sequence2: str, blosum_matrix: np.ndarray, scoremotif: float, w: int, threshold_score: float):\n",
    "    \"\"\"\n",
    "    extend alignment left/right by keeping score above a threshold\n",
    "    Input1 pos1 : position in the first sequence (Subject)\n",
    "    Input2 pos2 : position in the second sequence (query)\n",
    "    Input3 sequence1 : first sequence (Subject)\n",
    "    Input4 sequence1 : second sequence (query)\n",
    "    Input5 matriceBlosum: a dictionary containing BLOSUM matrix\n",
    "    Input6 scoremotif: initial score\n",
    "    Input7 w: word size\n",
    "    Input8 ThrScore: threshold\n",
    "    Output 1 finalScore: final score\n",
    "    Output 2 algLength: alignment length\n",
    "    Output 3 alnSeqs: Tuple containing aligned sequences\n",
    "    \"\"\"\n",
    "\n",
    "    aa_inverse = { a: i for i, a in enumerate(aa) }\n",
    "    current_score = scoremotif\n",
    "\n",
    "    current_start1 = pos1\n",
    "    current_start2 = pos2\n",
    "    alignment_length = w\n",
    "\n",
    "    while True:\n",
    "        extend_left = (current_start1 > 0) and (current_start2 > 0)\n",
    "        extend_right = (current_start1 + alignment_length < len(sequence1) - 1) and (current_start2 + alignment_length < len(sequence2) - 1)\n",
    "\n",
    "        if (not extend_left) and (not extend_right):\n",
    "            break\n",
    "\n",
    "        if current_score < threshold_score:\n",
    "            break\n",
    "\n",
    "        if extend_left:\n",
    "            current_start1 -= 1\n",
    "            current_start2 -= 1\n",
    "\n",
    "            current_score += blosum_matrix[\n",
    "                aa_inverse[sequence1[current_start1]],\n",
    "                aa_inverse[sequence2[current_start2]]\n",
    "            ]\n",
    "\n",
    "            alignment_length += 1\n",
    "\n",
    "        if extend_right:\n",
    "            current_score += blosum_matrix[\n",
    "                aa_inverse[sequence1[current_start1 + alignment_length]],\n",
    "                aa_inverse[sequence2[current_start2 + alignment_length]]\n",
    "            ]\n",
    "\n",
    "            alignment_length += 1\n",
    "\n",
    "    return current_score, alignment_length, (\n",
    "        sequence1[current_start1:(current_start1 + alignment_length)],\n",
    "        sequence2[current_start2:(current_start2 + alignment_length)]\n",
    "    )\n",
    "\n",
    "\n",
    "res = extendAln(2, 2, dicoSeqToy['s2'], 'AGGHV', blosum, 6, 1, 5)\n",
    "print (res)\n",
    "#[20, 4, ('CGGH', 'AGGH')]"
   ]
  },
  {
   "cell_type": "code",
   "execution_count": 5,
   "metadata": {
    "colab": {
     "base_uri": "https://localhost:8080/",
     "height": 220
    },
    "executionInfo": {
     "elapsed": 339,
     "status": "error",
     "timestamp": 1644503387931,
     "user": {
      "displayName": "Juliana Bernardes",
      "photoUrl": "https://lh3.googleusercontent.com/a-/AOh14GjmXQB4bG0DHp8uDHafZCQn94Atlo0kH-t-DxF8-w=s64",
      "userId": "00263393379349185862"
     },
     "user_tz": -60
    },
    "id": "ZMHK8wOQ8dM6",
    "outputId": "627d4556-625f-4730-d600-1caf58316468"
   },
   "outputs": [
    {
     "name": "stdout",
     "output_type": "stream",
     "text": [
      "[('GGH', 1, [('s2', 1), ('s3', 1)])]\n"
     ]
    }
   ],
   "source": [
    "def getWordsQuery(word_length: int, query: str, indexB: dict[str, list[tuple[str, int]]]):\n",
    "    \"\"\"\n",
    "    Loking for indexed words in the query\n",
    "    Input1 w: word size\n",
    "    Input2 query: sequence\n",
    "    Input3 indexB: indexed database\n",
    "    Output1 foundWords: Tuple containg found words, position in query, list of pairs (Subject id, Subject position)\n",
    "    \"\"\"\n",
    "\n",
    "    return [\n",
    "        (word, offset, indexB[word])\n",
    "        for offset in range(len(query) - word_length + 1)\n",
    "        if (word := query[offset:(offset + word_length)])\n",
    "        in indexB\n",
    "    ]\n",
    "\n",
    "foundWords = getWordsQuery(wToy,  'AGGHV', indexToy)\n",
    "print (foundWords)\n",
    "#[('GGH', 1, [('s2', 1)])]\n"
   ]
  },
  {
   "cell_type": "code",
   "execution_count": 6,
   "metadata": {
    "id": "lHLmm7dT8dM6"
   },
   "outputs": [
    {
     "name": "stdout",
     "output_type": "stream",
     "text": [
      "('CGGHR', 'AGGHV')\n"
     ]
    }
   ],
   "source": [
    "#Implement BLAST algorithm\n",
    "\n",
    "def Blast(found_words: list[tuple[str, int, list[tuple[str, int]]]], indexedDB: dict[str, list[tuple[str, int]]], Query: str, dicoSeq: dict[str, str], threshold_score: float, word_length: int, blosum_matrix: np.ndarray):\n",
    "    \"\"\"\n",
    "    input1 foundWords: Tuple containg found words, position in query, list of pairs (Subject id, Subject position\n",
    "    input2 indexedDB: indexed database\n",
    "    input3 query: query sequence\n",
    "    input4 dicoSeq: dictionary containing database sequences\n",
    "    input5 T: Threahold score\n",
    "    input6 w: word size\n",
    "    Input7 matriceBlosum: a dictionary containing BLOSUM matrix\n",
    "    output1 alignedSeq: Tuple of aligned sequences\n",
    "    \"\"\"\n",
    "\n",
    "    for word, query_offset, matches in found_words:\n",
    "        for subject_name, subject_offset in matches:\n",
    "            score, alignment_length, aligned_seq = extendAln(\n",
    "                subject_offset,\n",
    "                query_offset,\n",
    "                dicoSeq[subject_name],\n",
    "                Query,\n",
    "                blosum_matrix,\n",
    "                sum([blosum_matrix[aa.index(letter), aa.index(letter)] for letter in word]),\n",
    "                word_length,\n",
    "                threshold_score\n",
    "            )\n",
    "\n",
    "            if score > threshold_score:\n",
    "                return aligned_seq\n",
    "\n",
    "alignedSeq = Blast(foundWords, indexToy, \"AGGHV\", dicoSeqToy, wToy, 5, blosum)\n",
    "print(alignedSeq)"
   ]
  },
  {
   "cell_type": "markdown",
   "metadata": {
    "id": "3OMCr9hF8dM7"
   },
   "source": [
    "<h3>Section 2: PSI-BLAST</h3>\n",
    "On considère à nouveau le gène FHIT chez l'homme. \n",
    "<BR>\n",
    "<b> Exercice 1 </b>:\n",
    "Faites un PSI-BLAST de ce gène contre la base SWISS-PROT. Utilisez un seuil pour l’évalue de 1e-6.\n",
    "Que constatez-vous lors de la 1ère itération concernant les protéines de la famille des galactose-1-phosphate uridylyltransferases?\n"
   ]
  },
  {
   "cell_type": "markdown",
   "metadata": {
    "id": "UUQh0pFq8dM7"
   },
   "source": [
    "<font color=\"red\"> Réponse : </font>\n",
    "On ne trouve aucunne protéine de cette famille dans les séquences qui ont matchées.\n"
   ]
  },
  {
   "cell_type": "markdown",
   "metadata": {
    "id": "PsDnKVfO8dM8"
   },
   "source": [
    "<b> Exercice 2 </b>:\n",
    "Que constatez-vous lors de la 2eme itération? Lors de la 5eme itération?\n"
   ]
  },
  {
   "cell_type": "markdown",
   "metadata": {
    "id": "ZdBBLXJS8dM8"
   },
   "source": [
    "<font color=\"red\"> Réponse : </font>\n",
    "On n'en trouve toujours aucunne à la deuxième itération. Et seulement une seule à la 5ème cela signifie que malgré des structures proches elles ont des séquences différentes."
   ]
  },
  {
   "cell_type": "markdown",
   "metadata": {
    "id": "SotrA6LN8dM9"
   },
   "source": [
    "<b> Exercice 3 </b>:\n",
    "À partir de quelle itération peut-on considérer qu'il y a eu une convergence de l'algorithme PSI- BLAST? Pour quoi ?"
   ]
  },
  {
   "cell_type": "markdown",
   "metadata": {
    "id": "uZOYATPY8dM9"
   },
   "source": [
    "<font color=\"red\"> Réponse : </font>\n",
    "Au bout de la 5ème itération on peut considérer qu'il y a convergence de l'algorithme car on ne trouve pas de nouveau résultats."
   ]
  },
  {
   "cell_type": "markdown",
   "metadata": {
    "id": "Vvb-m8I98dM9"
   },
   "source": [
    "<h3>Section 3: Alignement Multiple</h3>\n"
   ]
  },
  {
   "cell_type": "markdown",
   "metadata": {
    "id": "5AxT0eyh8dM9"
   },
   "source": [
    "<b> Exercice 1 </b>:\n",
    "Accédez à l'application <a href=\"http://www.ebi.ac.uk/Tools/msa/clustalo/\">Clustal omega</a> et copiez les 7 séquences du fichier 7sequences.fasta. Expliquez, dans quel ordre les séquences ont été alignées."
   ]
  },
  {
   "cell_type": "markdown",
   "metadata": {
    "id": "IzK6JV9C8dM-"
   },
   "source": [
    "<font color=\"red\"> Réponse : </font>\n",
    "SP|P02240|LGB2_LUPL\n",
    "SP|P02185|MYG_PHYM\n",
    "SP|P02208|GLB5_PETM\n",
    "SP|P69905|HBA_HUMA\n",
    "SP|P01958|HBA_HORS\n",
    "SP|P68871|HBB_HUMA\n",
    "SP|P02062|HBB_HORS\n",
    "Les séquences ont été alignées en fonction de leur similarités en maximisant les régions similaires."
   ]
  },
  {
   "cell_type": "markdown",
   "metadata": {
    "id": "Ke1OysRg8dM-"
   },
   "source": [
    "<b> Exercice 2 </b>:\n",
    "Faite une fonction pour calculer le score d’un alignement multiple. Le score de chaque position est la somme des tous les scores obtenus par BLOSUM62, et le score final est la somme des scores de chaque position divisée par la taille du alignement."
   ]
  },
  {
   "cell_type": "code",
   "execution_count": 7,
   "metadata": {
    "id": "ES1Xz1IK8dM_"
   },
   "outputs": [
    {
     "name": "stdout",
     "output_type": "stream",
     "text": [
      "(['Sequence1', 'Sequence2', 'Sequence3', 'Sequence4', 'Sequence5'], ['GARFIELDTHELASTFATCAT', 'GARFIELDTHEFASTCAT', 'GARFIELDTHEVERYFASTCAT', 'THEFATCAT', 'GARFIELDTHEVASTCAT'])\n"
     ]
    }
   ],
   "source": [
    "#Read multi fasta\n",
    "def extraireAllFastaMulti(fileName: str):\n",
    "    \"\"\"\n",
    "    Read a FASTA file with several sequences\n",
    "    input1 fileName: file name\n",
    "    output1 IdSeq: list of sequences IDs\n",
    "    output2 Seqs: sequences\n",
    "    \"\"\"\n",
    "\n",
    "    sequences = dict[str, str]()\n",
    "    current_seq_name: Optional[str] = None\n",
    "\n",
    "    with open(fileName) as file:\n",
    "        for raw_line in file:\n",
    "            line = raw_line.strip()\n",
    "\n",
    "            if line.startswith('>'):\n",
    "                current_seq_name = line[1:].strip()\n",
    "                sequences[current_seq_name] = ''\n",
    "            elif line:\n",
    "                assert current_seq_name is not None\n",
    "                sequences[current_seq_name] += line.upper()\n",
    "\n",
    "    return list(sequences.keys()), list(sequences.values())\n",
    "\n",
    "print(extraireAllFastaMulti('fasta/algnMult.fasta'))"
   ]
  },
  {
   "cell_type": "code",
   "execution_count": 8,
   "metadata": {
    "id": "mg-eQQJo8dM_",
    "outputId": "c1e008f8-12d7-4279-eaf8-9567af1a2200"
   },
   "outputs": [
    {
     "name": "stdout",
     "output_type": "stream",
     "text": [
      "5.0\n"
     ]
    }
   ],
   "source": [
    "import itertools\n",
    "\n",
    "def SP_score(SeqsM: list[str], blosum: np.ndarray, gap: float):\n",
    "    \"\"\"\n",
    "    Compute MSA score based on a substitution matrix and gap penality\n",
    "    input1 SeqsM: list of aligned sequences\n",
    "    input2 blosum: substitution matrix\n",
    "    input3 gap: gap penality\n",
    "    output1 score: MSA score\n",
    "    \"\"\"\n",
    "\n",
    "    score = 0.0\n",
    "\n",
    "    for offset in range(len(SeqsM[0])):\n",
    "        score += sum([\n",
    "            blosum[aa.index(i), aa.index(j)] if (i != '-') and (j != '-') else gap\n",
    "            for i, j\n",
    "            in itertools.combinations([seq[offset] for seq in SeqsM], 2)\n",
    "        ])\n",
    "\n",
    "    return score / len(SeqsM) # or len(SeqsM[0]) ?\n",
    "\n",
    "SeqsM = ['ACG', 'A-G', 'ACD']\n",
    "score = SP_score(SeqsM, blosum, gap)\n",
    "print (score)\n",
    "#5.0"
   ]
  },
  {
   "cell_type": "markdown",
   "metadata": {
    "id": "ki4YjNGy8dM_"
   },
   "source": [
    "<b> Exercice 3 </b>: Aligner les séquences du fichiers algnMult2.fasta avec  <a href=\"http://www.ebi.ac.uk/Tools/msa/clustalo/\">Clustal omega</a>. Utiliser la fonction développé precedement  pour calculer le score du alignement. Quelle est la séquence la plus divergente? "
   ]
  },
  {
   "cell_type": "markdown",
   "metadata": {
    "id": "o2EpfQl88dNA"
   },
   "source": [
    "<font color=\"red\"> Réponse : </font>\n",
    "ptro|ENSPTRP00000012209 est la séquence la plus divergente."
   ]
  },
  {
   "cell_type": "markdown",
   "metadata": {
    "id": "le9ufHAU8dNA"
   },
   "source": [
    "<b> Exercice 4 </b>:\n",
    "Comparer les trois outils  <a href=\"http://www.ebi.ac.uk/Tools/msa/clustalo/\">Clustal omega</a>,  <a href=\"http://mafft.cbrc.jp/alignment/server/\">MAFT</a>  et <a href=\"http://www.ebi.ac.uk/Tools/msa/muscle/\">Muscle</a> en utilisant les séquences du fichiers algnMult.fasta. Utiliser la fonction développée précédemment pour calculer le score de chaque alignement. Puis répéter la comparaison avec les séquences du fichier algnMult2.fasta. Quel outil a eu la meilleure performance?"
   ]
  },
  {
   "cell_type": "markdown",
   "metadata": {
    "id": "j8V76SFH8dNA"
   },
   "source": [
    "<font color=\"red\"> Réponse : </font>\n",
    "Les 3 algorithmes obtiennent des résultats très différents pour algnMult.fasta. mais pour algnMult2.fasta. les résultats sont plus proches. L'outil qui a été le plus performant est MUSCLE."
   ]
  }
 ],
 "metadata": {
  "colab": {
   "collapsed_sections": [],
   "name": "TME3_corrige.ipynb",
   "provenance": []
  },
  "kernelspec": {
   "display_name": "Python 3",
   "language": "python",
   "name": "python3"
  },
  "language_info": {
   "codemirror_mode": {
    "name": "ipython",
    "version": 3
   },
   "file_extension": ".py",
   "mimetype": "text/x-python",
   "name": "python",
   "nbconvert_exporter": "python",
   "pygments_lexer": "ipython3",
   "version": "3.12.1"
  }
 },
 "nbformat": 4,
 "nbformat_minor": 1
}
