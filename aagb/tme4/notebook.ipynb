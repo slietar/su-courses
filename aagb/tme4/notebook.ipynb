{
 "cells": [
  {
   "cell_type": "markdown",
   "metadata": {},
   "source": [
    "# TME 4\n",
    "\n",
    "## Breakpoint reversal sort"
   ]
  },
  {
   "cell_type": "code",
   "execution_count": 1,
   "metadata": {},
   "outputs": [],
   "source": [
    "from typing import Optional, Sequence\n",
    "\n",
    "def break_point_reversal_sort(input_π: Sequence[int], /):\n",
    "  π = list(input_π)\n",
    "  reversals = list[tuple[int, int]]()\n",
    "  sorted_π = sorted(π)\n",
    "\n",
    "  while π != sorted_π:\n",
    "    k: Optional[int] = None\n",
    "    increasing = True\n",
    "    left = 0\n",
    "    right = -1\n",
    "\n",
    "    for index, (a, b) in  enumerate(zip([0, *π], [*π, max(π) + 1])):\n",
    "      if b == a + 1:\n",
    "        if (right < 0) and not increasing:\n",
    "          left = index - 1\n",
    "\n",
    "        increasing = True\n",
    "      elif b != a - 1:\n",
    "        if not increasing:\n",
    "          k = min(k, a) if k is not None else a\n",
    "        elif (right < 0) and (index > 1) and (a != index):\n",
    "          right = index\n",
    "\n",
    "        increasing = False\n",
    "\n",
    "    if k is not None:\n",
    "      k_index = π.index(k)\n",
    "      km1_index = π.index(k - 1) if k != min(π) else -1\n",
    "\n",
    "      left = min(k_index, km1_index) + 1\n",
    "      right = max(k_index, km1_index) + 1\n",
    "    else:\n",
    "      assert right >= 0\n",
    "\n",
    "    π[left:right] = reversed(π[left:right])\n",
    "    reversals.append((left, right - 1))\n",
    "\n",
    "  return reversals"
   ]
  },
  {
   "cell_type": "markdown",
   "metadata": {},
   "source": [
    "Class example:"
   ]
  },
  {
   "cell_type": "code",
   "execution_count": 2,
   "metadata": {},
   "outputs": [
    {
     "name": "stdout",
     "output_type": "stream",
     "text": [
      "[(3, 4), (0, 4), (3, 5), (4, 5)]\n"
     ]
    }
   ],
   "source": [
    "print(break_point_reversal_sort([6, 5, 3, 1, 2, 4]))"
   ]
  },
  {
   "cell_type": "markdown",
   "metadata": {},
   "source": [
    "Testing the algorithm on every permutation of 9 elements (this may take a few seconds):"
   ]
  },
  {
   "cell_type": "code",
   "execution_count": 3,
   "metadata": {},
   "outputs": [
    {
     "name": "stderr",
     "output_type": "stream",
     "text": [
      "100%|██████████| 362880/362880 [00:04<00:00, 84130.81it/s]\n"
     ]
    }
   ],
   "source": [
    "import itertools\n",
    "from tqdm import tqdm\n",
    "\n",
    "def apply_reversals(input_π: Sequence[int], reversals: Sequence[tuple[int, int]], /):\n",
    "  π = list(input_π)\n",
    "\n",
    "  for l, r in reversals:\n",
    "    π[l:(r + 1)] = reversed(π[l:(r + 1)])\n",
    "\n",
    "  return π\n",
    "\n",
    "arr_length = 9\n",
    "identity_π = list(range(1, arr_length + 1))\n",
    "\n",
    "for π in tqdm(list(itertools.permutations(range(1, arr_length + 1)))):\n",
    "  assert apply_reversals(π, break_point_reversal_sort(π)) == identity_π"
   ]
  }
 ],
 "metadata": {
  "kernelspec": {
   "display_name": "Python 3",
   "language": "python",
   "name": "python3"
  },
  "language_info": {
   "codemirror_mode": {
    "name": "ipython",
    "version": 3
   },
   "file_extension": ".py",
   "mimetype": "text/x-python",
   "name": "python",
   "nbconvert_exporter": "python",
   "pygments_lexer": "ipython3",
   "version": "3.11.6"
  }
 },
 "nbformat": 4,
 "nbformat_minor": 2
}
