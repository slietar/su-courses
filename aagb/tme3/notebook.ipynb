{
 "cells": [
  {
   "cell_type": "markdown",
   "metadata": {},
   "source": [
    "# TME 3"
   ]
  },
  {
   "cell_type": "markdown",
   "metadata": {},
   "source": [
    "## 1. Introduction\n"
   ]
  },
  {
   "cell_type": "code",
   "execution_count": 1,
   "metadata": {},
   "outputs": [],
   "source": [
    "import math\n",
    "from dataclasses import dataclass\n",
    "\n",
    "import numpy as np\n",
    "from ete3 import Tree\n"
   ]
  },
  {
   "cell_type": "code",
   "execution_count": 2,
   "metadata": {},
   "outputs": [
    {
     "name": "stdout",
     "output_type": "stream",
     "text": [
      "\n",
      "            /-Electrode\n",
      "         /-|\n",
      "      /-|   \\-Magnezone\n",
      "     |  |\n",
      "     |   \\-Porygon-Z\n",
      "     |\n",
      "     |            /-Aggron\n",
      "     |         /-|\n",
      "     |      /-|   \\-Bastiodon\n",
      "   /-|     |  |\n",
      "  |  |   /-|   \\-Forretress\n",
      "  |  |  |  |\n",
      "  |  |  |   \\-Ferrothorn\n",
      "  |  |  |\n",
      "  |  |  |            /-Regirock\n",
      "  |  |  |         /-|\n",
      "  |  |  |      /-|   \\-Regice\n",
      "--|   \\-|     |  |\n",
      "  |     |   /-|   \\-Registeel\n",
      "  |     |  |  |\n",
      "  |     |--|   \\-Metagross\n",
      "  |     |  |\n",
      "  |     |   \\-Klinklang\n",
      "  |     |\n",
      "  |      \\-Genesect\n",
      "  |\n",
      "   \\-Probopass\n"
     ]
    }
   ],
   "source": [
    "tree1 = Tree('((((Electrode,Magnezone),Porygon-Z),((((Aggron,Bastiodon),Forretress),Ferrothorn),((((Regirock,Regice),Registeel),Metagross),Klinklang),Genesect)),Probopass);')\n",
    "print(tree1)\n"
   ]
  },
  {
   "cell_type": "code",
   "execution_count": 3,
   "metadata": {},
   "outputs": [
    {
     "name": "stdout",
     "output_type": "stream",
     "text": [
      "\n",
      "               /-Regirock\n",
      "            /-|\n",
      "         /-|   \\-Regice\n",
      "        |  |\n",
      "        |   \\-Registeel\n",
      "      /-|\n",
      "     |  |      /-Metagross\n",
      "     |  |   /-|\n",
      "     |   \\-|   \\-Klinklang\n",
      "     |     |\n",
      "     |      \\-Genesect\n",
      "   /-|\n",
      "  |  |         /-Aggron\n",
      "  |  |      /-|\n",
      "  |  |     |   \\-Bastiodon\n",
      "  |  |   /-|\n",
      "  |  |  |  |   /-Forretress\n",
      "--|   \\-|   \\-|\n",
      "  |     |      \\-Ferrothorn\n",
      "  |     |\n",
      "  |      \\-Probopass\n",
      "  |\n",
      "  |   /-Porygon-Z\n",
      "   \\-|\n",
      "     |   /-Magnezone\n",
      "      \\-|\n",
      "         \\-Electrode\n"
     ]
    }
   ],
   "source": [
    "tree2 = Tree('(((((Regirock,Regice),Registeel),((Metagross,Klinklang),Genesect)),(((Aggron,Bastiodon),(Forretress,Ferrothorn)),Probopass)),(Porygon-Z,(Magnezone,Electrode)));')\n",
    "print(tree2)\n"
   ]
  },
  {
   "cell_type": "code",
   "execution_count": 4,
   "metadata": {},
   "outputs": [],
   "source": [
    "mutation_matrix = np.array([\n",
    "  [0, 3, 4, 9],\n",
    "  [3, 0, 2, 4],\n",
    "  [4, 2, 0, 4],\n",
    "  [9, 4, 4, 0]\n",
    "])\n",
    "\n",
    "pokemons = {\n",
    "  'Probopass': 'A',\n",
    "  'Aggron': 'T',\n",
    "  'Bastiodon': 'T',\n",
    "  'Regirock': 'G',\n",
    "  'Registeel': 'G',\n",
    "  'Regice': 'G',\n",
    "  'Klinklang': 'G',\n",
    "  'Metagross': 'C',\n",
    "  'Genesect': 'A',\n",
    "  'Porygon-Z': 'C',\n",
    "  'Magnezone': 'C',\n",
    "  'Forretress': 'T',\n",
    "  'Electrode': 'A',\n",
    "  'Ferrothorn': 'G'\n",
    "}\n",
    "\n",
    "nucleotides = ['A', 'C', 'G', 'T']\n"
   ]
  },
  {
   "cell_type": "markdown",
   "metadata": {},
   "source": [
    "## 2. Sankoff algorithm"
   ]
  },
  {
   "cell_type": "code",
   "execution_count": 5,
   "metadata": {},
   "outputs": [],
   "source": [
    "@dataclass\n",
    "class NodeMetadata:\n",
    "  distribution: np.ndarray\n",
    "  origin: np.ndarray\n",
    "  value: int = -1\n",
    "\n",
    "def sankoff(tree: Tree):\n",
    "  metadata = dict[Tree, NodeMetadata]()\n",
    "\n",
    "  for node in tree.traverse('postorder'): # type: ignore\n",
    "    if node.children:\n",
    "      # axis 0: child\n",
    "      # axis 1: possible nucleotide for child node\n",
    "      d = np.array([metadata[child].distribution for child in node.children])\n",
    "\n",
    "      # axis 2: possible nucleotide for current node\n",
    "      m = d[..., np.newaxis] + mutation_matrix[np.newaxis, ...]\n",
    "\n",
    "      metadata[node] = NodeMetadata(\n",
    "        m.min(axis=1).sum(axis=0),\n",
    "        m.argmin(axis=1)\n",
    "      )\n",
    "    else:\n",
    "      metadata[node] = NodeMetadata(\n",
    "        np.array([0 if pokemons[node.name] == nucleotide else math.inf for nucleotide in nucleotides]),\n",
    "        np.array([])\n",
    "      )\n",
    "\n",
    "  for node in tree.traverse('preorder'): # type: ignore\n",
    "    if node.up:\n",
    "      child_index = node.up.children.index(node)\n",
    "      nucleotide = metadata[node.up].origin[child_index, metadata[node.up].value]\n",
    "    else:\n",
    "      nucleotide = metadata[node].distribution.argmin()\n",
    "\n",
    "    metadata[node].value = int(nucleotide) # int() is only for the type checker\n",
    "    node.name = (f'{node.name} ' if node.name else str()) + f'[{nucleotides[nucleotide]}]'\n",
    "\n",
    "  return metadata[tree].distribution[metadata[tree].value]\n"
   ]
  },
  {
   "cell_type": "code",
   "execution_count": 6,
   "metadata": {},
   "outputs": [
    {
     "name": "stdout",
     "output_type": "stream",
     "text": [
      "18.0\n",
      "\n",
      "            /-Electrode [A]\n",
      "         /[C]\n",
      "      /[C]  \\-Magnezone [C]\n",
      "     |  |\n",
      "     |   \\-Porygon-Z [C]\n",
      "     |\n",
      "     |            /-Aggron [T]\n",
      "     |         /[T]\n",
      "     |      /[T]  \\-Bastiodon [T]\n",
      "   /[C]    |  |\n",
      "  |  |   /[G]  \\-Forretress [T]\n",
      "  |  |  |  |\n",
      "  |  |  |   \\-Ferrothorn [G]\n",
      "  |  |  |\n",
      "  |  |  |            /-Regirock [G]\n",
      "  |  |  |         /[G]\n",
      "  |  |  |      /[G]  \\-Regice [G]\n",
      "-[A]  \\[G]    |  |\n",
      "  |     |   /[G]  \\-Registeel [G]\n",
      "  |     |  |  |\n",
      "  |     |-[G]  \\-Metagross [C]\n",
      "  |     |  |\n",
      "  |     |   \\-Klinklang [G]\n",
      "  |     |\n",
      "  |      \\-Genesect [A]\n",
      "  |\n",
      "   \\-Probopass [A]\n"
     ]
    }
   ],
   "source": [
    "print(sankoff(tree1))\n",
    "print(tree1.get_ascii(show_internal=True))\n"
   ]
  },
  {
   "cell_type": "code",
   "execution_count": 7,
   "metadata": {},
   "outputs": [
    {
     "name": "stdout",
     "output_type": "stream",
     "text": [
      "21.0\n",
      "\n",
      "               /-Regirock [G]\n",
      "            /[G]\n",
      "         /[G]  \\-Regice [G]\n",
      "        |  |\n",
      "        |   \\-Registeel [G]\n",
      "      /[C]\n",
      "     |  |      /-Metagross [C]\n",
      "     |  |   /[C]\n",
      "     |   \\[C]  \\-Klinklang [G]\n",
      "     |     |\n",
      "     |      \\-Genesect [A]\n",
      "   /[C]\n",
      "  |  |         /-Aggron [T]\n",
      "  |  |      /[T]\n",
      "  |  |     |   \\-Bastiodon [T]\n",
      "  |  |   /[T]\n",
      "  |  |  |  |   /-Forretress [T]\n",
      "-[C]  \\[C]  \\[T]\n",
      "  |     |      \\-Ferrothorn [G]\n",
      "  |     |\n",
      "  |      \\-Probopass [A]\n",
      "  |\n",
      "  |   /-Porygon-Z [C]\n",
      "   \\[C]\n",
      "     |   /-Magnezone [C]\n",
      "      \\[C]\n",
      "         \\-Electrode [A]\n"
     ]
    }
   ],
   "source": [
    "print(sankoff(tree2))\n",
    "print(tree2.get_ascii(show_internal=True))\n"
   ]
  }
 ],
 "metadata": {
  "kernelspec": {
   "display_name": "Python 3",
   "language": "python",
   "name": "python3"
  },
  "language_info": {
   "codemirror_mode": {
    "name": "ipython",
    "version": 3
   },
   "file_extension": ".py",
   "mimetype": "text/x-python",
   "name": "python",
   "nbconvert_exporter": "python",
   "pygments_lexer": "ipython3",
   "version": "3.11.6"
  }
 },
 "nbformat": 4,
 "nbformat_minor": 2
}
