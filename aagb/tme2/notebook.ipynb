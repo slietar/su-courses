{
 "cells": [
  {
   "cell_type": "markdown",
   "metadata": {},
   "source": [
    "# TME 2"
   ]
  },
  {
   "cell_type": "markdown",
   "metadata": {},
   "source": [
    "## 1. Introduction"
   ]
  },
  {
   "cell_type": "code",
   "execution_count": 10,
   "metadata": {},
   "outputs": [],
   "source": [
    "from matplotlib import pyplot as plt\n",
    "from matplotlib.lines import Line2D\n",
    "import numpy as np\n",
    "\n",
    "plt.rcParams['font.family'] = 'Helvetica'\n"
   ]
  },
  {
   "cell_type": "code",
   "execution_count": 11,
   "metadata": {},
   "outputs": [],
   "source": [
    "M1 = np.array([[0,8,7,12], [8,0,9,14], [7,9,0,11], [12,14,11,0]])\n",
    "M2 = np.array([[0,2,3,8,14,18],[2,0,3,8,14,18],\n",
    "      [3,3,0,8,14,18],[8,8,8,0,14,18],\n",
    "      [14,14,14,14,0,18],[18,18,18,18,18,0]])\n",
    "#UPGMA\n",
    "M3 = np.array([[0,19,27,8,33,18,13],[19,0,31,18,36,1,13],\n",
    "          [27,31,0,26,41,32,29],[8,18,26,0,31,17,14],\n",
    "          [33,36,41,31,0,35,28],[18,1,32,17,35,0,12],\n",
    "          [13,13,29,14,28,12,0]])\n",
    "#Neighbor Joining\n",
    "M4 = np.array([[0,2,4,6,6,8],[2,0,4,6,6,8],\n",
    "          [4,4,0,6,6,8],[6,6,6,0,4,8],\n",
    "          [6,6,6,4,0,8],[8,8,8,8,8,0]])\n"
   ]
  },
  {
   "cell_type": "code",
   "execution_count": 12,
   "metadata": {},
   "outputs": [
    {
     "name": "stdout",
     "output_type": "stream",
     "text": [
      "True\n",
      "True\n",
      "True\n",
      "True\n"
     ]
    }
   ],
   "source": [
    "def is_additive(matrix: np.ndarray):\n",
    "  for a in range(len(matrix)):\n",
    "    for b in range(a):\n",
    "      for c in range(b):\n",
    "        for d in range(c):\n",
    "          x = matrix[a, b] + matrix[c, d]\n",
    "          y = matrix[a, d] + matrix[b, c]\n",
    "          z = matrix[a, c] + matrix[b, d]\n",
    "\n",
    "          if not (x >= z and y >= z) and not (x >= y and z >= y) and not (y >= x and z >= x):\n",
    "            return False\n",
    "\n",
    "  return True\n",
    "\n",
    "\n",
    "print(is_additive(M1))\n",
    "print(is_additive(M2))\n",
    "print(is_additive(M3))\n",
    "print(is_additive(M4))\n"
   ]
  },
  {
   "cell_type": "code",
   "execution_count": 13,
   "metadata": {},
   "outputs": [
    {
     "name": "stdout",
     "output_type": "stream",
     "text": [
      "False\n",
      "True\n",
      "False\n",
      "True\n"
     ]
    }
   ],
   "source": [
    "def is_ultrametric(matrix: np.ndarray):\n",
    "  for a in range(len(matrix)):\n",
    "    for b in range(a):\n",
    "      for c in range(b):\n",
    "        if matrix[a, c] > max(matrix[a, b], matrix[b, c]):\n",
    "          return False\n",
    "\n",
    "  return True\n",
    "\n",
    "print(is_ultrametric(M1))\n",
    "print(is_ultrametric(M2))\n",
    "print(is_ultrametric(M3))\n",
    "print(is_ultrametric(M4))\n"
   ]
  },
  {
   "cell_type": "markdown",
   "metadata": {},
   "source": [
    "## 2. UPGMA"
   ]
  },
  {
   "cell_type": "code",
   "execution_count": 14,
   "metadata": {},
   "outputs": [],
   "source": [
    "# Utilities for building and drawing trees\n",
    "\n",
    "from dataclasses import dataclass\n",
    "from typing import Self\n",
    "\n",
    "@dataclass\n",
    "class Leaf:\n",
    "  value: int\n",
    "\n",
    "@dataclass\n",
    "class Node:\n",
    "  children: list[tuple[Self | Leaf, float]]\n",
    "\n",
    "  def _newick(self) -> str:\n",
    "    return '(' + ','.join([(chr(ord('A') + child.value) if isinstance(child, Leaf) else child._newick()) + f':{dist:.2f}' for child, dist in self.children]) + ')'\n",
    "\n",
    "  def newick(self):\n",
    "    return self._newick() + ';'\n",
    "\n",
    "  def draw(self):\n",
    "    fig, ax = plt.subplots()\n",
    "\n",
    "    ax.get_yaxis().set_visible(False)\n",
    "    ax.spines['top'].set_visible(False)\n",
    "    ax.spines['left'].set_visible(False)\n",
    "    ax.spines['right'].set_visible(False)\n",
    "\n",
    "    @dataclass\n",
    "    class NodeMarker:\n",
    "      node: Node\n",
    "      x: float\n",
    "\n",
    "      current_child_index: int = 0\n",
    "      y_start: float = 0.0\n",
    "      y_end: float = 0.0\n",
    "\n",
    "    pointer = [NodeMarker(self, 0.0)]\n",
    "    leaf_vertical_padding = 0.1\n",
    "\n",
    "    current_y = 0.0\n",
    "    max_x = 0.0\n",
    "\n",
    "    while pointer:\n",
    "      marker = pointer[-1]\n",
    "\n",
    "      if marker.current_child_index >= len(marker.node.children):\n",
    "        pointer.pop()\n",
    "        ax.add_line(Line2D([marker.x, marker.x], [marker.y_start, marker.y_end], color='k'))\n",
    "\n",
    "        if pointer:\n",
    "          marker_y_mid = (marker.y_start + marker.y_end) * 0.5\n",
    "          prev_marker = pointer[-1]\n",
    "\n",
    "          if prev_marker.current_child_index == 0:\n",
    "            prev_marker.y_start = marker_y_mid\n",
    "\n",
    "          prev_marker.y_end = marker_y_mid\n",
    "          prev_marker.current_child_index += 1\n",
    "\n",
    "          ax.add_line(Line2D([prev_marker.x, marker.x], [marker_y_mid, marker_y_mid], color='k'))\n",
    "      else:\n",
    "        child_node, child_dist = marker.node.children[marker.current_child_index]\n",
    "\n",
    "        match child_node:\n",
    "          case Leaf():\n",
    "            current_y += leaf_vertical_padding\n",
    "\n",
    "            if marker.current_child_index == 0:\n",
    "              marker.y_start = current_y\n",
    "\n",
    "            leaf_x = marker.x + child_dist\n",
    "            max_x = max(max_x, marker.x + child_dist)\n",
    "\n",
    "            ax.add_line(Line2D([marker.x, marker.x + child_dist], [current_y, current_y], color='k'))\n",
    "            ax.text(leaf_x + 0.05, current_y, chr(ord('A') + child_node.value), verticalalignment='center')\n",
    "\n",
    "            marker.current_child_index += 1\n",
    "            marker.y_end = current_y\n",
    "            current_y += leaf_vertical_padding\n",
    "          case Node():\n",
    "            pointer.append(NodeMarker(child_node, marker.x + child_dist))\n",
    "\n",
    "    ax.set_xlim(-0.1, max_x + 0.15)\n",
    "    ax.set_ylim(current_y, 0.0)\n",
    "\n",
    "    bottom_height = 0.4\n",
    "    total_height = current_y * 2.0 + bottom_height\n",
    "\n",
    "    fig.set_size_inches(5.0, total_height)\n",
    "    fig.subplots_adjust(left=0.0, right=1.0, top=1.0, bottom=(bottom_height / total_height))\n",
    "\n",
    "    return fig, ax\n"
   ]
  },
  {
   "cell_type": "code",
   "execution_count": 15,
   "metadata": {},
   "outputs": [],
   "source": [
    "from typing import cast\n",
    "\n",
    "def upgma(matrix: np.ndarray):\n",
    "  n = len(matrix)\n",
    "  clusters = [[i] for i in range(n)]\n",
    "  dist =[[matrix[i, j] for j in range(n)] for i in range(n)]\n",
    "  nodes: list[tuple[Leaf | Node, float]] = [(Leaf(i), 0.0) for i in range(n)]\n",
    "\n",
    "  while n > 1:\n",
    "    # Find the minimum distance\n",
    "    min_dist = np.inf\n",
    "    min_i = -1\n",
    "    min_j = -1\n",
    "\n",
    "    for i in range(n):\n",
    "      for j in range(i):\n",
    "        if dist[i][j] < min_dist:\n",
    "          min_dist = dist[i][j]\n",
    "          min_i = i\n",
    "          min_j = j\n",
    "\n",
    "    # Create the new cluster\n",
    "    new_cluster = clusters[min_i] + clusters[min_j]\n",
    "    last_cluster_i= clusters[min_i]\n",
    "    last_cluster_j= clusters[min_j]\n",
    "\n",
    "    # Update tree nodes\n",
    "    nodes.append(\n",
    "      (Node([\n",
    "        (nodes[min_i][0], min_dist * 0.5 - nodes[min_i][1]),\n",
    "        (nodes[min_j][0], min_dist * 0.5 - nodes[min_j][1])\n",
    "      ]), min_dist * 0.5)\n",
    "    )\n",
    "\n",
    "    nodes.pop(max(min_i, min_j))\n",
    "    nodes.pop(min(min_i, min_j))\n",
    "\n",
    "    # Update the clusters\n",
    "    clusters.pop(max(min_i, min_j))\n",
    "    clusters.pop(min(min_i, min_j))\n",
    "    clusters.append(new_cluster)\n",
    "\n",
    "\n",
    "    # Update the distance matrix\n",
    "    new_dist = dist\n",
    "    for i in range(n):\n",
    "      if i!=min_i and i!=min_j:\n",
    "       new_dist[i].append((dist[min_i][i] * len(last_cluster_i) + dist[min_j][i] * len(last_cluster_j)) / (len(last_cluster_i) + len(last_cluster_j)))\n",
    "    new_dist.append([])\n",
    "    for i in range(n):\n",
    "      if i!=min_i and i!=min_j:\n",
    "       new_dist[n].append((dist[min_i][i] * len(last_cluster_i) + dist[min_j][i] * len(last_cluster_j)) / (len(last_cluster_i) + len(last_cluster_j)))\n",
    "    new_dist[n].append(0)\n",
    "    new_dist.pop(max(min_i, min_j))\n",
    "    new_dist.pop(min(min_i, min_j))\n",
    "    for i in range(n-2):\n",
    "      del new_dist[i][max(min_i, min_j)]\n",
    "      del new_dist[i][min(min_i, min_j)]\n",
    "    dist = new_dist\n",
    "    n -= 1\n",
    "\n",
    "  return cast(Node, nodes[0][0])\n"
   ]
  },
  {
   "cell_type": "code",
   "execution_count": 16,
   "metadata": {},
   "outputs": [
    {
     "name": "stdout",
     "output_type": "stream",
     "text": [
      "(((((B:1.00,A:1.00):0.50,C:1.50):2.50,D:4.00):3.00,E:7.00):2.00,F:9.00);\n",
      "((((B:1.00,A:1.00):1.00,C:2.00):1.00,(E:2.00,D:2.00):1.00):1.00,F:4.00);\n"
     ]
    },
    {
     "data": {
      "image/png": "[encoded data removed]",
      "text/plain": [
       "<Figure size 500x280 with 1 Axes>"
      ]
     },
     "metadata": {},
     "output_type": "display_data"
    },
    {
     "data": {
      "image/png": "[encoded data removed]",
      "text/plain": [
       "<Figure size 500x280 with 1 Axes>"
      ]
     },
     "metadata": {},
     "output_type": "display_data"
    }
   ],
   "source": [
    "for matrix in [M1, M2, M3, M4]:\n",
    "  if is_ultrametric(matrix):\n",
    "    tree = upgma(matrix)\n",
    "    print(tree.newick())\n",
    "    fig, ax = tree.draw()\n"
   ]
  },
  {
   "cell_type": "markdown",
   "metadata": {},
   "source": [
    "## 3. Neighbor Joining"
   ]
  },
  {
   "cell_type": "code",
   "execution_count": 17,
   "metadata": {},
   "outputs": [],
   "source": [
    "def nj(matrix: np.ndarray):\n",
    "  m = matrix.astype(np.float64)\n",
    "  clusters: list[Node | Leaf] = [Leaf(i) for i in range(len(m))]\n",
    "\n",
    "  while (n := len(m)) > 2:\n",
    "    q: np.ndarray = (n - 2) * m - m.sum(axis=0) - m.sum(axis=1, keepdims=True)\n",
    "    q[np.diag_indices_from(q)] = np.inf\n",
    "\n",
    "    a, b = np.unravel_index(q.argmin(), q.shape)\n",
    "    a = int(a)\n",
    "    b = int(b)\n",
    "\n",
    "    da = 0.5 * m[a, b] + 0.5 / (n - 2) * (m[a, :].sum() - m[b, :].sum())\n",
    "    db = m[a, b] - da\n",
    "\n",
    "    clusters.append(Node([\n",
    "      (clusters[a], da),\n",
    "      (clusters[b], db)\n",
    "    ]))\n",
    "\n",
    "    del clusters[max(a, b)]\n",
    "    del clusters[min(a, b)]\n",
    "\n",
    "    new_row = 0.5 * (m[a, :] + m[b, :] - m[a, b])\n",
    "\n",
    "    indices = [i for i in range(n) if i != a and i != b]\n",
    "    m = m[indices, :][:, indices]\n",
    "    m = np.pad(m, (0, 1))\n",
    "\n",
    "    m[0:-1, -1] = new_row[indices]\n",
    "    m[-1, 0:-1] = new_row[indices]\n",
    "\n",
    "  return Node([\n",
    "    (clusters[0], m[0, 1] * 0.5),\n",
    "    (clusters[1], m[0, 1] * 0.5)\n",
    "  ])\n"
   ]
  },
  {
   "cell_type": "code",
   "execution_count": 18,
   "metadata": {},
   "outputs": [
    {
     "name": "stdout",
     "output_type": "stream",
     "text": [
      "((A:3.00,B:5.00):0.50,(C:3.00,D:8.00):0.50);\n",
      "((A:1.00,B:1.00):0.25,(C:1.50,(D:4.00,(E:7.00,F:11.00):3.00):2.50):0.25);\n",
      "((C:18.75,E:22.25):0.88,((A:4.38,D:3.62):3.00,(G:3.83,(B:0.80,F:0.20):8.17):2.50):0.88);\n",
      "((D:2.00,E:2.00):0.50,(F:5.00,(C:2.00,(A:1.00,B:1.00):1.00):1.00):0.50);\n"
     ]
    },
    {
     "data": {
      "image/png": "[encoded data removed]",
      "text/plain": [
       "<Figure size 500x200 with 1 Axes>"
      ]
     },
     "metadata": {},
     "output_type": "display_data"
    },
    {
     "data": {
      "image/png": "[encoded data removed]",
      "text/plain": [
       "<Figure size 500x280 with 1 Axes>"
      ]
     },
     "metadata": {},
     "output_type": "display_data"
    },
    {
     "data": {
      "image/png": "[encoded data removed]",
      "text/plain": [
       "<Figure size 500x320 with 1 Axes>"
      ]
     },
     "metadata": {},
     "output_type": "display_data"
    },
    {
     "data": {
      "image/png": "[encoded data removed]",
      "text/plain": [
       "<Figure size 500x280 with 1 Axes>"
      ]
     },
     "metadata": {},
     "output_type": "display_data"
    }
   ],
   "source": [
    "for matrix in [M1, M2, M3, M4]:\n",
    "  if is_additive(matrix):\n",
    "    tree = nj(matrix)\n",
    "    print(tree.newick())\n",
    "    fig, ax = tree.draw()\n"
   ]
  }
 ],
 "metadata": {
  "kernelspec": {
   "display_name": "Python 3",
   "language": "python",
   "name": "python3"
  },
  "language_info": {
   "codemirror_mode": {
    "name": "ipython",
    "version": 3
   },
   "file_extension": ".py",
   "mimetype": "text/x-python",
   "name": "python",
   "nbconvert_exporter": "python",
   "pygments_lexer": "ipython3",
   "version": "3.11.6"
  }
 },
 "nbformat": 4,
 "nbformat_minor": 2
}
