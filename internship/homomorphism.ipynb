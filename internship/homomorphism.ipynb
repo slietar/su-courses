{
 "cells": [
  {
   "cell_type": "code",
   "execution_count": 158,
   "metadata": {},
   "outputs": [],
   "source": [
    "import itertools\n",
    "\n",
    "import mdshare\n",
    "import numpy as np\n",
    "import torch\n",
    "import torch.nn as nn\n",
    "from matplotlib import pyplot as plt\n",
    "from torch.utils.data import DataLoader, TensorDataset\n",
    "from tqdm import tqdm, trange"
   ]
  },
  {
   "cell_type": "code",
   "execution_count": 159,
   "metadata": {},
   "outputs": [],
   "source": [
    "device = torch.device('mps')"
   ]
  },
  {
   "cell_type": "code",
   "execution_count": 160,
   "metadata": {},
   "outputs": [],
   "source": [
    "data_file_path: str = mdshare.fetch('alanine-dipeptide-3x250ns-heavy-atom-positions.npz', working_directory='data') # type: ignore\n",
    "\n",
    "with np.load(data_file_path) as npz:\n",
    "  data = [npz[file_name].astype(np.float32) for file_name in npz]\n",
    "\n",
    "input_var_count = data[0].shape[1]"
   ]
  },
  {
   "cell_type": "code",
   "execution_count": 161,
   "metadata": {},
   "outputs": [],
   "source": [
    "class FeedForwardNetwork(nn.Module):\n",
    "  def __init__(self, input_size: int, output_size: int):\n",
    "    super().__init__()\n",
    "\n",
    "    self.sequence = nn.Sequential(\n",
    "      nn.Linear(input_size, 64),\n",
    "      nn.ReLU(),\n",
    "      nn.Linear(64, 64),\n",
    "      nn.ReLU(),\n",
    "      nn.Linear(64, output_size)\n",
    "    )\n",
    "\n",
    "  def forward(self, x):\n",
    "    return self.sequence(x)"
   ]
  },
  {
   "cell_type": "code",
   "execution_count": 162,
   "metadata": {},
   "outputs": [
    {
     "data": {
      "text/plain": [
       "(250000, 30)"
      ]
     },
     "execution_count": 162,
     "metadata": {},
     "output_type": "execute_result"
    }
   ],
   "source": [
    "data[0].shape"
   ]
  },
  {
   "cell_type": "code",
   "execution_count": 163,
   "metadata": {},
   "outputs": [],
   "source": [
    "trajectories = torch.tensor(np.array(data)).to(device)\n",
    "\n",
    "loader = DataLoader(TensorDataset(\n",
    "  torch.full((trajectories[0].size(0) - 1,), 0),\n",
    "  torch.arange(trajectories[0].size(0) - 1)\n",
    "), batch_size=1024, shuffle=True)\n",
    "\n",
    "# next(iter(loader))\n",
    "# trajectories[0].size()"
   ]
  },
  {
   "cell_type": "code",
   "execution_count": 164,
   "metadata": {},
   "outputs": [
    {
     "data": {
      "text/plain": [
       "torch.Size([3, 250000, 30])"
      ]
     },
     "execution_count": 164,
     "metadata": {},
     "output_type": "execute_result"
    }
   ],
   "source": [
    "trajectories.size()"
   ]
  },
  {
   "cell_type": "code",
   "execution_count": 166,
   "metadata": {},
   "outputs": [
    {
     "name": "stderr",
     "output_type": "stream",
     "text": [
      "100%|██████████| 245/245 [00:04<00:00, 53.25it/s]\n",
      "100%|██████████| 245/245 [00:04<00:00, 49.72it/s]\n",
      "100%|██████████| 245/245 [00:06<00:00, 36.54it/s]\n",
      "100%|██████████| 245/245 [00:05<00:00, 44.85it/s]\n",
      "100%|██████████| 245/245 [00:05<00:00, 47.23it/s]\n",
      "100%|██████████| 245/245 [00:04<00:00, 57.72it/s]\n",
      "100%|██████████| 245/245 [00:03<00:00, 67.41it/s]\n",
      "100%|██████████| 245/245 [00:03<00:00, 70.23it/s]\n",
      "100%|██████████| 245/245 [00:03<00:00, 72.01it/s]\n",
      "100%|██████████| 245/245 [00:03<00:00, 61.94it/s]\n"
     ]
    }
   ],
   "source": [
    "def distance(a: torch.Tensor, b: torch.Tensor):\n",
    "  return (0.5 * (a - b) ** 2).sum(dim=-1)\n",
    "\n",
    "def distance_neg(a: torch.Tensor, b: torch.Tensor, *, eps: float):\n",
    "  return torch.relu(eps - distance(a, b))\n",
    "\n",
    "latent_var_count = 10\n",
    "background_step_count = 12\n",
    "epsilon = 3.0\n",
    "\n",
    "Z = FeedForwardNetwork(input_var_count, latent_var_count).to(device)\n",
    "A = FeedForwardNetwork(latent_var_count, latent_var_count).to(device)\n",
    "\n",
    "def T(x: torch.Tensor):\n",
    "  return x + A(x)\n",
    "\n",
    "optimizer = torch.optim.SGD(itertools.chain(A.parameters(), Z.parameters()), lr=1e-5)\n",
    "epoch_count = 10\n",
    "losses = torch.zeros(epoch_count)\n",
    "\n",
    "for epoch in range(epoch_count):\n",
    "  epoch_loss = 0\n",
    "\n",
    "  for traj_indices, step_indices in tqdm(loader):\n",
    "    current_step = trajectories[traj_indices, step_indices, :]\n",
    "    next_step = trajectories[traj_indices, step_indices + 1, :]\n",
    "\n",
    "    rand_indices = torch.randint(0, trajectories.size(1) - 1, (background_step_count, len(traj_indices)), device=device)\n",
    "    rand_step = trajectories[traj_indices, rand_indices, :]\n",
    "\n",
    "    tz = T(Z(current_step))\n",
    "    loss = (distance(Z(next_step), tz) + distance_neg(Z(rand_step), tz, eps=epsilon).sum(dim=0)).mean()\n",
    "\n",
    "    optimizer.zero_grad()\n",
    "    loss.backward()\n",
    "    optimizer.step()\n",
    "\n",
    "    epoch_loss += loss.item()\n",
    "\n",
    "  losses[epoch] = epoch_loss\n"
   ]
  },
  {
   "cell_type": "code",
   "execution_count": 167,
   "metadata": {},
   "outputs": [
    {
     "data": {
      "image/png": "[encoded data removed]",
      "text/plain": [
       "<Figure size 640x480 with 1 Axes>"
      ]
     },
     "metadata": {},
     "output_type": "display_data"
    }
   ],
   "source": [
    "fig, ax = plt.subplots()\n",
    "\n",
    "ax.plot(losses);"
   ]
  },
  {
   "cell_type": "code",
   "execution_count": 168,
   "metadata": {},
   "outputs": [
    {
     "data": {
      "text/plain": [
       "tensor([8609.9639, 8586.4941, 8559.8086, 8529.8203, 8495.8057, 8456.6289,\n",
       "        8411.1172, 8357.7041, 8294.3447, 8218.1309])"
      ]
     },
     "execution_count": 168,
     "metadata": {},
     "output_type": "execute_result"
    }
   ],
   "source": [
    "losses"
   ]
  }
 ],
 "metadata": {
  "kernelspec": {
   "display_name": "Python 3",
   "language": "python",
   "name": "python3"
  },
  "language_info": {
   "codemirror_mode": {
    "name": "ipython",
    "version": 3
   },
   "file_extension": ".py",
   "mimetype": "text/x-python",
   "name": "python",
   "nbconvert_exporter": "python",
   "pygments_lexer": "ipython3",
   "version": "3.11.8"
  }
 },
 "nbformat": 4,
 "nbformat_minor": 2
}
