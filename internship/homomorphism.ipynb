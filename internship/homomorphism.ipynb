{
 "cells": [
  {
   "cell_type": "code",
   "execution_count": 4,
   "metadata": {},
   "outputs": [],
   "source": [
    "import itertools\n",
    "\n",
    "import mdshare\n",
    "import numpy as np\n",
    "import torch\n",
    "import torch.nn as nn\n",
    "from matplotlib import pyplot as plt\n",
    "from torch.utils.data import DataLoader, TensorDataset\n",
    "from tqdm import tqdm"
   ]
  },
  {
   "cell_type": "code",
   "execution_count": 5,
   "metadata": {},
   "outputs": [],
   "source": [
    "data_file_path: str = mdshare.fetch('alanine-dipeptide-3x250ns-heavy-atom-positions.npz', working_directory='data') # type: ignore\n",
    "\n",
    "with np.load(data_file_path) as npz:\n",
    "  data = [npz[file_name].astype(np.float32) for file_name in npz]\n",
    "\n",
    "input_var_count = data[0].shape[1]"
   ]
  },
  {
   "cell_type": "code",
   "execution_count": 6,
   "metadata": {},
   "outputs": [],
   "source": [
    "class FeedForwardNetwork(nn.Module):\n",
    "  def __init__(self, input_size: int, output_size: int):\n",
    "    super().__init__()\n",
    "\n",
    "    self.sequence = nn.Sequential(\n",
    "      nn.Linear(input_size, 128),\n",
    "      nn.ReLU(),\n",
    "      nn.Linear(128, 128),\n",
    "      nn.ReLU(),\n",
    "      nn.Linear(128, output_size)\n",
    "    )\n",
    "\n",
    "  def forward(self, x):\n",
    "    return self.sequence(x)"
   ]
  },
  {
   "cell_type": "code",
   "execution_count": 7,
   "metadata": {},
   "outputs": [
    {
     "data": {
      "text/plain": [
       "(250000, 30)"
      ]
     },
     "execution_count": 7,
     "metadata": {},
     "output_type": "execute_result"
    }
   ],
   "source": [
    "data[0].shape"
   ]
  },
  {
   "cell_type": "code",
   "execution_count": 69,
   "metadata": {},
   "outputs": [],
   "source": [
    "trajectories = torch.tensor(np.array(data))\n",
    "\n",
    "loader = DataLoader(TensorDataset(\n",
    "  # torch.tensor(data[0][:-1]),\n",
    "  # torch.tensor(data[0][1:]),\n",
    "\n",
    "  torch.full((trajectories[0].size(0) - 1,), 0),\n",
    "  torch.arange(trajectories[0].size(0) - 1)\n",
    "), batch_size=128, shuffle=1)\n",
    "\n",
    "# next(iter(loader))\n",
    "# trajectories[0].size()"
   ]
  },
  {
   "cell_type": "code",
   "execution_count": 70,
   "metadata": {},
   "outputs": [
    {
     "data": {
      "text/plain": [
       "torch.Size([3, 250000, 30])"
      ]
     },
     "execution_count": 70,
     "metadata": {},
     "output_type": "execute_result"
    }
   ],
   "source": [
    "trajectories.size()"
   ]
  },
  {
   "cell_type": "code",
   "execution_count": 71,
   "metadata": {},
   "outputs": [
    {
     "name": "stderr",
     "output_type": "stream",
     "text": [
      "100%|██████████| 1954/1954 [00:02<00:00, 862.11it/s]\n"
     ]
    }
   ],
   "source": [
    "def distance(a: torch.Tensor, b: torch.Tensor):\n",
    "  return (0.5 * (a - b) ** 2).sum(dim=-1)\n",
    "\n",
    "def distance_neg(epsilon: float, a: torch.Tensor, b: torch.Tensor):\n",
    "  return torch.relu(epsilon - distance(a, b))\n",
    "\n",
    "latent_var_count = 10\n",
    "background_step_count = 12\n",
    "\n",
    "Z = FeedForwardNetwork(input_var_count, latent_var_count)\n",
    "T = FeedForwardNetwork(latent_var_count, latent_var_count)\n",
    "\n",
    "optimizer = torch.optim.SGD(itertools.chain(Z.parameters(), T.parameters()), lr=1e-5)\n",
    "epoch_count = 1\n",
    "losses = torch.zeros(epoch_count)\n",
    "\n",
    "for epoch in range(epoch_count):\n",
    "  epoch_loss = 0\n",
    "\n",
    "  for traj_indices, step_indices in tqdm(loader):\n",
    "    batch1 = trajectories[traj_indices, step_indices, :]\n",
    "    batch2 = trajectories[traj_indices, step_indices + 1, :]\n",
    "\n",
    "    s_neg = torch.stack([trajectories[traj_index, :, :][torch.randperm(trajectories.size(1) - 1)[:background_step_count] + torch.tensor([0, 1])[:, None], :] for traj_index in traj_indices])\n",
    "    loss = (distance(Z(batch2), T(Z(batch1))) + distance_neg(3, Z(s_neg[:, 1, :, :]), T(Z(s_neg[:, 0, :, :]))).sum(dim=1)).mean()\n",
    "    # loss = distance(Z(batch2), T(Z(batch1))).mean()\n",
    "\n",
    "    optimizer.zero_grad()\n",
    "    loss.backward()\n",
    "    optimizer.step()\n",
    "\n",
    "    epoch_loss += loss.item()\n",
    "\n",
    "  losses[epoch] = epoch_loss\n"
   ]
  },
  {
   "cell_type": "code",
   "execution_count": 113,
   "metadata": {},
   "outputs": [
    {
     "data": {
      "text/plain": [
       "[<matplotlib.lines.Line2D at 0x297215650>]"
      ]
     },
     "execution_count": 113,
     "metadata": {},
     "output_type": "execute_result"
    },
    {
     "data": {
      "image/png": "[encoded data removed]",
      "text/plain": [
       "<Figure size 640x480 with 1 Axes>"
      ]
     },
     "metadata": {},
     "output_type": "display_data"
    }
   ],
   "source": [
    "fig, ax = plt.subplots()\n",
    "\n",
    "ax.plot(losses)"
   ]
  },
  {
   "cell_type": "code",
   "execution_count": 114,
   "metadata": {},
   "outputs": [
    {
     "data": {
      "text/plain": [
       "tensor([202.6672,  10.6993,  10.0371,   9.5032,   9.0839,   8.7271,   8.4041,\n",
       "          8.1060,   7.8399,   7.6121])"
      ]
     },
     "execution_count": 114,
     "metadata": {},
     "output_type": "execute_result"
    }
   ],
   "source": [
    "losses"
   ]
  }
 ],
 "metadata": {
  "kernelspec": {
   "display_name": "Python 3",
   "language": "python",
   "name": "python3"
  },
  "language_info": {
   "codemirror_mode": {
    "name": "ipython",
    "version": 3
   },
   "file_extension": ".py",
   "mimetype": "text/x-python",
   "name": "python",
   "nbconvert_exporter": "python",
   "pygments_lexer": "ipython3",
   "version": "3.11.8"
  }
 },
 "nbformat": 4,
 "nbformat_minor": 2
}
