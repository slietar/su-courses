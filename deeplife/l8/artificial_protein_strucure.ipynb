{
  "nbformat": 4,
  "nbformat_minor": 0,
  "metadata": {
    "colab": {
      "provenance": []
    },
    "kernelspec": {
      "name": "python3",
      "display_name": "Python 3"
    },
    "language_info": {
      "name": "python"
    }
  },
  "cells": [
    {
      "cell_type": "markdown",
      "source": [
        "# Modelling artifical protein using AlphaFold model\n",
        "\n",
        "This laboratory provides a more bioinformatician-like look into the predicted structure protein data and requires a bit more thinking outside of the box. There are many possible ways of completing the task so creativity is encouraged.\n",
        "\n",
        "In the UniProt database find the following protein: A0A1M9INC4\n",
        "\n",
        "Answer the following questions:\n",
        "1. What is this protein? What is it's function?\n",
        "2. Does this protein have an experimental structure (from PDB database)?\n",
        "3. Is this structure covering a full protein?\n",
        "4. Does this protein have an ML structure prediction (AlphaFold)?\n",
        "\n",
        "Download this structure in the PDB format from the AlphaFold database and complete the next section."
      ],
      "metadata": {
        "id": "CxsIteZnMksi"
      }
    },
    {
      "cell_type": "code",
      "source": [
        "!pip install py3Dmol\n",
        "!pip install topoly"
      ],
      "metadata": {
        "id": "INomF-gtMkMC"
      },
      "execution_count": null,
      "outputs": []
    },
    {
      "cell_type": "code",
      "source": [
        "file_path = \"YOUR_PATH_HERE\""
      ],
      "metadata": {
        "id": "JhwEyDEEMf20"
      },
      "execution_count": 17,
      "outputs": []
    },
    {
      "cell_type": "code",
      "execution_count": null,
      "metadata": {
        "id": "Lros2AYdIVXr"
      },
      "outputs": [],
      "source": [
        "import py3Dmol\n",
        "import glob\n",
        "import matplotlib.pyplot as plt\n",
        "\n",
        "def show_pdb(pdb_path, coloring=\"rainbow\"):\n",
        "    pdb_file = glob.glob(pdb_path)\n",
        "    model_name = f\"struct\"\n",
        "    view = py3Dmol.view(js='https://3dmol.org/build/3Dmol.js',)\n",
        "    view.addModel(open(pdb_file[0],'r').read(),'pdb')\n",
        "    if coloring == \"rainbow\":\n",
        "        view.setStyle({'cartoon': {'color':'spectrum'}})\n",
        "    elif coloring == \"lddt\":\n",
        "        view.setStyle({'cartoon': {'colorscheme': {'prop':'b','gradient': 'roygb','min':50,'max':90}}})\n",
        "\n",
        "    view.zoomTo()\n",
        "    return view\n",
        "\n",
        "show_pdb(file_path, \"lddt\").show()"
      ]
    },
    {
      "cell_type": "markdown",
      "source": [
        "Answer the questions:\n",
        "1. Do you think this is a good prediction or an artifact? Why?\n",
        "2. Visualize the protein with \"lddt\" coloring. What can you say about the prediction now?\n",
        "\n",
        "\n",
        "# TrmD topology analysis\n",
        "Search this protein in the AlphaKnot 2.0 Database.\n",
        "It appears this protein has the 3_1 topology in the middle of the protein.\n",
        "\n",
        "1. 3_1 topology is the type of topology with 3 crossings identifiable along the backbone. Can you approximately locate those crossings? (It might be helpful to support yourself with the knot_pull simplification at the bottom of the AlphaKnot site -- green structure).\n",
        "\n",
        "## Task: Mutate the sequence of A0A1M9INC4 protein to create an unknotted structure.\n",
        "\n",
        "The goal is to include possibly small changes in structure to change the topology. This means we want the structure to be kept mostly intact and modify only some crucial protein fragment.\n",
        "\n",
        "To complete the task you may use the following guideline, however creativity is welcomed:\n",
        "1. If you successfully located the crossings, think, if you can potentially modify them to change the topology? Think about available space around, the secondary structures and other limting factors.\n",
        "2. After locating a candidate how would you apply the changes? What needs to happen to change the topology?\n",
        "3. To predict the new structure based on the sequence you may use either AlphaFold or ESMFold. Both models are accessible via online services:\n",
        "    - https://colab.research.google.com/github/sokrypton/ColabFold/blob/main/AlphaFold2.ipynb?authuser=2#scrollTo=KK7X9T44pWb7\n",
        "    - https://esmatlas.com/resources?action=fold\n",
        "4. Check the topology using topoly package (script below)\n",
        "5. Provide the mutated sequence and visualize the new prediction (in the ''pdb'' format)\n",
        "\n",
        "### Simplification\n",
        "As mentioned, there might be many solutions to this task.\n",
        "For the sake of unifying the solution, there is a protein fragment, that substituted with the following aminoacids creates a 0_1 (trivial) topology. This mutant was tested using the ESMFold model.\n",
        "\n",
        "KDKIVPPSKPRAVW"
      ],
      "metadata": {
        "id": "t00cVj1xOH9A"
      }
    },
    {
      "cell_type": "code",
      "source": [
        "import topoly\n",
        "\n",
        "prediction_path = \"YOUR_PATH_HERE\"\n",
        "\n",
        "prediction_topology = topoly.alexander(prediction_path)\n",
        "print(prediction_topology)\n",
        "show_pdb(prediction_path).show()"
      ],
      "metadata": {
        "id": "T5WakvmaYWo0"
      },
      "execution_count": null,
      "outputs": []
    }
  ]
}