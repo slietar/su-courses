{
 "cells": [
  {
   "cell_type": "markdown",
   "id": "f9e5c939",
   "metadata": {},
   "source": [
    "# Introduction au deep learning\n",
    "<!--\n",
    "Introduction à pytorch \n",
    "Reference: https://pytorch.org/tutorials/beginner/basics/intro.html\n",
    "utile pour moi pour Markdown https://github.com/adam-p/markdown-here/wiki/Markdown-Cheatsheet#emphasis\n",
    "-->"
   ]
  },
  {
   "cell_type": "code",
   "execution_count": 2,
   "id": "275aa23b",
   "metadata": {
    "scrolled": true
   },
   "outputs": [],
   "source": [
    "import torch\n",
    "import matplotlib.pyplot as plt\n",
    "import torchvision.transforms as transforms\n",
    "from torch import Tensor, nn\n",
    "from torch.utils.data import DataLoader\n",
    "from torchvision import datasets\n",
    "from torchvision.transforms import ToTensor\n"
   ]
  },
  {
   "cell_type": "markdown",
   "id": "7bc3e8f4",
   "metadata": {},
   "source": [
    "## Introduction aux Tenseurs\n",
    "But: Se familiariser avec les tenseurs et pytorch\n",
    "\n",
    "**Q1:** Telechargez le dataset MNIST \n",
    "\n",
    "Aidez vous de la reference suivante \n",
    "https://pytorch.org/vision/stable/generated/torchvision.datasets.MNIST.html\n",
    "\n",
    "\n",
    "Creez une variable dataset qui contient le dataset MNIST. \n",
    "Que contient ce jeux de donnée? \n",
    "Affichez img=dataset[0][0]\n"
   ]
  },
  {
   "cell_type": "code",
   "execution_count": 3,
   "id": "c917be00",
   "metadata": {},
   "outputs": [
    {
     "name": "stdout",
     "output_type": "stream",
     "text": [
      "5\n"
     ]
    },
    {
     "data": {
      "text/plain": [
       "<matplotlib.image.AxesImage at 0x17e5c75d0>"
      ]
     },
     "execution_count": 3,
     "metadata": {},
     "output_type": "execute_result"
    },
    {
     "data": {
      "image/png": "[encoded data removed]",
      "text/plain": [
       "<Figure size 640x480 with 1 Axes>"
      ]
     },
     "metadata": {},
     "output_type": "display_data"
    }
   ],
   "source": [
    "dataset = datasets.MNIST('./dataset', download=True)\n",
    "img = dataset[0][0]\n",
    "\n",
    "print(dataset[0][1])\n",
    "plt.imshow(img, cmap='gray')"
   ]
  },
  {
   "cell_type": "markdown",
   "id": "2eb3d43c",
   "metadata": {},
   "source": [
    "#### Images, tenseurs...?\n",
    "Une image est une matrice qui dans chacune de ses entrées un vecteur de dimension 3 correspondant à des intensités de RGB (Rouge, vert, bleu). Numériquement une image se représente comme un tableau avec trois dimensions: un tenseur de taille 3"
   ]
  },
  {
   "cell_type": "markdown",
   "metadata": {},
   "source": [
    "<img src=\"mediumtensors.webp\" alt=\"Alternative text\" />\n",
    "\n",
    "Image prise de https://medium.com/@schartz/the-shape-of-tensor-bab75001d7bc\n"
   ]
  },
  {
   "cell_type": "markdown",
   "id": "a48e6f29",
   "metadata": {},
   "source": [
    "**Q2:** Utiliser transforms.PILToTensor() pour convertir img en tenseur. Quelle est la forme du tenseur? A quoi correspondent les valeurs affichées? \n",
    "\n",
    "Vous pouvez vous aider des liens suivants pour la conversion\n",
    "https://pytorch.org/vision/stable/generated/torchvision.transforms.PILToTensor.html\n",
    "https://discuss.pytorch.org/t/pytorch-pil-to-tensor-and-vice-versa/6312\n",
    "\n",
    "et de cela pour la forme de\n",
    "https://pytorch.org/docs/stable/generated/Tensor.size.html\n",
    "ou de .shape"
   ]
  },
  {
   "cell_type": "code",
   "execution_count": 4,
   "id": "1633c786",
   "metadata": {},
   "outputs": [
    {
     "name": "stdout",
     "output_type": "stream",
     "text": [
      "torch.Size([784])\n",
      "torch.Size([784])\n"
     ]
    }
   ],
   "source": [
    "img_tensor = transforms.PILToTensor()(img).flatten().float()\n",
    "print(img_tensor.shape)\n",
    "print(img_tensor.size())"
   ]
  },
  {
   "cell_type": "markdown",
   "id": "a827bb48",
   "metadata": {},
   "source": [
    "#### Définition formelle de tenseurs et contraction\n",
    "Mathématiquement, des tenseurs de taille K sont des tableaux\n",
    "$$t:[1,n_1]\\times [1,n_2]\\times \\ldots \\times [1,n_K]\\to \\mathbb{R}$$\n",
    "Ils sont notés $t_{i_1i_2\\ldots i_K}$ avec $i_1\\in [1,n_1]$, $i_2\\in [1,n_2]$, $\\ldots$, $i_K\\in [1,n_K]$.\n",
    "Une matrice est un cas particulier des tenseurs $M:[1,n_1]\\times [1,n_2]\\to \\mathbb{R}$.\n",
    "\n",
    "La généralisation de la multiplication matricielle est la multiplication des tenseurs. Deux tenseurs $t^{(1)}$ et $t^{(2)}$ de taille respective $K_1$ et $K_2$ se multiplient sur un de leurs indices respectifs $I_1$ et $I_2$ de la façon suivante:\n",
    "\n",
    "$$ t^{(1)}.t^{(2)}= \\sum_{\\alpha \\in [1,n_{I_1}^{(1)}]}t_{i_1.. \\alpha.. i_K}^{(1)}t_{i_1.. \\alpha.. i_K}^{(2)}$$\n",
    "\n",
    "quand $n_{I_1}^{(1)}=n_{I_2}^{(2)}$. $t^{(1)}.t^{(2)}$ is of size $K_1-1+K_2-1$.\n",
    "\n",
    "Cette multiplication s'étend à des collections d'indices:\n",
    "\n",
    "\n",
    "$$ t^{(1)}.t^{(2)}= \\sum_{\\alpha,\\beta \\in [1,n_{I_1}^{(1)}]\\times [1,n_{J_1}^{(1)}]}t_{i_1.. \\alpha\\beta .. i_K}^{(1)}t_{i_1.. \\alpha\\beta .. i_K}^{(2)}$$\n"
   ]
  },
  {
   "cell_type": "markdown",
   "id": "33fb8a67",
   "metadata": {},
   "source": [
    "**Q3:** Definir un tenseur de forme [1,3,3,3] ne contenant que des 1.\n",
    "Definir un tenseur de forme [1,3,3,3] ne contenant que des 0\n",
    "Fait la multiplication sur la dernière coordonnée du premier tenseur et la dernière composante du deuxième\n",
    "Faire de meme pour la deuxieme du premier et la troisieme du deuxieme.\n",
    "\n",
    "Vous pouvez vous aider des liens suivants:\n",
    "https://pytorch.org/tutorials/beginner/basics/tensorqs_tutorial.html\n",
    "https://pytorch.org/docs/stable/generated/Tensordot.html\n",
    "https://pytorch.org/docs/stable/generated/torch.einsum.html    "
   ]
  },
  {
   "cell_type": "code",
   "execution_count": 5,
   "id": "e94260be",
   "metadata": {},
   "outputs": [
    {
     "name": "stdout",
     "output_type": "stream",
     "text": [
      "torch.Size([1, 3, 3, 1, 3, 3])\n",
      "torch.Size([1, 3, 3, 1, 3, 3])\n"
     ]
    }
   ],
   "source": [
    "t1 = torch.ones(1, 3, 3, 3)\n",
    "t2 = torch.zeros(1, 3, 3, 3)\n",
    "\n",
    "print(torch.tensordot(t1, t2, dims=([-1], [-1])).shape)\n",
    "print(torch.tensordot(t1, t2, dims=([1], [2])).shape)"
   ]
  },
  {
   "cell_type": "markdown",
   "id": "52062a8b",
   "metadata": {},
   "source": [
    "## Back propagation... pour un réseau à deux couches\n",
    "\n",
    "Reference: https://duchesnay.github.io/pystatsml/deep_learning/dl_backprop_numpy-pytorch-sklearn.html"
   ]
  },
  {
   "cell_type": "markdown",
   "id": "8a51f5e1",
   "metadata": {},
   "source": [
    "But: Créez un réseau neuronal ReLU entièrement connecté avec une seule couche cachée, où toutes les connexions sont pleinement connectées et sans termes de biais. Entraînez le réseau à prédire la sortie $y$ à partir de l'entrée $x$ en utilisant l'erreur euclidienne.\n",
    "    "
   ]
  },
  {
   "cell_type": "markdown",
   "id": "78595e65",
   "metadata": {},
   "source": [
    "Nous considérons un réseau à deux couches $f_{NN}$ avec comme poids deux matrices $W^{1},W^{2}$ qui \n",
    "    \n",
    "$$Y=W^{(2)}max(W^{(1)}X,0)$$\n",
    "\n",
    "avec $W^{(2)}\\in M_{n,m}(\\mathbb{R})$ and $W^{(1)}\\in M_{m,k}(\\mathbb{R})$. Les vecteurs de biais sont supposé être nuls. \n",
    "\n",
    "Dans une tâche de classification (*Apprentissage supervisé*), le jeu de données est constitué de signaux d'entrée $X$, pour MNIST des images, et de labels. Pour MNIST, le label représente le nombre associé à l'image. Un réseau de neurones est utilisé pour approximer $P(Y\\vert X)$."
   ]
  },
  {
   "cell_type": "markdown",
   "id": "fcef7806",
   "metadata": {},
   "source": [
    "### Implémenter un réseau de neurones à deux couches \n",
    "\n",
    "**Q4a:** Définir une fonction TwoLayer($W^{(1)},W^{(2)}$): Tensor[1,28,28] $\\to$ Tensor[9] qui prend une image en entrée et renvoie une quantité proportionnelle à des probabilités d'être dans une des classes. \n",
    "\n",
    "Aide trouver les bonne dimensions des matrices $n,m,k$: TwoLayer: Tensor[n,m]$\\times$ Tensor[m,k]$\\times$ Tensor[1,28,28] $\\to$ Tensor[9]\n",
    "\n"
   ]
  },
  {
   "cell_type": "code",
   "execution_count": 113,
   "id": "ee6ee023",
   "metadata": {},
   "outputs": [],
   "source": [
    "def two_layer(weights1: Tensor, weights2: Tensor, x: Tensor):\n",
    "  return weights2 @ torch.relu(weights1 @ x)"
   ]
  },
  {
   "cell_type": "markdown",
   "id": "347718e0",
   "metadata": {},
   "source": [
    "**Q4b:** Tester votre reseau en choisissant des matrices de poids aléatoires sur quelques images de MNIST. Proposez une \n",
    "méthode pour associer à une image une classe à partir de la sortie de votre réseau de neurone ainsi qu'une densité de probabilité\n",
    "sur les classes possibles. \n",
    "\n",
    "Aide: \n",
    "- tenseurs choisis aléatoirement https://pytorch.org/tutorials/beginner/basics/tensorqs_tutorial.html\n",
    "- règle de decision: Max-Pooling, softmax"
   ]
  },
  {
   "cell_type": "code",
   "execution_count": 80,
   "id": "f8519b05",
   "metadata": {},
   "outputs": [
    {
     "data": {
      "text/plain": [
       "tensor([ 2.4197e-07,  1.4188e-07, -1.9066e-07, -1.0792e-08, -6.2857e-08,\n",
       "        -1.9256e-07, -2.5806e-07, -1.4909e-07, -9.6214e-08, -6.1223e-08])"
      ]
     },
     "execution_count": 80,
     "metadata": {},
     "output_type": "execute_result"
    }
   ],
   "source": [
    "m = 12\n",
    "# weights1 = torch.rand((m, 28 * 28))\n",
    "# weights2 = torch.rand((10, m))\n",
    "weights1 = (torch.rand((m, 28 * 28)) * 2.0 - 1.0)\n",
    "weights2 = (torch.rand((10, m)) * 2.0 - 1.0)\n",
    "\n",
    "two_layer(weights1, weights2, img_tensor)"
   ]
  },
  {
   "cell_type": "markdown",
   "id": "e2f87469",
   "metadata": {},
   "source": [
    "**Q5** Calculez la matrice jacobienne de \n",
    " $$f(X)=W^{(2)}max(W^{(1)}X,0)$$\n",
    " \n",
    " et implémentez une fonction gradTwoLayer qui calcul cette matrice"
   ]
  },
  {
   "cell_type": "code",
   "execution_count": 326,
   "id": "a85e3646",
   "metadata": {},
   "outputs": [
    {
     "name": "stdout",
     "output_type": "stream",
     "text": [
      "torch.Size([12, 784, 10])\n",
      "torch.Size([10, 12, 10])\n"
     ]
    }
   ],
   "source": [
    "def grad_two_layer(weights1: Tensor, weights2: Tensor, tensor: Tensor):\n",
    "  return (\n",
    "    weights2.T[:, None, :] * tensor[None, :, None] * torch.where(weights1 @ tensor > 0, 1, 0)[:, None, None],\n",
    "    torch.eye(weights2.shape[0])[:, None, :] * torch.relu(weights1 @ tensor)[None, :, None]\n",
    "  )\n",
    "\n",
    "print(grad_two_layer(weights1, weights2, img_tensor)[0].shape)\n",
    "print(grad_two_layer(weights1, weights2, img_tensor)[1].shape)"
   ]
  },
  {
   "cell_type": "code",
   "execution_count": 328,
   "id": "a346a70a",
   "metadata": {},
   "outputs": [
    {
     "name": "stdout",
     "output_type": "stream",
     "text": [
      "True\n",
      "True\n"
     ]
    }
   ],
   "source": [
    "def test():\n",
    "  w1 = torch.rand((m, 28 * 28), requires_grad=True)\n",
    "  w2 = torch.rand((10, m), requires_grad=True)\n",
    "\n",
    "  a, b = grad_two_layer(w1, w2, img_tensor)\n",
    "  s = two_layer(w1, w2, img_tensor)\n",
    "\n",
    "  i = 0\n",
    "  s[i].backward()\n",
    "\n",
    "  print(torch.allclose(w1.grad, a[:, :, i]))\n",
    "  print(torch.allclose(w2.grad, b[:, :, i]))\n",
    "\n",
    "test()"
   ]
  },
  {
   "cell_type": "markdown",
   "id": "99166732",
   "metadata": {},
   "source": [
    "### Trouver une *bonne* fonction d'objectif à minimiser\n"
   ]
  },
  {
   "cell_type": "markdown",
   "id": "f5e70752",
   "metadata": {},
   "source": [
    "**Q6a** En vous rappelant du principe de maximum de vraissemblance vu dans les cours précédents, quelle fonction d'objectif (loss) proposeriez-vous pour trouver le réseau de neurone qui approche le mieux $P(Y\\vert X)$ sur le jeu de données de MNIST $(X_i,Y_i, i\\leq 60000)$.\n",
    "Elle sera de la forme \n",
    "$$C(W^{(2)},W^{(1)})=\\sum_{i\\in I} l(f(X_i),Y_i)$$\n",
    "\n",
    "Aide:\n",
    "- Cherchez ce qu'est le softmax [ici](https://pytorch.org/docs/stable/generated/torch.nn.Softmax.html).\n",
    "- Cross-entropie [ici](https://pytorch.org/docs/stable/generated/torch.nn.CrossEntropyLoss.html).\n",
    "    "
   ]
  },
  {
   "cell_type": "code",
   "execution_count": 180,
   "id": "77cc92b1",
   "metadata": {},
   "outputs": [
    {
     "name": "stdout",
     "output_type": "stream",
     "text": [
      "tensor(2.3026)\n"
     ]
    }
   ],
   "source": [
    "def loss(x: Tensor, y: Tensor | int):\n",
    "  return -x.softmax(dim=0)[y].log()\n",
    "\n",
    "def loss_all(weights1: Tensor, weights2: Tensor, xs: Tensor, ys: Tensor):\n",
    "  return torch.tensor([loss(two_layer(weights1, weights2, x), y) for x, y in zip(xs, ys)]).sum()\n",
    "\n",
    "print(loss(two_layer(weights1, weights2, img_tensor), 5))"
   ]
  },
  {
   "cell_type": "code",
   "execution_count": 10,
   "id": "efc071b8",
   "metadata": {},
   "outputs": [
    {
     "name": "stdout",
     "output_type": "stream",
     "text": [
      "tensor([0.7576, 0.7963, 1.1406, 0.8594, 1.4890, 1.0613, 3.4199, 2.2458, 2.0178,\n",
      "        2.0007])\n",
      "tensor([0.7576, 0.7963, 1.1406, 0.8594, 1.4890, 1.0613, 3.4199, 2.2458, 2.0178,\n",
      "        2.0007])\n"
     ]
    }
   ],
   "source": [
    "# Cross-entropy loss test\n",
    "\n",
    "x = torch.randn(10, 5)\n",
    "y = torch.empty(x.shape[0], dtype=torch.long).random_(x.shape[1])\n",
    "\n",
    "l = -x.softmax(dim=1)[torch.arange(x.shape[0]), y].log()\n",
    "\n",
    "print(nn.CrossEntropyLoss(reduction='none')(x, y))\n",
    "print(l)"
   ]
  },
  {
   "cell_type": "markdown",
   "id": "823e2252",
   "metadata": {},
   "source": [
    "**Q6b** Implémenter le gradient de C en vous aidant des questions précédentes (**Q5**)\n",
    "\n",
    "Aide: pensez à implémenter le gradient de $l(f(X_i),Y_i)$ puis à sommer ce gradient sur le jeu de donnée."
   ]
  },
  {
   "cell_type": "code",
   "execution_count": 376,
   "id": "6f60f09c",
   "metadata": {},
   "outputs": [
    {
     "name": "stdout",
     "output_type": "stream",
     "text": [
      "True\n"
     ]
    }
   ],
   "source": [
    "# grad_softmax() test\n",
    "\n",
    "def test():\n",
    "  x = torch.tensor([1.0, 2.0, 3.0], requires_grad=True)\n",
    "  y = torch.softmax(x, dim=0)\n",
    "\n",
    "  i = 0\n",
    "  y[i].backward()\n",
    "\n",
    "  print(x.grad.allclose(grad_softmax(x)[i, :]))\n",
    "\n",
    "test()"
   ]
  },
  {
   "cell_type": "code",
   "execution_count": 446,
   "id": "8b8cc729",
   "metadata": {},
   "outputs": [
    {
     "name": "stdout",
     "output_type": "stream",
     "text": [
      "torch.Size([12, 784])\n",
      "torch.Size([10, 12])\n"
     ]
    }
   ],
   "source": [
    "def grad_softmax(v: Tensor):\n",
    "  return torch.eye(v.shape[0]) * v.exp()[:, None] / v.exp().sum() - v.exp()[:, None] * v.exp() / v.exp().sum() ** 2\n",
    "\n",
    "def grad_loss(weights1: Tensor, weights2: Tensor, x: Tensor, y: Tensor | int):\n",
    "  p = two_layer(weights1, weights2, x)\n",
    "  p_sum = p.sum()\n",
    "\n",
    "  a, b = grad_two_layer(weights1, weights2, x)\n",
    "  # a = a / p_sum - p[None, None, :] * a.sum(dim=2)[:, :, None] / p_sum ** 2\n",
    "  # b = b / p_sum - p[None, None, :] * b.sum(dim=2)[:, :, None] / p_sum ** 2\n",
    "  # p = p / p_sum\n",
    "\n",
    "  # a += 2.0\n",
    "  # b += 2.0\n",
    "  # p *= 2.0\n",
    "\n",
    "  # a = a / a.sum(dim=0)\n",
    "  # b = b / b.sum(dim=0)\n",
    "\n",
    "  # print(a.shape)\n",
    "  # print(b.shape)\n",
    "\n",
    "  # print(a[:, :, None, :].shape)\n",
    "  # print(grad_softmax(two_layer(weights1, weights2, x))[:, y].shape)\n",
    "\n",
    "  # s = torch.einsum(\n",
    "  #   'ijk, i -> jk',\n",
    "  #   a,\n",
    "  #   grad_softmax(two_layer(weights1, weights2, x))[:, y]\n",
    "  # ) / -1.0 / x.softmax(dim=0)[y]\n",
    "\n",
    "  # s = -(grad_softmax(two_layer(weights1, weights2, x))[:, y][:] @ a[:, :, :, None])[..., 0] / x.softmax(dim=0)[y]\n",
    "  # print(s.shape)\n",
    "\n",
    "  # c = lambda ab: -torch.einsum('ijk, k -> ij', ab, grad_softmax(p)[y, :]) / p.softmax(dim=0)[y]\n",
    "  # c = lambda ab: -ab[:, :, y] * grad_softmax(p)[y, y] / p.softmax(dim=0)[y]\n",
    "\n",
    "  c = lambda ab: -torch.einsum('ijk, k -> ij', ab, grad_softmax(p)[y, :]) / p.softmax(dim=0)[y]\n",
    "\n",
    "  return c(a), c(b)\n",
    "\n",
    "  # return (\n",
    "  #   -(grad_softmax(p)[:, y] @ a[:, :, :, None])[..., 0] / p.softmax(dim=0)[y],\n",
    "  #   -(grad_softmax(p)[:, y] @ b[:, :, :, None])[..., 0] / p.softmax(dim=0)[y]\n",
    "  # )\n",
    "\n",
    "\n",
    "def grad_loss_all(weights1: Tensor, weights2: Tensor, xs: Tensor, ys: Tensor):\n",
    "  return tuple(torch.stack(l).sum(dim=0) for l in zip(*[grad_loss(weights1, weights2, x, y) for x, y in zip(xs, ys)]))\n",
    "\n",
    "# print(grad_softmax(two_layer(weights1, weights2, img_tensor)).shape)\n",
    "# print(grad_softmax(two_layer(weights1, weights2, img_tensor)))\n",
    "\n",
    "print(grad_loss(weights1, weights2, img_tensor, 5)[0].shape)\n",
    "print(grad_loss(weights1, weights2, img_tensor, 5)[1].shape)\n",
    "# print(grad_loss_all(weights1, weights2, torch.stack([img_tensor]), torch.tensor([5]))[0].shape)"
   ]
  },
  {
   "cell_type": "code",
   "execution_count": 447,
   "id": "2cce5af8",
   "metadata": {},
   "outputs": [
    {
     "name": "stdout",
     "output_type": "stream",
     "text": [
      "True\n",
      "True\n",
      "tensor([[0., 0., 0.,  ..., 0., 0., 0.],\n",
      "        [-0., -0., -0.,  ..., -0., -0., -0.],\n",
      "        [0., 0., 0.,  ..., 0., 0., 0.],\n",
      "        ...,\n",
      "        [0., 0., 0.,  ..., 0., 0., 0.],\n",
      "        [0., 0., 0.,  ..., 0., 0., 0.],\n",
      "        [-0., -0., -0.,  ..., -0., -0., -0.]])\n"
     ]
    }
   ],
   "source": [
    "def test():\n",
    "  w1 = weights1.clone().detach().requires_grad_(True)\n",
    "  w2 = weights2.clone().detach().requires_grad_(True)\n",
    "\n",
    "  l = loss(two_layer(w1, w2, img_tensor), 5)\n",
    "  l.backward()\n",
    "\n",
    "  a, b = grad_loss(w1, w2, img_tensor, 5)\n",
    "\n",
    "  print(a.allclose(w1.grad))\n",
    "  print(b.allclose(w2.grad))\n",
    "  print(w1.grad)\n",
    "\n",
    "test()"
   ]
  },
  {
   "cell_type": "markdown",
   "id": "6da67ad9",
   "metadata": {},
   "source": [
    "### Descente de gradient\n",
    "\n",
    "**Q7a** Implémenter ce gradient et écrire une descente de gradient sur le jeu de donnée MNIST. \n",
    "\n",
    "**Q7a**  Tester les poids obtenus\n"
   ]
  },
  {
   "cell_type": "code",
   "execution_count": 444,
   "id": "958799db",
   "metadata": {},
   "outputs": [],
   "source": [
    "image_count = 100\n",
    "\n",
    "data_xs = torch.stack([transforms.PILToTensor()(image).flatten().float() for index, (image, _) in enumerate(dataset) if index < image_count])\n",
    "data_ys = torch.tensor([label for _, label in dataset][:image_count])\n",
    "\n",
    "image_count_training = round(0.8 * image_count)\n",
    "\n",
    "data_xs_training = data_xs[:image_count_training, :]\n",
    "data_ys_training = data_ys[:image_count_training]\n",
    "\n",
    "data_xs_test = data_xs[image_count_training:, :]\n",
    "data_ys_test = data_ys[image_count_training:]"
   ]
  },
  {
   "cell_type": "code",
   "execution_count": 450,
   "id": "675d1d59",
   "metadata": {},
   "outputs": [
    {
     "data": {
      "text/plain": [
       "<matplotlib.legend.Legend at 0x12d141a10>"
      ]
     },
     "execution_count": 450,
     "metadata": {},
     "output_type": "execute_result"
    },
    {
     "data": {
      "image/png": "[encoded data removed]",
      "text/plain": [
       "<Figure size 640x480 with 1 Axes>"
      ]
     },
     "metadata": {},
     "output_type": "display_data"
    },
    {
     "data": {
      "image/png": "[encoded data removed]",
      "text/plain": [
       "<Figure size 640x480 with 1 Axes>"
      ]
     },
     "metadata": {},
     "output_type": "display_data"
    }
   ],
   "source": [
    "w1 = weights1.clone()\n",
    "w2 = weights2.clone()\n",
    "\n",
    "eps = 1e-5\n",
    "epoch_count = 400\n",
    "losses = torch.empty((epoch_count, 2))\n",
    "acc = torch.empty((epoch_count, 2))\n",
    "\n",
    "def accuracy_all(weights1: Tensor, weights2, xs: Tensor, ys: Tensor):\n",
    "  return (torch.tensor([two_layer(weights1, weights2, x).softmax(dim=0).argmax() for x in xs]) == ys).sum() / len(ys)\n",
    "\n",
    "for epoch in range(epoch_count):\n",
    "  losses[epoch, 0] = loss_all(w1, w2, data_xs_training, data_ys_training) / len(data_ys_training)\n",
    "  losses[epoch, 1] = loss_all(w1, w2, data_xs_test, data_ys_test) / len(data_ys_test)\n",
    "\n",
    "  acc[epoch, 0] = accuracy_all(w1, w2, data_xs_training, data_ys_training)\n",
    "  acc[epoch, 1] = accuracy_all(w1, w2, data_xs_test, data_ys_test)\n",
    "\n",
    "  # print(epoch, 'Loss', l)\n",
    "\n",
    "  g = grad_loss_all(w1, w2, data_xs_training, data_ys_training)\n",
    "  w1 -= eps * g[0]\n",
    "  w2 -= eps * g[1]\n",
    "\n",
    "\n",
    "fig, ax = plt.subplots()\n",
    "\n",
    "ax.set_title('Loss')\n",
    "ax.plot(torch.arange(epoch_count), losses[:, 0], label='Training')\n",
    "ax.plot(torch.arange(epoch_count), losses[:, 1], label='Test')\n",
    "ax.legend()\n",
    "\n",
    "fig, ax2 = plt.subplots()\n",
    "\n",
    "ax2.set_title('Accuracy')\n",
    "ax2.plot(torch.arange(epoch_count), acc[:, 0], label='Training')\n",
    "ax2.plot(torch.arange(epoch_count), acc[:, 1], label='Test')\n",
    "ax2.legend()"
   ]
  },
  {
   "cell_type": "markdown",
   "id": "cae60009",
   "metadata": {},
   "source": [
    "## Back propagation... pour un réseau à trois couches? "
   ]
  },
  {
   "cell_type": "markdown",
   "id": "5a41b64d",
   "metadata": {},
   "source": [
    "**Q8a** Reprendre le meme exercice pour un reseau à 3 couches\n",
    "\n",
    "**Q8b** Comparez les resultats obtenus par rapport au réseau à deux couches"
   ]
  },
  {
   "cell_type": "markdown",
   "id": "ef44f947",
   "metadata": {},
   "source": [
    "## Back propagation!"
   ]
  },
  {
   "cell_type": "markdown",
   "id": "4ebb93ca",
   "metadata": {},
   "source": [
    "La backpropagation généralise le calcul du gradient d'un réseau de neurones à $n$ couches. Lisez la dernière page du chapitre 2 de votre cours pour apprendre comment cela est fait.\n",
    "\n",
    "Vous pouvez également lire [ce lien](http://neuralnetworksanddeeplearning.com/chap2.html). L'algorithme est rappelé ci-dessous, les images étant tirées de la référence précédente.\n"
   ]
  },
  {
   "cell_type": "markdown",
   "id": "f232c62e",
   "metadata": {},
   "source": [
    "<img src=\"tikz21.png\" alt=\"Alternative text\" />\n",
    "\n",
    "<img src=\"backpropagation-algorithm.png\" alt=\"Alternative text\" />"
   ]
  },
  {
   "cell_type": "markdown",
   "id": "7af5fdc6",
   "metadata": {},
   "source": [
    "**Q9** Implémentez le calcul du gradient d'un réseau à $n$ couches en utilisant la backpropagation.\n",
    "\n",
    "\n",
    "\n",
    "\n",
    "\n"
   ]
  },
  {
   "cell_type": "code",
   "execution_count": 487,
   "id": "51ab3254",
   "metadata": {},
   "outputs": [],
   "source": [
    "def relu_grad(x: Tensor):\n",
    "  return torch.where(x > 0, 1, 0)\n",
    "\n",
    "def cost(x: Tensor, y: Tensor | int):\n",
    "  return -x.softmax(dim=0)[y].log()\n",
    "\n",
    "def cost_grad(x: Tensor, y: Tensor | int):\n",
    "  return -grad_softmax(x)[:, y] / x.softmax(dim=0)[y]\n",
    "\n",
    "  # c = lambda ab: -torch.einsum('ijk, k -> ij', ab, grad_softmax(p)[y, :]) / p.softmax(dim=0)[y]"
   ]
  },
  {
   "cell_type": "code",
   "execution_count": 506,
   "id": "fbc70f57",
   "metadata": {},
   "outputs": [],
   "source": [
    "input_size = 28 * 28\n",
    "layers = [5, 6, 7, 10]\n",
    "\n",
    "wl = [torch.rand((b, a)) for a, b in zip([input_size, *layers[:-1]], layers)]\n",
    "bl = [torch.rand(b) for b in layers]\n",
    "\n",
    "zl = [torch.empty(b) for b in layers]\n",
    "al = [torch.empty(b) for b in layers]\n",
    "\n",
    "dl = [torch.empty(b) for b in layers]\n",
    "dwl = [torch.empty((b, a)) for a, b in zip([input_size, *layers[:-1]], layers)]\n",
    "\n",
    "x = torch.rand(input_size)\n",
    "y = 2\n",
    "\n",
    "for layer in range(len(layers)):\n",
    "  zl[layer] = wl[layer] @ (al[layer - 1] if layer > 0 else x) + bl[layer]\n",
    "  al[layer] = torch.relu(zl[layer])\n",
    "\n",
    "c = cost(al[-1], y)\n",
    "dl[-1] = cost_grad(al[-1], y) * relu_grad(zl[-1])\n",
    "\n",
    "for layer in range(len(layers) - 2, -1, -1):\n",
    "  dl[layer] = (wl[layer + 1].T @ dl[layer + 1]) * relu_grad(zl[layer])\n",
    "  dwl[layer] = dl[layer][:, None] * (al[layer - 1] if layer > 0 else x)"
   ]
  },
  {
   "cell_type": "markdown",
   "id": "ee81a6e1",
   "metadata": {},
   "source": [
    "**Q10** Implémentez la descente de gradient pour la loss de la question **Q6a** en utilisant la backpropagation.\n",
    "\n",
    "Votre code sera de la forme:\n",
    "\n",
    "```python\n",
    "for epoch in range(epochs):\n",
    "    for image in dataset: \n",
    "        calcul du gradient de l\n",
    "        calcul de la jacobienne du réseau de neurones appliqué à l'image \n",
    "  ```       \n",
    "        i.e. $f_{NN}(image)$ <--> algorithme de backpropagation\n",
    "   ``` \n",
    "        calcul du gradient de $l \\circ f_{NN}(image)$\n",
    "    somme des gradients pour chaque image\n",
    "    mise à jour des poids du réseau par backpropagation\n",
    " ``` "
   ]
  },
  {
   "cell_type": "code",
   "execution_count": null,
   "id": "09ce926c",
   "metadata": {},
   "outputs": [],
   "source": [
    "epoch_count = 100\n",
    "\n",
    "for epoch in range(epoch_count):\n",
    "  pass"
   ]
  },
  {
   "cell_type": "markdown",
   "id": "dbf01cbd",
   "metadata": {},
   "source": [
    "**Q11** Ouvrez nn_tutorial.ipynb pris de https://pytorch.org/tutorials/beginner/nn_tutorial.html"
   ]
  },
  {
   "cell_type": "code",
   "execution_count": null,
   "id": "937cac9b",
   "metadata": {},
   "outputs": [],
   "source": []
  }
 ],
 "metadata": {
  "kernelspec": {
   "display_name": "Python 3 (ipykernel)",
   "language": "python",
   "name": "python3"
  },
  "language_info": {
   "codemirror_mode": {
    "name": "ipython",
    "version": 3
   },
   "file_extension": ".py",
   "mimetype": "text/x-python",
   "name": "python",
   "nbconvert_exporter": "python",
   "pygments_lexer": "ipython3",
   "version": "3.11.6"
  }
 },
 "nbformat": 4,
 "nbformat_minor": 5
}
