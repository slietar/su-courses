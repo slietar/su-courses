{
 "cells": [
  {
   "cell_type": "markdown",
   "id": "f9e5c939",
   "metadata": {},
   "source": [
    "# Introduction au deep learning\n",
    "<!--\n",
    "Introduction à pytorch \n",
    "Reference: https://pytorch.org/tutorials/beginner/basics/intro.html\n",
    "utile pour moi pour Markdown https://github.com/adam-p/markdown-here/wiki/Markdown-Cheatsheet#emphasis\n",
    "-->"
   ]
  },
  {
   "cell_type": "code",
   "execution_count": 1,
   "id": "275aa23b",
   "metadata": {
    "scrolled": true
   },
   "outputs": [],
   "source": [
    "import torch\n",
    "import matplotlib.pyplot as plt\n",
    "import torchvision.transforms as transforms\n",
    "from torch import nn\n",
    "from torch.utils.data import DataLoader\n",
    "from torchvision import datasets\n",
    "from torchvision.transforms import ToTensor\n"
   ]
  },
  {
   "cell_type": "markdown",
   "id": "7bc3e8f4",
   "metadata": {},
   "source": [
    "## Introduction aux Tenseurs\n",
    "But: Se familiariser avec les tenseurs et pytorch\n",
    "\n",
    "**Q1:** Telechargez le dataset MNIST \n",
    "\n",
    "Aidez vous de la reference suivante \n",
    "https://pytorch.org/vision/stable/generated/torchvision.datasets.MNIST.html\n",
    "\n",
    "\n",
    "Creez une variable dataset qui contient le dataset MNIST. \n",
    "Que contient ce jeux de donnée? \n",
    "Affichez img=dataset[0][0]\n"
   ]
  },
  {
   "cell_type": "code",
   "execution_count": 12,
   "id": "c917be00",
   "metadata": {},
   "outputs": [
    {
     "name": "stdout",
     "output_type": "stream",
     "text": [
      "5\n"
     ]
    },
    {
     "data": {
      "text/plain": [
       "<matplotlib.image.AxesImage at 0x16d4e3b50>"
      ]
     },
     "execution_count": 12,
     "metadata": {},
     "output_type": "execute_result"
    },
    {
     "data": {
      "image/png": "[encoded data removed]",
      "text/plain": [
       "<Figure size 640x480 with 1 Axes>"
      ]
     },
     "metadata": {},
     "output_type": "display_data"
    }
   ],
   "source": [
    "dataset = datasets.MNIST('./dataset', download=True)\n",
    "img = dataset[0][0]\n",
    "\n",
    "print(dataset[0][1])\n",
    "plt.imshow(img, cmap='gray')"
   ]
  },
  {
   "cell_type": "markdown",
   "id": "2eb3d43c",
   "metadata": {},
   "source": [
    "#### Images, tenseurs...?\n",
    "Une image est une matrice qui dans chacune de ses entrées un vecteur de dimension 3 correspondant à des intensités de RGB (Rouge, vert, bleu). Numériquement une image se représente comme un tableau avec trois dimensions: un tenseur de taille 3"
   ]
  },
  {
   "cell_type": "markdown",
   "metadata": {},
   "source": [
    "<img src=\"mediumtensors.webp\" alt=\"Alternative text\" />\n",
    "\n",
    "Image prise de https://medium.com/@schartz/the-shape-of-tensor-bab75001d7bc\n"
   ]
  },
  {
   "cell_type": "markdown",
   "id": "a48e6f29",
   "metadata": {},
   "source": [
    "**Q2:** Utiliser transforms.PILToTensor() pour convertir img en tenseur. Quelle est la forme du tenseur? A quoi correspondent les valeurs affichées? \n",
    "\n",
    "Vous pouvez vous aider des liens suivants pour la conversion\n",
    "https://pytorch.org/vision/stable/generated/torchvision.transforms.PILToTensor.html\n",
    "https://discuss.pytorch.org/t/pytorch-pil-to-tensor-and-vice-versa/6312\n",
    "\n",
    "et de cela pour la forme de\n",
    "https://pytorch.org/docs/stable/generated/torch.Tensor.size.html\n",
    "ou de .shape"
   ]
  },
  {
   "cell_type": "code",
   "execution_count": 76,
   "id": "1633c786",
   "metadata": {},
   "outputs": [
    {
     "name": "stdout",
     "output_type": "stream",
     "text": [
      "torch.Size([784])\n",
      "torch.Size([784])\n"
     ]
    }
   ],
   "source": [
    "img_tensor = transforms.PILToTensor()(img).flatten().float()\n",
    "print(img_tensor.shape)\n",
    "print(img_tensor.size())"
   ]
  },
  {
   "cell_type": "markdown",
   "id": "a827bb48",
   "metadata": {},
   "source": [
    "#### Définition formelle de tenseurs et contraction\n",
    "Mathématiquement, des tenseurs de taille K sont des tableaux\n",
    "$$t:[1,n_1]\\times [1,n_2]\\times \\ldots \\times [1,n_K]\\to \\mathbb{R}$$\n",
    "Ils sont notés $t_{i_1i_2\\ldots i_K}$ avec $i_1\\in [1,n_1]$, $i_2\\in [1,n_2]$, $\\ldots$, $i_K\\in [1,n_K]$.\n",
    "Une matrice est un cas particulier des tenseurs $M:[1,n_1]\\times [1,n_2]\\to \\mathbb{R}$.\n",
    "\n",
    "La généralisation de la multiplication matricielle est la multiplication des tenseurs. Deux tenseurs $t^{(1)}$ et $t^{(2)}$ de taille respective $K_1$ et $K_2$ se multiplient sur un de leurs indices respectifs $I_1$ et $I_2$ de la façon suivante:\n",
    "\n",
    "$$ t^{(1)}.t^{(2)}= \\sum_{\\alpha \\in [1,n_{I_1}^{(1)}]}t_{i_1.. \\alpha.. i_K}^{(1)}t_{i_1.. \\alpha.. i_K}^{(2)}$$\n",
    "\n",
    "quand $n_{I_1}^{(1)}=n_{I_2}^{(2)}$. $t^{(1)}.t^{(2)}$ is of size $K_1-1+K_2-1$.\n",
    "\n",
    "Cette multiplication s'étend à des collections d'indices:\n",
    "\n",
    "\n",
    "$$ t^{(1)}.t^{(2)}= \\sum_{\\alpha,\\beta \\in [1,n_{I_1}^{(1)}]\\times [1,n_{J_1}^{(1)}]}t_{i_1.. \\alpha\\beta .. i_K}^{(1)}t_{i_1.. \\alpha\\beta .. i_K}^{(2)}$$\n"
   ]
  },
  {
   "cell_type": "markdown",
   "id": "33fb8a67",
   "metadata": {},
   "source": [
    "**Q3:** Definir un tenseur de forme [1,3,3,3] ne contenant que des 1.\n",
    "Definir un tenseur de forme [1,3,3,3] ne contenant que des 0\n",
    "Fait la multiplication sur la dernière coordonnée du premier tenseur et la dernière composante du deuxième\n",
    "Faire de meme pour la deuxieme du premier et la troisieme du deuxieme.\n",
    "\n",
    "Vous pouvez vous aider des liens suivants:\n",
    "https://pytorch.org/tutorials/beginner/basics/tensorqs_tutorial.html\n",
    "https://pytorch.org/docs/stable/generated/torch.tensordot.html\n",
    "https://pytorch.org/docs/stable/generated/torch.einsum.html    "
   ]
  },
  {
   "cell_type": "code",
   "execution_count": 25,
   "id": "e94260be",
   "metadata": {},
   "outputs": [
    {
     "name": "stdout",
     "output_type": "stream",
     "text": [
      "torch.Size([1, 3, 3, 1, 3, 3])\n",
      "torch.Size([1, 3, 3, 1, 3, 3])\n"
     ]
    }
   ],
   "source": [
    "t1 = torch.ones(1, 3, 3, 3)\n",
    "t2 = torch.zeros(1, 3, 3, 3)\n",
    "\n",
    "print(torch.tensordot(t1, t2, dims=([-1], [-1])).shape)\n",
    "print(torch.tensordot(t1, t2, dims=([1], [2])).shape)"
   ]
  },
  {
   "cell_type": "markdown",
   "id": "52062a8b",
   "metadata": {},
   "source": [
    "## Back propagation... pour un réseau à deux couches\n",
    "\n",
    "Reference: https://duchesnay.github.io/pystatsml/deep_learning/dl_backprop_numpy-pytorch-sklearn.html"
   ]
  },
  {
   "cell_type": "markdown",
   "id": "8a51f5e1",
   "metadata": {},
   "source": [
    "But: Créez un réseau neuronal ReLU entièrement connecté avec une seule couche cachée, où toutes les connexions sont pleinement connectées et sans termes de biais. Entraînez le réseau à prédire la sortie $y$ à partir de l'entrée $x$ en utilisant l'erreur euclidienne.\n",
    "    "
   ]
  },
  {
   "cell_type": "markdown",
   "id": "78595e65",
   "metadata": {},
   "source": [
    "Nous considérons un réseau à deux couches $f_{NN}$ avec comme poids deux matrices $W^{1},W^{2}$ qui \n",
    "    \n",
    "$$Y=W^{(2)}max(W^{(1)}X,0)$$\n",
    "\n",
    "avec $W^{(2)}\\in M_{n,m}(\\mathbb{R})$ and $W^{(1)}\\in M_{m,k}(\\mathbb{R})$. Les vecteurs de biais sont supposé être nuls. \n",
    "\n",
    "Dans une tâche de classification (*Apprentissage supervisé*), le jeu de données est constitué de signaux d'entrée $X$, pour MNIST des images, et de labels. Pour MNIST, le label représente le nombre associé à l'image. Un réseau de neurones est utilisé pour approximer $P(Y\\vert X)$."
   ]
  },
  {
   "cell_type": "markdown",
   "id": "fcef7806",
   "metadata": {},
   "source": [
    "### Implémenter un réseau de neurones à deux couches \n",
    "\n",
    "**Q4a:** Définir une fonction TwoLayer($W^{(1)},W^{(2)}$): torch.Tensor[1,28,28] $\\to$ torch.Tensor[9] qui prend une image en entrée et renvoie une quantité proportionnelle à des probabilités d'être dans une des classes. \n",
    "\n",
    "Aide trouver les bonne dimensions des matrices $n,m,k$: TwoLayer: torch.Tensor[n,m]$\\times$ torch.Tensor[m,k]$\\times$ torch.Tensor[1,28,28] $\\to$ torch.Tensor[9]\n",
    "\n"
   ]
  },
  {
   "cell_type": "code",
   "execution_count": 77,
   "id": "ee6ee023",
   "metadata": {},
   "outputs": [],
   "source": [
    "def two_layer(weights1: torch.Tensor, weights2: torch.Tensor, x: torch.Tensor):\n",
    "  return weights2 @ torch.nn.ReLU()(weights1 @ x)"
   ]
  },
  {
   "cell_type": "markdown",
   "id": "347718e0",
   "metadata": {},
   "source": [
    "**Q4b:** Tester votre reseau en choisissant des matrices de poids aléatoires sur quelques images de MNIST. Proposez une \n",
    "méthode pour associer à une image une classe à partir de la sortie de votre réseau de neurone ainsi qu'une densité de probabilité\n",
    "sur les classes possibles. \n",
    "\n",
    "Aide: \n",
    "- tenseurs choisis aléatoirement https://pytorch.org/tutorials/beginner/basics/tensorqs_tutorial.html\n",
    "- règle de decision: Max-Pooling, softmax"
   ]
  },
  {
   "cell_type": "code",
   "execution_count": 59,
   "id": "f8519b05",
   "metadata": {},
   "outputs": [
    {
     "data": {
      "text/plain": [
       "tensor([ 90461.0156, 120537.2656,  60851.1719,  92025.2500, 120722.7656,\n",
       "         88467.5781,  86849.8750,  66228.4531,  67731.3594,  78733.7344])"
      ]
     },
     "execution_count": 59,
     "metadata": {},
     "output_type": "execute_result"
    }
   ],
   "source": [
    "m = 12\n",
    "weights1 = torch.rand((m, 28 * 28))\n",
    "weights2 = torch.rand((10, m))\n",
    "\n",
    "two_layer(weights1, weights2, img_tensor)"
   ]
  },
  {
   "cell_type": "markdown",
   "id": "e2f87469",
   "metadata": {},
   "source": [
    "**Q5** Calculez la matrice jacobienne de \n",
    " $$f(X)=W^{(2)}max(W^{(1)}X,0)$$\n",
    " \n",
    " et implémentez une fonction gradTwoLayer qui calcul cette matrice"
   ]
  },
  {
   "cell_type": "code",
   "execution_count": 104,
   "id": "a85e3646",
   "metadata": {},
   "outputs": [
    {
     "name": "stdout",
     "output_type": "stream",
     "text": [
      "torch.Size([10, 784, 12])\n",
      "torch.Size([10, 12, 10])\n"
     ]
    }
   ],
   "source": [
    "def grad_two_layer(weights1: torch.Tensor, weights2: torch.Tensor, tensor: torch.Tensor):\n",
    "  # print(torch.eye(weights1.shape[0]).shape)\n",
    "  # print(tensor.shape)\n",
    "  # print(torch.nn.ReLU()(torch.eye(weights1.shape[0])[:,None,:] * tensor[None, :, None]).shape)\n",
    "  # print(weights2[:, None, None, :].shape)\n",
    "\n",
    "  return (\n",
    "    torch.einsum(\n",
    "      'ji, ikl -> jkl',\n",
    "      weights2,\n",
    "      nn.ReLU()(torch.eye(weights1.shape[0])[:, None, :] * tensor[None, :, None]),\n",
    "    ),\n",
    "    torch.eye(weights2.shape[0])[:, None, :] * nn.ReLU()(weights1 @ tensor)[None, :, None]\n",
    "  )\n",
    "\n",
    "x = grad_two_layer(weights1, weights2, img_tensor)\n",
    "print(x[0].shape)\n",
    "print(x[1].shape)"
   ]
  },
  {
   "cell_type": "markdown",
   "id": "99166732",
   "metadata": {},
   "source": [
    "### Trouver une *bonne* fonction d'objectif à minimiser\n"
   ]
  },
  {
   "cell_type": "markdown",
   "id": "f5e70752",
   "metadata": {},
   "source": [
    "**Q6a** En vous rappelant du principe de maximum de vraissemblance vu dans les cours précédents, quelle fonction d'objectif (loss) proposeriez-vous pour trouver le réseau de neurone qui approche le mieux $P(Y\\vert X)$ sur le jeu de données de MNIST $(X_i,Y_i, i\\leq 60000)$.\n",
    "Elle sera de la forme \n",
    "$$C(W^{(2)},W^{(1)})=\\sum_{i\\in I} l(f(X_i),Y_i)$$\n",
    "\n",
    "Aide:\n",
    "- Cherchez ce qu'est le softmax [ici](https://pytorch.org/docs/stable/generated/torch.nn.Softmax.html).\n",
    "- Cross-entropie [ici](https://pytorch.org/docs/stable/generated/torch.nn.CrossEntropyLoss.html).\n",
    "    "
   ]
  },
  {
   "cell_type": "code",
   "execution_count": null,
   "id": "77cc92b1",
   "metadata": {},
   "outputs": [],
   "source": [
    "def loss(x: torch.Tensor):\n",
    "  return nn.CrossEntropyLoss()(nn.Softmax(two_layer(weights1, weights2, x)))"
   ]
  },
  {
   "cell_type": "markdown",
   "id": "823e2252",
   "metadata": {},
   "source": [
    "**Q6b** Implémenter le gradient de C en vous aidant des questions précédentes (**Q5**)\n",
    "\n",
    "Aide: pensez à implémenter le gradient de $l(f(X_i),Y_i)$ puis à sommer ce gradient sur le jeu de donnée."
   ]
  },
  {
   "cell_type": "markdown",
   "id": "6da67ad9",
   "metadata": {},
   "source": [
    "### Descente de gradient\n",
    "\n",
    "**Q7a** Implémenter ce gradient et écrire une descente de gradient sur le jeu de donnée MNIST. \n",
    "\n",
    "**Q7a**  Tester les poids obtenus\n"
   ]
  },
  {
   "cell_type": "markdown",
   "id": "cae60009",
   "metadata": {},
   "source": [
    "## Back propagation... pour un réseau à trois couches? "
   ]
  },
  {
   "cell_type": "markdown",
   "id": "5a41b64d",
   "metadata": {},
   "source": [
    "**Q8a** Reprendre le meme exercice pour un reseau à 3 couches\n",
    "\n",
    "**Q8b** Comparez les resultats obtenus par rapport au réseau à deux couches"
   ]
  },
  {
   "cell_type": "markdown",
   "id": "ef44f947",
   "metadata": {},
   "source": [
    "## Back propagation!"
   ]
  },
  {
   "cell_type": "markdown",
   "id": "4ebb93ca",
   "metadata": {},
   "source": [
    "La backpropagation généralise le calcul du gradient d'un réseau de neurones à $n$ couches. Lisez la dernière page du chapitre 2 de votre cours pour apprendre comment cela est fait.\n",
    "\n",
    "Vous pouvez également lire [ce lien](http://neuralnetworksanddeeplearning.com/chap2.html). L'algorithme est rappelé ci-dessous, les images étant tirées de la référence précédente.\n"
   ]
  },
  {
   "cell_type": "markdown",
   "id": "f232c62e",
   "metadata": {},
   "source": [
    "<img src=\"tikz21.png\" alt=\"Alternative text\" />\n",
    "\n",
    "<img src=\"backpropagation-algorithm.png\" alt=\"Alternative text\" />"
   ]
  },
  {
   "cell_type": "markdown",
   "id": "7af5fdc6",
   "metadata": {},
   "source": [
    "**Q9** Implémentez le calcul du gradient d'un réseau à $n$ couches en utilisant la backpropagation.\n",
    "\n",
    "\n",
    "\n",
    "\n",
    "\n"
   ]
  },
  {
   "cell_type": "markdown",
   "id": "ee81a6e1",
   "metadata": {},
   "source": [
    "**Q10** Implémentez la descente de gradient pour la loss de la question **Q6a** en utilisant la backpropagation.\n",
    "\n",
    "Votre code sera de la forme:\n",
    "\n",
    "```python\n",
    "for epoch in range(epochs):\n",
    "    for image in dataset: \n",
    "        calcul du gradient de l\n",
    "        calcul de la jacobienne du réseau de neurones appliqué à l'image \n",
    "  ```       \n",
    "        i.e. $f_{NN}(image)$ <--> algorithme de backpropagation\n",
    "   ``` \n",
    "        calcul du gradient de $l \\circ f_{NN}(image)$\n",
    "    somme des gradients pour chaque image\n",
    "    mise à jour des poids du réseau par backpropagation\n",
    " ``` "
   ]
  },
  {
   "cell_type": "markdown",
   "id": "dbf01cbd",
   "metadata": {},
   "source": [
    "**Q11** Ouvrez nn_tutorial.ipynb pris de https://pytorch.org/tutorials/beginner/nn_tutorial.html"
   ]
  },
  {
   "cell_type": "code",
   "execution_count": null,
   "id": "937cac9b",
   "metadata": {},
   "outputs": [],
   "source": []
  }
 ],
 "metadata": {
  "kernelspec": {
   "display_name": "Python 3 (ipykernel)",
   "language": "python",
   "name": "python3"
  },
  "language_info": {
   "codemirror_mode": {
    "name": "ipython",
    "version": 3
   },
   "file_extension": ".py",
   "mimetype": "text/x-python",
   "name": "python",
   "nbconvert_exporter": "python",
   "pygments_lexer": "ipython3",
   "version": "3.11.6"
  }
 },
 "nbformat": 4,
 "nbformat_minor": 5
}
