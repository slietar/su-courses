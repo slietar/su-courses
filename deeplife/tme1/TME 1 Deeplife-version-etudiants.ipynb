{
 "cells": [
  {
   "cell_type": "markdown",
   "id": "f9e5c939",
   "metadata": {},
   "source": [
    "# Introduction au deep learning\n",
    "<!--\n",
    "Introduction à pytorch \n",
    "Reference: https://pytorch.org/tutorials/beginner/basics/intro.html\n",
    "utile pour moi pour Markdown https://github.com/adam-p/markdown-here/wiki/Markdown-Cheatsheet#emphasis\n",
    "-->"
   ]
  },
  {
   "cell_type": "code",
   "execution_count": 2,
   "id": "275aa23b",
   "metadata": {
    "scrolled": true
   },
   "outputs": [],
   "source": [
    "import torch\n",
    "import matplotlib.pyplot as plt\n",
    "import torchvision.transforms as transforms\n",
    "from torch import Tensor, nn\n",
    "from torch.utils.data import DataLoader\n",
    "from torchvision import datasets\n",
    "from torchvision.transforms import ToTensor\n"
   ]
  },
  {
   "cell_type": "markdown",
   "id": "7bc3e8f4",
   "metadata": {},
   "source": [
    "## Introduction aux Tenseurs\n",
    "But: Se familiariser avec les tenseurs et pytorch\n",
    "\n",
    "**Q1:** Telechargez le dataset MNIST \n",
    "\n",
    "Aidez vous de la reference suivante \n",
    "https://pytorch.org/vision/stable/generated/torchvision.datasets.MNIST.html\n",
    "\n",
    "\n",
    "Creez une variable dataset qui contient le dataset MNIST. \n",
    "Que contient ce jeux de donnée? \n",
    "Affichez img=dataset[0][0]\n"
   ]
  },
  {
   "cell_type": "code",
   "execution_count": 59,
   "id": "c917be00",
   "metadata": {},
   "outputs": [
    {
     "name": "stdout",
     "output_type": "stream",
     "text": [
      "5\n"
     ]
    },
    {
     "data": {
      "text/plain": [
       "<matplotlib.image.AxesImage at 0x14cd2d4d0>"
      ]
     },
     "execution_count": 59,
     "metadata": {},
     "output_type": "execute_result"
    },
    {
     "data": {
      "image/png": "[encoded data removed]",
      "text/plain": [
       "<Figure size 640x480 with 1 Axes>"
      ]
     },
     "metadata": {},
     "output_type": "display_data"
    }
   ],
   "source": [
    "dataset = datasets.MNIST('./dataset', download=True)\n",
    "img = dataset[0][0]\n",
    "\n",
    "print(dataset[0][1])\n",
    "plt.imshow(img, cmap='gray')\n"
   ]
  },
  {
   "cell_type": "markdown",
   "id": "2eb3d43c",
   "metadata": {},
   "source": [
    "#### Images, tenseurs...?\n",
    "Une image est une matrice qui dans chacune de ses entrées un vecteur de dimension 3 correspondant à des intensités de RGB (Rouge, vert, bleu). Numériquement une image se représente comme un tableau avec trois dimensions: un tenseur de taille 3"
   ]
  },
  {
   "cell_type": "markdown",
   "metadata": {},
   "source": [
    "<img src=\"mediumtensors.webp\" alt=\"Alternative text\" />\n",
    "\n",
    "Image prise de https://medium.com/@schartz/the-shape-of-tensor-bab75001d7bc\n"
   ]
  },
  {
   "cell_type": "markdown",
   "id": "a48e6f29",
   "metadata": {},
   "source": [
    "**Q2:** Utiliser transforms.PILToTensor() pour convertir img en tenseur. Quelle est la forme du tenseur? A quoi correspondent les valeurs affichées? \n",
    "\n",
    "Vous pouvez vous aider des liens suivants pour la conversion\n",
    "https://pytorch.org/vision/stable/generated/torchvision.transforms.PILToTensor.html\n",
    "https://discuss.pytorch.org/t/pytorch-pil-to-tensor-and-vice-versa/6312\n",
    "\n",
    "et de cela pour la forme de\n",
    "https://pytorch.org/docs/stable/generated/Tensor.size.html\n",
    "ou de .shape"
   ]
  },
  {
   "cell_type": "code",
   "execution_count": 4,
   "id": "1633c786",
   "metadata": {},
   "outputs": [
    {
     "name": "stdout",
     "output_type": "stream",
     "text": [
      "torch.Size([784])\n",
      "torch.Size([784])\n"
     ]
    }
   ],
   "source": [
    "img_tensor = transforms.PILToTensor()(img).flatten().float()\n",
    "\n",
    "print(img_tensor.shape)\n",
    "print(img_tensor.size())\n"
   ]
  },
  {
   "cell_type": "markdown",
   "id": "a827bb48",
   "metadata": {},
   "source": [
    "#### Définition formelle de tenseurs et contraction\n",
    "Mathématiquement, des tenseurs de taille K sont des tableaux\n",
    "$$t:[1,n_1]\\times [1,n_2]\\times \\ldots \\times [1,n_K]\\to \\mathbb{R}$$\n",
    "Ils sont notés $t_{i_1i_2\\ldots i_K}$ avec $i_1\\in [1,n_1]$, $i_2\\in [1,n_2]$, $\\ldots$, $i_K\\in [1,n_K]$.\n",
    "Une matrice est un cas particulier des tenseurs $M:[1,n_1]\\times [1,n_2]\\to \\mathbb{R}$.\n",
    "\n",
    "La généralisation de la multiplication matricielle est la multiplication des tenseurs. Deux tenseurs $t^{(1)}$ et $t^{(2)}$ de taille respective $K_1$ et $K_2$ se multiplient sur un de leurs indices respectifs $I_1$ et $I_2$ de la façon suivante:\n",
    "\n",
    "$$ t^{(1)}.t^{(2)}= \\sum_{\\alpha \\in [1,n_{I_1}^{(1)}]}t_{i_1.. \\alpha.. i_K}^{(1)}t_{i_1.. \\alpha.. i_K}^{(2)}$$\n",
    "\n",
    "quand $n_{I_1}^{(1)}=n_{I_2}^{(2)}$. $t^{(1)}.t^{(2)}$ is of size $K_1-1+K_2-1$.\n",
    "\n",
    "Cette multiplication s'étend à des collections d'indices:\n",
    "\n",
    "\n",
    "$$ t^{(1)}.t^{(2)}= \\sum_{\\alpha,\\beta \\in [1,n_{I_1}^{(1)}]\\times [1,n_{J_1}^{(1)}]}t_{i_1.. \\alpha\\beta .. i_K}^{(1)}t_{i_1.. \\alpha\\beta .. i_K}^{(2)}$$\n"
   ]
  },
  {
   "cell_type": "markdown",
   "id": "33fb8a67",
   "metadata": {},
   "source": [
    "**Q3:** Definir un tenseur de forme [1,3,3,3] ne contenant que des 1.\n",
    "Definir un tenseur de forme [1,3,3,3] ne contenant que des 0\n",
    "Fait la multiplication sur la dernière coordonnée du premier tenseur et la dernière composante du deuxième\n",
    "Faire de meme pour la deuxieme du premier et la troisieme du deuxieme.\n",
    "\n",
    "Vous pouvez vous aider des liens suivants:\n",
    "https://pytorch.org/tutorials/beginner/basics/tensorqs_tutorial.html\n",
    "https://pytorch.org/docs/stable/generated/Tensordot.html\n",
    "https://pytorch.org/docs/stable/generated/torch.einsum.html    "
   ]
  },
  {
   "cell_type": "code",
   "execution_count": 5,
   "id": "e94260be",
   "metadata": {},
   "outputs": [
    {
     "name": "stdout",
     "output_type": "stream",
     "text": [
      "torch.Size([1, 3, 3, 1, 3, 3])\n",
      "torch.Size([1, 3, 3, 1, 3, 3])\n"
     ]
    }
   ],
   "source": [
    "t1 = torch.ones(1, 3, 3, 3)\n",
    "t2 = torch.zeros(1, 3, 3, 3)\n",
    "\n",
    "print(torch.tensordot(t1, t2, dims=([-1], [-1])).shape)\n",
    "print(torch.tensordot(t1, t2, dims=([1], [2])).shape)\n"
   ]
  },
  {
   "cell_type": "markdown",
   "id": "52062a8b",
   "metadata": {},
   "source": [
    "## Back propagation... pour un réseau à deux couches\n",
    "\n",
    "Reference: https://duchesnay.github.io/pystatsml/deep_learning/dl_backprop_numpy-pytorch-sklearn.html"
   ]
  },
  {
   "cell_type": "markdown",
   "id": "8a51f5e1",
   "metadata": {},
   "source": [
    "But: Créez un réseau neuronal ReLU entièrement connecté avec une seule couche cachée, où toutes les connexions sont pleinement connectées et sans termes de biais. Entraînez le réseau à prédire la sortie $y$ à partir de l'entrée $x$ en utilisant l'erreur euclidienne.\n",
    "    "
   ]
  },
  {
   "cell_type": "markdown",
   "id": "78595e65",
   "metadata": {},
   "source": [
    "Nous considérons un réseau à deux couches $f_{NN}$ avec comme poids deux matrices $W^{1},W^{2}$ qui \n",
    "    \n",
    "$$Y=W^{(2)}max(W^{(1)}X,0)$$\n",
    "\n",
    "avec $W^{(2)}\\in M_{n,m}(\\mathbb{R})$ and $W^{(1)}\\in M_{m,k}(\\mathbb{R})$. Les vecteurs de biais sont supposé être nuls. \n",
    "\n",
    "Dans une tâche de classification (*Apprentissage supervisé*), le jeu de données est constitué de signaux d'entrée $X$, pour MNIST des images, et de labels. Pour MNIST, le label représente le nombre associé à l'image. Un réseau de neurones est utilisé pour approximer $P(Y\\vert X)$."
   ]
  },
  {
   "cell_type": "markdown",
   "id": "fcef7806",
   "metadata": {},
   "source": [
    "### Implémenter un réseau de neurones à deux couches \n",
    "\n",
    "**Q4a:** Définir une fonction TwoLayer($W^{(1)},W^{(2)}$): Tensor[1,28,28] $\\to$ Tensor[9] qui prend une image en entrée et renvoie une quantité proportionnelle à des probabilités d'être dans une des classes. \n",
    "\n",
    "Aide trouver les bonne dimensions des matrices $n,m,k$: TwoLayer: Tensor[n,m]$\\times$ Tensor[m,k]$\\times$ Tensor[1,28,28] $\\to$ Tensor[9]\n",
    "\n"
   ]
  },
  {
   "cell_type": "code",
   "execution_count": 6,
   "id": "ee6ee023",
   "metadata": {},
   "outputs": [],
   "source": [
    "def two_layer(weights1: Tensor, weights2: Tensor, x: Tensor):\n",
    "  return weights2 @ torch.relu(weights1 @ x)\n"
   ]
  },
  {
   "cell_type": "markdown",
   "id": "347718e0",
   "metadata": {},
   "source": [
    "**Q4b:** Tester votre reseau en choisissant des matrices de poids aléatoires sur quelques images de MNIST. Proposez une \n",
    "méthode pour associer à une image une classe à partir de la sortie de votre réseau de neurone ainsi qu'une densité de probabilité\n",
    "sur les classes possibles. \n",
    "\n",
    "Aide: \n",
    "- tenseurs choisis aléatoirement https://pytorch.org/tutorials/beginner/basics/tensorqs_tutorial.html\n",
    "- règle de decision: Max-Pooling, softmax"
   ]
  },
  {
   "cell_type": "code",
   "execution_count": 7,
   "id": "f8519b05",
   "metadata": {},
   "outputs": [
    {
     "data": {
      "text/plain": [
       "tensor([-0.0001, -0.0015,  0.0002, -0.0021, -0.0018, -0.0026,  0.0041,  0.0041,\n",
       "         0.0008,  0.0021])"
      ]
     },
     "execution_count": 7,
     "metadata": {},
     "output_type": "execute_result"
    }
   ],
   "source": [
    "m = 12\n",
    "# weights1 = torch.rand((m, 28 * 28))\n",
    "# weights2 = torch.rand((10, m))\n",
    "weights1 = (torch.rand((m, 28 * 28)) * 2.0 - 1.0) * 1e-3\n",
    "weights2 = (torch.rand((10, m)) * 2.0 - 1.0) * 1e-3\n",
    "\n",
    "two_layer(weights1, weights2, img_tensor)\n"
   ]
  },
  {
   "cell_type": "markdown",
   "id": "e2f87469",
   "metadata": {},
   "source": [
    "**Q5** Calculez la matrice jacobienne de \n",
    " $$f(X)=W^{(2)}max(W^{(1)}X,0)$$\n",
    " \n",
    " et implémentez une fonction gradTwoLayer qui calcul cette matrice"
   ]
  },
  {
   "cell_type": "code",
   "execution_count": 8,
   "id": "a85e3646",
   "metadata": {},
   "outputs": [
    {
     "name": "stdout",
     "output_type": "stream",
     "text": [
      "torch.Size([12, 784, 10])\n",
      "torch.Size([10, 12, 10])\n"
     ]
    }
   ],
   "source": [
    "def grad_relu(x: Tensor):\n",
    "  return torch.where(x > 0, 1, 0)\n",
    "\n",
    "def grad_two_layer(weights1: Tensor, weights2: Tensor, tensor: Tensor):\n",
    "  return (\n",
    "    weights2.T[:, None, :] * tensor[None, :, None] * grad_relu(weights1 @ tensor)[:, None, None],\n",
    "    torch.eye(weights2.shape[0])[:, None, :] * torch.relu(weights1 @ tensor)[None, :, None]\n",
    "  )\n",
    "\n",
    "print(grad_two_layer(weights1, weights2, img_tensor)[0].shape)\n",
    "print(grad_two_layer(weights1, weights2, img_tensor)[1].shape)\n"
   ]
  },
  {
   "cell_type": "code",
   "execution_count": 9,
   "id": "a346a70a",
   "metadata": {},
   "outputs": [
    {
     "name": "stdout",
     "output_type": "stream",
     "text": [
      "True\n",
      "True\n"
     ]
    }
   ],
   "source": [
    "def test():\n",
    "  w1 = torch.rand((m, 28 * 28), requires_grad=True)\n",
    "  w2 = torch.rand((10, m), requires_grad=True)\n",
    "\n",
    "  a, b = grad_two_layer(w1, w2, img_tensor)\n",
    "  s = two_layer(w1, w2, img_tensor)\n",
    "\n",
    "  i = 0\n",
    "  s[i].backward()\n",
    "\n",
    "  print(torch.allclose(w1.grad, a[:, :, i]))\n",
    "  print(torch.allclose(w2.grad, b[:, :, i]))\n",
    "\n",
    "test()\n"
   ]
  },
  {
   "cell_type": "markdown",
   "id": "99166732",
   "metadata": {},
   "source": [
    "### Trouver une *bonne* fonction d'objectif à minimiser\n"
   ]
  },
  {
   "cell_type": "markdown",
   "id": "f5e70752",
   "metadata": {},
   "source": [
    "**Q6a** En vous rappelant du principe de maximum de vraissemblance vu dans les cours précédents, quelle fonction d'objectif (loss) proposeriez-vous pour trouver le réseau de neurone qui approche le mieux $P(Y\\vert X)$ sur le jeu de données de MNIST $(X_i,Y_i, i\\leq 60000)$.\n",
    "Elle sera de la forme \n",
    "$$C(W^{(2)},W^{(1)})=\\sum_{i\\in I} l(f(X_i),Y_i)$$\n",
    "\n",
    "Aide:\n",
    "- Cherchez ce qu'est le softmax [ici](https://pytorch.org/docs/stable/generated/torch.nn.Softmax.html).\n",
    "- Cross-entropie [ici](https://pytorch.org/docs/stable/generated/torch.nn.CrossEntropyLoss.html).\n",
    "    "
   ]
  },
  {
   "cell_type": "code",
   "execution_count": 205,
   "id": "77cc92b1",
   "metadata": {},
   "outputs": [
    {
     "name": "stdout",
     "output_type": "stream",
     "text": [
      "tensor(2.3055)\n"
     ]
    }
   ],
   "source": [
    "def cross_entropy(x: Tensor, y: Tensor | int):\n",
    "  return -x.softmax(dim=0)[y].log()\n",
    "\n",
    "def get_loss(weights1: Tensor, weights2: Tensor, x: Tensor, y: Tensor | int):\n",
    "  return cross_entropy(two_layer(weights1, weights2, x), y)\n",
    "\n",
    "def get_loss_all(weights1: Tensor, weights2: Tensor, xs: Tensor, ys: Tensor):\n",
    "  return torch.tensor([get_loss(weights1, weights2, x, y) for x, y in zip(xs, ys)]).sum()\n",
    "\n",
    "print(get_loss(weights1, weights2, img_tensor, 5))\n"
   ]
  },
  {
   "cell_type": "markdown",
   "id": "823e2252",
   "metadata": {},
   "source": [
    "**Q6b** Implémenter le gradient de C en vous aidant des questions précédentes (**Q5**)\n",
    "\n",
    "Aide: pensez à implémenter le gradient de $l(f(X_i),Y_i)$ puis à sommer ce gradient sur le jeu de donnée."
   ]
  },
  {
   "cell_type": "code",
   "execution_count": 27,
   "id": "8f1be90d",
   "metadata": {},
   "outputs": [],
   "source": [
    "def grad_softmax(v: Tensor):\n",
    "  return torch.eye(v.shape[0]) * v.exp()[:, None] / v.exp().sum() - v.exp()[:, None] * v.exp() / v.exp().sum() ** 2\n",
    "\n",
    "def grad_cross_entropy(x: Tensor, y: Tensor | int):\n",
    "  return -grad_softmax(x)[y, :] / x.softmax(dim=0)[y]\n"
   ]
  },
  {
   "cell_type": "code",
   "execution_count": 12,
   "id": "6f60f09c",
   "metadata": {},
   "outputs": [
    {
     "name": "stdout",
     "output_type": "stream",
     "text": [
      "True\n"
     ]
    }
   ],
   "source": [
    "# grad_softmax() test\n",
    "\n",
    "def test():\n",
    "  x = torch.tensor([1.0, 2.0, 3.0], requires_grad=True)\n",
    "  y = torch.softmax(x, dim=0)\n",
    "\n",
    "  i = 0\n",
    "  y[i].backward()\n",
    "\n",
    "  assert x.grad is not None\n",
    "  print(x.grad.allclose(grad_softmax(x)[i, :]))\n",
    "\n",
    "test()\n"
   ]
  },
  {
   "cell_type": "code",
   "execution_count": 34,
   "id": "8b8cc729",
   "metadata": {},
   "outputs": [
    {
     "name": "stdout",
     "output_type": "stream",
     "text": [
      "torch.Size([12, 784])\n",
      "torch.Size([10, 12])\n"
     ]
    }
   ],
   "source": [
    "def grad_loss(weights1: Tensor, weights2: Tensor, x: Tensor, y: Tensor | int):\n",
    "  p = two_layer(weights1, weights2, x)\n",
    "  p = p - p.max()\n",
    "  # p_sum = p.sum()\n",
    "\n",
    "  g1, g2 = grad_two_layer(weights1, weights2, x)\n",
    "\n",
    "  return (\n",
    "    (g1 * grad_cross_entropy(p, y)).sum(dim=2),\n",
    "    (g2 * grad_cross_entropy(p, y)).sum(dim=2)\n",
    "  )\n",
    "\n",
    "def grad_loss_all(weights1: Tensor, weights2: Tensor, xs: Tensor, ys: Tensor):\n",
    "  return tuple(torch.stack(l).sum(dim=0) for l in zip(*[grad_loss(weights1, weights2, x, y) for x, y in zip(xs, ys)]))\n",
    "\n",
    "# print(grad_softmax(two_layer(weights1, weights2, img_tensor)).shape)\n",
    "# print(grad_softmax(two_layer(weights1, weights2, img_tensor)))\n",
    "\n",
    "print(grad_loss(weights1, weights2, img_tensor, 5)[0].shape)\n",
    "print(grad_loss(weights1, weights2, img_tensor, 5)[1].shape)\n",
    "# print(grad_loss_all(weights1, weights2, torch.stack([img_tensor]), torch.tensor([5]))[0].shape)\n"
   ]
  },
  {
   "cell_type": "code",
   "execution_count": 35,
   "id": "2cce5af8",
   "metadata": {},
   "outputs": [
    {
     "name": "stdout",
     "output_type": "stream",
     "text": [
      "True\n",
      "True\n",
      "tensor(62.5991)\n",
      "tensor(62.5991, grad_fn=<SumBackward0>)\n"
     ]
    }
   ],
   "source": [
    "# grad_loss() test\n",
    "\n",
    "def test():\n",
    "  w1 = weights1.clone().detach().requires_grad_(True)\n",
    "  w2 = weights2.clone().detach().requires_grad_(True)\n",
    "\n",
    "  l = get_loss(w1, w2, img_tensor, 5)\n",
    "  l.backward()\n",
    "\n",
    "  g1, g2 = grad_loss(w1, w2, img_tensor, 5)\n",
    "\n",
    "  assert w1.grad is not None\n",
    "  assert w2.grad is not None\n",
    "\n",
    "  print(g1.allclose(w1.grad))\n",
    "  print(g2.allclose(w2.grad))\n",
    "  print(w1.grad.abs().sum())\n",
    "  print(g1.abs().sum())\n",
    "\n",
    "test()\n"
   ]
  },
  {
   "cell_type": "markdown",
   "id": "6da67ad9",
   "metadata": {},
   "source": [
    "### Descente de gradient\n",
    "\n",
    "**Q7a** Implémenter ce gradient et écrire une descente de gradient sur le jeu de donnée MNIST. \n",
    "\n",
    "**Q7a**  Tester les poids obtenus\n"
   ]
  },
  {
   "cell_type": "code",
   "execution_count": 36,
   "id": "958799db",
   "metadata": {},
   "outputs": [],
   "source": [
    "image_count = 100\n",
    "\n",
    "data_xs = torch.stack([transforms.PILToTensor()(image).flatten().float() for index, (image, _) in enumerate(dataset) if index < image_count])\n",
    "data_ys = torch.tensor([label for _, label in dataset][:image_count])\n",
    "\n",
    "image_count_training = round(0.8 * image_count)\n",
    "\n",
    "data_xs_training = data_xs[:image_count_training, :]\n",
    "data_ys_training = data_ys[:image_count_training]\n",
    "\n",
    "data_xs_test = data_xs[image_count_training:, :]\n",
    "data_ys_test = data_ys[image_count_training:]\n"
   ]
  },
  {
   "cell_type": "code",
   "execution_count": 155,
   "id": "675d1d59",
   "metadata": {},
   "outputs": [
    {
     "name": "stdout",
     "output_type": "stream",
     "text": [
      "tensor([2.3026, 2.3024, 2.3021, 2.3018, 2.3014, 2.3010, 2.3005, 2.2998, 2.2990,\n",
      "        2.2980, 2.2967, 2.2951, 2.2930, 2.2902, 2.2866, 2.2819, 2.2759, 2.2683,\n",
      "        2.2587, 2.2468, 2.2324, 2.2157, 2.1969, 2.1767, 2.1559, 2.1349, 2.1137,\n",
      "        2.0919, 2.0690, 2.0445, 2.0187, 1.9913, 1.9619, 1.9300, 1.8956, 1.8589,\n",
      "        1.8204, 1.7805, 1.7397, 1.6982, 1.6566, 1.6154, 1.5747, 1.5352, 1.4967,\n",
      "        1.4593, 1.4227, 1.3869, 1.3518, 1.3172, 1.2830, 1.2489, 1.2151, 1.1810,\n",
      "        1.1470, 1.1131, 1.0794, 1.0459, 1.0125, 0.9796, 0.9472, 0.9152, 0.8838,\n",
      "        0.8530, 0.8229, 0.7936, 0.7651, 0.7374, 0.7105, 0.6846, 0.6593, 0.6349,\n",
      "        0.6113, 0.5885, 0.5664, 0.5451, 0.5244, 0.5045, 0.4853, 0.4666, 0.4486,\n",
      "        0.4312, 0.4144, 0.3982, 0.3826, 0.3676, 0.3531, 0.3391, 0.3257, 0.3128,\n",
      "        0.3004, 0.2885, 0.2772, 0.2662, 0.2558, 0.2458, 0.2363, 0.2272, 0.2185,\n",
      "        0.2101, 0.2022, 0.1946, 0.1873, 0.1803, 0.1737, 0.1674, 0.1614, 0.1556,\n",
      "        0.1501, 0.1448, 0.1398, 0.1350, 0.1304, 0.1260, 0.1218, 0.1178, 0.1140,\n",
      "        0.1104, 0.1069, 0.1035, 0.1003, 0.0973, 0.0944, 0.0916, 0.0889, 0.0863,\n",
      "        0.0839, 0.0815, 0.0793, 0.0771, 0.0750, 0.0731, 0.0711, 0.0693, 0.0676,\n",
      "        0.0659, 0.0643, 0.0627, 0.0612, 0.0598, 0.0584, 0.0571, 0.0558, 0.0545,\n",
      "        0.0533, 0.0522, 0.0511, 0.0500, 0.0490, 0.0480, 0.0470, 0.0461, 0.0452,\n",
      "        0.0443, 0.0434, 0.0426, 0.0418, 0.0411, 0.0403, 0.0396, 0.0389, 0.0382,\n",
      "        0.0376, 0.0369, 0.0363, 0.0357, 0.0351, 0.0345, 0.0340, 0.0335, 0.0329,\n",
      "        0.0324, 0.0319, 0.0314, 0.0310, 0.0305, 0.0301, 0.0296, 0.0292, 0.0288,\n",
      "        0.0284, 0.0280, 0.0276, 0.0272, 0.0269, 0.0265, 0.0262, 0.0258, 0.0255,\n",
      "        0.0252, 0.0248, 0.0245, 0.0242, 0.0239, 0.0236, 0.0233, 0.0231, 0.0228,\n",
      "        0.0225, 0.0223, 0.0220, 0.0218, 0.0215, 0.0213, 0.0210, 0.0208, 0.0206,\n",
      "        0.0203, 0.0201, 0.0199, 0.0197, 0.0195, 0.0193, 0.0191, 0.0189, 0.0187,\n",
      "        0.0185, 0.0183, 0.0181, 0.0180, 0.0178, 0.0176, 0.0174, 0.0173, 0.0171,\n",
      "        0.0170, 0.0168, 0.0166, 0.0165, 0.0163, 0.0162, 0.0160, 0.0159, 0.0158,\n",
      "        0.0156, 0.0155, 0.0153, 0.0152, 0.0151, 0.0150, 0.0148, 0.0147, 0.0146,\n",
      "        0.0145, 0.0143, 0.0142, 0.0141, 0.0140, 0.0139, 0.0138, 0.0137, 0.0136,\n",
      "        0.0134, 0.0133, 0.0132, 0.0131, 0.0130, 0.0129, 0.0128, 0.0127, 0.0127,\n",
      "        0.0126, 0.0125, 0.0124, 0.0123, 0.0122, 0.0121, 0.0120, 0.0119, 0.0119,\n",
      "        0.0118, 0.0117, 0.0116, 0.0115, 0.0114, 0.0114, 0.0113, 0.0112, 0.0111,\n",
      "        0.0111, 0.0110, 0.0109, 0.0108, 0.0108, 0.0107, 0.0106, 0.0106, 0.0105,\n",
      "        0.0104, 0.0104, 0.0103, 0.0102, 0.0102, 0.0101, 0.0100, 0.0100, 0.0099,\n",
      "        0.0099, 0.0098, 0.0097, 0.0097, 0.0096, 0.0096, 0.0095, 0.0095, 0.0094,\n",
      "        0.0093, 0.0093, 0.0092, 0.0092, 0.0091, 0.0091, 0.0090, 0.0090, 0.0089,\n",
      "        0.0089, 0.0088, 0.0088, 0.0087, 0.0087, 0.0086, 0.0086, 0.0085, 0.0085,\n",
      "        0.0085, 0.0084, 0.0084, 0.0083, 0.0083, 0.0082, 0.0082, 0.0081, 0.0081,\n",
      "        0.0081, 0.0080, 0.0080, 0.0079, 0.0079, 0.0079, 0.0078, 0.0078, 0.0077,\n",
      "        0.0077, 0.0077, 0.0076, 0.0076, 0.0076, 0.0075, 0.0075, 0.0074, 0.0074,\n",
      "        0.0074, 0.0073, 0.0073, 0.0073, 0.0072, 0.0072, 0.0072, 0.0071, 0.0071,\n",
      "        0.0071, 0.0070, 0.0070, 0.0070, 0.0069, 0.0069, 0.0069, 0.0069, 0.0068,\n",
      "        0.0068, 0.0068, 0.0067, 0.0067, 0.0067, 0.0066, 0.0066, 0.0066, 0.0066,\n",
      "        0.0065, 0.0065, 0.0065, 0.0064, 0.0064, 0.0064, 0.0064, 0.0063, 0.0063,\n",
      "        0.0063, 0.0063, 0.0062, 0.0062, 0.0062, 0.0062, 0.0061, 0.0061, 0.0061,\n",
      "        0.0061, 0.0060, 0.0060, 0.0060])\n"
     ]
    },
    {
     "data": {
      "image/png": "[encoded data removed]",
      "text/plain": [
       "<Figure size 640x480 with 1 Axes>"
      ]
     },
     "metadata": {},
     "output_type": "display_data"
    },
    {
     "data": {
      "image/png": "[encoded data removed]",
      "text/plain": [
       "<Figure size 640x480 with 1 Axes>"
      ]
     },
     "metadata": {},
     "output_type": "display_data"
    }
   ],
   "source": [
    "w1 = weights1.clone()\n",
    "w2 = weights2.clone()\n",
    "\n",
    "lr = 1e-5\n",
    "epoch_count = 400\n",
    "\n",
    "losses = torch.empty((epoch_count, 2))\n",
    "acc = torch.empty((epoch_count, 2))\n",
    "\n",
    "def accuracy_all(weights1: Tensor, weights2, xs: Tensor, ys: Tensor):\n",
    "  return (torch.tensor([two_layer(weights1, weights2, x).argmax() for x in xs]) == ys).sum() / len(ys)\n",
    "\n",
    "for epoch in range(epoch_count):\n",
    "  losses[epoch, 0] = get_loss_all(w1, w2, data_xs_training, data_ys_training) / len(data_ys_training)\n",
    "  losses[epoch, 1] = get_loss_all(w1, w2, data_xs_test, data_ys_test) / len(data_ys_test)\n",
    "\n",
    "  acc[epoch, 0] = accuracy_all(w1, w2, data_xs_training, data_ys_training)\n",
    "  acc[epoch, 1] = accuracy_all(w1, w2, data_xs_test, data_ys_test)\n",
    "\n",
    "  g1, g2 = grad_loss_all(w1, w2, data_xs_training, data_ys_training)\n",
    "  w1 -= lr * g1\n",
    "  w2 -= lr * g2\n",
    "\n",
    "\n",
    "fig, ax = plt.subplots()\n",
    "\n",
    "ax.set_title('Loss')\n",
    "ax.plot(torch.arange(epoch_count), losses[:, 0], label='Training')\n",
    "ax.plot(torch.arange(epoch_count), losses[:, 1], label='Test')\n",
    "ax.legend()\n",
    "\n",
    "fig, ax2 = plt.subplots()\n",
    "\n",
    "ax2.set_title('Accuracy')\n",
    "ax2.plot(torch.arange(epoch_count), acc[:, 0], label='Training')\n",
    "ax2.plot(torch.arange(epoch_count), acc[:, 1], label='Test')\n",
    "ax2.legend()\n",
    "\n",
    "print(losses[:, 0])\n"
   ]
  },
  {
   "cell_type": "markdown",
   "id": "cae60009",
   "metadata": {},
   "source": [
    "## Back propagation... pour un réseau à trois couches? "
   ]
  },
  {
   "cell_type": "markdown",
   "id": "5a41b64d",
   "metadata": {},
   "source": [
    "**Q8a** Reprendre le meme exercice pour un reseau à 3 couches\n",
    "\n",
    "**Q8b** Comparez les resultats obtenus par rapport au réseau à deux couches"
   ]
  },
  {
   "cell_type": "markdown",
   "id": "ef44f947",
   "metadata": {},
   "source": [
    "## Back propagation!"
   ]
  },
  {
   "cell_type": "markdown",
   "id": "4ebb93ca",
   "metadata": {},
   "source": [
    "La backpropagation généralise le calcul du gradient d'un réseau de neurones à $n$ couches. Lisez la dernière page du chapitre 2 de votre cours pour apprendre comment cela est fait.\n",
    "\n",
    "Vous pouvez également lire [ce lien](http://neuralnetworksanddeeplearning.com/chap2.html). L'algorithme est rappelé ci-dessous, les images étant tirées de la référence précédente.\n"
   ]
  },
  {
   "cell_type": "markdown",
   "id": "f232c62e",
   "metadata": {},
   "source": [
    "<img src=\"tikz21.png\" alt=\"Alternative text\" />\n",
    "\n",
    "<img src=\"backpropagation-algorithm.png\" alt=\"Alternative text\" />"
   ]
  },
  {
   "cell_type": "markdown",
   "id": "7af5fdc6",
   "metadata": {},
   "source": [
    "**Q9** Implémentez le calcul du gradient d'un réseau à $n$ couches en utilisant la backpropagation.\n",
    "\n",
    "\n",
    "\n",
    "\n",
    "\n"
   ]
  },
  {
   "cell_type": "code",
   "execution_count": 186,
   "id": "fbc70f57",
   "metadata": {},
   "outputs": [],
   "source": [
    "def n_layer(wl: list[Tensor], bl: list[Tensor], x: Tensor, layers: list[int]):\n",
    "  zl = [torch.empty(b) for b in layers]\n",
    "  al = [torch.empty(b) for b in layers]\n",
    "\n",
    "  for layer in range(len(layers)):\n",
    "    zl[layer] = wl[layer] @ (al[layer - 1] if layer > 0 else x) + bl[layer]\n",
    "    al[layer] = torch.relu(zl[layer])\n",
    "\n",
    "  return zl, al\n",
    "\n",
    "def evaluate_n(wl: list[Tensor], bl: list[Tensor], x: Tensor, y: Tensor | int, layers: list[int]):\n",
    "  zl, _ = n_layer(wl, bl, x, layers)\n",
    "  return cross_entropy(zl[-1], y), zl[-1].argmax() == y\n",
    "\n",
    "def evaluate_n_all(wl: list[Tensor], bl: list[Tensor], xs: Tensor, ys: Tensor, layers: list[int]):\n",
    "  accurate_count = 0\n",
    "  total_loss = 0.0\n",
    "\n",
    "  for x, y in zip(xs, ys):\n",
    "    image_loss, accurate = evaluate_n(wl, bl, x, y, layers)\n",
    "    total_loss += image_loss\n",
    "\n",
    "    if accurate:\n",
    "      accurate_count += 1\n",
    "\n",
    "  return (\n",
    "    total_loss / xs.shape[0],\n",
    "    accurate_count / xs.shape[0]\n",
    "  )\n",
    "\n",
    "def grad_loss_n(wl: list[Tensor], bl: list[Tensor], x: Tensor, y: Tensor | int, layers: list[int]):\n",
    "  dl = [torch.empty(b) for b in layers]\n",
    "  dwl = [torch.empty((b, a)) for a, b in zip([len(x), *layers[:-1]], layers)]\n",
    "\n",
    "  zl, al = n_layer(wl, bl, x, layers)\n",
    "  # print(grad_cross_entropy(al[-1], y).shape, grad_relu(zl[-1]).shape)\n",
    "  # dl[-1] = grad_cross_entropy(al[-1], y) * grad_relu(zl[-1])\n",
    "  dl[-1] = grad_cross_entropy(zl[-1], y)\n",
    "  # dwl[-1] = dl[-1][:, None] * al[-2]\n",
    "\n",
    "  for layer in range(len(layers) - 2, -1, -1):\n",
    "    dl[layer] = (wl[layer + 1].T @ dl[layer + 1]) * grad_relu(zl[layer])\n",
    "\n",
    "  for layer in range(len(layers)):\n",
    "    dwl[layer] = dl[layer][:, None] * (al[layer - 1] if layer > 0 else x)\n",
    "\n",
    "  return dwl, dl\n"
   ]
  },
  {
   "cell_type": "markdown",
   "id": "ee81a6e1",
   "metadata": {},
   "source": [
    "**Q10** Implémentez la descente de gradient pour la loss de la question **Q6a** en utilisant la backpropagation.\n",
    "\n",
    "Votre code sera de la forme:\n",
    "\n",
    "```python\n",
    "for epoch in range(epochs):\n",
    "    for image in dataset: \n",
    "        calcul du gradient de l\n",
    "        calcul de la jacobienne du réseau de neurones appliqué à l'image \n",
    "  ```       \n",
    "        i.e. $f_{NN}(image)$ <--> algorithme de backpropagation\n",
    "   ``` \n",
    "        calcul du gradient de $l \\circ f_{NN}(image)$\n",
    "    somme des gradients pour chaque image\n",
    "    mise à jour des poids du réseau par backpropagation\n",
    " ``` "
   ]
  },
  {
   "cell_type": "code",
   "execution_count": 204,
   "id": "09ce926c",
   "metadata": {},
   "outputs": [
    {
     "name": "stdout",
     "output_type": "stream",
     "text": [
      "[tensor([ 2.0396e-05,  1.8415e-05,  2.8349e-05,  3.8119e-06,  2.6017e-05,\n",
      "         1.5362e-05,  1.0576e-05,  2.2081e-05,  1.9530e-05, -1.3089e-05,\n",
      "         3.7174e-05,  1.5923e-05]), tensor([-0.0012,  0.0010, -0.0010, -0.0004,  0.0010,  0.0008, -0.0002,  0.0002,\n",
      "        -0.0011,  0.0008])]\n"
     ]
    },
    {
     "data": {
      "image/png": "[encoded data removed]",
      "text/plain": [
       "<Figure size 640x480 with 1 Axes>"
      ]
     },
     "metadata": {},
     "output_type": "display_data"
    },
    {
     "data": {
      "image/png": "[encoded data removed]",
      "text/plain": [
       "<Figure size 640x480 with 1 Axes>"
      ]
     },
     "metadata": {},
     "output_type": "display_data"
    }
   ],
   "source": [
    "lr = 1e-5\n",
    "epoch_count = 100\n",
    "layers = [12, 10]\n",
    "\n",
    "wl = [(torch.rand((b, a)) * 2.0 - 1.0) * 1e-3 for a, b in zip([len(img_tensor), *layers[:-1]], layers)]\n",
    "# wl = [weights1.clone(), weights2.clone()]\n",
    "bl = [torch.zeros(b) for b in layers]\n",
    "\n",
    "losses = torch.empty((epoch_count, 2))\n",
    "acc = torch.empty((epoch_count, 2))\n",
    "\n",
    "for epoch in range(epoch_count):\n",
    "  losses[epoch, 0], acc[epoch, 0] = evaluate_n_all(wl, bl, data_xs_training, data_ys_training, layers)\n",
    "  losses[epoch, 1], acc[epoch, 1] = evaluate_n_all(wl, bl, data_xs_test, data_ys_test, layers)\n",
    "\n",
    "  for x, y in zip(data_xs_training, data_ys_training):\n",
    "    dwl, dbl = grad_loss_n(wl, bl, x, y, layers)\n",
    "\n",
    "    wl = [w - dw * lr for w, dw in zip(wl, dwl)]\n",
    "    bl = [b - db * lr for b, db in zip(bl, dbl)]\n",
    "\n",
    "\n",
    "fig, ax = plt.subplots()\n",
    "\n",
    "ax.set_title('Loss')\n",
    "ax.plot(torch.arange(epoch_count), losses[:, 0], label='Training')\n",
    "ax.plot(torch.arange(epoch_count), losses[:, 1], label='Test')\n",
    "ax.legend()\n",
    "\n",
    "fig, ax2 = plt.subplots()\n",
    "\n",
    "ax2.set_title('Accuracy')\n",
    "ax2.plot(torch.arange(epoch_count), acc[:, 0], label='Training')\n",
    "ax2.plot(torch.arange(epoch_count), acc[:, 1], label='Test')\n",
    "ax2.legend()\n",
    "\n",
    "# print(losses[:, 0])\n",
    "print(bl)\n"
   ]
  },
  {
   "cell_type": "markdown",
   "id": "dbf01cbd",
   "metadata": {},
   "source": [
    "**Q11** Ouvrez nn_tutorial.ipynb pris de https://pytorch.org/tutorials/beginner/nn_tutorial.html"
   ]
  },
  {
   "cell_type": "markdown",
   "id": "87a540ca",
   "metadata": {},
   "source": [
    "D'accord"
   ]
  }
 ],
 "metadata": {
  "kernelspec": {
   "display_name": "Python 3 (ipykernel)",
   "language": "python",
   "name": "python3"
  },
  "language_info": {
   "codemirror_mode": {
    "name": "ipython",
    "version": 3
   },
   "file_extension": ".py",
   "mimetype": "text/x-python",
   "name": "python",
   "nbconvert_exporter": "python",
   "pygments_lexer": "ipython3",
   "version": "3.11.6"
  }
 },
 "nbformat": 4,
 "nbformat_minor": 5
}
