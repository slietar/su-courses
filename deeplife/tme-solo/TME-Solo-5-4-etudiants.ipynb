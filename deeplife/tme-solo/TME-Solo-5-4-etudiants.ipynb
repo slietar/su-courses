{
 "cells": [
  {
   "cell_type": "markdown",
   "id": "87346dca-c701-42cf-a82d-91ad906d2a03",
   "metadata": {},
   "source": [
    "# Evaluation 5-4-24 Cours Deep-Life\n",
    "\n",
    "Nom: Liétar\n",
    "\n",
    "Prénom: Simon\n",
    "\n",
    "Numéro Etudiant: 21313900\n"
   ]
  },
  {
   "cell_type": "markdown",
   "id": "7262c218-09db-4c57-9eb7-dfbf122c37e6",
   "metadata": {},
   "source": [
    "# Consignes\n",
    "\n",
    "## Document à rendre\n",
    "Créez un document test.py. Chaque question nécessite d'écrire une fonction. S'il vous est demandé d'afficher des informations, utilisez print au sein de votre fonction pour les afficher lors de l'appel de cette fonction. Après chaque question, un appel de la fonction est fait dans une cellule en dessous du Jupyter Notebook.\n",
    "\n",
    "Le Jupyter Notebook ne sera pas conservé et seul le fichier test.py sera accepté comme réponse à cette évaluation et à \n",
    "déposer sur Moodle. Vous pouvez donc modifier comme vous le souhaitez votre Jupyter Notebook, par exemple en ajoutant \n",
    "des cellules pour faire des essais. Néanmoins, faites attention : assurez-vous que vos fonctions soient bien chargées \n",
    "correctement et qu'elles ne dépendent que des variables déjà instanciées dans la version du TME que vous venez de télécharger \n",
    "sur Moodle et que vous êtes en train de lire.\n",
    "\n",
    "## Documents autorisés\n",
    "\n",
    "Vous n'êtes pas autorisés à utiliser d'autres ressources que celles qui vous sont fournies sur Moodle. Vous ne pouvez pas utiliser Internet autrement que pour accéder à Moodle. Si cette consigne n'est pas respectée, cela signifie automatiquement un zéro pour votre copie. Aidez-vous de la fonction help(***), où *** doit être remplacé par l'objet, la fonction... pour lequel vous souhaitez avoir plus d'informations."
   ]
  },
  {
   "cell_type": "code",
   "execution_count": null,
   "id": "41989b37-4b2f-4a8e-9975-e88e01e09509",
   "metadata": {},
   "outputs": [],
   "source": [
    "%load_ext autoreload\n",
    "%autoreload 2\n",
    "from test import *\n",
    "\n",
    "from sklearn import svm\n",
    "import pandas as pd\n",
    "import matplotlib.pyplot as plt\n",
    "#import test.py\n",
    "import numpy as np\n"
   ]
  },
  {
   "cell_type": "code",
   "execution_count": null,
   "id": "5abab8eb-756b-48d2-aa93-aa343f0f7308",
   "metadata": {},
   "outputs": [],
   "source": [
    "from sklearn.datasets import load_digits\n",
    "mnist = load_digits()\n",
    "plt.imshow(mnist.images[0])\n"
   ]
  },
  {
   "cell_type": "code",
   "execution_count": null,
   "id": "874223a7-df01-4e4d-907b-2ea60cc0b09d",
   "metadata": {},
   "outputs": [],
   "source": [
    "# Exemple de recherche d'aide:\n",
    "help(mnist)\n"
   ]
  },
  {
   "cell_type": "markdown",
   "id": "73e37c01-0081-4c4f-a59b-bb45a0ec6eed",
   "metadata": {},
   "source": [
    "# Partie I: Sklearn"
   ]
  },
  {
   "cell_type": "markdown",
   "id": "937aedb7-282c-4c05-9451-8f33b7be10c2",
   "metadata": {},
   "source": [
    "## Q1 MNIST : quelques informations indicatives"
   ]
  },
  {
   "cell_type": "markdown",
   "id": "dc5c2b39-cfb4-493f-ab03-15ecc580f163",
   "metadata": {},
   "source": [
    "### Q1.1 \n",
    "Quelle est la taille du jeu de données, c'est-à-dire combien y a-t-il de 'samples' ou \n",
    "échantillons sur l'intégralité du jeu de données ?\n",
    "\n",
    "Créez une fonction question11 qui imprime la réponse."
   ]
  },
  {
   "cell_type": "code",
   "execution_count": null,
   "id": "e81bef49-50ec-4198-9d09-63525db2faf2",
   "metadata": {},
   "outputs": [],
   "source": [
    "question11()\n"
   ]
  },
  {
   "cell_type": "markdown",
   "id": "3c7e9ca9-83b8-4a73-a479-b3355cf9b685",
   "metadata": {},
   "source": [
    "### Q1.2 \n",
    "Quelles sont les dimensions d'un échantillon dans le jeu de données ? Quelle est la taille de l'image associée ?\n",
    "\n",
    "Creer une fonction question12 qui imprime les réponses. "
   ]
  },
  {
   "cell_type": "code",
   "execution_count": null,
   "id": "f6152f92-b88a-46a7-a2a4-fca0b554186b",
   "metadata": {
    "scrolled": true
   },
   "outputs": [],
   "source": [
    "question12()\n"
   ]
  },
  {
   "cell_type": "markdown",
   "id": "44f5a6e7-390b-451a-ae5b-f58bbaae258b",
   "metadata": {},
   "source": [
    "### Q1.3\n",
    "Quelles sont les classes associées aux données ? Combien y en a-t-il ?\n",
    "Creer une fonction question13 qui imprime les réponses. "
   ]
  },
  {
   "cell_type": "code",
   "execution_count": null,
   "id": "aec8b6f0-91a3-4fb5-a476-19163a8f88a2",
   "metadata": {},
   "outputs": [],
   "source": [
    "question13()\n"
   ]
  },
  {
   "cell_type": "markdown",
   "id": "f817b5e9-4d47-4380-b148-9039e8cb7a93",
   "metadata": {},
   "source": [
    "### Q1.4 \n",
    "Extraire les données qui ont comme label la deuxième classe renvoyée par mnist.target_names et les mettre dans une variable mnist_small ;\n",
    "combien y a-t-il d'échantillons associés à cette classe ? Est-ce que ce nombre vous semble cohérent ? Justifiez votre réponse.\n",
    "\n",
    "Creer une fonction question14 qui imprime les réponse et votre justification et retourne mnist_small"
   ]
  },
  {
   "cell_type": "code",
   "execution_count": null,
   "id": "b305c573-3a96-4f23-a7e2-d12ca4d81385",
   "metadata": {
    "scrolled": true
   },
   "outputs": [],
   "source": [
    "question14()\n"
   ]
  },
  {
   "cell_type": "markdown",
   "id": "566d7846-a106-48ba-907a-3913ee349e6c",
   "metadata": {},
   "source": [
    "# Q2 Objectif: decouper Mnist en test, train, valid"
   ]
  },
  {
   "cell_type": "markdown",
   "id": "72c720c3-1812-4255-a284-5fe0d936ea33",
   "metadata": {},
   "source": [
    "### Q2.1\n",
    "Quel pourcentage de votre jeu de données attribueriez-vous au test, train, validation ?\n",
    "\n",
    "Creer une fonction question21 qui imprime la réponse et votre justification"
   ]
  },
  {
   "cell_type": "code",
   "execution_count": null,
   "id": "f2ea89f5-b46b-405f-af3a-202efdb9919b",
   "metadata": {},
   "outputs": [],
   "source": [
    "question21()\n"
   ]
  },
  {
   "cell_type": "markdown",
   "id": "51a2575c-7ca8-4db5-9b00-c57366deac12",
   "metadata": {},
   "source": [
    "### Q2.2\n",
    "Écrire dans votre fichier test.py la fonction 'decoupage' \n",
    "qui prend en entrée les données ainsi que les labels et retourne\n",
    "les trois jeux de données sous forme de couples (collection de données non annotées, collection d'annotations) pour chacun des cas : train, valid et test.\n",
    "\n",
    "Assurez-vous que votre découpage respecte les proportions de chaque classe.\n",
    "\n",
    "Il est attendu de vous que vous réimplémentiez le découpage. \n"
   ]
  },
  {
   "cell_type": "code",
   "execution_count": null,
   "id": "5e00d85e-e2fe-4e3b-961b-f28449a2a619",
   "metadata": {},
   "outputs": [],
   "source": [
    "# def decoupage(mnist_data,mnist_target):\n",
    "#     '''\n",
    "#     Entrée:\n",
    "#     mnist_data : les données\n",
    "#     mnist_target : les labels associés aux données\n",
    "\n",
    "#     Sortie:\n",
    "#     train : couple (jeu de données, labels) pour l'entraînement\n",
    "#     valid : couple (jeu de données, labels) pour la validation\n",
    "#     test : couple (jeu de données, labels) pour les tests\n",
    "#     '''\n",
    "#     return train, valid, test\n"
   ]
  },
  {
   "cell_type": "markdown",
   "id": "aba8a369-cf26-4aa0-8a26-df231971d9be",
   "metadata": {},
   "source": [
    "# Q3 Classification binaire"
   ]
  },
  {
   "cell_type": "markdown",
   "id": "db3c01a3-682b-46c8-b8bd-21ec30a481a0",
   "metadata": {},
   "source": [
    "### Q3.1 \n",
    "Extraire des jeux de données précédents les données et labels de test, train, valid qui correspondent à 7 et à 9 avec la fonction decoupage_restreint\n"
   ]
  },
  {
   "cell_type": "code",
   "execution_count": null,
   "id": "46f3a1da-7595-4b80-8790-55080a8711ac",
   "metadata": {},
   "outputs": [],
   "source": [
    "# def decoupage_restreint(test,train,valid):\n",
    "#     '''\n",
    "#     Entrée\n",
    "#     train : couple (jeu de données, labels) pour l'entraînement\n",
    "#     valid : couple (jeu de données, labels) pour la validation\n",
    "#     test : couple (jeu de données, labels) pour les tests\n",
    "\n",
    "#     Sortie:\n",
    "#     train : couple (jeu de données, labels) pour l'entraînement sur les données de label 7 et 9\n",
    "#     valid : couple (jeu de données, labels) pour la validation sur les données de label 7 et 9\n",
    "#     test : couple (jeu de données, labels) pour les tests sur les données de label 7 et 9\n",
    "\n",
    "#     '''\n",
    "#     return test_restreint, train_restreint, valid_restreint\n",
    "\n",
    "test,train,valid=decoupage(mnist.data,mnist.target)\n",
    "train_restreint, valid_restreint, test_restreint=decoupage_restreint(test,train,valid)\n"
   ]
  },
  {
   "cell_type": "markdown",
   "id": "d45202b4-eadd-448c-a7c4-36ae27f1fe35",
   "metadata": {},
   "source": [
    "### Q3.2\n",
    "Ecire la fonction fit_svm qui apprend ('Fit') un SVM sur le jeu de données adéquat pour une classification binaire sur le jeu de donnée de 7 et de 9. Imprimez, par le biais d'une fonction print appelée dans votre fonctions, l'accuracy obtenu sur le jeu de donnée test et imprimez une explication de ce à quoi correspond ce score. La fonction retourne le modèle entrainé et l'accuracy. \n",
    "\n",
    "Il est attendu de vous que vous utilisiez svm.SVC() ainsi que les fonctions .fit et .score pour trouver la réponse à cette question. Aidez-vous de help(***) où *** est l'objet pour lequel vous cherchez des renseignements.)\n",
    "\n"
   ]
  },
  {
   "cell_type": "code",
   "execution_count": null,
   "id": "6fee5f2a-afb6-4eae-9d8f-060dadda7787",
   "metadata": {},
   "outputs": [],
   "source": [
    "# def fit_svm(test_restreint,train_restreint):\n",
    "# '''\n",
    "#     Entrée:\n",
    "#     train : couple (jeu de données, labels) pour l'entraînement sur les données de label 7 et 9\n",
    "#     valid : couple (jeu de données, labels) pour la validation sur les données de label 7 et 9\n",
    "#     test : couple (jeu de données, labels) pour les tests sur les données de label 7 et 9\n",
    "\n",
    "#     Sortie:\n",
    "#     fit: modèle entrainé sur les données\n",
    "#     score: l'accuracy du modèle entrainé\n",
    "# '''\n",
    "\n",
    "#     return fit,score\n",
    "\n",
    "fit,score=fit_svm(train_restreint, valid_restreint, test_restreint)\n",
    "cond_good_classif=fit.predict(test_restreint[0])==test_restreint[1]\n",
    "cond_good_classif.mean()\n"
   ]
  },
  {
   "cell_type": "markdown",
   "id": "0b1b4fad-9d94-4e0e-adef-f5ba24f43c0d",
   "metadata": {},
   "source": [
    "### Q3.3 \n",
    "Écrire la fonction 'question33' qui affiche deux cas où la donnée est mal classifiée : pour un 7 et un 9. Il peut arriver que dans une classe toutes les données soient bien classées, indiquez-le alors dans un print dans la fonction 'question33'.\n",
    "\n",
    "Indication : utilisez .reshape(*, *) où * correspond à la dimension et plt.imshow(***) où *** est le tenseur (ndarray) pour afficher l'image d'une donnée qui est mal classifiée.\n"
   ]
  },
  {
   "cell_type": "code",
   "execution_count": null,
   "id": "23fb5dc9-a839-46f7-8a6e-0bc121d156f4",
   "metadata": {},
   "outputs": [],
   "source": [
    "question33(fit, test_restreint)\n"
   ]
  },
  {
   "cell_type": "markdown",
   "id": "4f9959e7-5513-4d30-968d-5e4980af2a8d",
   "metadata": {},
   "source": [
    "### Q3.4 \n",
    "Ecrire la fonction 'question34' qui retroune la matrice de confusion pour les prédiction de la question Q3.2 et l'affiche. Interprétez.\n",
    "\n",
    "Il est attendu de vous que vous réimplémentiez la matrice de confusion.\n"
   ]
  },
  {
   "cell_type": "code",
   "execution_count": null,
   "id": "4a0b7925-8e8f-4545-85cd-c0b007d9374e",
   "metadata": {},
   "outputs": [],
   "source": [
    "# def question34(fit_predict,test_restreint_label):\n",
    "#     '''\n",
    "#     Entrée:\n",
    "#     fit_predict: le modèle entrainé de la question Q3.2\n",
    "#     test_restreint_label: les labels sur le jeu de donnée test\n",
    "#     '''\n",
    "#     return conf_matrix\n",
    "\n",
    "# question33(fit.predict(test_restreint[0]),test_restreint[1])\n",
    "\n",
    "question34(fit, test_restreint[0], test_restreint[1])\n"
   ]
  },
  {
   "cell_type": "markdown",
   "id": "6ae90f6f-e86d-441d-bd12-7a80236d8b97",
   "metadata": {},
   "source": [
    "# Partie II: Pytorch"
   ]
  },
  {
   "cell_type": "code",
   "execution_count": null,
   "id": "317a710e-dd32-4cea-86e5-8315bd4a830e",
   "metadata": {},
   "outputs": [],
   "source": [
    "import torch\n",
    "from torchvision import datasets\n",
    "from torchvision.transforms import ToTensor\n",
    "import matplotlib.pyplot as plt\n",
    "#import test.py\n",
    "import numpy as np\n"
   ]
  },
  {
   "cell_type": "code",
   "execution_count": null,
   "id": "87222183-27ff-4687-9273-665ad903ae4b",
   "metadata": {},
   "outputs": [],
   "source": [
    "training_data= datasets.MNIST(root=\"data\",train=True,download=True,transform=ToTensor())\n",
    "test_data = datasets.MNIST(root=\"data\",train=False,download=True,transform=ToTensor())\n"
   ]
  },
  {
   "cell_type": "code",
   "execution_count": null,
   "id": "f7182b5e-4d8e-4099-953e-dda0ef162da3",
   "metadata": {},
   "outputs": [],
   "source": [
    "img=training_data[0][0]\n",
    "plt.imshow(img.squeeze())\n"
   ]
  },
  {
   "cell_type": "markdown",
   "id": "c1539d63-2f8b-465d-b38a-4e86c881e9c0",
   "metadata": {},
   "source": [
    "## Q4 MNIST : quelques informations indicatives"
   ]
  },
  {
   "cell_type": "markdown",
   "id": "9efbeb85-4591-4938-a9f0-3252dcdf6319",
   "metadata": {},
   "source": [
    "### Q4.1 \n",
    "Quelle est la taille du jeu de données, c'est-à-dire combien y a-t-il de 'samples' ou \n",
    "échantillons sur le jeu de données train?\n",
    "\n",
    "Créez une fonction question41 qui imprime la réponse."
   ]
  },
  {
   "cell_type": "code",
   "execution_count": null,
   "id": "ec22744c-128f-4780-9401-d323e9eea618",
   "metadata": {},
   "outputs": [],
   "source": [
    "question41()\n"
   ]
  },
  {
   "cell_type": "markdown",
   "id": "72558035-f437-4f75-a9eb-09a11d3ec4e3",
   "metadata": {},
   "source": [
    "### Q4.2 \n",
    "Quelles sont les dimensions d'un échantillon dans le jeu de données ? Ces dimensions correspondent-elles à celles d'une image ?\n",
    "\n",
    "Creer une fonction question42 qui imprime la réponse. "
   ]
  },
  {
   "cell_type": "code",
   "execution_count": null,
   "id": "ca365528-a770-4e88-a8a2-d8a61a4eb41f",
   "metadata": {
    "scrolled": true
   },
   "outputs": [],
   "source": [
    "question42()\n"
   ]
  },
  {
   "cell_type": "markdown",
   "id": "c536c42f-b31d-4167-a61a-23c18947ebc9",
   "metadata": {},
   "source": [
    "### Q4.3\n",
    "Quelles sont les classes associées aux données ? Combien y en a-t-il ?\n",
    "Creer une fonction question43 qui imprime la réponse. "
   ]
  },
  {
   "cell_type": "code",
   "execution_count": null,
   "id": "62e9d429-26c6-44a7-9b3e-1de655a65573",
   "metadata": {},
   "outputs": [],
   "source": [
    "question43()\n"
   ]
  },
  {
   "cell_type": "markdown",
   "id": "ab976abd-eb49-4ba3-bf48-48e3e8100bd7",
   "metadata": {},
   "source": [
    "### Q4.4 \n",
    "Extraire les données qui ont comme label la deuxième classe renvoyée par 'training_data.class_to_idx' et les mettre dans une variable mnist_small_torch ; combien y a-t-il d'échantillons associés à cette classe ? Est-ce que ce nombre vous semble cohérent ? Justifiez votre réponse.\n",
    "\n",
    "Creer une fonction question44 qui imprime la réponse et votre justification et retourne mnist_small_torch"
   ]
  },
  {
   "cell_type": "code",
   "execution_count": null,
   "id": "20008aad-17d2-4eff-bbb4-4f3d4d724468",
   "metadata": {},
   "outputs": [],
   "source": [
    "# def question44():\n",
    "#     '''\n",
    "#     Sortie:\n",
    "#     mnist_small_torch: le jeu de donné qui on comme label la deuxième classe qui est affichée par training_data.class_to_idx\n",
    "#     '''\n",
    "#     return mnist_small_torch\n"
   ]
  },
  {
   "cell_type": "code",
   "execution_count": null,
   "id": "ae89b2cb-bb7a-4e81-ad91-e3a1ed145bfb",
   "metadata": {
    "scrolled": true
   },
   "outputs": [],
   "source": [
    "mnist_small_torch = question44()\n"
   ]
  },
  {
   "cell_type": "code",
   "execution_count": null,
   "id": "389f4e9e-afea-4d83-b874-6e162faabfab",
   "metadata": {},
   "outputs": [],
   "source": [
    "training_data_list=list(training_data)\n",
    "test_data_list= list(test_data)\n"
   ]
  },
  {
   "cell_type": "markdown",
   "id": "cfbd7088-7684-4bd2-b718-ad83b6538f63",
   "metadata": {
    "scrolled": true
   },
   "source": [
    "### Q4.5\n",
    "Écrire dans votre fichier test.py la fonction 'decoupage_torch'\n",
    "qui prend en entrée les tenseurs training_data_list et test_data_list et retourne les tenseurs constitués des données et tenseurs qui\n",
    "correspondent aux labels 7 et 9.\n",
    "\n",
    "def decoupage(training_data_list,test_data_list):\n",
    "'''\n",
    "    Entrée:\n",
    "    training_data_list : la liste des couples (donnée,label) du trainset\n",
    "    test_data_list : la liste des couples (donnée,label) du testset\n",
    "\n",
    "    Sortie:\n",
    "    restrict_train : la liste des couples (donnée,label) du trainset pour les labels 7 et 9\n",
    "    restrict_test : la liste des couples (donnée,label) du testset pour les labels 7 et 9\n",
    "    '''\n",
    "\n",
    "return restrict_train, restrict_test\n"
   ]
  },
  {
   "cell_type": "code",
   "execution_count": null,
   "id": "de4ca0d2-0d27-4140-9fc8-ae3fdaf03d7c",
   "metadata": {
    "scrolled": true
   },
   "outputs": [],
   "source": [
    "restrict_train, restrict_test=decoupage_torch(training_data_list,test_data_list)\n"
   ]
  },
  {
   "cell_type": "code",
   "execution_count": null,
   "id": "161eae39-c404-4fc7-b7f2-55a5ecb806ca",
   "metadata": {},
   "outputs": [],
   "source": [
    "## Q5 Decoupage en batch\n"
   ]
  },
  {
   "cell_type": "markdown",
   "id": "764a38a0-f472-4a12-bcd6-f69385ea6c95",
   "metadata": {},
   "source": [
    "### Q5.1 \n",
    "A quoi sert le decoupage du jeu de donnée en batch? Imprimez votre réponse à l'aide de la fonction question51"
   ]
  },
  {
   "cell_type": "code",
   "execution_count": null,
   "id": "f96a2fd8-8025-4960-86b1-1f6d483cc7fa",
   "metadata": {},
   "outputs": [],
   "source": [
    "question51()\n"
   ]
  },
  {
   "cell_type": "code",
   "execution_count": null,
   "id": "a0c1c2fd-f92e-4227-846a-b05a3bc1743a",
   "metadata": {},
   "outputs": [],
   "source": [
    "from torch.utils.data import DataLoader\n",
    "\n",
    "train_dataloader = DataLoader(restrict_train, batch_size=64, shuffle=True)\n",
    "test_dataloader = DataLoader(restrict_test, batch_size=64, shuffle=True)\n"
   ]
  },
  {
   "cell_type": "code",
   "execution_count": null,
   "id": "c07a2797-50f0-4d50-a0d3-8ee399c8d278",
   "metadata": {},
   "outputs": [],
   "source": [
    "un_batch=next(iter(train_dataloader))\n"
   ]
  },
  {
   "cell_type": "markdown",
   "id": "13bf4a67-2e9f-44c6-adc9-e389afed4e89",
   "metadata": {},
   "source": [
    "### Q5.2\n",
    "Expliquer à quoi correspondent les lignes de commandes prédentes :\n",
    "\n",
    "'train_dataloader = DataLoader(training_data, batch_size=64, shuffle=True)\n",
    "\n",
    "test_dataloader = DataLoader(test_data, batch_size=64, shuffle=True)\n",
    "'\n",
    "\n",
    "Ecrire l'explication dans la fonction 'question52'"
   ]
  },
  {
   "cell_type": "markdown",
   "id": "de32ed1a-481e-486c-ba1a-dabc8f75298d",
   "metadata": {},
   "source": [
    "### Q5.3\n",
    "Compléter la fonction suivante qui permet d'implémenter un réseau de neurones à deux couches qui permettra de prédire la classe des données.\n",
    "Il faut choisir ninput et noutput de manière adéquate par rapport à notre problème de classification."
   ]
  },
  {
   "cell_type": "code",
   "execution_count": null,
   "id": "775311e8-82b5-4b61-ac9b-f26c33d3c4aa",
   "metadata": {},
   "outputs": [],
   "source": [
    "model = bonus()\n"
   ]
  },
  {
   "cell_type": "code",
   "execution_count": null,
   "id": "c3977e7f",
   "metadata": {},
   "outputs": [],
   "source": [
    "bonus2(model)\n"
   ]
  },
  {
   "cell_type": "markdown",
   "id": "f46ee478-e963-429d-948a-f0dc447b5202",
   "metadata": {},
   "source": [
    "### Q5.3 (Bonus)\n",
    "Compléter la boucle d'entrainenement suivant, ajoutez la version compléter à votre code 'test.py' suivante. Ajouter\n",
    "également les explications sur ce que fait la commande just en dessous de la consigne 'Expliquer' (à remplir directement dans le code\n",
    "en commentaire)"
   ]
  },
  {
   "cell_type": "code",
   "execution_count": null,
   "id": "b3a7880b-467a-4030-966a-346e44bf002f",
   "metadata": {},
   "outputs": [],
   "source": [
    "loss_fn = torch.nn.CrossEntropyLoss()\n",
    "model= ''' A compléter '''\n",
    "training_loader= ''' A compléter '''\n",
    "def train_one_epoch(epoch_index, tb_writer):\n",
    "    running_loss = 0.\n",
    "    last_loss = 0.\n",
    "\n",
    "    # Here, we use enumerate(training_loader) instead of\n",
    "    # iter(training_loader) so that we can track the batch\n",
    "    # index and do some intra-epoch reporting\n",
    "    for i, data in enumerate(training_loader):\n",
    "        '''Expliquer'''\n",
    "        inputs, labels = data\n",
    "\n",
    "        # Zero your gradients for every batch!\n",
    "        optimizer.zero_grad()\n",
    "\n",
    "       '''Expliquer'''\n",
    "        outputs = model(inputs)\n",
    "\n",
    "       '''Expliquer'''\n",
    "        loss = loss_fn(outputs, labels)\n",
    "        loss.backward()\n",
    "\n",
    "        # Adjust learning weights\n",
    "        optimizer.step()\n",
    "\n",
    "        # Gather data and report\n",
    "        running_loss += loss.item()\n",
    "        if i % 1000 == 999:\n",
    "            last_loss = running_loss / 1000 # loss per batch\n",
    "            print('  batch {} loss: {}'.format(i + 1, last_loss))\n",
    "            tb_x = epoch_index * len(training_loader) + i + 1\n",
    "            tb_writer.add_scalar('Loss/train', last_loss, tb_x)\n",
    "            running_loss = 0.\n",
    "\n",
    "    return last_loss\n"
   ]
  },
  {
   "cell_type": "markdown",
   "id": "c049c514-57fd-42cc-907b-86c17f7fc10d",
   "metadata": {},
   "source": [
    "### Q5.4 (Bonus)\n",
    "Entrainez votre réseau de neurone avec le code suivant. Quel accuracy obtenez vous sur le jeu de donnée test? donner la réponse \n",
    "dans la fonction question5.4"
   ]
  },
  {
   "cell_type": "code",
   "execution_count": null,
   "id": "b3d5c440-a205-47c5-aae9-3d8e5ad98b52",
   "metadata": {},
   "outputs": [],
   "source": [
    "EPOCHS=100\n",
    "for epoch in range(EPOCHS):\n",
    "    print('EPOCH {}:'.format(epoch_number + 1))\n",
    "\n",
    "    # Make sure gradient tracking is on, and do a pass over the data\n",
    "    model.train(True)\n",
    "    avg_loss = train_one_epoch(epoch_number, writer)\n",
    "model.eval()\n"
   ]
  },
  {
   "cell_type": "code",
   "execution_count": null,
   "id": "3f5770e1-4f8a-44d6-89b5-b2815ea5608a",
   "metadata": {},
   "outputs": [],
   "source": [
    "question5.4\n"
   ]
  },
  {
   "cell_type": "markdown",
   "id": "8ae2d64a-84ed-4d27-9e5b-b787852cc82a",
   "metadata": {},
   "source": [
    "### Q5.5 (Bonus)\n",
    "Print deux cas ou la donné est mal classifié: pour un 7 et un 9"
   ]
  },
  {
   "cell_type": "code",
   "execution_count": null,
   "id": "94f754de-6408-4c13-9a78-dc85f195160e",
   "metadata": {},
   "outputs": [],
   "source": [
    "question5.5\n"
   ]
  },
  {
   "cell_type": "markdown",
   "id": "50dfa905-5ec0-44ea-9b6b-9f58b9120d37",
   "metadata": {},
   "source": [
    "### Q5.6 (Bonus)\n",
    "Affichez la matrice de confusion."
   ]
  },
  {
   "cell_type": "code",
   "execution_count": null,
   "id": "f66e4f4f-2763-4f53-8f75-22145f756344",
   "metadata": {},
   "outputs": [],
   "source": [
    "question5.6\n"
   ]
  },
  {
   "cell_type": "markdown",
   "id": "3448ac8c-a987-4acf-b8e5-eafaa0347156",
   "metadata": {},
   "source": [
    "### Q5.7 (Bonus)\n",
    "Comparer et dicutez les résultats obtenus avec SVM et reseau de neurone à deux couches. "
   ]
  },
  {
   "cell_type": "code",
   "execution_count": null,
   "id": "56436202-05b2-4fb9-9b24-a57d408a8a7f",
   "metadata": {},
   "outputs": [],
   "source": [
    "question5.7\n"
   ]
  }
 ],
 "metadata": {
  "kernelspec": {
   "display_name": "Python 3 (ipykernel)",
   "language": "python",
   "name": "python3"
  },
  "language_info": {
   "codemirror_mode": {
    "name": "ipython",
    "version": 3
   },
   "file_extension": ".py",
   "mimetype": "text/x-python",
   "name": "python",
   "nbconvert_exporter": "python",
   "pygments_lexer": "ipython3",
   "version": "3.11.8"
  }
 },
 "nbformat": 4,
 "nbformat_minor": 5
}
