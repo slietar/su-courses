{
 "cells": [
  {
   "cell_type": "markdown",
   "id": "87346dca-c701-42cf-a82d-91ad906d2a03",
   "metadata": {},
   "source": [
    "# Evaluation 5-4-24 Cours Deep-Life\n",
    "\n",
    "Nom: Liétar\n",
    "\n",
    "Prénom: Simon\n",
    "\n",
    "Numéro Etudiant: 21313900\n"
   ]
  },
  {
   "cell_type": "markdown",
   "id": "7262c218-09db-4c57-9eb7-dfbf122c37e6",
   "metadata": {},
   "source": [
    "# Consignes\n",
    "\n",
    "## Document à rendre\n",
    "Créez un document test.py. Chaque question nécessite d'écrire une fonction. S'il vous est demandé d'afficher des informations, utilisez print au sein de votre fonction pour les afficher lors de l'appel de cette fonction. Après chaque question, un appel de la fonction est fait dans une cellule en dessous du Jupyter Notebook.\n",
    "\n",
    "Le Jupyter Notebook ne sera pas conservé et seul le fichier test.py sera accepté comme réponse à cette évaluation et à \n",
    "déposer sur Moodle. Vous pouvez donc modifier comme vous le souhaitez votre Jupyter Notebook, par exemple en ajoutant \n",
    "des cellules pour faire des essais. Néanmoins, faites attention : assurez-vous que vos fonctions soient bien chargées \n",
    "correctement et qu'elles ne dépendent que des variables déjà instanciées dans la version du TME que vous venez de télécharger \n",
    "sur Moodle et que vous êtes en train de lire.\n",
    "\n",
    "## Documents autorisés\n",
    "\n",
    "Vous n'êtes pas autorisés à utiliser d'autres ressources que celles qui vous sont fournies sur Moodle. Vous ne pouvez pas utiliser Internet autrement que pour accéder à Moodle. Si cette consigne n'est pas respectée, cela signifie automatiquement un zéro pour votre copie. Aidez-vous de la fonction help(***), où *** doit être remplacé par l'objet, la fonction... pour lequel vous souhaitez avoir plus d'informations."
   ]
  },
  {
   "cell_type": "code",
   "execution_count": 51,
   "id": "41989b37-4b2f-4a8e-9975-e88e01e09509",
   "metadata": {},
   "outputs": [
    {
     "name": "stdout",
     "output_type": "stream",
     "text": [
      "The autoreload extension is already loaded. To reload it, use:\n",
      "  %reload_ext autoreload\n"
     ]
    }
   ],
   "source": [
    "%load_ext autoreload\n",
    "%autoreload 2\n",
    "from test import *\n",
    "\n",
    "from sklearn import svm\n",
    "import pandas as pd\n",
    "import matplotlib.pyplot as plt\n",
    "#import test.py\n",
    "import numpy as np\n"
   ]
  },
  {
   "cell_type": "code",
   "execution_count": 13,
   "id": "5abab8eb-756b-48d2-aa93-aa343f0f7308",
   "metadata": {},
   "outputs": [
    {
     "data": {
      "text/plain": [
       "<matplotlib.image.AxesImage at 0x1696bb6d0>"
      ]
     },
     "execution_count": 13,
     "metadata": {},
     "output_type": "execute_result"
    },
    {
     "data": {
      "image/png": "[encoded data removed]",
      "text/plain": [
       "<Figure size 640x480 with 1 Axes>"
      ]
     },
     "metadata": {},
     "output_type": "display_data"
    }
   ],
   "source": [
    "from sklearn.datasets import load_digits\n",
    "mnist = load_digits()\n",
    "plt.imshow(mnist.images[0])\n"
   ]
  },
  {
   "cell_type": "code",
   "execution_count": 14,
   "id": "874223a7-df01-4e4d-907b-2ea60cc0b09d",
   "metadata": {},
   "outputs": [
    {
     "name": "stdout",
     "output_type": "stream",
     "text": [
      "Help on Bunch in module sklearn.utils._bunch object:\n",
      "\n",
      "class Bunch(builtins.dict)\n",
      " |  Bunch(**kwargs)\n",
      " |  \n",
      " |  Container object exposing keys as attributes.\n",
      " |  \n",
      " |  Bunch objects are sometimes used as an output for functions and methods.\n",
      " |  They extend dictionaries by enabling values to be accessed by key,\n",
      " |  `bunch[\"value_key\"]`, or by an attribute, `bunch.value_key`.\n",
      " |  \n",
      " |  Examples\n",
      " |  --------\n",
      " |  >>> from sklearn.utils import Bunch\n",
      " |  >>> b = Bunch(a=1, b=2)\n",
      " |  >>> b['b']\n",
      " |  2\n",
      " |  >>> b.b\n",
      " |  2\n",
      " |  >>> b.a = 3\n",
      " |  >>> b['a']\n",
      " |  3\n",
      " |  >>> b.c = 6\n",
      " |  >>> b['c']\n",
      " |  6\n",
      " |  \n",
      " |  Method resolution order:\n",
      " |      Bunch\n",
      " |      builtins.dict\n",
      " |      builtins.object\n",
      " |  \n",
      " |  Methods defined here:\n",
      " |  \n",
      " |  __dir__(self)\n",
      " |      Default dir() implementation.\n",
      " |  \n",
      " |  __getattr__(self, key)\n",
      " |  \n",
      " |  __getitem__(self, key)\n",
      " |      x.__getitem__(y) <==> x[y]\n",
      " |  \n",
      " |  __init__(self, **kwargs)\n",
      " |      Initialize self.  See help(type(self)) for accurate signature.\n",
      " |  \n",
      " |  __setattr__(self, key, value)\n",
      " |      Implement setattr(self, name, value).\n",
      " |  \n",
      " |  __setstate__(self, state)\n",
      " |  \n",
      " |  ----------------------------------------------------------------------\n",
      " |  Data descriptors defined here:\n",
      " |  \n",
      " |  __dict__\n",
      " |      dictionary for instance variables\n",
      " |  \n",
      " |  __weakref__\n",
      " |      list of weak references to the object\n",
      " |  \n",
      " |  ----------------------------------------------------------------------\n",
      " |  Methods inherited from builtins.dict:\n",
      " |  \n",
      " |  __contains__(self, key, /)\n",
      " |      True if the dictionary has the specified key, else False.\n",
      " |  \n",
      " |  __delitem__(self, key, /)\n",
      " |      Delete self[key].\n",
      " |  \n",
      " |  __eq__(self, value, /)\n",
      " |      Return self==value.\n",
      " |  \n",
      " |  __ge__(self, value, /)\n",
      " |      Return self>=value.\n",
      " |  \n",
      " |  __getattribute__(self, name, /)\n",
      " |      Return getattr(self, name).\n",
      " |  \n",
      " |  __gt__(self, value, /)\n",
      " |      Return self>value.\n",
      " |  \n",
      " |  __ior__(self, value, /)\n",
      " |      Return self|=value.\n",
      " |  \n",
      " |  __iter__(self, /)\n",
      " |      Implement iter(self).\n",
      " |  \n",
      " |  __le__(self, value, /)\n",
      " |      Return self<=value.\n",
      " |  \n",
      " |  __len__(self, /)\n",
      " |      Return len(self).\n",
      " |  \n",
      " |  __lt__(self, value, /)\n",
      " |      Return self<value.\n",
      " |  \n",
      " |  __ne__(self, value, /)\n",
      " |      Return self!=value.\n",
      " |  \n",
      " |  __or__(self, value, /)\n",
      " |      Return self|value.\n",
      " |  \n",
      " |  __repr__(self, /)\n",
      " |      Return repr(self).\n",
      " |  \n",
      " |  __reversed__(self, /)\n",
      " |      Return a reverse iterator over the dict keys.\n",
      " |  \n",
      " |  __ror__(self, value, /)\n",
      " |      Return value|self.\n",
      " |  \n",
      " |  __setitem__(self, key, value, /)\n",
      " |      Set self[key] to value.\n",
      " |  \n",
      " |  __sizeof__(...)\n",
      " |      D.__sizeof__() -> size of D in memory, in bytes\n",
      " |  \n",
      " |  clear(...)\n",
      " |      D.clear() -> None.  Remove all items from D.\n",
      " |  \n",
      " |  copy(...)\n",
      " |      D.copy() -> a shallow copy of D\n",
      " |  \n",
      " |  get(self, key, default=None, /)\n",
      " |      Return the value for key if key is in the dictionary, else default.\n",
      " |  \n",
      " |  items(...)\n",
      " |      D.items() -> a set-like object providing a view on D's items\n",
      " |  \n",
      " |  keys(...)\n",
      " |      D.keys() -> a set-like object providing a view on D's keys\n",
      " |  \n",
      " |  pop(...)\n",
      " |      D.pop(k[,d]) -> v, remove specified key and return the corresponding value.\n",
      " |      \n",
      " |      If the key is not found, return the default if given; otherwise,\n",
      " |      raise a KeyError.\n",
      " |  \n",
      " |  popitem(self, /)\n",
      " |      Remove and return a (key, value) pair as a 2-tuple.\n",
      " |      \n",
      " |      Pairs are returned in LIFO (last-in, first-out) order.\n",
      " |      Raises KeyError if the dict is empty.\n",
      " |  \n",
      " |  setdefault(self, key, default=None, /)\n",
      " |      Insert key with a value of default if key is not in the dictionary.\n",
      " |      \n",
      " |      Return the value for key if key is in the dictionary, else default.\n",
      " |  \n",
      " |  update(...)\n",
      " |      D.update([E, ]**F) -> None.  Update D from dict/iterable E and F.\n",
      " |      If E is present and has a .keys() method, then does:  for k in E: D[k] = E[k]\n",
      " |      If E is present and lacks a .keys() method, then does:  for k, v in E: D[k] = v\n",
      " |      In either case, this is followed by: for k in F:  D[k] = F[k]\n",
      " |  \n",
      " |  values(...)\n",
      " |      D.values() -> an object providing a view on D's values\n",
      " |  \n",
      " |  ----------------------------------------------------------------------\n",
      " |  Class methods inherited from builtins.dict:\n",
      " |  \n",
      " |  __class_getitem__(...) from builtins.type\n",
      " |      See PEP 585\n",
      " |  \n",
      " |  fromkeys(iterable, value=None, /) from builtins.type\n",
      " |      Create a new dictionary with keys from iterable and values set to value.\n",
      " |  \n",
      " |  ----------------------------------------------------------------------\n",
      " |  Static methods inherited from builtins.dict:\n",
      " |  \n",
      " |  __new__(*args, **kwargs) from builtins.type\n",
      " |      Create and return a new object.  See help(type) for accurate signature.\n",
      " |  \n",
      " |  ----------------------------------------------------------------------\n",
      " |  Data and other attributes inherited from builtins.dict:\n",
      " |  \n",
      " |  __hash__ = None\n",
      "\n"
     ]
    }
   ],
   "source": [
    "# Exemple de recherche d'aide:\n",
    "help(mnist)\n"
   ]
  },
  {
   "cell_type": "markdown",
   "id": "73e37c01-0081-4c4f-a59b-bb45a0ec6eed",
   "metadata": {},
   "source": [
    "# Partie I: Sklearn"
   ]
  },
  {
   "cell_type": "markdown",
   "id": "937aedb7-282c-4c05-9451-8f33b7be10c2",
   "metadata": {},
   "source": [
    "## Q1 MNIST : quelques informations indicatives"
   ]
  },
  {
   "cell_type": "markdown",
   "id": "dc5c2b39-cfb4-493f-ab03-15ecc580f163",
   "metadata": {},
   "source": [
    "### Q1.1 \n",
    "Quelle est la taille du jeu de données, c'est-à-dire combien y a-t-il de 'samples' ou \n",
    "échantillons sur l'intégralité du jeu de données ?\n",
    "\n",
    "Créez une fonction question11 qui imprime la réponse."
   ]
  },
  {
   "cell_type": "code",
   "execution_count": 15,
   "id": "e81bef49-50ec-4198-9d09-63525db2faf2",
   "metadata": {},
   "outputs": [
    {
     "name": "stdout",
     "output_type": "stream",
     "text": [
      "Il y a 1797 samples.\n"
     ]
    }
   ],
   "source": [
    "question11()\n"
   ]
  },
  {
   "cell_type": "markdown",
   "id": "3c7e9ca9-83b8-4a73-a479-b3355cf9b685",
   "metadata": {},
   "source": [
    "### Q1.2 \n",
    "Quelles sont les dimensions d'un échantillon dans le jeu de données ? Quelle est la taille de l'image associée ?\n",
    "\n",
    "Creer une fonction question12 qui imprime les réponses. "
   ]
  },
  {
   "cell_type": "code",
   "execution_count": 16,
   "id": "f6152f92-b88a-46a7-a2a4-fca0b554186b",
   "metadata": {
    "scrolled": true
   },
   "outputs": [
    {
     "name": "stdout",
     "output_type": "stream",
     "text": [
      "Il y a 64 variables par sample, ou 8x8.\n"
     ]
    }
   ],
   "source": [
    "question12()\n"
   ]
  },
  {
   "cell_type": "markdown",
   "id": "44f5a6e7-390b-451a-ae5b-f58bbaae258b",
   "metadata": {},
   "source": [
    "### Q1.3\n",
    "Quelles sont les classes associées aux données ? Combien y en a-t-il ?\n",
    "Creer une fonction question13 qui imprime les réponses. "
   ]
  },
  {
   "cell_type": "code",
   "execution_count": 17,
   "id": "aec8b6f0-91a3-4fb5-a476-19163a8f88a2",
   "metadata": {},
   "outputs": [
    {
     "name": "stdout",
     "output_type": "stream",
     "text": [
      "Les 10 classes sont [0 1 2 3 4 5 6 7 8 9] et correspondent aux chiffres sur les images.\n"
     ]
    }
   ],
   "source": [
    "question13()\n"
   ]
  },
  {
   "cell_type": "markdown",
   "id": "f817b5e9-4d47-4380-b148-9039e8cb7a93",
   "metadata": {},
   "source": [
    "### Q1.4 \n",
    "Extraire les données qui ont comme label la deuxième classe renvoyée par mnist.target_names et les mettre dans une variable mnist_small ;\n",
    "combien y a-t-il d'échantillons associés à cette classe ? Est-ce que ce nombre vous semble cohérent ? Justifiez votre réponse.\n",
    "\n",
    "Creer une fonction question14 qui imprime les réponse et votre justification et retourne mnist_small"
   ]
  },
  {
   "cell_type": "code",
   "execution_count": 18,
   "id": "b305c573-3a96-4f23-a7e2-d12ca4d81385",
   "metadata": {
    "scrolled": true
   },
   "outputs": [
    {
     "name": "stdout",
     "output_type": "stream",
     "text": [
      "Il y a 182 samples dans la classe 1.\n"
     ]
    }
   ],
   "source": [
    "question14()\n"
   ]
  },
  {
   "cell_type": "markdown",
   "id": "566d7846-a106-48ba-907a-3913ee349e6c",
   "metadata": {},
   "source": [
    "# Q2 Objectif: decouper Mnist en test, train, valid"
   ]
  },
  {
   "cell_type": "markdown",
   "id": "72c720c3-1812-4255-a284-5fe0d936ea33",
   "metadata": {},
   "source": [
    "### Q2.1\n",
    "Quel pourcentage de votre jeu de données attribueriez-vous au test, train, validation ?\n",
    "\n",
    "Creer une fonction question21 qui imprime la réponse et votre justification"
   ]
  },
  {
   "cell_type": "code",
   "execution_count": 19,
   "id": "f2ea89f5-b46b-405f-af3a-202efdb9919b",
   "metadata": {},
   "outputs": [
    {
     "name": "stdout",
     "output_type": "stream",
     "text": [
      "On attribute 60 % pour le train, 20 % pour la validation (si on ne fait pas de cross validation) et 20 % pour le test. La majorité des données est utilisée pour l'entraînement du modèle.\n"
     ]
    }
   ],
   "source": [
    "question21()\n"
   ]
  },
  {
   "cell_type": "markdown",
   "id": "51a2575c-7ca8-4db5-9b00-c57366deac12",
   "metadata": {},
   "source": [
    "### Q2.2\n",
    "Écrire dans votre fichier test.py la fonction 'decoupage' \n",
    "qui prend en entrée les données ainsi que les labels et retourne\n",
    "les trois jeux de données sous forme de couples (collection de données non annotées, collection d'annotations) pour chacun des cas : train, valid et test.\n",
    "\n",
    "Assurez-vous que votre découpage respecte les proportions de chaque classe.\n",
    "\n",
    "Il est attendu de vous que vous réimplémentiez le découpage. \n"
   ]
  },
  {
   "cell_type": "code",
   "execution_count": 20,
   "id": "5e00d85e-e2fe-4e3b-961b-f28449a2a619",
   "metadata": {},
   "outputs": [],
   "source": [
    "# def decoupage(mnist_data,mnist_target):\n",
    "#     '''\n",
    "#     Entrée:\n",
    "#     mnist_data : les données\n",
    "#     mnist_target : les labels associés aux données\n",
    "\n",
    "#     Sortie:\n",
    "#     train : couple (jeu de données, labels) pour l'entraînement\n",
    "#     valid : couple (jeu de données, labels) pour la validation\n",
    "#     test : couple (jeu de données, labels) pour les tests\n",
    "#     '''\n",
    "#     return train, valid, test\n"
   ]
  },
  {
   "cell_type": "markdown",
   "id": "aba8a369-cf26-4aa0-8a26-df231971d9be",
   "metadata": {},
   "source": [
    "# Q3 Classification binaire"
   ]
  },
  {
   "cell_type": "markdown",
   "id": "db3c01a3-682b-46c8-b8bd-21ec30a481a0",
   "metadata": {},
   "source": [
    "### Q3.1 \n",
    "Extraire des jeux de données précédents les données et labels de test, train, valid qui correspondent à 7 et à 9 avec la fonction decoupage_restreint\n"
   ]
  },
  {
   "cell_type": "code",
   "execution_count": 21,
   "id": "46f3a1da-7595-4b80-8790-55080a8711ac",
   "metadata": {},
   "outputs": [],
   "source": [
    "# def decoupage_restreint(test,train,valid):\n",
    "#     '''\n",
    "#     Entrée\n",
    "#     train : couple (jeu de données, labels) pour l'entraînement\n",
    "#     valid : couple (jeu de données, labels) pour la validation\n",
    "#     test : couple (jeu de données, labels) pour les tests\n",
    "\n",
    "#     Sortie:\n",
    "#     train : couple (jeu de données, labels) pour l'entraînement sur les données de label 7 et 9\n",
    "#     valid : couple (jeu de données, labels) pour la validation sur les données de label 7 et 9\n",
    "#     test : couple (jeu de données, labels) pour les tests sur les données de label 7 et 9\n",
    "\n",
    "#     '''\n",
    "#     return test_restreint, train_restreint, valid_restreint\n",
    "\n",
    "test,train,valid=decoupage(mnist.data,mnist.target)\n",
    "train_restreint, valid_restreint, test_restreint=decoupage_restreint(test,train,valid)\n"
   ]
  },
  {
   "cell_type": "markdown",
   "id": "d45202b4-eadd-448c-a7c4-36ae27f1fe35",
   "metadata": {},
   "source": [
    "### Q3.2\n",
    "Ecire la fonction fit_svm qui apprend ('Fit') un SVM sur le jeu de données adéquat pour une classification binaire sur le jeu de donnée de 7 et de 9. Imprimez, par le biais d'une fonction print appelée dans votre fonctions, l'accuracy obtenu sur le jeu de donnée test et imprimez une explication de ce à quoi correspond ce score. La fonction retourne le modèle entrainé et l'accuracy. \n",
    "\n",
    "Il est attendu de vous que vous utilisiez svm.SVC() ainsi que les fonctions .fit et .score pour trouver la réponse à cette question. Aidez-vous de help(***) où *** est l'objet pour lequel vous cherchez des renseignements.)\n",
    "\n"
   ]
  },
  {
   "cell_type": "code",
   "execution_count": 22,
   "id": "6fee5f2a-afb6-4eae-9d8f-060dadda7787",
   "metadata": {},
   "outputs": [
    {
     "name": "stdout",
     "output_type": "stream",
     "text": [
      "L'accuracy obtenue est 100.00 %, ce qui correspond au pourcentage de prédictions correctes.\n"
     ]
    },
    {
     "data": {
      "text/plain": [
       "1.0"
      ]
     },
     "execution_count": 22,
     "metadata": {},
     "output_type": "execute_result"
    }
   ],
   "source": [
    "# def fit_svm(test_restreint,train_restreint):\n",
    "# '''\n",
    "#     Entrée:\n",
    "#     train : couple (jeu de données, labels) pour l'entraînement sur les données de label 7 et 9\n",
    "#     valid : couple (jeu de données, labels) pour la validation sur les données de label 7 et 9\n",
    "#     test : couple (jeu de données, labels) pour les tests sur les données de label 7 et 9\n",
    "\n",
    "#     Sortie:\n",
    "#     fit: modèle entrainé sur les données\n",
    "#     score: l'accuracy du modèle entrainé\n",
    "# '''\n",
    "\n",
    "#     return fit,score\n",
    "\n",
    "fit,score=fit_svm(train_restreint, valid_restreint, test_restreint)\n",
    "cond_good_classif=fit.predict(test_restreint[0])==test_restreint[1]\n",
    "cond_good_classif.mean()\n"
   ]
  },
  {
   "cell_type": "markdown",
   "id": "0b1b4fad-9d94-4e0e-adef-f5ba24f43c0d",
   "metadata": {},
   "source": [
    "### Q3.3 \n",
    "Écrire la fonction 'question33' qui affiche deux cas où la donnée est mal classifiée : pour un 7 et un 9. Il peut arriver que dans une classe toutes les données soient bien classées, indiquez-le alors dans un print dans la fonction 'question33'.\n",
    "\n",
    "Indication : utilisez .reshape(*, *) où * correspond à la dimension et plt.imshow(***) où *** est le tenseur (ndarray) pour afficher l'image d'une donnée qui est mal classifiée.\n"
   ]
  },
  {
   "cell_type": "code",
   "execution_count": 23,
   "id": "23fb5dc9-a839-46f7-8a6e-0bc121d156f4",
   "metadata": {},
   "outputs": [
    {
     "name": "stdout",
     "output_type": "stream",
     "text": [
      "Toutes les données sont bien classifiées.\n"
     ]
    }
   ],
   "source": [
    "question33(fit, test_restreint)\n"
   ]
  },
  {
   "cell_type": "markdown",
   "id": "4f9959e7-5513-4d30-968d-5e4980af2a8d",
   "metadata": {},
   "source": [
    "### Q3.4 \n",
    "Ecrire la fonction 'question34' qui retroune la matrice de confusion pour les prédiction de la question Q3.2 et l'affiche. Interprétez.\n",
    "\n",
    "Il est attendu de vous que vous réimplémentiez la matrice de confusion.\n"
   ]
  },
  {
   "cell_type": "code",
   "execution_count": 66,
   "id": "4a0b7925-8e8f-4545-85cd-c0b007d9374e",
   "metadata": {},
   "outputs": [
    {
     "name": "stdout",
     "output_type": "stream",
     "text": [
      "La classification est très bonne. La diagonale correspond aux classifications correctes.\n"
     ]
    },
    {
     "data": {
      "text/plain": [
       "array([[40,  0],\n",
       "       [ 0, 35]])"
      ]
     },
     "execution_count": 66,
     "metadata": {},
     "output_type": "execute_result"
    }
   ],
   "source": [
    "# def question34(fit_predict,test_restreint_label):\n",
    "#     '''\n",
    "#     Entrée:\n",
    "#     fit_predict: le modèle entrainé de la question Q3.2\n",
    "#     test_restreint_label: les labels sur le jeu de donnée test\n",
    "#     '''\n",
    "#     return conf_matrix\n",
    "\n",
    "# question33(fit.predict(test_restreint[0]),test_restreint[1])\n",
    "\n",
    "question34(fit, test_restreint[0], test_restreint[1])\n"
   ]
  },
  {
   "cell_type": "markdown",
   "id": "6ae90f6f-e86d-441d-bd12-7a80236d8b97",
   "metadata": {},
   "source": [
    "# Partie II: Pytorch"
   ]
  },
  {
   "cell_type": "code",
   "execution_count": 25,
   "id": "317a710e-dd32-4cea-86e5-8315bd4a830e",
   "metadata": {},
   "outputs": [],
   "source": [
    "import torch\n",
    "from torchvision import datasets\n",
    "from torchvision.transforms import ToTensor\n",
    "import matplotlib.pyplot as plt\n",
    "#import test.py\n",
    "import numpy as np\n"
   ]
  },
  {
   "cell_type": "code",
   "execution_count": 26,
   "id": "87222183-27ff-4687-9273-665ad903ae4b",
   "metadata": {},
   "outputs": [],
   "source": [
    "training_data= datasets.MNIST(root=\"data\",train=True,download=True,transform=ToTensor())\n",
    "test_data = datasets.MNIST(root=\"data\",train=False,download=True,transform=ToTensor())\n"
   ]
  },
  {
   "cell_type": "code",
   "execution_count": 27,
   "id": "f7182b5e-4d8e-4099-953e-dda0ef162da3",
   "metadata": {},
   "outputs": [
    {
     "data": {
      "text/plain": [
       "<matplotlib.image.AxesImage at 0x1697e1e50>"
      ]
     },
     "execution_count": 27,
     "metadata": {},
     "output_type": "execute_result"
    },
    {
     "data": {
      "image/png": "[encoded data removed]",
      "text/plain": [
       "<Figure size 640x480 with 1 Axes>"
      ]
     },
     "metadata": {},
     "output_type": "display_data"
    }
   ],
   "source": [
    "img=training_data[0][0]\n",
    "plt.imshow(img.squeeze())\n"
   ]
  },
  {
   "cell_type": "markdown",
   "id": "c1539d63-2f8b-465d-b38a-4e86c881e9c0",
   "metadata": {},
   "source": [
    "## Q4 MNIST : quelques informations indicatives"
   ]
  },
  {
   "cell_type": "markdown",
   "id": "9efbeb85-4591-4938-a9f0-3252dcdf6319",
   "metadata": {},
   "source": [
    "### Q4.1 \n",
    "Quelle est la taille du jeu de données, c'est-à-dire combien y a-t-il de 'samples' ou \n",
    "échantillons sur le jeu de données train?\n",
    "\n",
    "Créez une fonction question41 qui imprime la réponse."
   ]
  },
  {
   "cell_type": "code",
   "execution_count": 28,
   "id": "ec22744c-128f-4780-9401-d323e9eea618",
   "metadata": {},
   "outputs": [
    {
     "name": "stdout",
     "output_type": "stream",
     "text": [
      "Il y a 60000 samples.\n"
     ]
    }
   ],
   "source": [
    "question41()\n"
   ]
  },
  {
   "cell_type": "markdown",
   "id": "72558035-f437-4f75-a9eb-09a11d3ec4e3",
   "metadata": {},
   "source": [
    "### Q4.2 \n",
    "Quelles sont les dimensions d'un échantillon dans le jeu de données ? Ces dimensions correspondent-elles à celles d'une image ?\n",
    "\n",
    "Creer une fonction question42 qui imprime la réponse. "
   ]
  },
  {
   "cell_type": "code",
   "execution_count": 65,
   "id": "ca365528-a770-4e88-a8a2-d8a61a4eb41f",
   "metadata": {
    "scrolled": true
   },
   "outputs": [
    {
     "name": "stdout",
     "output_type": "stream",
     "text": [
      "Chaque sample a pour dimensions torch.Size([28, 28]), ce qui correspond à une image carrée de longueur 28 pixels.\n"
     ]
    }
   ],
   "source": [
    "question42()\n"
   ]
  },
  {
   "cell_type": "markdown",
   "id": "c536c42f-b31d-4167-a61a-23c18947ebc9",
   "metadata": {},
   "source": [
    "### Q4.3\n",
    "Quelles sont les classes associées aux données ? Combien y en a-t-il ?\n",
    "Creer une fonction question43 qui imprime la réponse. "
   ]
  },
  {
   "cell_type": "code",
   "execution_count": 30,
   "id": "62e9d429-26c6-44a7-9b3e-1de655a65573",
   "metadata": {},
   "outputs": [
    {
     "name": "stdout",
     "output_type": "stream",
     "text": [
      "Les 10 classes sont ['0 - zero', '1 - one', '2 - two', '3 - three', '4 - four', '5 - five', '6 - six', '7 - seven', '8 - eight', '9 - nine'] et correspondent aux chiffres sur les images.\n"
     ]
    }
   ],
   "source": [
    "question43()\n"
   ]
  },
  {
   "cell_type": "markdown",
   "id": "ab976abd-eb49-4ba3-bf48-48e3e8100bd7",
   "metadata": {},
   "source": [
    "### Q4.4 \n",
    "Extraire les données qui ont comme label la deuxième classe renvoyée par 'training_data.class_to_idx' et les mettre dans une variable mnist_small_torch ; combien y a-t-il d'échantillons associés à cette classe ? Est-ce que ce nombre vous semble cohérent ? Justifiez votre réponse.\n",
    "\n",
    "Creer une fonction question44 qui imprime la réponse et votre justification et retourne mnist_small_torch"
   ]
  },
  {
   "cell_type": "code",
   "execution_count": 31,
   "id": "20008aad-17d2-4eff-bbb4-4f3d4d724468",
   "metadata": {},
   "outputs": [],
   "source": [
    "# def question44():\n",
    "#     '''\n",
    "#     Sortie:\n",
    "#     mnist_small_torch: le jeu de donné qui on comme label la deuxième classe qui est affichée par training_data.class_to_idx\n",
    "#     '''\n",
    "#     return mnist_small_torch\n"
   ]
  },
  {
   "cell_type": "code",
   "execution_count": 32,
   "id": "ae89b2cb-bb7a-4e81-ad91-e3a1ed145bfb",
   "metadata": {
    "scrolled": true
   },
   "outputs": [
    {
     "name": "stdout",
     "output_type": "stream",
     "text": [
      "Il reste 5958 samples, ce qui cohérent car cela correspond à 1/10 du nombre initial de samples or les chiffres sont classes sont assez uniformément distribuées.\n"
     ]
    }
   ],
   "source": [
    "mnist_small_torch = question44()\n"
   ]
  },
  {
   "cell_type": "code",
   "execution_count": 33,
   "id": "389f4e9e-afea-4d83-b874-6e162faabfab",
   "metadata": {},
   "outputs": [],
   "source": [
    "training_data_list=list(training_data)\n",
    "test_data_list= list(test_data)\n"
   ]
  },
  {
   "cell_type": "markdown",
   "id": "cfbd7088-7684-4bd2-b718-ad83b6538f63",
   "metadata": {
    "scrolled": true
   },
   "source": [
    "### Q4.5\n",
    "Écrire dans votre fichier test.py la fonction 'decoupage_torch'\n",
    "qui prend en entrée les tenseurs training_data_list et test_data_list et retourne les tenseurs constitués des données et tenseurs qui\n",
    "correspondent aux labels 7 et 9.\n",
    "\n",
    "def decoupage(training_data_list,test_data_list):\n",
    "'''\n",
    "    Entrée:\n",
    "    training_data_list : la liste des couples (donnée,label) du trainset\n",
    "    test_data_list : la liste des couples (donnée,label) du testset\n",
    "\n",
    "    Sortie:\n",
    "    restrict_train : la liste des couples (donnée,label) du trainset pour les labels 7 et 9\n",
    "    restrict_test : la liste des couples (donnée,label) du testset pour les labels 7 et 9\n",
    "    '''\n",
    "\n",
    "return restrict_train, restrict_test\n"
   ]
  },
  {
   "cell_type": "code",
   "execution_count": 34,
   "id": "de4ca0d2-0d27-4140-9fc8-ae3fdaf03d7c",
   "metadata": {
    "scrolled": true
   },
   "outputs": [],
   "source": [
    "restrict_train, restrict_test=decoupage_torch(training_data_list,test_data_list)\n"
   ]
  },
  {
   "cell_type": "code",
   "execution_count": 35,
   "id": "161eae39-c404-4fc7-b7f2-55a5ecb806ca",
   "metadata": {},
   "outputs": [],
   "source": [
    "## Q5 Decoupage en batch\n"
   ]
  },
  {
   "cell_type": "markdown",
   "id": "764a38a0-f472-4a12-bcd6-f69385ea6c95",
   "metadata": {},
   "source": [
    "### Q5.1 \n",
    "A quoi sert le decoupage du jeu de donnée en batch? Imprimez votre réponse à l'aide de la fonction question51"
   ]
  },
  {
   "cell_type": "code",
   "execution_count": 36,
   "id": "f96a2fd8-8025-4960-86b1-1f6d483cc7fa",
   "metadata": {},
   "outputs": [
    {
     "name": "stdout",
     "output_type": "stream",
     "text": [
      "Le découpage en batch permet de traiter les données avec plus rapidement qu'en traitant les samples un par un, mais avec moins de mémoire qu'en traitant toutes les samples en même temps.\n"
     ]
    }
   ],
   "source": [
    "question51()\n"
   ]
  },
  {
   "cell_type": "code",
   "execution_count": 37,
   "id": "a0c1c2fd-f92e-4227-846a-b05a3bc1743a",
   "metadata": {},
   "outputs": [],
   "source": [
    "from torch.utils.data import DataLoader\n",
    "\n",
    "train_dataloader = DataLoader(restrict_train, batch_size=64, shuffle=True)\n",
    "test_dataloader = DataLoader(restrict_test, batch_size=64, shuffle=True)\n"
   ]
  },
  {
   "cell_type": "code",
   "execution_count": 38,
   "id": "c07a2797-50f0-4d50-a0d3-8ee399c8d278",
   "metadata": {},
   "outputs": [],
   "source": [
    "un_batch=next(iter(train_dataloader))\n"
   ]
  },
  {
   "cell_type": "markdown",
   "id": "13bf4a67-2e9f-44c6-adc9-e389afed4e89",
   "metadata": {},
   "source": [
    "### Q5.2\n",
    "Expliquer à quoi correspondent les lignes de commandes prédentes :\n",
    "\n",
    "'train_dataloader = DataLoader(training_data, batch_size=64, shuffle=True)\n",
    "\n",
    "test_dataloader = DataLoader(test_data, batch_size=64, shuffle=True)\n",
    "'\n",
    "\n",
    "Ecrire l'explication dans la fonction 'question52'"
   ]
  },
  {
   "cell_type": "markdown",
   "id": "de32ed1a-481e-486c-ba1a-dabc8f75298d",
   "metadata": {},
   "source": [
    "### Q5.3\n",
    "Compléter la fonction suivante qui permet d'implémenter un réseau de neurones à deux couches qui permettra de prédire la classe des données.\n",
    "Il faut choisir ninput et noutput de manière adéquate par rapport à notre problème de classification."
   ]
  },
  {
   "cell_type": "code",
   "execution_count": 48,
   "id": "775311e8-82b5-4b61-ac9b-f26c33d3c4aa",
   "metadata": {},
   "outputs": [
    {
     "name": "stdout",
     "output_type": "stream",
     "text": [
      "EPOCH 1:\n"
     ]
    },
    {
     "name": "stderr",
     "output_type": "stream",
     "text": [
      "/opt/homebrew/lib/python3.11/site-packages/torch/nn/modules/module.py:1511: UserWarning: Implicit dimension choice for softmax has been deprecated. Change the call to include dim=X as an argument.\n",
      "  return self._call_impl(*args, **kwargs)\n"
     ]
    },
    {
     "name": "stdout",
     "output_type": "stream",
     "text": [
      "  batch 200 loss: 0.34644711780548093\n",
      "EPOCH 2:\n",
      "  batch 200 loss: 0.3059804652929306\n",
      "EPOCH 3:\n",
      "  batch 200 loss: 0.3021341546773911\n",
      "EPOCH 4:\n",
      "  batch 200 loss: 0.30008844268321994\n",
      "EPOCH 5:\n",
      "  batch 200 loss: 0.2984415547847748\n",
      "EPOCH 6:\n",
      "  batch 200 loss: 0.2974117534160614\n",
      "EPOCH 7:\n",
      "  batch 200 loss: 0.2965654586553574\n",
      "EPOCH 8:\n",
      "  batch 200 loss: 0.2964176332950592\n",
      "EPOCH 9:\n",
      "  batch 200 loss: 0.2958049221038818\n",
      "EPOCH 10:\n",
      "  batch 200 loss: 0.2951895229816437\n"
     ]
    }
   ],
   "source": [
    "model = bonus()\n"
   ]
  },
  {
   "cell_type": "code",
   "execution_count": 63,
   "id": "c3977e7f",
   "metadata": {},
   "outputs": [
    {
     "name": "stdout",
     "output_type": "stream",
     "text": [
      "torch.Size([10000])\n",
      "tensor(9743)\n",
      "tensor([7, 2, 1,  ..., 4, 5, 6])\n"
     ]
    }
   ],
   "source": [
    "bonus2(model)\n"
   ]
  },
  {
   "cell_type": "markdown",
   "id": "f46ee478-e963-429d-948a-f0dc447b5202",
   "metadata": {},
   "source": [
    "### Q5.3 (Bonus)\n",
    "Compléter la boucle d'entrainenement suivant, ajoutez la version compléter à votre code 'test.py' suivante. Ajouter\n",
    "également les explications sur ce que fait la commande just en dessous de la consigne 'Expliquer' (à remplir directement dans le code\n",
    "en commentaire)"
   ]
  },
  {
   "cell_type": "code",
   "execution_count": null,
   "id": "b3a7880b-467a-4030-966a-346e44bf002f",
   "metadata": {},
   "outputs": [],
   "source": [
    "loss_fn = torch.nn.CrossEntropyLoss()\n",
    "model= ''' A compléter '''\n",
    "training_loader= ''' A compléter '''\n",
    "def train_one_epoch(epoch_index, tb_writer):\n",
    "    running_loss = 0.\n",
    "    last_loss = 0.\n",
    "\n",
    "    # Here, we use enumerate(training_loader) instead of\n",
    "    # iter(training_loader) so that we can track the batch\n",
    "    # index and do some intra-epoch reporting\n",
    "    for i, data in enumerate(training_loader):\n",
    "        '''Expliquer'''\n",
    "        inputs, labels = data\n",
    "\n",
    "        # Zero your gradients for every batch!\n",
    "        optimizer.zero_grad()\n",
    "\n",
    "       '''Expliquer'''\n",
    "        outputs = model(inputs)\n",
    "\n",
    "       '''Expliquer'''\n",
    "        loss = loss_fn(outputs, labels)\n",
    "        loss.backward()\n",
    "\n",
    "        # Adjust learning weights\n",
    "        optimizer.step()\n",
    "\n",
    "        # Gather data and report\n",
    "        running_loss += loss.item()\n",
    "        if i % 1000 == 999:\n",
    "            last_loss = running_loss / 1000 # loss per batch\n",
    "            print('  batch {} loss: {}'.format(i + 1, last_loss))\n",
    "            tb_x = epoch_index * len(training_loader) + i + 1\n",
    "            tb_writer.add_scalar('Loss/train', last_loss, tb_x)\n",
    "            running_loss = 0.\n",
    "\n",
    "    return last_loss\n"
   ]
  },
  {
   "cell_type": "markdown",
   "id": "c049c514-57fd-42cc-907b-86c17f7fc10d",
   "metadata": {},
   "source": [
    "### Q5.4 (Bonus)\n",
    "Entrainez votre réseau de neurone avec le code suivant. Quel accuracy obtenez vous sur le jeu de donnée test? donner la réponse \n",
    "dans la fonction question5.4"
   ]
  },
  {
   "cell_type": "code",
   "execution_count": null,
   "id": "b3d5c440-a205-47c5-aae9-3d8e5ad98b52",
   "metadata": {},
   "outputs": [],
   "source": [
    "EPOCHS=100\n",
    "for epoch in range(EPOCHS):\n",
    "    print('EPOCH {}:'.format(epoch_number + 1))\n",
    "\n",
    "    # Make sure gradient tracking is on, and do a pass over the data\n",
    "    model.train(True)\n",
    "    avg_loss = train_one_epoch(epoch_number, writer)\n",
    "model.eval()\n"
   ]
  },
  {
   "cell_type": "code",
   "execution_count": null,
   "id": "3f5770e1-4f8a-44d6-89b5-b2815ea5608a",
   "metadata": {},
   "outputs": [],
   "source": [
    "question5.4\n"
   ]
  },
  {
   "cell_type": "markdown",
   "id": "8ae2d64a-84ed-4d27-9e5b-b787852cc82a",
   "metadata": {},
   "source": [
    "### Q5.5 (Bonus)\n",
    "Print deux cas ou la donné est mal classifié: pour un 7 et un 9"
   ]
  },
  {
   "cell_type": "code",
   "execution_count": null,
   "id": "94f754de-6408-4c13-9a78-dc85f195160e",
   "metadata": {},
   "outputs": [],
   "source": [
    "question5.5\n"
   ]
  },
  {
   "cell_type": "markdown",
   "id": "50dfa905-5ec0-44ea-9b6b-9f58b9120d37",
   "metadata": {},
   "source": [
    "### Q5.6 (Bonus)\n",
    "Affichez la matrice de confusion."
   ]
  },
  {
   "cell_type": "code",
   "execution_count": null,
   "id": "f66e4f4f-2763-4f53-8f75-22145f756344",
   "metadata": {},
   "outputs": [],
   "source": [
    "question5.6\n"
   ]
  },
  {
   "cell_type": "markdown",
   "id": "3448ac8c-a987-4acf-b8e5-eafaa0347156",
   "metadata": {},
   "source": [
    "### Q5.7 (Bonus)\n",
    "Comparer et dicutez les résultats obtenus avec SVM et reseau de neurone à deux couches. "
   ]
  },
  {
   "cell_type": "code",
   "execution_count": null,
   "id": "56436202-05b2-4fb9-9b24-a57d408a8a7f",
   "metadata": {},
   "outputs": [],
   "source": [
    "question5.7\n"
   ]
  }
 ],
 "metadata": {
  "kernelspec": {
   "display_name": "Python 3 (ipykernel)",
   "language": "python",
   "name": "python3"
  },
  "language_info": {
   "codemirror_mode": {
    "name": "ipython",
    "version": 3
   },
   "file_extension": ".py",
   "mimetype": "text/x-python",
   "name": "python",
   "nbconvert_exporter": "python",
   "pygments_lexer": "ipython3",
   "version": "3.11.8"
  }
 },
 "nbformat": 4,
 "nbformat_minor": 5
}
