{
 "cells": [
  {
   "cell_type": "code",
   "execution_count": 1,
   "metadata": {},
   "outputs": [],
   "source": [
    "import scanpy\n",
    "import numpy as np\n",
    "import pandas as pd\n",
    "from matplotlib import pyplot as plt\n",
    "import muon\n"
   ]
  },
  {
   "cell_type": "code",
   "execution_count": 5,
   "metadata": {},
   "outputs": [
    {
     "name": "stderr",
     "output_type": "stream",
     "text": [
      "/opt/homebrew/lib/python3.11/site-packages/anndata/_core/anndata.py:1820: UserWarning: Variable names are not unique. To make them unique, call `.var_names_make_unique`.\n",
      "  utils.warn_names_duplicates(\"var\")\n"
     ]
    }
   ],
   "source": [
    "# pbmc = scanpy.read_10x_h5('5k_pbmc_protein_v3_nextgem_filtered_feature_bc_matrix.h5', gex_only=False)\n",
    "pbmc = scanpy.read('data.h5ad', gex_only=False)\n",
    "pbmc.var_names_make_unique()\n",
    "# pbmc.layers['counts'] = pbmc.X.copy()\n",
    "# scanpy.pp.filter_genes(pbmc, min_counts=1)\n"
   ]
  },
  {
   "cell_type": "code",
   "execution_count": 8,
   "metadata": {},
   "outputs": [
    {
     "name": "stdout",
     "output_type": "stream",
     "text": [
      "AnnData object with n_obs × n_vars = 90261 × 14087\n",
      "    obs: 'GEX_n_genes_by_counts', 'GEX_pct_counts_mt', 'GEX_size_factors', 'GEX_phase', 'ADT_n_antibodies_by_counts', 'ADT_total_counts', 'ADT_iso_count', 'cell_type', 'batch', 'ADT_pseudotime_order', 'GEX_pseudotime_order', 'Samplename', 'Site', 'DonorNumber', 'Modality', 'VendorLot', 'DonorID', 'DonorAge', 'DonorBMI', 'DonorBloodType', 'DonorRace', 'Ethnicity', 'DonorGender', 'QCMeds', 'DonorSmoker', 'is_train'\n",
      "    var: 'feature_types', 'gene_id'\n",
      "    uns: 'dataset_id', 'genome', 'organism'\n",
      "    obsm: 'ADT_X_pca', 'ADT_X_umap', 'ADT_isotype_controls', 'GEX_X_pca', 'GEX_X_umap'\n",
      "    layers: 'counts'\n"
     ]
    },
    {
     "data": {
      "text/html": [
       "<pre>MuData object with n_obs × n_vars = 90261 × 14087\n",
       "  var:\t&#x27;feature_types&#x27;, &#x27;gene_id&#x27;\n",
       "  2 modalities\n",
       "    gene_expr:\t90261 x 134\n",
       "      obs:\t&#x27;GEX_n_genes_by_counts&#x27;, &#x27;GEX_pct_counts_mt&#x27;, &#x27;GEX_size_factors&#x27;, &#x27;GEX_phase&#x27;, &#x27;ADT_n_antibodies_by_counts&#x27;, &#x27;ADT_total_counts&#x27;, &#x27;ADT_iso_count&#x27;, &#x27;cell_type&#x27;, &#x27;batch&#x27;, &#x27;ADT_pseudotime_order&#x27;, &#x27;GEX_pseudotime_order&#x27;, &#x27;Samplename&#x27;, &#x27;Site&#x27;, &#x27;DonorNumber&#x27;, &#x27;Modality&#x27;, &#x27;VendorLot&#x27;, &#x27;DonorID&#x27;, &#x27;DonorAge&#x27;, &#x27;DonorBMI&#x27;, &#x27;DonorBloodType&#x27;, &#x27;DonorRace&#x27;, &#x27;Ethnicity&#x27;, &#x27;DonorGender&#x27;, &#x27;QCMeds&#x27;, &#x27;DonorSmoker&#x27;, &#x27;is_train&#x27;\n",
       "      var:\t&#x27;feature_types&#x27;, &#x27;gene_id&#x27;\n",
       "      uns:\t&#x27;dataset_id&#x27;, &#x27;genome&#x27;, &#x27;organism&#x27;\n",
       "      obsm:\t&#x27;ADT_X_pca&#x27;, &#x27;ADT_X_umap&#x27;, &#x27;ADT_isotype_controls&#x27;, &#x27;GEX_X_pca&#x27;, &#x27;GEX_X_umap&#x27;\n",
       "      layers:\t&#x27;counts&#x27;\n",
       "    prot_expr:\t90261 x 13953\n",
       "      obs:\t&#x27;GEX_n_genes_by_counts&#x27;, &#x27;GEX_pct_counts_mt&#x27;, &#x27;GEX_size_factors&#x27;, &#x27;GEX_phase&#x27;, &#x27;ADT_n_antibodies_by_counts&#x27;, &#x27;ADT_total_counts&#x27;, &#x27;ADT_iso_count&#x27;, &#x27;cell_type&#x27;, &#x27;batch&#x27;, &#x27;ADT_pseudotime_order&#x27;, &#x27;GEX_pseudotime_order&#x27;, &#x27;Samplename&#x27;, &#x27;Site&#x27;, &#x27;DonorNumber&#x27;, &#x27;Modality&#x27;, &#x27;VendorLot&#x27;, &#x27;DonorID&#x27;, &#x27;DonorAge&#x27;, &#x27;DonorBMI&#x27;, &#x27;DonorBloodType&#x27;, &#x27;DonorRace&#x27;, &#x27;Ethnicity&#x27;, &#x27;DonorGender&#x27;, &#x27;QCMeds&#x27;, &#x27;DonorSmoker&#x27;, &#x27;is_train&#x27;\n",
       "      var:\t&#x27;feature_types&#x27;, &#x27;gene_id&#x27;\n",
       "      uns:\t&#x27;dataset_id&#x27;, &#x27;genome&#x27;, &#x27;organism&#x27;\n",
       "      obsm:\t&#x27;ADT_X_pca&#x27;, &#x27;ADT_X_umap&#x27;, &#x27;ADT_isotype_controls&#x27;, &#x27;GEX_X_pca&#x27;, &#x27;GEX_X_umap&#x27;\n",
       "      layers:\t&#x27;counts&#x27;</pre>"
      ],
      "text/plain": [
       "MuData object with n_obs × n_vars = 90261 × 14087\n",
       "  var:\t'feature_types', 'gene_id'\n",
       "  2 modalities\n",
       "    gene_expr:\t90261 x 134\n",
       "      obs:\t'GEX_n_genes_by_counts', 'GEX_pct_counts_mt', 'GEX_size_factors', 'GEX_phase', 'ADT_n_antibodies_by_counts', 'ADT_total_counts', 'ADT_iso_count', 'cell_type', 'batch', 'ADT_pseudotime_order', 'GEX_pseudotime_order', 'Samplename', 'Site', 'DonorNumber', 'Modality', 'VendorLot', 'DonorID', 'DonorAge', 'DonorBMI', 'DonorBloodType', 'DonorRace', 'Ethnicity', 'DonorGender', 'QCMeds', 'DonorSmoker', 'is_train'\n",
       "      var:\t'feature_types', 'gene_id'\n",
       "      uns:\t'dataset_id', 'genome', 'organism'\n",
       "      obsm:\t'ADT_X_pca', 'ADT_X_umap', 'ADT_isotype_controls', 'GEX_X_pca', 'GEX_X_umap'\n",
       "      layers:\t'counts'\n",
       "    prot_expr:\t90261 x 13953\n",
       "      obs:\t'GEX_n_genes_by_counts', 'GEX_pct_counts_mt', 'GEX_size_factors', 'GEX_phase', 'ADT_n_antibodies_by_counts', 'ADT_total_counts', 'ADT_iso_count', 'cell_type', 'batch', 'ADT_pseudotime_order', 'GEX_pseudotime_order', 'Samplename', 'Site', 'DonorNumber', 'Modality', 'VendorLot', 'DonorID', 'DonorAge', 'DonorBMI', 'DonorBloodType', 'DonorRace', 'Ethnicity', 'DonorGender', 'QCMeds', 'DonorSmoker', 'is_train'\n",
       "      var:\t'feature_types', 'gene_id'\n",
       "      uns:\t'dataset_id', 'genome', 'organism'\n",
       "      obsm:\t'ADT_X_pca', 'ADT_X_umap', 'ADT_isotype_controls', 'GEX_X_pca', 'GEX_X_umap'\n",
       "      layers:\t'counts'"
      ]
     },
     "execution_count": 8,
     "metadata": {},
     "output_type": "execute_result"
    }
   ],
   "source": [
    "# print(pbmc.var['feature_types'].value_counts())\n",
    "print(pbmc)\n",
    "\n",
    "data_gene = pbmc[:, pbmc.var['feature_types'] == 'ADT']\n",
    "data_expr = pbmc[:, pbmc.var['feature_types'] == 'GEX']\n",
    "\n",
    "mdata = muon.MuData(dict(\n",
    "  gene_expr=data_gene,\n",
    "  prot_expr=data_expr\n",
    "))\n",
    "\n",
    "mdata\n"
   ]
  },
  {
   "cell_type": "code",
   "execution_count": null,
   "metadata": {},
   "outputs": [
    {
     "name": "stdout",
     "output_type": "stream",
     "text": [
      "\n",
      "        #########################################################\n",
      "        ###           __  __  ____  ______                    ### \n",
      "        ###          |  \\/  |/ __ \\|  ____/\\    _             ### \n",
      "        ###          | \\  / | |  | | |__ /  \\ _| |_           ### \n",
      "        ###          | |\\/| | |  | |  __/ /\\ \\_   _|          ###\n",
      "        ###          | |  | | |__| | | / ____ \\|_|            ###\n",
      "        ###          |_|  |_|\\____/|_|/_/    \\_\\              ###\n",
      "        ###                                                   ### \n",
      "        ######################################################### \n",
      "       \n",
      " \n",
      "        \n",
      "Loaded view='gene_expr' group='group1' with N=5527 samples and D=33538 features...\n",
      "Loaded view='protein_expr' group='group1' with N=5527 samples and D=32 features...\n",
      "\n",
      "\n",
      "Warning: 12117 features(s) in view 0 have zero variance, consider removing them before training the model...\n",
      "\n",
      "Model options:\n",
      "- Automatic Relevance Determination prior on the factors: True\n",
      "- Automatic Relevance Determination prior on the weights: True\n",
      "- Spike-and-slab prior on the factors: False\n",
      "- Spike-and-slab prior on the weights: True\n",
      "Likelihoods:\n",
      "- View 0 (gene_expr): poisson\n",
      "- View 1 (protein_expr): poisson\n",
      "\n",
      "\n",
      "\n",
      "\n",
      "######################################\n",
      "## Training the model with seed 1 ##\n",
      "######################################\n",
      "\n",
      "\n",
      "\n",
      "\n",
      "#######################\n",
      "## Training finished ##\n",
      "#######################\n",
      "\n",
      "\n",
      "Saving model in /tmp/mofa_20240610-165928.hdf5...\n",
      "Note: the model to be saved is not trained.\n",
      "Saved MOFA embeddings in .obsm['X_mofa'] slot and their loadings in .varm['LFs'].\n"
     ]
    }
   ],
   "source": [
    "muon.tl.mofa(mdata)\n"
   ]
  }
 ],
 "metadata": {
  "kernelspec": {
   "display_name": "Python 3",
   "language": "python",
   "name": "python3"
  },
  "language_info": {
   "codemirror_mode": {
    "name": "ipython",
    "version": 3
   },
   "file_extension": ".py",
   "mimetype": "text/x-python",
   "name": "python",
   "nbconvert_exporter": "python",
   "pygments_lexer": "ipython3",
   "version": "3.11.8"
  }
 },
 "nbformat": 4,
 "nbformat_minor": 2
}
