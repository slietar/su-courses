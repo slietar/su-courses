{
 "cells": [
  {
   "cell_type": "markdown",
   "metadata": {},
   "source": [
    "# Introduction à NumPy"
   ]
  },
  {
   "cell_type": "code",
   "execution_count": 200,
   "metadata": {},
   "outputs": [],
   "source": [
    "import numpy as np\n",
    "from matplotlib import pyplot as plt"
   ]
  },
  {
   "cell_type": "markdown",
   "metadata": {},
   "source": [
    "## Arrays 1d\n",
    "\n",
    "### `np.array()` – Créer un array à partir d'une liste"
   ]
  },
  {
   "cell_type": "code",
   "execution_count": 5,
   "metadata": {},
   "outputs": [
    {
     "name": "stdout",
     "output_type": "stream",
     "text": [
      "[1 2 3 4 5]\n"
     ]
    }
   ],
   "source": [
    "x = np.array([1, 2, 3, 4, 5])\n",
    "\n",
    "print(x)"
   ]
  },
  {
   "cell_type": "markdown",
   "metadata": {},
   "source": [
    "### `len()` et `.shape` – Obtenir la taille"
   ]
  },
  {
   "cell_type": "code",
   "execution_count": 100,
   "metadata": {},
   "outputs": [
    {
     "name": "stdout",
     "output_type": "stream",
     "text": [
      "10\n",
      "10\n"
     ]
    }
   ],
   "source": [
    "print(len(x))\n",
    "print(x.shape[0])"
   ]
  },
  {
   "cell_type": "markdown",
   "metadata": {},
   "source": [
    "### `.dtype` – Obtenir le type des éléments"
   ]
  },
  {
   "cell_type": "code",
   "execution_count": 99,
   "metadata": {},
   "outputs": [
    {
     "name": "stdout",
     "output_type": "stream",
     "text": [
      "int64\n",
      "float64\n",
      "float32\n",
      "bool\n"
     ]
    }
   ],
   "source": [
    "print(np.array([1, 2, 3]).dtype)\n",
    "print(np.array([1.5, 2.5]).dtype)\n",
    "print(np.array([1.5, 2.5], dtype='float32').dtype)\n",
    "print(np.array([False, False, True]).dtype)"
   ]
  },
  {
   "cell_type": "markdown",
   "metadata": {},
   "source": [
    "### `[]` – Accéder à un élément donné"
   ]
  },
  {
   "cell_type": "code",
   "execution_count": 8,
   "metadata": {},
   "outputs": [
    {
     "name": "stdout",
     "output_type": "stream",
     "text": [
      "1\n",
      "3\n",
      "5\n",
      "3\n"
     ]
    }
   ],
   "source": [
    "# Donne le premier élément\n",
    "print(x[0])\n",
    "\n",
    "# Donne le troisième élément\n",
    "print(x[2])\n",
    "\n",
    "# Donne le dernier élément\n",
    "print(x[-1])\n",
    "\n",
    "# Donne l'avant-avant-dernier élément\n",
    "print(x[-3])"
   ]
  },
  {
   "cell_type": "markdown",
   "metadata": {},
   "source": [
    "### `np.zeros()` et `np.ones()` – Créer des arrays de zéros et de uns"
   ]
  },
  {
   "cell_type": "code",
   "execution_count": 205,
   "metadata": {},
   "outputs": [
    {
     "name": "stdout",
     "output_type": "stream",
     "text": [
      "[0. 0. 0. 0. 0.]\n",
      "[1. 1. 1. 1. 1.]\n",
      "[0.0, 0.0, 0.0, 0.0, 0.0]\n",
      "[1.0, 1.0, 1.0, 1.0, 1.0]\n"
     ]
    }
   ],
   "source": [
    "print(np.zeros(5))\n",
    "print(np.ones(5))\n",
    "\n",
    "# Équivalent avec des listes\n",
    "print([0.] * 5)\n",
    "print([1.] * 5)"
   ]
  },
  {
   "cell_type": "markdown",
   "metadata": {},
   "source": [
    "### `np.empty()` – Créer un array non-initialisé"
   ]
  },
  {
   "cell_type": "code",
   "execution_count": 103,
   "metadata": {},
   "outputs": [
    {
     "name": "stdout",
     "output_type": "stream",
     "text": [
      "[1. 1. 1. 1. 1.]\n"
     ]
    }
   ],
   "source": [
    "# Essaie de récupérer un espace mémoire précédemment utilisé sans l'effacer, ou en alloue un nouveau qui sera alors rempli de zéros\n",
    "print(np.empty(5))"
   ]
  },
  {
   "cell_type": "markdown",
   "metadata": {},
   "source": [
    "### `np.arange()` – Générer des entiers entre deux valeurs avec un intervalle donné"
   ]
  },
  {
   "cell_type": "code",
   "execution_count": 206,
   "metadata": {},
   "outputs": [
    {
     "name": "stdout",
     "output_type": "stream",
     "text": [
      "[ 4  5  6  7  8  9 10 11]\n",
      "[4, 5, 6, 7, 8, 9, 10, 11]\n"
     ]
    }
   ],
   "source": [
    "print(np.arange(4, 12))\n",
    "\n",
    "# Équivalent avec des listes\n",
    "print(list(range(4, 12)))"
   ]
  },
  {
   "cell_type": "markdown",
   "metadata": {},
   "source": [
    "### `np.linspace()` – Générer un nombre donné de points entre deux valeurs"
   ]
  },
  {
   "cell_type": "code",
   "execution_count": 12,
   "metadata": {},
   "outputs": [
    {
     "name": "stdout",
     "output_type": "stream",
     "text": [
      "[ 0.  2.  4.  6.  8. 10.]\n"
     ]
    }
   ],
   "source": [
    "print(np.linspace(0, 10, 6))"
   ]
  },
  {
   "cell_type": "markdown",
   "metadata": {},
   "source": [
    "### `np.random.randint()`, `np.random.rand()`, etc. – Générer des nombres aléatoires"
   ]
  },
  {
   "cell_type": "code",
   "execution_count": 13,
   "metadata": {},
   "outputs": [
    {
     "name": "stdout",
     "output_type": "stream",
     "text": [
      "[3 4 7 5 5]\n",
      "[0.52123749 0.9064103  0.25888612 0.88446952 0.16538757]\n",
      "[-1.10731482 -0.04527717 -0.29844022 -0.16458611 -1.3755642 ]\n"
     ]
    }
   ],
   "source": [
    "# Génére des nombres entiers selon une loi uniforme\n",
    "print(np.random.randint(0, 10, 5))\n",
    "\n",
    "# Génére des nombres réels selon une loi uniforme\n",
    "print(np.random.rand(5))\n",
    "\n",
    "# Génére des nombres réels selon une loi normale\n",
    "print(np.random.randn(5))"
   ]
  },
  {
   "cell_type": "markdown",
   "metadata": {},
   "source": [
    "### `np.random.permutation()` – Permuter un array aléatoirement"
   ]
  },
  {
   "cell_type": "code",
   "execution_count": 104,
   "metadata": {},
   "outputs": [
    {
     "name": "stdout",
     "output_type": "stream",
     "text": [
      "[7 8 9 0 5 3 2 4 6 1]\n"
     ]
    }
   ],
   "source": [
    "x = np.arange(10)\n",
    "print(np.random.permutation(x))"
   ]
  },
  {
   "cell_type": "markdown",
   "metadata": {},
   "source": [
    "### Faire des opérations de base"
   ]
  },
  {
   "cell_type": "code",
   "execution_count": 208,
   "metadata": {},
   "outputs": [
    {
     "name": "stdout",
     "output_type": "stream",
     "text": [
      "x=array([0, 1, 2, 3, 4])\n",
      "y=array([ 5,  7,  9, 11, 13])\n"
     ]
    }
   ],
   "source": [
    "x = np.arange(5)\n",
    "print(f'{x=}')\n",
    "\n",
    "y = x * 2 + 5\n",
    "print(f'{y=}')"
   ]
  },
  {
   "cell_type": "code",
   "execution_count": 209,
   "metadata": {},
   "outputs": [
    {
     "name": "stdout",
     "output_type": "stream",
     "text": [
      "y=array([ 5,  7,  9, 11, 13])\n"
     ]
    }
   ],
   "source": [
    "# Équivalent à :\n",
    "\n",
    "# Crée un array non-initialisé avec les mêmes propriétés que x (taille et type)\n",
    "y = np.empty_like(x)\n",
    "\n",
    "for i in range(len(x)):\n",
    "  y[i] = x[i] * 2 + 5\n",
    "\n",
    "print(f'{y=}')"
   ]
  },
  {
   "cell_type": "code",
   "execution_count": 210,
   "metadata": {},
   "outputs": [
    {
     "name": "stdout",
     "output_type": "stream",
     "text": [
      "y=array([ 5,  7,  9, 11, 13])\n"
     ]
    }
   ],
   "source": [
    "# Ou encore :\n",
    "\n",
    "y = np.array([v * 2 + 5 for v in x])\n",
    "print(f'{y=}')"
   ]
  },
  {
   "cell_type": "code",
   "execution_count": 211,
   "metadata": {},
   "outputs": [
    {
     "name": "stdout",
     "output_type": "stream",
     "text": [
      "[ 0  1  4  9 16]\n",
      "[0. 1. 2. 3. 4.]\n",
      "[ 1.          2.71828183  7.3890561  20.08553692 54.59815003]\n",
      "[ 1.          0.54030231 -0.41614684 -0.9899925  -0.65364362]\n"
     ]
    }
   ],
   "source": [
    "y = x ** 2\n",
    "\n",
    "print(y)\n",
    "print(np.sqrt(y))\n",
    "print(np.exp(x))\n",
    "print(np.cos(x))"
   ]
  },
  {
   "cell_type": "markdown",
   "metadata": {},
   "source": [
    "### Comparer"
   ]
  },
  {
   "cell_type": "code",
   "execution_count": 170,
   "metadata": {},
   "outputs": [
    {
     "name": "stdout",
     "output_type": "stream",
     "text": [
      "[ True False False  True False False]\n",
      "[ True False False  True False  True]\n",
      "[ True  True False  True False False]\n"
     ]
    }
   ],
   "source": [
    "x = np.array([-3, 6, 2, -8, 3, 0])\n",
    "\n",
    "# Retourne un array de même taille que x avec True si l'élément est négatif\n",
    "print(x < 0)\n",
    "\n",
    "print(x <= 0)\n",
    "print(x < (x * 0.5) ** 2)"
   ]
  },
  {
   "cell_type": "code",
   "execution_count": 166,
   "metadata": {},
   "outputs": [
    {
     "name": "stdout",
     "output_type": "stream",
     "text": [
      "[-2  0  0 -8  0  0]\n"
     ]
    }
   ],
   "source": [
    "# Met à zéro les éléments négatifs\n",
    "# L'array booléen (x < 0) est converti en array d'entiers avec 1 pour True et 0 pour False\n",
    "print(x * (x < 0))"
   ]
  },
  {
   "cell_type": "code",
   "execution_count": 212,
   "metadata": {},
   "outputs": [
    {
     "name": "stdout",
     "output_type": "stream",
     "text": [
      "[False False  True False  True]\n",
      "[ True  True  True  True  True]\n",
      "[ True  True False  True False]\n",
      "[False False  True False  True]\n"
     ]
    }
   ],
   "source": [
    "# Combine des conditions\n",
    "\n",
    "# Tous les éléments de x qui sont à la fois positifs et pairs\n",
    "print((x > 0) & (x % 2 == 0))\n",
    "\n",
    "# Tous les éléments de x qui sont positifs ou pairs\n",
    "print((x > 0) | (x % 2 == 0))\n",
    "\n",
    "# Tous les éléments de x qui sont soit positifs, soit pairs\n",
    "print((x > 0) != (x % 2 == 0))\n",
    "\n",
    "# Tous les éléments de x qui ne sont ni positifs, soit pairs\n",
    "print(~((x > 0) != (x % 2 == 0)))"
   ]
  },
  {
   "cell_type": "markdown",
   "metadata": {},
   "source": [
    "### `np.where()`, `.nonzero()` – Trouver les indices des éléments qui vérifient une condition"
   ]
  },
  {
   "cell_type": "code",
   "execution_count": 215,
   "metadata": {},
   "outputs": [
    {
     "name": "stdout",
     "output_type": "stream",
     "text": [
      "[0 3]\n",
      "[0 3]\n"
     ]
    }
   ],
   "source": [
    "x = np.array([-3, 6, 2, -8, 3, 0])\n",
    "\n",
    "print((x < 0).nonzero()[0])\n",
    "print(np.where(x < 0)[0])"
   ]
  },
  {
   "cell_type": "markdown",
   "metadata": {},
   "source": [
    "### `.sum()` – Sommer"
   ]
  },
  {
   "cell_type": "code",
   "execution_count": 19,
   "metadata": {},
   "outputs": [
    {
     "name": "stdout",
     "output_type": "stream",
     "text": [
      "[1 2 3]\n",
      "6\n"
     ]
    }
   ],
   "source": [
    "x = np.arange(1, 4)\n",
    "\n",
    "print(x)\n",
    "print(x.sum())"
   ]
  },
  {
   "cell_type": "markdown",
   "metadata": {},
   "source": [
    "### `.mean()` – Moyenner"
   ]
  },
  {
   "cell_type": "code",
   "execution_count": 20,
   "metadata": {},
   "outputs": [
    {
     "name": "stdout",
     "output_type": "stream",
     "text": [
      "2.0\n",
      "2.0\n"
     ]
    }
   ],
   "source": [
    "x = np.arange(5)\n",
    "\n",
    "print(x.mean())\n",
    "\n",
    "# Même chose que\n",
    "print(x.sum() / len(x))"
   ]
  },
  {
   "cell_type": "markdown",
   "metadata": {},
   "source": [
    "### `.max()`, `.min()` – Trouver le maximum et le minimum"
   ]
  },
  {
   "cell_type": "code",
   "execution_count": 226,
   "metadata": {},
   "outputs": [
    {
     "name": "stdout",
     "output_type": "stream",
     "text": [
      "5\n",
      "1\n"
     ]
    }
   ],
   "source": [
    "x = np.array([1, 5, 3, 2, 4])\n",
    "\n",
    "print(x.max())\n",
    "print(x.min())"
   ]
  },
  {
   "cell_type": "markdown",
   "metadata": {},
   "source": [
    "### `.argmax()`, `.argmin()` – Trouver l'indice du maximum et du minimum"
   ]
  },
  {
   "cell_type": "code",
   "execution_count": 227,
   "metadata": {},
   "outputs": [
    {
     "name": "stdout",
     "output_type": "stream",
     "text": [
      "1 5\n",
      "0 1\n"
     ]
    }
   ],
   "source": [
    "print(np.argmax(x), x[np.argmax(x)])\n",
    "print(np.argmin(x), x[np.argmin(x)])"
   ]
  },
  {
   "cell_type": "markdown",
   "metadata": {},
   "source": [
    "### `np.maximum()`, `np.minimum()` – Prendre le maximum et le minimum de deux chaque élément de deux arrays\n",
    "\n",
    "Différence entre `np.maximum()` et `.max()`:\n",
    "\n",
    "- `x = a.max()` – $x = \\max_i a_i$\n",
    "- `x = np.maximum(a, b)` – $x_i = \\max \\{a_i, b_i\\}$"
   ]
  },
  {
   "cell_type": "code",
   "execution_count": 85,
   "metadata": {},
   "outputs": [
    {
     "name": "stdout",
     "output_type": "stream",
     "text": [
      "[5 2 3]\n"
     ]
    }
   ],
   "source": [
    "print(np.maximum(\n",
    "  np.array([1, 2, 3]),\n",
    "  np.array([5, 2, 2])\n",
    "))"
   ]
  },
  {
   "cell_type": "markdown",
   "metadata": {},
   "source": [
    "### `[<slice>]` – Découper"
   ]
  },
  {
   "cell_type": "code",
   "execution_count": 23,
   "metadata": {},
   "outputs": [
    {
     "name": "stdout",
     "output_type": "stream",
     "text": [
      "[0 1 2 3 4 5 6 7 8 9]\n",
      "[3 4 5 6 7 8 9]\n",
      "[0 1 2 3 4 5 6 7 8]\n",
      "[3 4 5 6 7 8]\n"
     ]
    }
   ],
   "source": [
    "x = np.arange(10)\n",
    "\n",
    "print(x)\n",
    "print(x[3:]) # Retire les 3 premiers éléments\n",
    "print(x[:-1]) # Retire le dernier élément\n",
    "print(x[3:-1]) # Retire les 3 premiers et le dernier élément"
   ]
  },
  {
   "cell_type": "markdown",
   "metadata": {},
   "source": [
    "### `[<array d'entiers>]` – Chercher"
   ]
  },
  {
   "cell_type": "code",
   "execution_count": 24,
   "metadata": {},
   "outputs": [
    {
     "name": "stdout",
     "output_type": "stream",
     "text": [
      "[1 3]\n"
     ]
    }
   ],
   "source": [
    "x = np.array([1, 2, 3, 4])\n",
    "\n",
    "# Garde les éléments 1 et 3\n",
    "print(x[[0, 2]])"
   ]
  },
  {
   "cell_type": "markdown",
   "metadata": {},
   "source": [
    "### `[<array de booléens>]` – Filtrer"
   ]
  },
  {
   "cell_type": "code",
   "execution_count": 25,
   "metadata": {},
   "outputs": [
    {
     "name": "stdout",
     "output_type": "stream",
     "text": [
      "[1 3]\n",
      "[2 4]\n"
     ]
    }
   ],
   "source": [
    "x = np.array([1, 2, 3, 4])\n",
    "mask = np.array([True, False, True, False])\n",
    "\n",
    "print(x[mask])\n",
    "print(x[~mask])"
   ]
  },
  {
   "cell_type": "code",
   "execution_count": 173,
   "metadata": {},
   "outputs": [
    {
     "name": "stdout",
     "output_type": "stream",
     "text": [
      "[0.28167927 1.15108934 0.66663936 0.58286346 0.23309003 1.10754186\n",
      " 0.96775508 0.43655713]\n",
      "[0.28167927 1.15108934 0.66663936 0.58286346 0.23309003 1.10754186\n",
      " 0.96775508 0.43655713]\n"
     ]
    }
   ],
   "source": [
    "x = np.random.randn(10)\n",
    "\n",
    "print(x[x > 0])\n",
    "\n",
    "# Même chose que\n",
    "print(x[*(x > 0).nonzero()])"
   ]
  },
  {
   "cell_type": "markdown",
   "metadata": {},
   "source": [
    "### `np.argsort()` – Trier"
   ]
  },
  {
   "cell_type": "code",
   "execution_count": 110,
   "metadata": {},
   "outputs": [
    {
     "name": "stdout",
     "output_type": "stream",
     "text": [
      "[3 0 2 1 4]\n",
      "[1.1 2.5 3.  4.8 5.7]\n"
     ]
    }
   ],
   "source": [
    "x = np.array([2.5, 4.8, 3.0, 1.1, 5.7])\n",
    "\n",
    "# Renvoie les indices de l'array non-trié comme si l'était trié\n",
    "print(np.argsort(x))\n",
    "\n",
    "print(x[np.argsort(x)])"
   ]
  },
  {
   "cell_type": "markdown",
   "metadata": {},
   "source": [
    "### `np.all()` et `np.any()` – Vérifier si tous ou au moins un élément vérifie une condition"
   ]
  },
  {
   "cell_type": "code",
   "execution_count": 287,
   "metadata": {},
   "outputs": [
    {
     "name": "stdout",
     "output_type": "stream",
     "text": [
      "[False False  True  True  True]\n",
      "\n",
      "True\n",
      "False\n"
     ]
    }
   ],
   "source": [
    "x = np.array([1, 2, 3, 4, 5])\n",
    "\n",
    "print(x > 2)\n",
    "print()\n",
    "\n",
    "# Renvoie True si au moins un élément est True\n",
    "print((x > 2).any())\n",
    "\n",
    "# Renvoie True si tous les éléments sont True\n",
    "print((x > 2).all())"
   ]
  },
  {
   "cell_type": "markdown",
   "metadata": {},
   "source": [
    "### `np.allclose()` et `np.isclose()` – Comparer deux arrays"
   ]
  },
  {
   "cell_type": "code",
   "execution_count": 306,
   "metadata": {},
   "outputs": [
    {
     "name": "stdout",
     "output_type": "stream",
     "text": [
      "[False]\n",
      "[ True]\n"
     ]
    }
   ],
   "source": [
    "x = np.array([0.1 + 0.2])\n",
    "\n",
    "# Problème : 0.1 + 0.2 != 0.3\n",
    "# En réalité 0.1 + 0.2 donne une valeur très proche (0.30000000000000004) en raison de la représentation binaire des nombres décimaux\n",
    "print(x == np.array([0.3]))\n",
    "\n",
    "# Vérifie avec une tolérance\n",
    "print(np.isclose(x, np.array([0.3])))"
   ]
  },
  {
   "cell_type": "code",
   "execution_count": 307,
   "metadata": {},
   "outputs": [
    {
     "name": "stdout",
     "output_type": "stream",
     "text": [
      "True\n",
      "True\n"
     ]
    }
   ],
   "source": [
    "# Vérifie tous les éléments avec une tolérance\n",
    "print(np.allclose(\n",
    "  np.array([0.1 + 0.2, 0.1 + 0.7]),\n",
    "  np.array([0.3, 0.8])\n",
    "))\n",
    "\n",
    "# Même chose que\n",
    "print(np.isclose(\n",
    "  np.array([0.1 + 0.2, 0.1 + 0.7]),\n",
    "  np.array([0.3, 0.8])\n",
    ").all())\n"
   ]
  },
  {
   "cell_type": "markdown",
   "metadata": {},
   "source": [
    "## Arrays n-d"
   ]
  },
  {
   "cell_type": "code",
   "execution_count": 28,
   "metadata": {},
   "outputs": [
    {
     "name": "stdout",
     "output_type": "stream",
     "text": [
      "[[1 2 3]\n",
      " [4 5 6]]\n"
     ]
    }
   ],
   "source": [
    "x = np.array([\n",
    "  [1, 2, 3],\n",
    "  [4, 5, 6]\n",
    "])\n",
    "\n",
    "print(x)"
   ]
  },
  {
   "cell_type": "markdown",
   "metadata": {},
   "source": [
    "### `.shape` – Obtenir la taille"
   ]
  },
  {
   "cell_type": "code",
   "execution_count": 29,
   "metadata": {},
   "outputs": [
    {
     "name": "stdout",
     "output_type": "stream",
     "text": [
      "(2, 3)\n"
     ]
    }
   ],
   "source": [
    "print(x.shape)\n",
    "\n",
    "# 2 colonnes (axe 0)\n",
    "# 3 lignes (axe 1)"
   ]
  },
  {
   "cell_type": "markdown",
   "metadata": {},
   "source": [
    "### `.T` – Transposer un array"
   ]
  },
  {
   "cell_type": "code",
   "execution_count": 30,
   "metadata": {},
   "outputs": [
    {
     "name": "stdout",
     "output_type": "stream",
     "text": [
      "[[1 4]\n",
      " [2 5]\n",
      " [3 6]]\n"
     ]
    }
   ],
   "source": [
    "print(x.T)"
   ]
  },
  {
   "cell_type": "markdown",
   "metadata": {},
   "source": [
    "### `[]` – Découper\n",
    "\n",
    "Le nombre d'éléments dans les crochets doit correspondre au nombre d'axes de l'array."
   ]
  },
  {
   "cell_type": "code",
   "execution_count": 243,
   "metadata": {},
   "outputs": [
    {
     "name": "stdout",
     "output_type": "stream",
     "text": [
      "x=array([[ 1.62534446, -0.37575485],\n",
      "       [-1.16392311, -1.1169595 ],\n",
      "       [-1.63506608,  1.78890236],\n",
      "       [ 0.16936796,  1.42307751]])\n",
      "\n",
      "x[0, 0]=1.6253444643178157\n",
      "\n",
      "x[-1, 1]=1.423077514473537\n",
      "\n",
      "y=array([ 1.62534446, -0.37575485])\n",
      "y.shape=(2,)\n",
      "\n",
      "z=array([ 1.62534446, -1.16392311, -1.63506608,  0.16936796])\n",
      "z.shape=(4,)\n"
     ]
    }
   ],
   "source": [
    "x = np.random.randn(4, 2)\n",
    "\n",
    "print(f'{x=}')\n",
    "print()\n",
    "\n",
    "# Récupère le tout premier élément\n",
    "print(f'{x[0, 0]=}')\n",
    "print()\n",
    "\n",
    "# Récupère le deuxième élément de la dernière ligne\n",
    "print(f'{x[-1, 1]=}')\n",
    "print()\n",
    "\n",
    "# Récupère le premier élément sur l'axe 0 qui est l'axe des lignes, donc la première ligne\n",
    "y = x[0, :]\n",
    "\n",
    "print(f'{y=}')\n",
    "print(f'{y.shape=}')\n",
    "print()\n",
    "\n",
    "# Récupère le premier élément sur l'axe 1 qui est l'axe des colonnes, donc la première colonne\n",
    "z = x[:, 0]\n",
    "\n",
    "print(f'{z=}')\n",
    "print(f'{z.shape=}')"
   ]
  },
  {
   "cell_type": "code",
   "execution_count": 246,
   "metadata": {},
   "outputs": [
    {
     "name": "stdout",
     "output_type": "stream",
     "text": [
      "y.shape=(3, 12)\n"
     ]
    }
   ],
   "source": [
    "x = np.random.randn(8, 3, 12)\n",
    "\n",
    "# Récupère le troisième élément sur le premier axe\n",
    "y = x[2, :, :]\n",
    "\n",
    "print(f'{y.shape=}')\n",
    "\n",
    "# Même chose que\n",
    "# Le symbole \"...\" (équivalent à \"Ellipsis\") signifie tous les axes restants et peut remplacer 0 ou plus \":\"\n",
    "y = x[2, ...]\n",
    "y = x[2, Ellipsis]\n",
    "\n",
    "# Même chose que\n",
    "# Le symbole \"...\" est ajouté implicitement à droite si on ne le met pas\n",
    "y = x[2]\n"
   ]
  },
  {
   "cell_type": "markdown",
   "metadata": {},
   "source": [
    "### `.reshape()` – Changer la forme\n",
    "\n",
    "La méthode `.reshape()` permet de changer la forme d'un array sans changer les données. Le nombre d'éléments, qui correspond au produit des tailles des axes, doit rester le même."
   ]
  },
  {
   "cell_type": "code",
   "execution_count": 270,
   "metadata": {},
   "outputs": [
    {
     "name": "stdout",
     "output_type": "stream",
     "text": [
      "Forme (12)\n",
      "[ 1  2  3  4  5  6  7  8  9 10 11 12]\n",
      "\n",
      "Forme (3, 4)\n",
      "[[ 1  2  3  4]\n",
      " [ 5  6  7  8]\n",
      " [ 9 10 11 12]]\n",
      "\n",
      "Forme (4, 3)\n",
      "[[ 1  2  3]\n",
      " [ 4  5  6]\n",
      " [ 7  8  9]\n",
      " [10 11 12]]\n",
      "\n",
      "Forme (1, 2, 1, 3, 2)\n",
      "[[[[[ 1  2]\n",
      "    [ 3  4]\n",
      "    [ 5  6]]]\n",
      "\n",
      "\n",
      "  [[[ 7  8]\n",
      "    [ 9 10]\n",
      "    [11 12]]]]]\n"
     ]
    }
   ],
   "source": [
    "x = np.arange(12) + 1\n",
    "\n",
    "print('Forme (12)')\n",
    "print(x)\n",
    "\n",
    "print('\\nForme (3, 4)')\n",
    "print(x.reshape(3, 4))\n",
    "\n",
    "print('\\nForme (4, 3)')\n",
    "print(x.reshape(4, 3))\n",
    "\n",
    "print(f'\\nForme (1, 2, 1, 3, 2)')\n",
    "print(x.reshape(1, 2, 1, 3, 2))"
   ]
  },
  {
   "cell_type": "markdown",
   "metadata": {},
   "source": [
    "On peut utiliser `-1` pour éviter de spécifier l'une des dimensions."
   ]
  },
  {
   "cell_type": "code",
   "execution_count": 261,
   "metadata": {},
   "outputs": [
    {
     "name": "stdout",
     "output_type": "stream",
     "text": [
      "[[ 1  2  3  4]\n",
      " [ 5  6  7  8]\n",
      " [ 9 10 11 12]]\n",
      "\n",
      "[[ 1  2  3  4]\n",
      " [ 5  6  7  8]\n",
      " [ 9 10 11 12]]\n"
     ]
    }
   ],
   "source": [
    "print(x.reshape(3, -1))\n",
    "print()\n",
    "print(x.reshape(-1, 4))"
   ]
  },
  {
   "cell_type": "markdown",
   "metadata": {},
   "source": [
    "### `.ravel()` – Aplatir\n",
    "\n",
    "La méthode `.ravel()` permet d'obtenir un array 1d contenant les mêmes éléments que l'array d'origine. C'est équivalent à utiliser `.reshape(-1)`."
   ]
  },
  {
   "cell_type": "code",
   "execution_count": 268,
   "metadata": {},
   "outputs": [
    {
     "name": "stdout",
     "output_type": "stream",
     "text": [
      "[[1 2]\n",
      " [3 4]]\n",
      "\n",
      "Avec .ravel()\n",
      "[1 2 3 4]\n",
      "\n",
      "Avec .reshape(-1)\n",
      "[1 2 3 4]\n"
     ]
    }
   ],
   "source": [
    "x = np.array([\n",
    "  [1, 2],\n",
    "  [3, 4]\n",
    "])\n",
    "\n",
    "print(x)\n",
    "print()\n",
    "\n",
    "print('Avec .ravel()')\n",
    "print(x.ravel())\n",
    "\n",
    "print('\\nAvec .reshape(-1)')\n",
    "print(x.reshape(-1))"
   ]
  },
  {
   "cell_type": "markdown",
   "metadata": {},
   "source": [
    "### `[<None>]` – Ajouter un axe\n",
    "\n",
    "En utilisant `None` (ou `np.newaxis`, les deux sont équivalents) à la place d'un indice lors d'un slicing, on peut ajouter un axe de taille 1 à l'endroit où est placé `None`."
   ]
  },
  {
   "cell_type": "code",
   "execution_count": 271,
   "metadata": {},
   "outputs": [
    {
     "name": "stdout",
     "output_type": "stream",
     "text": [
      "(8, 3, 12)\n",
      "(1, 8, 3, 12)\n",
      "(8, 3, 12, 1)\n",
      "(8, 3, 1, 12, 1)\n"
     ]
    }
   ],
   "source": [
    "x = np.random.randn(8, 3, 12)\n",
    "\n",
    "print(x.shape)\n",
    "print(x[None, ...].shape)\n",
    "print(x[..., None].shape)\n",
    "print(x[:, :, None, :, None].shape)"
   ]
  },
  {
   "cell_type": "markdown",
   "metadata": {},
   "source": [
    "Ceci est utile pour s'assurer que deux arrays aient le même nombre d'axes lorsqu'on fait une opération entre eux. Par exemple, faire une opération entre un array de forme (4, 3) et un de taille (4, 1) va causer une copie automatique sur le second axe (l'axe 1) du second array pour qu'il aie aussi la forme (4, 3). Voir [les règles de broadcasting](https://numpy.org/doc/stable/user/basics.broadcasting.html) pour plus de détails."
   ]
  },
  {
   "cell_type": "code",
   "execution_count": 146,
   "metadata": {},
   "outputs": [
    {
     "name": "stdout",
     "output_type": "stream",
     "text": [
      "a.shape=(4, 3)\n",
      "b.shape=(4,)\n",
      "b[:, None].shape=(4, 1)\n",
      "\n",
      "[[-0.11386351  0.12399303 -0.43100178]\n",
      " [ 1.14795562  0.20547803  1.56956666]\n",
      " [-0.27897526  0.25365401  0.172312  ]\n",
      " [ 0.31939024 -0.80845503  0.09798276]]\n"
     ]
    }
   ],
   "source": [
    "a = np.random.randn(4, 3)\n",
    "b = np.random.randn(4)\n",
    "\n",
    "print(f'{a.shape=}')\n",
    "print(f'{b.shape=}')\n",
    "print(f'{b[:, None].shape=}')\n",
    "print()\n",
    "\n",
    "# Impossible\n",
    "# print(a * b)\n",
    "\n",
    "# Ok parce que b a maintenant la forme (4, 1) qui est broadcasté en (4, 3)\n",
    "print(a * b[:, None])"
   ]
  },
  {
   "cell_type": "markdown",
   "metadata": {},
   "source": [
    "L'ajout d'un ou plusieurs axes est automatique lorsque les axes manquants sont à gauche de la forme. Par exemple, une opération entre un array de forme (4, 3) et un de forme (3) va automatiquement ajouter un axe à gauche de la forme du second array et copier celui-ci 4 fois pour qu'il aie la forme (4, 3)."
   ]
  },
  {
   "cell_type": "code",
   "execution_count": 134,
   "metadata": {},
   "outputs": [
    {
     "name": "stdout",
     "output_type": "stream",
     "text": [
      "[[ 0.48873312 -0.87302529 -1.12175644]\n",
      " [ 0.57382556  0.37791403  2.77345734]\n",
      " [-0.43999896  0.10179468  0.95338398]\n",
      " [ 0.07981521  0.53661635  0.13348033]]\n"
     ]
    }
   ],
   "source": [
    "a = np.random.randn(4, 3)\n",
    "b = np.random.randn(3)\n",
    "\n",
    "# Ok\n",
    "print(a * b)"
   ]
  },
  {
   "cell_type": "markdown",
   "metadata": {},
   "source": [
    "L'ajout d'axes peut aussi être utilisé pour faire des combinaisons intéressantes. Par exemple, ici `a * a` donne un vecteur $x$ tel que $x_i = a_i^2$ alors que `a[None, :] * a[:, None]` donne une matrice symétrique $X$ telle que $X_{i, j} = X_{j, i} = a_i a_j$."
   ]
  },
  {
   "cell_type": "code",
   "execution_count": 273,
   "metadata": {},
   "outputs": [
    {
     "name": "stdout",
     "output_type": "stream",
     "text": [
      "[1 4 9]\n",
      "\n",
      "[[1 2 3]\n",
      " [2 4 6]\n",
      " [3 6 9]]\n"
     ]
    }
   ],
   "source": [
    "a = np.array([1, 2, 3])\n",
    "\n",
    "# Calcule le carré de chaque élément\n",
    "print(a * a)\n",
    "print()\n",
    "\n",
    "# Calcule le produit de toutes combinaisons possibles de paires d'éléments\n",
    "# La diagonale est le carré de chaque élément.\n",
    "print(a[None, :] * a[:, None])"
   ]
  },
  {
   "cell_type": "markdown",
   "metadata": {},
   "source": [
    "### `np.concatenate()`, `np.c_[]` et `np.r_[]` – Concaténer des arrays\n",
    "\n",
    "Les objets spéciaux `np.c_[]` et `np.r_[]` (attention ce ne sont pas des méthodes) sont des raccourcis pour `np.conctenate()` permettent de concaténer des arrays sur les colonnes ou sur lignes, respectivement. Pour concaténer sur un autre axe, il faut utiliser la syntaxe avancée de `np.r_[]` ou `np.concatenate()`."
   ]
  },
  {
   "cell_type": "code",
   "execution_count": 280,
   "metadata": {},
   "outputs": [
    {
     "name": "stdout",
     "output_type": "stream",
     "text": [
      "x.shape=(2, 3)\n",
      "y.shape=(1, 3)\n",
      "\n",
      "[[1 2 3]\n",
      " [4 5 6]\n",
      " [7 8 9]]\n",
      "[[1 2 3]\n",
      " [4 5 6]\n",
      " [7 8 9]]\n"
     ]
    }
   ],
   "source": [
    "x = np.array([\n",
    "  [1, 2, 3],\n",
    "  [4, 5, 6]\n",
    "])\n",
    "\n",
    "y = np.array([\n",
    "  [7, 8, 9]\n",
    "])\n",
    "\n",
    "print(f'{x.shape=}')\n",
    "print(f'{y.shape=}')\n",
    "print()\n",
    "\n",
    "# Concatène sur l'axe 0, les lignes (donc il y aura plus de lignes et autant de colonnes qu'avant)\n",
    "print(np.concatenate((x, y), axis=0))\n",
    "\n",
    "# Même chose que\n",
    "print(np.r_[x, y])"
   ]
  },
  {
   "cell_type": "code",
   "execution_count": 282,
   "metadata": {},
   "outputs": [
    {
     "name": "stdout",
     "output_type": "stream",
     "text": [
      "[[1 4]\n",
      " [2 5]\n",
      " [3 6]]\n",
      "[[7]\n",
      " [8]\n",
      " [9]]\n",
      "\n",
      "[[1 4 7]\n",
      " [2 5 8]\n",
      " [3 6 9]]\n",
      "[[1 4 7]\n",
      " [2 5 8]\n",
      " [3 6 9]]\n"
     ]
    }
   ],
   "source": [
    "print(x.T)\n",
    "print(y.T)\n",
    "print()\n",
    "\n",
    "# Concatène sur l'axe 1, les colonnes (donc il y aura plus de colonnes et autant de lignes qu'avant)\n",
    "print(np.concatenate((x.T, y.T), axis=1))\n",
    "\n",
    "# Même chose que\n",
    "print(np.c_[x.T, y.T])"
   ]
  },
  {
   "cell_type": "markdown",
   "metadata": {},
   "source": [
    "### Exercice\n",
    "\n",
    "Calculez le produit scalaire $a\\cdot b = \\sum_i a_i b_i$ de deux vecteurs $a$ et $b$ de taille $N$."
   ]
  },
  {
   "cell_type": "code",
   "execution_count": 33,
   "metadata": {},
   "outputs": [
    {
     "name": "stdout",
     "output_type": "stream",
     "text": [
      "[-0.68334979 -1.60037201 -1.18533517]\n",
      "[ 0.89580405 -0.83659984 -0.44237553]\n"
     ]
    }
   ],
   "source": [
    "a = np.random.randn(3)\n",
    "b = np.random.randn(3)\n",
    "\n",
    "print(a)\n",
    "print(b)"
   ]
  },
  {
   "cell_type": "code",
   "execution_count": 34,
   "metadata": {},
   "outputs": [
    {
     "name": "stdout",
     "output_type": "stream",
     "text": [
      "1.2510867390209253\n"
     ]
    }
   ],
   "source": [
    "print((a * b).sum())"
   ]
  },
  {
   "cell_type": "markdown",
   "metadata": {},
   "source": [
    "### Exercice\n",
    "\n",
    "Calculez la distance euclidienne entre deux points $a$ et $b$ à trois dimensions, sans utiliser `np.linalg.norm()`."
   ]
  },
  {
   "cell_type": "code",
   "execution_count": 35,
   "metadata": {},
   "outputs": [
    {
     "name": "stdout",
     "output_type": "stream",
     "text": [
      "[-0.34796249 -0.01400713 -1.71794409]\n",
      "[ 0.25143295 -1.85543674  0.90187369]\n"
     ]
    }
   ],
   "source": [
    "a = np.random.randn(3)\n",
    "b = np.random.randn(3)\n",
    "\n",
    "print(a)\n",
    "print(b)"
   ]
  },
  {
   "cell_type": "code",
   "execution_count": 36,
   "metadata": {},
   "outputs": [
    {
     "data": {
      "text/plain": [
       "3.2578494626972923"
      ]
     },
     "execution_count": 36,
     "metadata": {},
     "output_type": "execute_result"
    }
   ],
   "source": [
    "np.sqrt(((a - b) ** 2).sum())"
   ]
  },
  {
   "cell_type": "markdown",
   "metadata": {},
   "source": [
    "### Exercice\n",
    "\n",
    "Écrivez une fonction `normal()` qui prend les paramètres $\\sigma$, $\\mu$ et un vecteur $x$ et calcule la densité de la loi normale $f(x, \\sigma, \\mu) = \\frac{1}{\\sigma\\sqrt{2\\pi}}e^{-\\frac{1}{2}(\\frac{x - \\mu}{\\sigma})^2}$."
   ]
  },
  {
   "cell_type": "code",
   "execution_count": 194,
   "metadata": {},
   "outputs": [],
   "source": [
    "def normal(x: np.ndarray, mu: float, sigma: float):\n",
    "  return 1.0 / sigma / np.sqrt(2.0 * np.pi) * np.exp(-0.5 * ((x - mu) / sigma) ** 2)"
   ]
  },
  {
   "cell_type": "code",
   "execution_count": 204,
   "metadata": {},
   "outputs": [
    {
     "data": {
      "image/png": "[encoded data removed]",
      "text/plain": [
       "<Figure size 640x480 with 1 Axes>"
      ]
     },
     "metadata": {},
     "output_type": "display_data"
    }
   ],
   "source": [
    "fig, ax = plt.subplots()\n",
    "\n",
    "x = np.linspace(-10, 10, 500)\n",
    "ax.plot(x, normal(x, 0.0, 1.0), label=r'$\\mu=0, \\sigma=1$')\n",
    "ax.plot(x, normal(x, 5.0, 2.0), label=r'$\\mu=5, \\sigma=1$')\n",
    "ax.plot(x, normal(x, 0.0, 2.0), label=r'$\\mu=0, \\sigma=2$')\n",
    "\n",
    "ax.grid()\n",
    "ax.legend();"
   ]
  },
  {
   "cell_type": "markdown",
   "metadata": {},
   "source": [
    "### Exercice\n",
    "\n",
    "Calculez le produit scalaire entre $M$ vecteurs de taille $N$ et $M$ vecteurs de taille $N$, où chaque groupe de $M$ vecteurs est stocké comme un array de forme $(m_1, ..., m_K, N)$ avec $\\Pi_i^K m_i = M$ et $K$ non connu à l'avance."
   ]
  },
  {
   "cell_type": "code",
   "execution_count": 38,
   "metadata": {},
   "outputs": [],
   "source": [
    "a = np.random.randn(5, 12, 3)\n",
    "b = np.random.randn(5, 12, 3)"
   ]
  },
  {
   "cell_type": "code",
   "execution_count": 39,
   "metadata": {},
   "outputs": [
    {
     "data": {
      "text/plain": [
       "array([[-1.60396355, -0.56815344,  1.21538526, -0.34356156,  0.56740598,\n",
       "         0.18833024,  0.34384559, -2.3202245 ,  0.19729473,  0.88959876,\n",
       "         0.82175529, -0.96234293],\n",
       "       [ 1.41169877, -2.27741866,  1.03790169, -0.70518834,  2.2597199 ,\n",
       "         0.17091217,  0.19007991, -1.07085795, -0.27214713,  3.60486731,\n",
       "         2.02159856, -0.33913849],\n",
       "       [ 0.35600411,  1.55388747,  0.38166955, -1.32688225, -2.70425722,\n",
       "        -0.13010944,  0.93140438, -0.6383858 , -0.53372902, -0.95904346,\n",
       "        -0.65706158, -0.0555762 ],\n",
       "       [ 0.29689115,  4.60176364,  2.49325726,  2.00003984, -1.13329085,\n",
       "        -1.07128898, -0.46198191,  0.70887257,  0.98848363, -0.02705559,\n",
       "        -1.80132756,  3.05183141],\n",
       "       [ 0.18466605, -0.56902978, -1.03048848, -0.02536215,  2.42908232,\n",
       "         0.39898134,  1.30657436,  2.13469672, -0.69870111,  1.07615201,\n",
       "        -0.20226544, -2.97465737]])"
      ]
     },
     "execution_count": 39,
     "metadata": {},
     "output_type": "execute_result"
    }
   ],
   "source": [
    "(a * b).sum(axis=-1)"
   ]
  },
  {
   "cell_type": "markdown",
   "metadata": {},
   "source": [
    "### Exercice\n",
    "\n",
    "Calculez la matrice A de taille $m\\times n$ telle que $A_{i, j} = b_i + c_j$ où $b$ et $c$ sont des vecteurs de taille $m$ et $n$ respectivement."
   ]
  },
  {
   "cell_type": "code",
   "execution_count": 40,
   "metadata": {},
   "outputs": [],
   "source": [
    "a = np.arange(10)\n",
    "b = np.arange(5) * 10"
   ]
  },
  {
   "cell_type": "code",
   "execution_count": 41,
   "metadata": {},
   "outputs": [
    {
     "data": {
      "text/plain": [
       "array([[ 0, 10, 20, 30, 40],\n",
       "       [ 1, 11, 21, 31, 41],\n",
       "       [ 2, 12, 22, 32, 42],\n",
       "       [ 3, 13, 23, 33, 43],\n",
       "       [ 4, 14, 24, 34, 44],\n",
       "       [ 5, 15, 25, 35, 45],\n",
       "       [ 6, 16, 26, 36, 46],\n",
       "       [ 7, 17, 27, 37, 47],\n",
       "       [ 8, 18, 28, 38, 48],\n",
       "       [ 9, 19, 29, 39, 49]])"
      ]
     },
     "execution_count": 41,
     "metadata": {},
     "output_type": "execute_result"
    }
   ],
   "source": [
    "a[:, None] + b"
   ]
  },
  {
   "cell_type": "markdown",
   "metadata": {},
   "source": [
    "### Exercice\n",
    "\n",
    "Calculez la matrice symétrique $A$ de taille $N\\times N$ qui contient les distance euclidiennes $A_{i, j} = ||P_i - P_j||$ entre toutes les paires des $N$ points en 2d contenus dans la matrice de points $P$ de taille $N\\times2$."
   ]
  },
  {
   "cell_type": "code",
   "execution_count": 42,
   "metadata": {},
   "outputs": [
    {
     "name": "stdout",
     "output_type": "stream",
     "text": [
      "[[-1.29899446  1.63655869]\n",
      " [-0.4689774   0.49627122]\n",
      " [-0.85928853 -2.26448826]\n",
      " [-0.58139335 -0.87028873]\n",
      " [ 0.64434678  0.27831233]]\n"
     ]
    }
   ],
   "source": [
    "points = np.random.randn(100, 2)\n",
    "\n",
    "print(points[0:5, :])"
   ]
  },
  {
   "cell_type": "code",
   "execution_count": 43,
   "metadata": {},
   "outputs": [
    {
     "data": {
      "text/plain": [
       "array([[0.        , 1.41038429, 3.92574943, ..., 2.46604266, 0.81889781,\n",
       "        0.67377232],\n",
       "       [1.41038429, 0.        , 2.78821371, ..., 1.22814516, 1.07713204,\n",
       "        0.77473659],\n",
       "       [3.92574943, 2.78821371, 0.        , ..., 2.96458871, 3.1680349 ,\n",
       "        3.28133383],\n",
       "       ...,\n",
       "       [2.46604266, 1.22814516, 2.96458871, ..., 0.        , 2.30165457,\n",
       "        1.94032369],\n",
       "       [0.81889781, 1.07713204, 3.1680349 , ..., 2.30165457, 0.        ,\n",
       "        0.47412478],\n",
       "       [0.67377232, 0.77473659, 3.28133383, ..., 1.94032369, 0.47412478,\n",
       "        0.        ]])"
      ]
     },
     "execution_count": 43,
     "metadata": {},
     "output_type": "execute_result"
    }
   ],
   "source": [
    "np.sqrt(((points[None, :, :] - points[:, None, :]) ** 2).sum(axis=2))"
   ]
  },
  {
   "cell_type": "markdown",
   "metadata": {},
   "source": [
    "### Exercice\n",
    "\n",
    "Donnez la valeur de la deuxième colonne pour la ligne ayant la deuxième plus grande valeur dans une matrice $A$ de taille $N\\times2$, autrement dit $A_{\\argmax_i{x_{1, \\cdot}}, 2}$."
   ]
  },
  {
   "cell_type": "code",
   "execution_count": 108,
   "metadata": {},
   "outputs": [
    {
     "name": "stdout",
     "output_type": "stream",
     "text": [
      "[[ 1.03154884  1.30161624]\n",
      " [ 1.25997388 -0.60073937]\n",
      " [-1.27017648 -0.93990454]\n",
      " [ 1.40165975 -1.70537813]\n",
      " [ 0.43722499  1.72576706]\n",
      " [-0.53869804 -2.84083673]\n",
      " [ 0.24055293  0.92966153]\n",
      " [ 1.05873025 -0.11191543]\n",
      " [ 1.21795316 -1.40953373]\n",
      " [ 0.44777352  0.00684326]]\n"
     ]
    }
   ],
   "source": [
    "x = np.random.randn(10, 2)\n",
    "\n",
    "print(x)"
   ]
  },
  {
   "cell_type": "code",
   "execution_count": 109,
   "metadata": {},
   "outputs": [
    {
     "data": {
      "text/plain": [
       "-0.6007393725596356"
      ]
     },
     "execution_count": 109,
     "metadata": {},
     "output_type": "execute_result"
    }
   ],
   "source": [
    "x[np.argsort(x[:, 0])[-2], 1]"
   ]
  },
  {
   "cell_type": "markdown",
   "metadata": {},
   "source": [
    "### Exercice\n",
    "\n",
    "Calculez $\\frac{1}{|B|}\\sum_i \\frac{A_{i, j, k}B_j^2}{C_{i, k}}$ en utilisant `np.einsum()`."
   ]
  },
  {
   "cell_type": "code",
   "execution_count": 46,
   "metadata": {},
   "outputs": [],
   "source": [
    "a = np.random.randn(12, 3, 100)\n",
    "b = np.random.randn(3)\n",
    "c = np.random.randn(12, 100)"
   ]
  },
  {
   "cell_type": "code",
   "execution_count": 47,
   "metadata": {},
   "outputs": [
    {
     "data": {
      "text/plain": [
       "array([[-2.21984909e+01, -4.88900781e-01,  1.71986484e+00,\n",
       "         4.65367270e+01, -1.54751785e+01, -3.58588407e+00,\n",
       "         4.05030478e+00, -1.62944477e+01,  2.19968863e+00,\n",
       "        -2.64278761e+01, -3.09180695e+01, -1.13937514e+01,\n",
       "         6.13479126e-01,  1.68350584e+01,  5.29788935e+00,\n",
       "         9.51779872e-01, -3.44278802e+00, -1.23248393e+01,\n",
       "         1.23723500e+01,  1.04206294e+02,  8.41980423e+00,\n",
       "        -2.36381287e+01,  2.85836036e+00, -9.07147849e+01,\n",
       "         9.67686174e+00,  5.14825012e+00,  1.06131417e+01,\n",
       "        -2.81436121e+02,  1.52379931e+01,  7.45786499e+00,\n",
       "        -9.33409257e+00,  1.47679104e+01,  1.97967567e+00,\n",
       "         5.54569757e+00, -2.33024511e+01,  4.11753520e+00,\n",
       "         3.60596763e+00, -1.50662530e-01,  1.37006712e+00,\n",
       "        -1.26645654e-01,  7.59875150e+00,  1.08082378e+01,\n",
       "         3.29483545e-01,  1.55659280e+01,  4.23778160e+00,\n",
       "        -2.36325131e+00,  8.34394105e+00, -1.87781630e+01,\n",
       "         5.95500282e+00,  5.63017315e+00,  2.34160643e+00,\n",
       "         3.63646963e+00, -3.82440675e+01,  5.40221146e+01,\n",
       "         6.03497870e+00,  5.40134094e+00,  1.99545176e+00,\n",
       "        -2.08822068e+01, -5.61104717e+00, -5.49234836e+01,\n",
       "         5.58755297e+00,  8.54637489e-01,  1.51815938e+00,\n",
       "         1.16777918e+01, -7.73021969e-01,  5.42576459e+00,\n",
       "         1.17670393e+02,  6.27256220e+00,  2.30747616e+00,\n",
       "        -5.00421813e+00, -1.56950626e+01, -2.44989384e+00,\n",
       "        -4.65271468e+00,  1.55466343e+01,  5.12188318e+00,\n",
       "        -3.09538068e+01, -3.18775235e+00,  2.61533605e+01,\n",
       "         3.52234745e+00,  2.27447723e+00,  2.86135627e+00,\n",
       "         1.56359470e+01,  1.88774657e+01,  2.74524697e-01,\n",
       "         6.71460581e+00,  1.98477334e+01,  1.09914136e+01,\n",
       "        -4.65069982e+01,  8.81024797e+00,  6.13170851e+00,\n",
       "        -4.34103883e+01, -1.01941182e+01, -9.21051721e+00,\n",
       "         3.20360802e+00, -2.30826128e+01, -1.11530402e+02,\n",
       "         5.42588712e+00,  1.66138313e+01,  1.45498250e+01,\n",
       "        -1.83924343e+02],\n",
       "       [-5.81638647e+00,  1.73643845e+00,  1.28848582e+00,\n",
       "         4.31258759e+00,  2.27736031e+00, -2.48838682e+00,\n",
       "         4.70020922e-01, -2.24629151e+00,  1.95577516e-01,\n",
       "         6.80660732e+00, -1.28757307e+01, -7.43979720e+00,\n",
       "         6.83802333e+00,  3.60956925e+00,  9.27623968e-01,\n",
       "         1.76762178e+00, -4.78191685e+00, -3.05211681e+00,\n",
       "        -4.05138697e+01, -1.42641789e+01,  8.53266989e-01,\n",
       "        -1.68725340e+01,  1.13729395e+00,  1.33424782e+01,\n",
       "        -1.05381508e+00, -2.31535778e+00, -6.02093746e-01,\n",
       "        -3.76115788e+01,  1.08922744e+00, -2.72564382e+00,\n",
       "         1.16710616e+00,  2.65055873e+00, -3.99744588e-01,\n",
       "         1.79804364e+00, -1.40612308e+01, -2.29085035e-01,\n",
       "        -3.06765635e+00, -3.25995256e-01,  1.83053979e+00,\n",
       "         2.36112666e+00,  1.41164913e+00,  5.69240960e-01,\n",
       "         3.50539996e-01,  5.36119439e+00,  4.23190208e+00,\n",
       "         1.64999331e+00,  4.05418914e+00, -8.38775112e+00,\n",
       "         1.10771869e-01, -1.12526749e-02, -7.92760163e-01,\n",
       "         3.21101497e+00,  8.26195106e+00,  2.58027172e+02,\n",
       "        -9.56604760e-01,  2.27541065e+00, -7.22880288e+00,\n",
       "        -1.41520285e+00, -1.20245907e+00,  3.02970453e+00,\n",
       "         4.11404168e+00,  4.15498982e+00,  3.06493445e-01,\n",
       "        -3.72282979e-01,  5.18960872e+00, -4.82027626e+00,\n",
       "         1.65677367e+01, -3.50327667e+00,  3.54980648e-01,\n",
       "        -1.27567333e+01,  7.76529147e-01, -7.59116453e+00,\n",
       "         3.97830746e-01, -2.56691669e+00,  7.29108004e-02,\n",
       "        -2.73515703e+00,  4.25381609e-02,  2.22635686e+00,\n",
       "         4.83424980e+00, -2.51944050e+00,  2.65557042e+00,\n",
       "         5.92274286e+00,  1.49220209e+01, -1.31991852e-01,\n",
       "        -5.85490199e+00,  3.13118701e-01, -3.56853834e+00,\n",
       "         1.75961947e+00, -1.06870743e+00, -5.85947627e+00,\n",
       "        -6.01269226e+00, -5.96832630e+00,  5.45759318e+00,\n",
       "        -7.45768053e-01, -5.67022401e+00,  1.36399743e+01,\n",
       "         7.07214831e-01, -3.96721594e+00, -5.22249500e+00,\n",
       "         2.74131570e+01],\n",
       "       [ 3.32489623e-04,  9.49795668e-05,  3.82329868e-04,\n",
       "        -1.16645299e-03, -1.18636000e-03, -2.31039667e-04,\n",
       "        -3.43339854e-04,  4.79852545e-05,  2.32309968e-04,\n",
       "         3.81516321e-04,  1.15381845e-03, -8.93446216e-04,\n",
       "        -1.97951769e-03,  8.11501569e-04, -6.65295299e-04,\n",
       "        -2.67200850e-04,  8.80266860e-05,  2.19185619e-04,\n",
       "        -3.10588134e-03, -3.30993866e-03,  1.04345256e-05,\n",
       "        -2.18101181e-04, -1.26194292e-04, -6.05504055e-04,\n",
       "         2.51818314e-03,  1.71057152e-05,  6.36428587e-04,\n",
       "        -4.99291304e-02, -1.22109379e-03,  3.48574300e-04,\n",
       "        -8.59910323e-04,  5.43480181e-04,  1.02332405e-03,\n",
       "        -3.74017427e-05,  1.50261844e-03, -1.85167570e-03,\n",
       "         4.42779508e-05,  1.34592152e-03,  2.22074547e-03,\n",
       "         2.66052278e-04, -1.00886982e-04,  1.12431529e-03,\n",
       "         1.79648558e-04,  6.10840655e-04, -2.63327603e-05,\n",
       "        -1.39206759e-04, -9.96204895e-04,  5.57098782e-04,\n",
       "         2.72660510e-04, -8.85834347e-04,  7.29440775e-05,\n",
       "        -2.01504311e-05,  5.62219504e-03, -9.54790234e-02,\n",
       "         4.26053515e-04,  7.81873529e-05, -1.84556669e-04,\n",
       "        -2.57593050e-04,  6.73409585e-04, -1.88214816e-04,\n",
       "         1.03241575e-03, -4.68996740e-04,  1.81019090e-04,\n",
       "         1.07687124e-04,  6.18066111e-04,  7.27323787e-05,\n",
       "         1.68211507e-03,  5.42729343e-04, -1.75855758e-05,\n",
       "         2.64818150e-04, -1.62081448e-04, -7.76219404e-04,\n",
       "        -1.27262480e-03,  1.19707103e-03,  2.09394754e-04,\n",
       "        -1.00481442e-05, -2.11379787e-04, -9.32342615e-05,\n",
       "         1.99833059e-03, -2.57409444e-04, -1.60657362e-04,\n",
       "         7.24196402e-04,  3.06284844e-03, -3.96701643e-04,\n",
       "         1.57565569e-04, -2.18772002e-04, -6.72467110e-05,\n",
       "         1.06447372e-03,  1.13218055e-03,  6.33988827e-06,\n",
       "        -1.51317835e-03,  6.33223328e-04, -5.45324271e-04,\n",
       "        -7.26089576e-05,  7.24160739e-04, -5.08421413e-03,\n",
       "        -4.92834305e-04,  1.48516919e-04,  3.68676373e-03,\n",
       "        -1.37144487e-02]])"
      ]
     },
     "execution_count": 47,
     "metadata": {},
     "output_type": "execute_result"
    }
   ],
   "source": [
    "np.einsum('ijk, j, ik -> jk', a, b ** 2, 1.0 / c) / len(b)"
   ]
  },
  {
   "cell_type": "markdown",
   "metadata": {},
   "source": [
    "### Exercice\n",
    "\n",
    "Générez des points $Y = 5 * X + \\epsilon$ où $\\epsilon\\sim\\mathcal{N}(0, 0.01)$."
   ]
  },
  {
   "cell_type": "markdown",
   "metadata": {},
   "source": [
    "### Exercice\n",
    "\n",
    "Générez une matrice $A_{i, j} = 5 v_i + X_j$ où $X_j\\sim\\mathcal{N}(0, \\mu_j)$ et $v$ est un vecteur de taille $N$."
   ]
  },
  {
   "cell_type": "code",
   "execution_count": 183,
   "metadata": {},
   "outputs": [],
   "source": [
    "v = np.random.randn(4)\n",
    "mu = np.random.randn(12)"
   ]
  },
  {
   "cell_type": "code",
   "execution_count": 184,
   "metadata": {},
   "outputs": [],
   "source": [
    "a = (5.0 * v)[:, None] + np.random.randn(len(v), len(mu)) * mu"
   ]
  },
  {
   "cell_type": "markdown",
   "metadata": {},
   "source": [
    "### Exercice\n",
    "\n",
    "Faites une interpolation linéaire aux moindres carrés en trouvant $x$ dans $A^TAx = A^Tb$ où $A$ est une matrice de taille $N\\times2$, en utilisant `np.lingalg.inv()` pour inverser un array."
   ]
  },
  {
   "cell_type": "code",
   "execution_count": 202,
   "metadata": {},
   "outputs": [],
   "source": [
    "x = np.random.randn(10)\n",
    "y = 5.0 * x + np.random.randn(10)"
   ]
  },
  {
   "cell_type": "code",
   "execution_count": 203,
   "metadata": {},
   "outputs": [
    {
     "data": {
      "image/png": "[encoded data removed]",
      "text/plain": [
       "<Figure size 640x480 with 1 Axes>"
      ]
     },
     "metadata": {},
     "output_type": "display_data"
    }
   ],
   "source": [
    "fig, ax = plt.subplots()\n",
    "ax.scatter(x, y);"
   ]
  },
  {
   "cell_type": "code",
   "execution_count": 181,
   "metadata": {},
   "outputs": [
    {
     "data": {
      "image/png": "[encoded data removed]",
      "text/plain": [
       "<Figure size 640x480 with 1 Axes>"
      ]
     },
     "metadata": {},
     "output_type": "display_data"
    }
   ],
   "source": [
    "a = np.c_[np.ones(len(x)), x]\n",
    "b = y\n",
    "\n",
    "# u, v = np.linalg.lstsq(np.c_[np.ones(10), x], y, rcond=None)[0]\n",
    "u, v = np.linalg.inv(a.T @ a) @ a.T @ b\n",
    "\n",
    "fig, ax = plt.subplots()\n",
    "ax.scatter(x, y)\n",
    "\n",
    "ax.plot(p := np.array([-2, 2]), p * v + u, color='red');"
   ]
  },
  {
   "cell_type": "markdown",
   "metadata": {},
   "source": [
    "### Exercice\n",
    "\n",
    "Calculez la trace $\\sum_i A_{i, i}$ d'une matrice $A$ de taille $N\\times N$, sans utiliser `np.trace()` ni `np.diag()`."
   ]
  },
  {
   "cell_type": "code",
   "execution_count": 90,
   "metadata": {},
   "outputs": [],
   "source": [
    "a = np.random.randn(5, 5)"
   ]
  },
  {
   "cell_type": "code",
   "execution_count": 97,
   "metadata": {},
   "outputs": [
    {
     "data": {
      "text/plain": [
       "0.356883824132038"
      ]
     },
     "execution_count": 97,
     "metadata": {},
     "output_type": "execute_result"
    }
   ],
   "source": [
    "a[*((np.arange(len(a)),) * 2)].sum()"
   ]
  }
 ],
 "metadata": {
  "kernelspec": {
   "display_name": "Python 3",
   "language": "python",
   "name": "python3"
  },
  "language_info": {
   "codemirror_mode": {
    "name": "ipython",
    "version": 3
   },
   "file_extension": ".py",
   "mimetype": "text/x-python",
   "name": "python",
   "nbconvert_exporter": "python",
   "pygments_lexer": "ipython3",
   "version": "3.11.8"
  }
 },
 "nbformat": 4,
 "nbformat_minor": 2
}
