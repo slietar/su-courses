{
 "cells": [
  {
   "cell_type": "markdown",
   "metadata": {},
   "source": [
    "# Introduction à NumPy"
   ]
  },
  {
   "cell_type": "code",
   "execution_count": 1,
   "metadata": {},
   "outputs": [],
   "source": [
    "import numpy as np\n",
    "from matplotlib import pyplot as plt"
   ]
  },
  {
   "cell_type": "markdown",
   "metadata": {},
   "source": [
    "## Arrays 1d\n",
    "\n",
    "### `np.array()` – Créer un array à partir d'une liste\n",
    "\n",
    "Un array NumPy est une collection d'éléments de même type. La taille de l'array et le nombre de dimensions sont fixés à sa création et ne peuvent pas être modifiés."
   ]
  },
  {
   "cell_type": "code",
   "execution_count": null,
   "metadata": {},
   "outputs": [],
   "source": [
    "x = np.array([1, 2, 3, 4, 5])\n",
    "\n",
    "print(x)"
   ]
  },
  {
   "cell_type": "markdown",
   "metadata": {},
   "source": [
    "### `len()` et `.shape` – Obtenir la taille"
   ]
  },
  {
   "cell_type": "code",
   "execution_count": null,
   "metadata": {},
   "outputs": [],
   "source": [
    "print(len(x))\n",
    "print(x.shape[0])"
   ]
  },
  {
   "cell_type": "markdown",
   "metadata": {},
   "source": [
    "### `.dtype` – Obtenir le type des éléments"
   ]
  },
  {
   "cell_type": "code",
   "execution_count": null,
   "metadata": {},
   "outputs": [],
   "source": [
    "# int64 -> 8 octets par élément\n",
    "print(np.array([1, 2, 3]).dtype)\n",
    "\n",
    "# float64 -> 8 octets par élément\n",
    "print(np.array([1.5, 2.5]).dtype)\n",
    "\n",
    "# float32 -> 4 octets par élément\n",
    "print(np.array([1.5, 2.5], dtype='float32').dtype)\n",
    "\n",
    "# bool -> 1 octet par élément\n",
    "print(np.array([False, False, True]).dtype)"
   ]
  },
  {
   "cell_type": "markdown",
   "metadata": {},
   "source": [
    "En connaissant le type des éléments et le nombre d'éléments, on peut déterminer la taille mémoire nécessaire pour stocker l'array."
   ]
  },
  {
   "cell_type": "markdown",
   "metadata": {},
   "source": [
    "### `[]` – Accéder à et modifier un élément donné"
   ]
  },
  {
   "cell_type": "code",
   "execution_count": null,
   "metadata": {},
   "outputs": [],
   "source": [
    "x = np.array([1, 2, 3, 4, 5])\n",
    "\n",
    "# Donne le premier élément\n",
    "print(f'{x[0]=}')\n",
    "\n",
    "# Donne le troisième élément\n",
    "print(f'{x[2]=}')\n",
    "\n",
    "# Donne le dernier élément\n",
    "print(f'{x[-1]=}')\n",
    "\n",
    "# Donne l'avant-avant-dernier élément\n",
    "print(f'{x[-3]=}')\n",
    "\n",
    "# Donne les éléments aux indices de 1 à 4 (4 exclus)\n",
    "print(f'{x[1:4]=}')\n",
    "\n",
    "# Donne les éléments aux indices de 0 à 4 (4 exclus)\n",
    "print(f'{x[:4]=}')"
   ]
  },
  {
   "cell_type": "code",
   "execution_count": null,
   "metadata": {},
   "outputs": [],
   "source": [
    "x = np.array([1, 2, 3, 4, 5])\n",
    "\n",
    "# Modifie le deuxième élément\n",
    "x[1] = 20\n",
    "print(x)\n",
    "\n",
    "# Modifie les deux derniers éléments en leur donnant différentes valeurs\n",
    "x[-2:] = [30, 40]\n",
    "print(x)\n",
    "\n",
    "# Modifie les deux derniers éléments en leur donnant la même valeur\n",
    "x[-2:] = 0\n",
    "print(x)"
   ]
  },
  {
   "cell_type": "markdown",
   "metadata": {},
   "source": [
    "### `np.zeros()` et `np.ones()` – Créer des arrays de zéros et de uns"
   ]
  },
  {
   "cell_type": "code",
   "execution_count": null,
   "metadata": {},
   "outputs": [],
   "source": [
    "print(np.zeros(5))\n",
    "print(np.ones(5))\n",
    "\n",
    "# Équivalent avec des listes\n",
    "print([0.] * 5)\n",
    "print([1.] * 5)"
   ]
  },
  {
   "cell_type": "markdown",
   "metadata": {},
   "source": [
    "### `np.empty()` – Créer un array non-initialisé\n",
    "\n",
    "La méthode `np.empty()` essaie de récupérer un espace mémoire précédemment utilisé sans l'effacer, ou en alloue un nouveau qui sera alors rempli de zéros. Ici l'array `[1. 1. 1. 1. 1.]` créé juste au-dessus sera probablement réutilisé."
   ]
  },
  {
   "cell_type": "code",
   "execution_count": null,
   "metadata": {},
   "outputs": [],
   "source": [
    "print(np.empty(5))"
   ]
  },
  {
   "cell_type": "markdown",
   "metadata": {},
   "source": [
    "### `np.arange()` – Générer des entiers entre deux valeurs avec un intervalle donné"
   ]
  },
  {
   "cell_type": "code",
   "execution_count": null,
   "metadata": {},
   "outputs": [],
   "source": [
    "print(np.arange(4, 12))\n",
    "\n",
    "# Équivalent avec des listes\n",
    "print(list(range(4, 12)))"
   ]
  },
  {
   "cell_type": "markdown",
   "metadata": {},
   "source": [
    "### `np.linspace()` – Générer un nombre donné de points entre deux valeurs"
   ]
  },
  {
   "cell_type": "code",
   "execution_count": null,
   "metadata": {},
   "outputs": [],
   "source": [
    "print(np.linspace(0, 10, 6))"
   ]
  },
  {
   "cell_type": "markdown",
   "metadata": {},
   "source": [
    "### Faire des opérations de base"
   ]
  },
  {
   "cell_type": "code",
   "execution_count": null,
   "metadata": {},
   "outputs": [],
   "source": [
    "x = np.arange(5)\n",
    "print(f'{x=}')\n",
    "\n",
    "y = x * 2 + 5\n",
    "print(f'{y=}')"
   ]
  },
  {
   "cell_type": "code",
   "execution_count": null,
   "metadata": {},
   "outputs": [],
   "source": [
    "# Équivalent à :\n",
    "\n",
    "# Crée un array non-initialisé avec les mêmes propriétés que x (taille et type)\n",
    "y = np.empty_like(x)\n",
    "\n",
    "for i in range(len(x)):\n",
    "  y[i] = x[i] * 2 + 5\n",
    "\n",
    "print(f'{y=}')"
   ]
  },
  {
   "cell_type": "code",
   "execution_count": null,
   "metadata": {},
   "outputs": [],
   "source": [
    "# Ou encore :\n",
    "\n",
    "y = np.array([v * 2 + 5 for v in x])\n",
    "print(f'{y=}')"
   ]
  },
  {
   "cell_type": "code",
   "execution_count": null,
   "metadata": {},
   "outputs": [],
   "source": [
    "# Plus d'opérations\n",
    "\n",
    "y = x ** 2\n",
    "\n",
    "print(y)\n",
    "print(np.sqrt(y))\n",
    "print(np.exp(x))\n",
    "print(np.cos(x))"
   ]
  },
  {
   "cell_type": "code",
   "execution_count": null,
   "metadata": {},
   "outputs": [],
   "source": [
    "# Opérations en place (qui modifient l'array au lieu d'en créer un nouveau)\n",
    "\n",
    "x = np.array([1, 2, 3, 4, 5])\n",
    "print(x)\n",
    "\n",
    "x *= 2\n",
    "print(x)\n",
    "\n",
    "# Le symbole \"//\" est l'opérateur de division entière\n",
    "x //= 2\n",
    "print(x)"
   ]
  },
  {
   "cell_type": "markdown",
   "metadata": {},
   "source": [
    "### `np.random.randint()`, `np.random.rand()`, etc. – Générer des nombres aléatoires"
   ]
  },
  {
   "cell_type": "code",
   "execution_count": null,
   "metadata": {},
   "outputs": [],
   "source": [
    "# Génére des nombres entiers selon une loi uniforme\n",
    "print(np.random.randint(0, 10, 5))\n",
    "\n",
    "# Génére des nombres réels selon une loi uniforme\n",
    "print(np.random.rand(5))\n",
    "\n",
    "# Génére des nombres réels selon une loi normale\n",
    "print(np.random.randn(5))"
   ]
  },
  {
   "cell_type": "markdown",
   "metadata": {},
   "source": [
    "### `np.random.permutation()` – Permuter un array aléatoirement"
   ]
  },
  {
   "cell_type": "code",
   "execution_count": null,
   "metadata": {},
   "outputs": [],
   "source": [
    "x = np.arange(10)\n",
    "print(np.random.permutation(x))"
   ]
  },
  {
   "cell_type": "markdown",
   "metadata": {},
   "source": [
    "### `.sum()` – Sommer"
   ]
  },
  {
   "cell_type": "code",
   "execution_count": null,
   "metadata": {},
   "outputs": [],
   "source": [
    "x = np.arange(1, 4)\n",
    "\n",
    "print(x)\n",
    "print(x.sum())"
   ]
  },
  {
   "cell_type": "markdown",
   "metadata": {},
   "source": [
    "### `.mean()` – Moyenner"
   ]
  },
  {
   "cell_type": "code",
   "execution_count": null,
   "metadata": {},
   "outputs": [],
   "source": [
    "x = np.arange(5)\n",
    "\n",
    "print(x.mean())\n",
    "\n",
    "# Même chose que\n",
    "print(x.sum() / len(x))"
   ]
  },
  {
   "cell_type": "markdown",
   "metadata": {},
   "source": [
    "### `.max()`, `.min()` – Trouver le maximum et le minimum"
   ]
  },
  {
   "cell_type": "code",
   "execution_count": null,
   "metadata": {},
   "outputs": [],
   "source": [
    "x = np.array([1, 5, 3, 2, 4])\n",
    "\n",
    "print(x.max())\n",
    "print(x.min())"
   ]
  },
  {
   "cell_type": "markdown",
   "metadata": {},
   "source": [
    "### `.argmax()`, `.argmin()` – Trouver l'indice du maximum et du minimum"
   ]
  },
  {
   "cell_type": "code",
   "execution_count": null,
   "metadata": {},
   "outputs": [],
   "source": [
    "print(np.argmax(x), x[np.argmax(x)])\n",
    "print(np.argmin(x), x[np.argmin(x)])"
   ]
  },
  {
   "cell_type": "markdown",
   "metadata": {},
   "source": [
    "### Exercice 1\n",
    "\n",
    "Calculez le produit scalaire $a\\cdot b = \\sum_i a_i b_i$ de deux vecteurs $a$ et $b$ de taille $N$."
   ]
  },
  {
   "cell_type": "code",
   "execution_count": null,
   "metadata": {},
   "outputs": [],
   "source": [
    "a = np.array([1.2, 6.8, 0.3])\n",
    "b = np.array([0.5, 2.2, 1.8])\n",
    "\n",
    "print(a)\n",
    "print(b)\n",
    "\n",
    "# Réponse attendue : 16.1"
   ]
  },
  {
   "cell_type": "code",
   "execution_count": null,
   "metadata": {},
   "outputs": [],
   "source": [
    "print((a * b).sum())"
   ]
  },
  {
   "cell_type": "markdown",
   "metadata": {},
   "source": [
    "### Exercice 2\n",
    "\n",
    "Calculez la distance euclidienne entre deux points $a$ et $b$ à trois dimensions, sans utiliser `np.linalg.norm()`."
   ]
  },
  {
   "cell_type": "code",
   "execution_count": null,
   "metadata": {},
   "outputs": [],
   "source": [
    "a = np.array([1.2, 6.8, 0.3])\n",
    "b = np.array([0.5, 2.2, 1.8])\n",
    "\n",
    "print(a)\n",
    "print(b)\n",
    "\n",
    "# Réponse attendue : 4.888762624632126"
   ]
  },
  {
   "cell_type": "code",
   "execution_count": null,
   "metadata": {},
   "outputs": [],
   "source": [
    "np.sqrt(((a - b) ** 2).sum())"
   ]
  },
  {
   "cell_type": "markdown",
   "metadata": {},
   "source": [
    "### Exercice 3\n",
    "\n",
    "Écrivez une fonction `normal()` qui prend les paramètres $\\mu$, $\\sigma$ et un vecteur $x$ et calcule la densité de la loi normale $f(x, \\mu, \\sigma) = \\frac{1}{\\sigma\\sqrt{2\\pi}}e^{-\\frac{1}{2}(\\frac{x - \\mu}{\\sigma})^2}$. Si vous êtes courageux (ou grec), vous pouvez utiliser les caractères grecs μ et σ comme noms de paramètres en les copiant-collant."
   ]
  },
  {
   "cell_type": "code",
   "execution_count": 7,
   "metadata": {},
   "outputs": [],
   "source": [
    "def normal(x: np.ndarray, μ: float, σ: float):\n",
    "  return 1.0 / σ / np.sqrt(2.0 * np.pi) * np.exp(-0.5 * ((x - μ) / σ) ** 2)"
   ]
  },
  {
   "cell_type": "code",
   "execution_count": null,
   "metadata": {},
   "outputs": [],
   "source": [
    "# Pour tester la fonction\n",
    "\n",
    "fig, ax = plt.subplots()\n",
    "\n",
    "x = np.linspace(-10, 10, 500)\n",
    "ax.plot(x, normal(x, 0.0, 1.0), label=r'$\\mu=0, \\sigma=1$')\n",
    "ax.plot(x, normal(x, 5.0, 2.0), label=r'$\\mu=5, \\sigma=1$')\n",
    "ax.plot(x, normal(x, 0.0, 2.0), label=r'$\\mu=0, \\sigma=2$')\n",
    "\n",
    "ax.grid()\n",
    "ax.legend();"
   ]
  },
  {
   "cell_type": "markdown",
   "metadata": {},
   "source": [
    "### Comparer"
   ]
  },
  {
   "cell_type": "code",
   "execution_count": null,
   "metadata": {},
   "outputs": [],
   "source": [
    "x = np.array([-3, 6, 2, -8, 3, 0])\n",
    "\n",
    "# Retourne un array de même taille que x avec True si l'élément est négatif\n",
    "print(x < 0)\n",
    "\n",
    "print(x <= 0)\n",
    "print(x < (x * 0.5) ** 2)"
   ]
  },
  {
   "cell_type": "markdown",
   "metadata": {},
   "source": [
    "Si un array de booléens est multiplié par un array de nombres, il sera alors implicitement transformé en un array d'entiers avec 1 pour `True` et 0 pour `False` avant d'être multiplié."
   ]
  },
  {
   "cell_type": "code",
   "execution_count": null,
   "metadata": {},
   "outputs": [],
   "source": [
    "# Met à zéro les éléments positifs\n",
    "print(x * (x < 0))"
   ]
  },
  {
   "cell_type": "markdown",
   "metadata": {},
   "source": [
    "De même, en utilisant `.sum()` sur un array de booléens, celui-ci est transformé en array d'entiers et on obtient donc le nombre de `True`."
   ]
  },
  {
   "cell_type": "code",
   "execution_count": null,
   "metadata": {},
   "outputs": [],
   "source": [
    "# Retourne le nombre d'éléments négatifs\n",
    "print((x < 0).sum())"
   ]
  },
  {
   "cell_type": "markdown",
   "metadata": {},
   "source": [
    "On peut combiner des arrays de booléens avec les opérateurs `&` (et), `|` (ou) et `~` (inversion)."
   ]
  },
  {
   "cell_type": "code",
   "execution_count": null,
   "metadata": {},
   "outputs": [],
   "source": [
    "# Tous les éléments de x qui sont à la fois positifs et pairs\n",
    "print((x > 0) & (x % 2 == 0))\n",
    "\n",
    "# Tous les éléments de x qui sont positifs ou pairs\n",
    "print((x > 0) | (x % 2 == 0))\n",
    "\n",
    "# Tous les éléments de x qui sont soit positifs, soit pairs\n",
    "print((x > 0) != (x % 2 == 0))\n",
    "\n",
    "# Tous les éléments de x qui ne sont ni positifs, ni pairs\n",
    "print(~((x > 0) != (x % 2 == 0)))"
   ]
  },
  {
   "cell_type": "markdown",
   "metadata": {},
   "source": [
    "### `[<array de booléens>]` – Filtrer"
   ]
  },
  {
   "cell_type": "code",
   "execution_count": null,
   "metadata": {},
   "outputs": [],
   "source": [
    "x = np.array([1, 2, 3, 4])\n",
    "\n",
    "print(x[[False, True, False, True]])\n",
    "print(x[x > 2])\n",
    "print(x[x <= 2])"
   ]
  },
  {
   "cell_type": "markdown",
   "metadata": {},
   "source": [
    "### `np.where()`, `.nonzero()` – Trouver les indices des éléments qui vérifient une condition"
   ]
  },
  {
   "cell_type": "code",
   "execution_count": null,
   "metadata": {},
   "outputs": [],
   "source": [
    "x = np.array([-3, 6, 2, -8, 3, 0])\n",
    "\n",
    "# Retournent les indices des éléments négatifs\n",
    "print((x < 0).nonzero()[0])\n",
    "print(np.where(x < 0)[0])"
   ]
  },
  {
   "cell_type": "markdown",
   "metadata": {},
   "source": [
    "### Exercice 4\n",
    "\n",
    "Écrivez une fonction qui renvoie le nombre d'éléments pairs et strictement positifs d'un vecteur $x$."
   ]
  },
  {
   "cell_type": "code",
   "execution_count": 433,
   "metadata": {},
   "outputs": [],
   "source": [
    "x = np.array([-3, 6, 2, -8, 3, 0])\n",
    "\n",
    "# Réponse attendue : 2"
   ]
  },
  {
   "cell_type": "code",
   "execution_count": null,
   "metadata": {},
   "outputs": [],
   "source": [
    "print(((x > 0) & (x % 2 == 0)).sum())"
   ]
  },
  {
   "cell_type": "markdown",
   "metadata": {},
   "source": [
    "### Exercice 5\n",
    "\n",
    "Écrivez une fonction qui renvoie le nombre d'éléments pairs avant le deuxième élément strictement positif d'un vecteur $x$."
   ]
  },
  {
   "cell_type": "code",
   "execution_count": 19,
   "metadata": {},
   "outputs": [],
   "source": [
    "x = np.array([-6, 5, -4, -3, -10, 8, 9, -2, -8, 3, 0, 1])\n",
    "\n",
    "# Réponse attendue : 3"
   ]
  },
  {
   "cell_type": "code",
   "execution_count": null,
   "metadata": {},
   "outputs": [],
   "source": [
    "p = (x >= 0).nonzero()[0][1]\n",
    "print((x[:p] % 2 == 0).sum())"
   ]
  },
  {
   "cell_type": "markdown",
   "metadata": {},
   "source": [
    "### `[<array d'entiers>]` – Chercher"
   ]
  },
  {
   "cell_type": "code",
   "execution_count": null,
   "metadata": {},
   "outputs": [],
   "source": [
    "x = np.array([1, 2, 3, 4])\n",
    "\n",
    "# Garde les éléments aux indices 0 et 2\n",
    "print(x[[0, 2]])"
   ]
  },
  {
   "cell_type": "code",
   "execution_count": null,
   "metadata": {},
   "outputs": [],
   "source": [
    "x = np.random.randn(10)\n",
    "\n",
    "print(x[x > 0])\n",
    "\n",
    "# Même chose que\n",
    "print(x[*(x > 0).nonzero()])"
   ]
  },
  {
   "cell_type": "markdown",
   "metadata": {},
   "source": [
    "### `np.argsort()` – Trier\n",
    "\n",
    "La fonction `np.argsort()` ne trie pas directement l'array, mais renvoie les indices qui le feraient."
   ]
  },
  {
   "cell_type": "code",
   "execution_count": null,
   "metadata": {},
   "outputs": [],
   "source": [
    "x = np.array([2.5, 4.8, 3.0, 1.1, 5.7])\n",
    "\n",
    "# Renvoie les indices de l'array non-trié comme si l'était trié\n",
    "print(np.argsort(x))\n",
    "\n",
    "# Renvoie l'array trié\n",
    "print(x[np.argsort(x)])"
   ]
  },
  {
   "cell_type": "markdown",
   "metadata": {},
   "source": [
    "### Exercice 6\n",
    "\n",
    "Tirez 5 éléments aléatoirement dans un vecteur $x$, avec remise, en utilisant `np.random.randint()`."
   ]
  },
  {
   "cell_type": "code",
   "execution_count": 22,
   "metadata": {},
   "outputs": [],
   "source": [
    "x = np.arange(10)"
   ]
  },
  {
   "cell_type": "code",
   "execution_count": null,
   "metadata": {},
   "outputs": [],
   "source": [
    "print(x[np.random.randint(len(x), size=5)])"
   ]
  },
  {
   "cell_type": "markdown",
   "metadata": {},
   "source": [
    "### Exercice 7\n",
    "\n",
    "Tirez 5 éléments aléatoirement dans un vecteur $x$, sans remise, en utilisant `np.random.permutation()`."
   ]
  },
  {
   "cell_type": "code",
   "execution_count": 25,
   "metadata": {},
   "outputs": [],
   "source": [
    "x = np.arange(10)"
   ]
  },
  {
   "cell_type": "code",
   "execution_count": null,
   "metadata": {},
   "outputs": [],
   "source": [
    "print(x[np.random.permutation(len(x))[:5]])\n",
    "print(np.random.permutation(len(x))[:5])"
   ]
  },
  {
   "cell_type": "markdown",
   "metadata": {},
   "source": [
    "### `np.maximum()`, `np.minimum()` – Prendre le maximum et le minimum de chaque élément de deux arrays\n",
    "\n",
    "Différence entre `np.maximum()` et `.max()`:\n",
    "\n",
    "- `x = a.max()` signifie $x = \\max_i a_i$\n",
    "- `x = np.maximum(a, b)` signifie $x_i = \\max \\{a_i, b_i\\}$"
   ]
  },
  {
   "cell_type": "code",
   "execution_count": null,
   "metadata": {},
   "outputs": [],
   "source": [
    "print(np.maximum(\n",
    "  np.array([1, 2, 3]),\n",
    "  np.array([5, 2, 2])\n",
    "))"
   ]
  },
  {
   "cell_type": "markdown",
   "metadata": {},
   "source": [
    "### `np.all()` et `np.any()` – Vérifier si tous ou au moins un élément vérifie une condition"
   ]
  },
  {
   "cell_type": "code",
   "execution_count": null,
   "metadata": {},
   "outputs": [],
   "source": [
    "x = np.array([1, 2, 3, 4, 5])\n",
    "\n",
    "print(x > 2)\n",
    "print()\n",
    "\n",
    "# Renvoie True si au moins un élément est True\n",
    "print((x > 2).any())\n",
    "\n",
    "# Renvoie True si tous les éléments sont True\n",
    "print((x > 2).all())"
   ]
  },
  {
   "cell_type": "markdown",
   "metadata": {},
   "source": [
    "NumPy produira une erreur si vous essayez de tester une condition sur un array de booléens avec `if`, car il ne sait pas si vous voulez vérifier si tous les éléments sont `True` ou si au moins un l'est."
   ]
  },
  {
   "cell_type": "code",
   "execution_count": null,
   "metadata": {},
   "outputs": [],
   "source": [
    "# Erreur\n",
    "if x > 2:\n",
    "  ..."
   ]
  },
  {
   "cell_type": "code",
   "execution_count": 33,
   "metadata": {},
   "outputs": [],
   "source": [
    "# Ok\n",
    "if (x > 2).any():\n",
    "  ...\n",
    "\n",
    "# Aussi ok, mais pas la même signification\n",
    "if (x > 2).all():\n",
    "  ..."
   ]
  },
  {
   "cell_type": "markdown",
   "metadata": {},
   "source": [
    "### `np.allclose()` et `np.isclose()` – Comparer deux arrays avec une tolérance"
   ]
  },
  {
   "cell_type": "code",
   "execution_count": null,
   "metadata": {},
   "outputs": [],
   "source": [
    "x = np.array([0.1 + 0.2])\n",
    "\n",
    "# Renvoie False car pour l'ordinateur 0.1 + 0.2 != 0.3\n",
    "# En réalité 0.1 + 0.2 donne une valeur très proche (0.30000000000000004) en raison de la représentation binaire des nombres décimaux\n",
    "print(x == np.array([0.3]))\n",
    "\n",
    "# Vérifie avec une tolérance très faible\n",
    "print(np.isclose(x, np.array([0.3])))"
   ]
  },
  {
   "cell_type": "code",
   "execution_count": null,
   "metadata": {},
   "outputs": [],
   "source": [
    "# Vérifie tous les éléments avec une tolérance\n",
    "print(np.allclose(\n",
    "  np.array([0.1 + 0.2, 0.1 + 0.7]),\n",
    "  np.array([0.3, 0.8])\n",
    "))\n",
    "\n",
    "# Même chose que\n",
    "print(np.isclose(\n",
    "  np.array([0.1 + 0.2, 0.1 + 0.7]),\n",
    "  np.array([0.3, 0.8])\n",
    ").all())\n"
   ]
  },
  {
   "cell_type": "markdown",
   "metadata": {},
   "source": [
    "## Arrays à plusieurs dimensions\n",
    "\n",
    "### `np.array()` – Créer un array à partir de listes imbriquées"
   ]
  },
  {
   "cell_type": "code",
   "execution_count": null,
   "metadata": {},
   "outputs": [],
   "source": [
    "x = np.array([\n",
    "  [1, 2, 3],\n",
    "  [4, 5, 6]\n",
    "])\n",
    "\n",
    "print(x)"
   ]
  },
  {
   "cell_type": "markdown",
   "metadata": {},
   "source": [
    "### `.shape` – Obtenir la taille"
   ]
  },
  {
   "cell_type": "code",
   "execution_count": null,
   "metadata": {},
   "outputs": [],
   "source": [
    "# 2 lignes (axe 0)\n",
    "# 3 colonnes (axe 1)\n",
    "\n",
    "print(x.shape)"
   ]
  },
  {
   "cell_type": "markdown",
   "metadata": {},
   "source": [
    "### `.T` – Transposer un array"
   ]
  },
  {
   "cell_type": "code",
   "execution_count": null,
   "metadata": {},
   "outputs": [],
   "source": [
    "print(x.T)"
   ]
  },
  {
   "cell_type": "markdown",
   "metadata": {},
   "source": [
    "### `[]` – Découper\n",
    "\n",
    "Le nombre d'éléments dans les crochets doit correspondre au nombre d'axes de l'array."
   ]
  },
  {
   "cell_type": "code",
   "execution_count": null,
   "metadata": {},
   "outputs": [],
   "source": [
    "x = np.random.randn(4, 2)\n",
    "\n",
    "print(f'{x=}')\n",
    "print()\n",
    "\n",
    "# Récupère le tout premier élément\n",
    "print(f'{x[0, 0]=}')\n",
    "print()\n",
    "\n",
    "# Récupère le deuxième élément de la dernière ligne\n",
    "print(f'{x[-1, 1]=}')\n",
    "print()\n",
    "\n",
    "# Récupère le premier élément sur l'axe 0 qui est l'axe des lignes, donc la première ligne\n",
    "y = x[0, :]\n",
    "\n",
    "print(f'{y=}')\n",
    "print(f'{y.shape=}')\n",
    "print()\n",
    "\n",
    "# Récupère le premier élément sur l'axe 1 qui est l'axe des colonnes, donc la première colonne\n",
    "z = x[:, 0]\n",
    "\n",
    "print(f'{z=}')\n",
    "print(f'{z.shape=}')"
   ]
  },
  {
   "cell_type": "code",
   "execution_count": null,
   "metadata": {},
   "outputs": [],
   "source": [
    "x = np.random.randn(8, 3, 12)\n",
    "\n",
    "# Récupère le troisième élément sur le premier axe\n",
    "y = x[2, :, :]\n",
    "\n",
    "print(f'{y.shape=}')\n",
    "\n",
    "# Même chose que\n",
    "# Le symbole \"...\" (équivalent à \"Ellipsis\") signifie tous les axes restants et peut remplacer 0 ou plus \":\"\n",
    "y = x[2, ...]\n",
    "y = x[2, Ellipsis]\n",
    "\n",
    "# Même chose que\n",
    "# Le symbole \"...\" est ajouté implicitement à droite si on ne le met pas\n",
    "y = x[2]\n"
   ]
  },
  {
   "cell_type": "markdown",
   "metadata": {},
   "source": [
    "### `.max()`, `.sum()`, etc.\n",
    "\n",
    "Toutes les opérations vues plus haut peuvent être géneralisées sur des arrays n-d. En particulier, lorsque c'est pertinent, on peut spécifier l'axe sur lequel on veut les appliquer."
   ]
  },
  {
   "cell_type": "code",
   "execution_count": null,
   "metadata": {},
   "outputs": [],
   "source": [
    "x = np.array([\n",
    "  [1, 2],\n",
    "  [3, 4]\n",
    "])\n",
    "\n",
    "# Somme complète\n",
    "print(x.sum())\n",
    "\n",
    "# Somme sur l'axe 0 (lignes)\n",
    "print(x.sum(axis=0))\n",
    "\n",
    "# Somme sur l'axe 1 (colonnes)\n",
    "print(x.sum(axis=1))"
   ]
  },
  {
   "cell_type": "markdown",
   "metadata": {},
   "source": [
    "### `np.eye()` – Créer une matrice identité"
   ]
  },
  {
   "cell_type": "code",
   "execution_count": null,
   "metadata": {},
   "outputs": [],
   "source": [
    "np.eye(3)"
   ]
  },
  {
   "cell_type": "markdown",
   "metadata": {},
   "source": [
    "### `@` – Multiplier des matrices"
   ]
  },
  {
   "cell_type": "code",
   "execution_count": null,
   "metadata": {},
   "outputs": [],
   "source": [
    "x = np.random.randn(4, 3)\n",
    "\n",
    "print(x)\n",
    "print()\n",
    "print(x @ np.eye(3))\n",
    "print()\n",
    "print(x.T @ x)"
   ]
  },
  {
   "cell_type": "markdown",
   "metadata": {},
   "source": [
    "### `.reshape()` – Changer la forme\n",
    "\n",
    "La méthode `.reshape()` permet de changer la forme d'un array sans changer les données. Le nombre d'éléments, qui correspond au produit des tailles des axes, doit rester le même."
   ]
  },
  {
   "cell_type": "code",
   "execution_count": null,
   "metadata": {},
   "outputs": [],
   "source": [
    "x = np.arange(12) + 1\n",
    "\n",
    "print('Forme (12)')\n",
    "print(x)\n",
    "\n",
    "print('\\nForme (3, 4)')\n",
    "print(x.reshape(3, 4))\n",
    "\n",
    "print('\\nForme (4, 3)')\n",
    "print(x.reshape(4, 3))\n",
    "\n",
    "print(f'\\nForme (1, 2, 1, 3, 2)')\n",
    "print(x.reshape(1, 2, 1, 3, 2))"
   ]
  },
  {
   "cell_type": "markdown",
   "metadata": {},
   "source": [
    "On peut utiliser `-1` pour éviter de spécifier l'une des dimensions."
   ]
  },
  {
   "cell_type": "code",
   "execution_count": null,
   "metadata": {},
   "outputs": [],
   "source": [
    "print(x.reshape(3, -1))\n",
    "print()\n",
    "print(x.reshape(-1, 4))"
   ]
  },
  {
   "cell_type": "markdown",
   "metadata": {},
   "source": [
    "### `.ravel()` – Aplatir\n",
    "\n",
    "La méthode `.ravel()` permet d'obtenir un array 1d contenant les mêmes éléments que l'array d'origine. C'est équivalent à utiliser `.reshape(-1)`."
   ]
  },
  {
   "cell_type": "code",
   "execution_count": null,
   "metadata": {},
   "outputs": [],
   "source": [
    "x = np.array([\n",
    "  [1, 2],\n",
    "  [3, 4]\n",
    "])\n",
    "\n",
    "print(x)\n",
    "print()\n",
    "\n",
    "print('Avec .ravel()')\n",
    "print(x.ravel())\n",
    "\n",
    "print('\\nAvec .reshape(-1)')\n",
    "print(x.reshape(-1))"
   ]
  },
  {
   "cell_type": "markdown",
   "metadata": {},
   "source": [
    "### `[<None>]` – Ajouter un axe\n",
    "\n",
    "En utilisant `None` (ou `np.newaxis`, les deux sont équivalents) à la place d'un indice lors d'un slicing, on peut ajouter un axe de taille 1 à l'endroit où est placé `None`."
   ]
  },
  {
   "cell_type": "code",
   "execution_count": null,
   "metadata": {},
   "outputs": [],
   "source": [
    "x = np.random.randn(8, 3, 12)\n",
    "\n",
    "print(x.shape)\n",
    "print(x[None, ...].shape)\n",
    "print(x[..., None].shape)\n",
    "print(x[:, :, None, :, None].shape)"
   ]
  },
  {
   "cell_type": "markdown",
   "metadata": {},
   "source": [
    "Ceci est utile pour s'assurer que deux arrays aient le même nombre d'axes lorsqu'on fait une opération entre eux. Par exemple, faire une opération entre un array de forme (4, 3) et un de taille (4, 1) va causer une copie automatique sur le second axe (l'axe 1) du second array pour qu'il aie aussi la forme (4, 3). Voir [les règles de broadcasting](https://numpy.org/doc/stable/user/basics.broadcasting.html) pour plus de détails."
   ]
  },
  {
   "cell_type": "code",
   "execution_count": null,
   "metadata": {},
   "outputs": [],
   "source": [
    "a = np.random.randn(4, 3)\n",
    "b = np.random.randn(4)\n",
    "\n",
    "print(f'{a.shape=}')\n",
    "print(f'{b.shape=}')\n",
    "print(f'{b[:, None].shape=}')\n",
    "print()\n",
    "\n",
    "# Erreur\n",
    "# print(a * b)\n",
    "\n",
    "# Ok parce que b a maintenant la forme (4, 1) qui est broadcasté automatiquement en (4, 3)\n",
    "print(a * b[:, None])"
   ]
  },
  {
   "cell_type": "markdown",
   "metadata": {},
   "source": [
    "L'ajout d'un ou plusieurs axes est automatique lorsque les axes manquants sont à gauche de la forme. Par exemple, une opération entre un array de forme (4, 3) et un de forme (3) va automatiquement ajouter un axe à gauche de la forme du second array et copier celui-ci 4 fois pour qu'il aie la forme (4, 3)."
   ]
  },
  {
   "cell_type": "code",
   "execution_count": null,
   "metadata": {},
   "outputs": [],
   "source": [
    "a = np.random.randn(4, 3)\n",
    "b = np.random.randn(3)\n",
    "\n",
    "# Ok\n",
    "print(a * b)"
   ]
  },
  {
   "cell_type": "markdown",
   "metadata": {},
   "source": [
    "L'ajout d'axes peut aussi être utilisé pour faire des combinaisons intéressantes. Par exemple, ici `a * a` donne un vecteur $x$ tel que $x_i = a_i^2$ alors que `a[None, :] * a[:, None]` donne une matrice symétrique $X$ telle que $X_{i, j} = X_{j, i} = a_i a_j$."
   ]
  },
  {
   "cell_type": "code",
   "execution_count": null,
   "metadata": {},
   "outputs": [],
   "source": [
    "a = np.array([1, 2, 3])\n",
    "\n",
    "# Calcule le carré de chaque élément\n",
    "print(a * a)\n",
    "print()\n",
    "\n",
    "# Calcule le produit de toutes combinaisons possibles de paires d'éléments\n",
    "# La diagonale est le carré de chaque élément.\n",
    "print(a[None, :] * a[:, None])"
   ]
  },
  {
   "cell_type": "markdown",
   "metadata": {},
   "source": [
    "### `np.concatenate()`, `np.c_[]` et `np.r_[]` – Concaténer des arrays\n",
    "\n",
    "Les objets spéciaux `np.c_[]` et `np.r_[]` (attention ce ne sont pas des méthodes) sont des raccourcis pour `np.conctenate()` qui permettent de concaténer des arrays sur les colonnes ou sur lignes, respectivement. Pour concaténer sur un autre axe, il faut utiliser la syntaxe avancée de `np.r_[]` ou `np.concatenate()` directement."
   ]
  },
  {
   "cell_type": "code",
   "execution_count": null,
   "metadata": {},
   "outputs": [],
   "source": [
    "x = np.array([\n",
    "  [1, 2, 3],\n",
    "  [4, 5, 6]\n",
    "])\n",
    "\n",
    "y = np.array([\n",
    "  [7, 8, 9]\n",
    "])\n",
    "\n",
    "print(f'{x.shape=}')\n",
    "print(f'{y.shape=}')\n",
    "print()\n",
    "\n",
    "# Concatène sur l'axe 0, les lignes (donc il y aura plus de lignes et autant de colonnes qu'avant)\n",
    "print(np.concatenate((x, y), axis=0))\n",
    "\n",
    "# Même chose que\n",
    "print(np.r_[x, y])"
   ]
  },
  {
   "cell_type": "code",
   "execution_count": null,
   "metadata": {},
   "outputs": [],
   "source": [
    "print(x.T)\n",
    "print(y.T)\n",
    "print()\n",
    "\n",
    "# Concatène sur l'axe 1, les colonnes (donc il y aura plus de colonnes et autant de lignes qu'avant)\n",
    "print(np.concatenate((x.T, y.T), axis=1))\n",
    "\n",
    "# Même chose que\n",
    "print(np.c_[x.T, y.T])"
   ]
  },
  {
   "cell_type": "markdown",
   "metadata": {},
   "source": [
    "### Exercice 8\n",
    "\n",
    "Calculez la matrice $A$ de taille $m\\times n$ telle que $A_{i, j} = b_i + c_j$ où $b$ et $c$ sont des vecteurs de taille $m$ et $n$ respectivement."
   ]
  },
  {
   "cell_type": "code",
   "execution_count": 398,
   "metadata": {},
   "outputs": [],
   "source": [
    "a = np.arange(10)\n",
    "b = np.arange(5) * 10"
   ]
  },
  {
   "cell_type": "code",
   "execution_count": null,
   "metadata": {},
   "outputs": [],
   "source": [
    "a[:, None] + b"
   ]
  },
  {
   "cell_type": "markdown",
   "metadata": {},
   "source": [
    "### Exercice 9\n",
    "\n",
    "Calculez la matrice symétrique $A$ de taille $N\\times N$ qui contient les distance euclidiennes $A_{i, j} = ||P_i - P_j||$ entre toutes les paires des $N$ points en 2d contenus dans la matrice de points $P$ de taille $N\\times2$."
   ]
  },
  {
   "cell_type": "code",
   "execution_count": null,
   "metadata": {},
   "outputs": [],
   "source": [
    "points = np.random.randn(100, 2)\n",
    "\n",
    "print(points[0:5, :])"
   ]
  },
  {
   "cell_type": "code",
   "execution_count": null,
   "metadata": {},
   "outputs": [],
   "source": [
    "np.sqrt(((points[None, :, :] - points[:, None, :]) ** 2).sum(axis=2))"
   ]
  },
  {
   "cell_type": "markdown",
   "metadata": {},
   "source": [
    "### Exercice 10\n",
    "\n",
    "Donnez la valeur de la deuxième colonne pour la ligne ayant la deuxième plus grande valeur dans une matrice $A$ de taille $N\\times2$, autrement dit $A_{\\argmax_i{x_{1, \\cdot}}, 2}$."
   ]
  },
  {
   "cell_type": "code",
   "execution_count": null,
   "metadata": {},
   "outputs": [],
   "source": [
    "x = np.random.randn(10, 2)\n",
    "\n",
    "print(x)"
   ]
  },
  {
   "cell_type": "code",
   "execution_count": null,
   "metadata": {},
   "outputs": [],
   "source": [
    "x[np.argsort(x[:, 0])[-2], 1]"
   ]
  },
  {
   "cell_type": "markdown",
   "metadata": {},
   "source": [
    "### Exercice 11\n",
    "\n",
    "Calculez $\\frac{1}{|B|}\\sum_i \\frac{A_{i, j, k}B_j^2}{C_{i, k}}$ en utilisant `np.einsum()`."
   ]
  },
  {
   "cell_type": "code",
   "execution_count": 404,
   "metadata": {},
   "outputs": [],
   "source": [
    "a = np.random.randn(12, 3, 100)\n",
    "b = np.random.randn(3)\n",
    "c = np.random.randn(12, 100)"
   ]
  },
  {
   "cell_type": "code",
   "execution_count": null,
   "metadata": {},
   "outputs": [],
   "source": [
    "np.einsum('ijk, j, ik -> jk', a, b ** 2, 1.0 / c) / len(b)"
   ]
  },
  {
   "cell_type": "markdown",
   "metadata": {},
   "source": [
    "### Exercice 12\n",
    "\n",
    "Générez une matrice $A_{i, j} = 5 v_i + X_j$ où $X_j\\sim\\mathcal{N}(0, \\mu_j)$ et $v$ est un vecteur de taille $N$."
   ]
  },
  {
   "cell_type": "code",
   "execution_count": 406,
   "metadata": {},
   "outputs": [],
   "source": [
    "v = np.random.randn(4)\n",
    "mu = np.random.randn(12)"
   ]
  },
  {
   "cell_type": "code",
   "execution_count": 407,
   "metadata": {},
   "outputs": [],
   "source": [
    "a = (5.0 * v)[:, None] + np.random.randn(len(v), len(mu)) * mu"
   ]
  },
  {
   "cell_type": "markdown",
   "metadata": {},
   "source": [
    "### Exercice 13\n",
    "\n",
    "Faites une interpolation linéaire aux moindres carrés en trouvant $x$ dans $A^TAx = A^Tb$ où $A$ est une matrice de taille $N\\times2$, en utilisant `np.lingalg.inv()` pour inverser un array. Vous n'avez pas nécessairement besoin de comprendre la théorie, juste de résoudre l'équation et d'appliquer la solution."
   ]
  },
  {
   "cell_type": "code",
   "execution_count": 50,
   "metadata": {},
   "outputs": [],
   "source": [
    "x = np.random.randn(10)\n",
    "y = 5.0 * x + np.random.randn(10)\n",
    "\n",
    "a = np.c_[np.ones(len(x)), x]\n",
    "b = y"
   ]
  },
  {
   "cell_type": "code",
   "execution_count": null,
   "metadata": {},
   "outputs": [],
   "source": [
    "# Complétez ici\n",
    "result = ...\n",
    "\n",
    "\n",
    "fig, ax = plt.subplots()\n",
    "\n",
    "u, v = result\n",
    "\n",
    "ax.scatter(x, y)\n",
    "ax.plot(p := np.array([-2, 2]), p * v + u, color='red');"
   ]
  },
  {
   "cell_type": "markdown",
   "metadata": {},
   "source": [
    "### Exercice 14\n",
    "\n",
    "Calculez la trace $\\sum_i A_{i, i}$ d'une matrice $A$ de taille $N\\times N$, sans utiliser `np.trace()` ni `np.diag()`."
   ]
  },
  {
   "cell_type": "code",
   "execution_count": 411,
   "metadata": {},
   "outputs": [],
   "source": [
    "a = np.random.randn(5, 5)"
   ]
  },
  {
   "cell_type": "code",
   "execution_count": null,
   "metadata": {},
   "outputs": [],
   "source": [
    "a[*((np.arange(len(a)),) * 2)].sum()"
   ]
  }
 ],
 "metadata": {
  "kernelspec": {
   "display_name": "Python 3",
   "language": "python",
   "name": "python3"
  },
  "language_info": {
   "codemirror_mode": {
    "name": "ipython",
    "version": 3
   },
   "file_extension": ".py",
   "mimetype": "text/x-python",
   "name": "python",
   "nbconvert_exporter": "python",
   "pygments_lexer": "ipython3",
   "version": "3.11.8"
  }
 },
 "nbformat": 4,
 "nbformat_minor": 2
}
